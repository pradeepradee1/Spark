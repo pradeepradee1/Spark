{
 "cells": [
  {
   "cell_type": "code",
   "execution_count": 1,
   "id": "49536d98",
   "metadata": {},
   "outputs": [],
   "source": [
    "from pyspark.sql import SparkSession\n",
    "from pyspark.sql.types import StructType,StructField,StringType,IntegerType"
   ]
  },
  {
   "cell_type": "code",
   "execution_count": 2,
   "id": "86b127a5",
   "metadata": {},
   "outputs": [
    {
     "name": "stdout",
     "output_type": "stream",
     "text": [
      "23/03/23 14:09:06 WARN Utils: Your hostname, ZSCHN01LP0253L resolves to a loopback address: 127.0.1.1; using 192.168.229.237 instead (on interface wlp0s20f3)\n",
      "23/03/23 14:09:06 WARN Utils: Set SPARK_LOCAL_IP if you need to bind to another address\n"
     ]
    },
    {
     "name": "stderr",
     "output_type": "stream",
     "text": [
      "Setting default log level to \"WARN\".\n",
      "To adjust logging level use sc.setLogLevel(newLevel). For SparkR, use setLogLevel(newLevel).\n"
     ]
    },
    {
     "name": "stdout",
     "output_type": "stream",
     "text": [
      "23/03/23 14:09:07 WARN NativeCodeLoader: Unable to load native-hadoop library for your platform... using builtin-java classes where applicable\n",
      "23/03/23 14:09:08 WARN Utils: Service 'SparkUI' could not bind on port 4040. Attempting port 4041.\n",
      "23/03/23 14:09:08 WARN Utils: Service 'SparkUI' could not bind on port 4041. Attempting port 4042.\n",
      "23/03/23 14:09:08 WARN Utils: Service 'SparkUI' could not bind on port 4042. Attempting port 4043.\n",
      "23/03/23 14:09:08 WARN Utils: Service 'SparkUI' could not bind on port 4043. Attempting port 4044.\n",
      "23/03/23 14:09:08 WARN Utils: Service 'SparkUI' could not bind on port 4044. Attempting port 4045.\n",
      "23/03/23 14:09:08 WARN Utils: Service 'SparkUI' could not bind on port 4045. Attempting port 4046.\n",
      "23/03/23 14:09:08 WARN Utils: Service 'SparkUI' could not bind on port 4046. Attempting port 4047.\n",
      "23/03/23 14:09:08 WARN Utils: Service 'SparkUI' could not bind on port 4047. Attempting port 4048.\n",
      "23/03/23 14:09:08 WARN Utils: Service 'SparkUI' could not bind on port 4048. Attempting port 4049.\n"
     ]
    },
    {
     "data": {
      "text/html": [
       "\n",
       "            <div>\n",
       "                <p><b>SparkSession - in-memory</b></p>\n",
       "                \n",
       "        <div>\n",
       "            <p><b>SparkContext</b></p>\n",
       "\n",
       "            <p><a href=\"http://192.168.229.237:4049\">Spark UI</a></p>\n",
       "\n",
       "            <dl>\n",
       "              <dt>Version</dt>\n",
       "                <dd><code>v3.3.2</code></dd>\n",
       "              <dt>Master</dt>\n",
       "                <dd><code>local[*]</code></dd>\n",
       "              <dt>AppName</dt>\n",
       "                <dd><code>demo</code></dd>\n",
       "            </dl>\n",
       "        </div>\n",
       "        \n",
       "            </div>\n",
       "        "
      ],
      "text/plain": [
       "<pyspark.sql.session.SparkSession at 0x7f68a73a1790>"
      ]
     },
     "execution_count": 2,
     "metadata": {},
     "output_type": "execute_result"
    }
   ],
   "source": [
    "#Creating Spark Session (It will executed in the Local Not in the Master Node)\n",
    "spark=SparkSession.builder.master(\"local[*]\").appName(\"demo\").getOrCreate()\n",
    "spark"
   ]
  },
  {
   "cell_type": "code",
   "execution_count": 3,
   "id": "c2cee4b1",
   "metadata": {},
   "outputs": [
    {
     "name": "stdout",
     "output_type": "stream",
     "text": [
      "root\n",
      " |-- EMPLOYEE_ID: integer (nullable = true)\n",
      " |-- FIRST_NAME: string (nullable = true)\n",
      " |-- LAST_NAME: string (nullable = true)\n",
      " |-- EMAIL: string (nullable = true)\n",
      " |-- PHONE_NUMBER: string (nullable = true)\n",
      " |-- HIRE_DATE: string (nullable = true)\n",
      " |-- JOB_ID: string (nullable = true)\n",
      " |-- SALARY: integer (nullable = true)\n",
      " |-- COMMISSION_PCT: string (nullable = true)\n",
      " |-- MANAGER_ID: string (nullable = true)\n",
      " |-- DEPARTMENT_ID: integer (nullable = true)\n",
      "\n"
     ]
    }
   ],
   "source": [
    "empDf = spark.read.option(\"header\",True).option(\"inferSchema\",True).csv(\"../Spark-main/employees.csv\")\n",
    "empDf.printSchema()"
   ]
  },
  {
   "cell_type": "code",
   "execution_count": 5,
   "id": "fb9e1886",
   "metadata": {},
   "outputs": [
    {
     "name": "stdout",
     "output_type": "stream",
     "text": [
      "+-----------+----------+-----------+--------+------------+---------+--------+------+--------------+----------+-------------+\n",
      "|EMPLOYEE_ID|FIRST_NAME|  LAST_NAME|   EMAIL|PHONE_NUMBER|HIRE_DATE|  JOB_ID|SALARY|COMMISSION_PCT|MANAGER_ID|DEPARTMENT_ID|\n",
      "+-----------+----------+-----------+--------+------------+---------+--------+------+--------------+----------+-------------+\n",
      "|        198|    Donald|   OConnell|DOCONNEL|650.507.9833|21-JUN-07|SH_CLERK|  2600|            - |       124|           50|\n",
      "|        199|   Douglas|      Grant|  DGRANT|650.507.9844|13-JAN-08|SH_CLERK|  2600|            - |       124|           50|\n",
      "|        200|  Jennifer|     Whalen| JWHALEN|515.123.4444|17-SEP-03| AD_ASST|  4400|            - |       101|           10|\n",
      "|        105|     David|     Austin| DAUSTIN|590.423.4569|25-JUN-05| IT_PROG|  4800|            - |       103|           60|\n",
      "|        106|     Valli|  Pataballa|VPATABAL|590.423.4560|05-FEB-06| IT_PROG|  4800|            - |       103|           60|\n",
      "|        107|     Diana|    Lorentz|DLORENTZ|590.423.5567|07-FEB-07| IT_PROG|  4200|            - |       103|           60|\n",
      "|        115| Alexander|       Khoo|   AKHOO|515.127.4562|18-MAY-03|PU_CLERK|  3100|            - |       114|           30|\n",
      "|        116|    Shelli|      Baida|  SBAIDA|515.127.4563|24-DEC-05|PU_CLERK|  2900|            - |       114|           30|\n",
      "|        117|     Sigal|     Tobias| STOBIAS|515.127.4564|24-JUL-05|PU_CLERK|  2800|            - |       114|           30|\n",
      "|        118|       Guy|     Himuro| GHIMURO|515.127.4565|15-NOV-06|PU_CLERK|  2600|            - |       114|           30|\n",
      "|        119|     Karen| Colmenares|KCOLMENA|515.127.4566|10-AUG-07|PU_CLERK|  2500|            - |       114|           30|\n",
      "|        125|     Julia|      Nayer|  JNAYER|650.124.1214|16-JUL-05|ST_CLERK|  3200|            - |       120|           50|\n",
      "|        126|     Irene|Mikkilineni|IMIKKILI|650.124.1224|28-SEP-06|ST_CLERK|  2700|            - |       120|           50|\n",
      "|        127|     James|     Landry| JLANDRY|650.124.1334|14-JAN-07|ST_CLERK|  2400|            - |       120|           50|\n",
      "|        128|    Steven|     Markle| SMARKLE|650.124.1434|08-MAR-08|ST_CLERK|  2200|            - |       120|           50|\n",
      "|        129|     Laura|     Bissot| LBISSOT|650.124.5234|20-AUG-05|ST_CLERK|  3300|            - |       121|           50|\n",
      "|        130|     Mozhe|   Atkinson|MATKINSO|650.124.6234|30-OCT-05|ST_CLERK|  2800|            - |       121|           50|\n",
      "|        131|     James|     Marlow| JAMRLOW|650.124.7234|16-FEB-05|ST_CLERK|  2500|            - |       121|           50|\n",
      "|        132|        TJ|      Olson| TJOLSON|650.124.8234|10-APR-07|ST_CLERK|  2100|            - |       121|           50|\n",
      "|        133|     Jason|     Mallin| JMALLIN|650.127.1934|14-JUN-04|ST_CLERK|  3300|            - |       122|           50|\n",
      "+-----------+----------+-----------+--------+------------+---------+--------+------+--------------+----------+-------------+\n",
      "only showing top 20 rows\n",
      "\n"
     ]
    }
   ],
   "source": [
    "#Filter\n",
    "from pyspark.sql.functions import col\n",
    "empDf.filter(col(\"SALARY\") < 5000).show()"
   ]
  },
  {
   "cell_type": "code",
   "execution_count": 6,
   "id": "85a72fc2",
   "metadata": {},
   "outputs": [
    {
     "name": "stdout",
     "output_type": "stream",
     "text": [
      "+-----------+----------+-----------+--------+------------+---------+--------+------+--------------+----------+-------------+\n",
      "|EMPLOYEE_ID|FIRST_NAME|  LAST_NAME|   EMAIL|PHONE_NUMBER|HIRE_DATE|  JOB_ID|SALARY|COMMISSION_PCT|MANAGER_ID|DEPARTMENT_ID|\n",
      "+-----------+----------+-----------+--------+------------+---------+--------+------+--------------+----------+-------------+\n",
      "|        198|    Donald|   OConnell|DOCONNEL|650.507.9833|21-JUN-07|SH_CLERK|  2600|            - |       124|           50|\n",
      "|        199|   Douglas|      Grant|  DGRANT|650.507.9844|13-JAN-08|SH_CLERK|  2600|            - |       124|           50|\n",
      "|        200|  Jennifer|     Whalen| JWHALEN|515.123.4444|17-SEP-03| AD_ASST|  4400|            - |       101|           10|\n",
      "|        105|     David|     Austin| DAUSTIN|590.423.4569|25-JUN-05| IT_PROG|  4800|            - |       103|           60|\n",
      "|        106|     Valli|  Pataballa|VPATABAL|590.423.4560|05-FEB-06| IT_PROG|  4800|            - |       103|           60|\n",
      "|        107|     Diana|    Lorentz|DLORENTZ|590.423.5567|07-FEB-07| IT_PROG|  4200|            - |       103|           60|\n",
      "|        115| Alexander|       Khoo|   AKHOO|515.127.4562|18-MAY-03|PU_CLERK|  3100|            - |       114|           30|\n",
      "|        116|    Shelli|      Baida|  SBAIDA|515.127.4563|24-DEC-05|PU_CLERK|  2900|            - |       114|           30|\n",
      "|        117|     Sigal|     Tobias| STOBIAS|515.127.4564|24-JUL-05|PU_CLERK|  2800|            - |       114|           30|\n",
      "|        118|       Guy|     Himuro| GHIMURO|515.127.4565|15-NOV-06|PU_CLERK|  2600|            - |       114|           30|\n",
      "|        119|     Karen| Colmenares|KCOLMENA|515.127.4566|10-AUG-07|PU_CLERK|  2500|            - |       114|           30|\n",
      "|        125|     Julia|      Nayer|  JNAYER|650.124.1214|16-JUL-05|ST_CLERK|  3200|            - |       120|           50|\n",
      "|        126|     Irene|Mikkilineni|IMIKKILI|650.124.1224|28-SEP-06|ST_CLERK|  2700|            - |       120|           50|\n",
      "|        127|     James|     Landry| JLANDRY|650.124.1334|14-JAN-07|ST_CLERK|  2400|            - |       120|           50|\n",
      "|        128|    Steven|     Markle| SMARKLE|650.124.1434|08-MAR-08|ST_CLERK|  2200|            - |       120|           50|\n",
      "|        129|     Laura|     Bissot| LBISSOT|650.124.5234|20-AUG-05|ST_CLERK|  3300|            - |       121|           50|\n",
      "|        130|     Mozhe|   Atkinson|MATKINSO|650.124.6234|30-OCT-05|ST_CLERK|  2800|            - |       121|           50|\n",
      "|        131|     James|     Marlow| JAMRLOW|650.124.7234|16-FEB-05|ST_CLERK|  2500|            - |       121|           50|\n",
      "|        132|        TJ|      Olson| TJOLSON|650.124.8234|10-APR-07|ST_CLERK|  2100|            - |       121|           50|\n",
      "|        133|     Jason|     Mallin| JMALLIN|650.127.1934|14-JUN-04|ST_CLERK|  3300|            - |       122|           50|\n",
      "|        134|   Michael|     Rogers| MROGERS|650.127.1834|26-AUG-06|ST_CLERK|  2900|            - |       122|           50|\n",
      "|        135|        Ki|        Gee|    KGEE|650.127.1734|12-DEC-07|ST_CLERK|  2400|            - |       122|           50|\n",
      "|        136|     Hazel| Philtanker|HPHILTAN|650.127.1634|06-FEB-08|ST_CLERK|  2200|            - |       122|           50|\n",
      "|        137|    Renske|     Ladwig| RLADWIG|650.121.1234|14-JUL-03|ST_CLERK|  3600|            - |       123|           50|\n",
      "|        138|   Stephen|     Stiles| SSTILES|650.121.2034|26-OCT-05|ST_CLERK|  3200|            - |       123|           50|\n",
      "|        139|      John|        Seo|    JSEO|650.121.2019|12-FEB-06|ST_CLERK|  2700|            - |       123|           50|\n",
      "|        140|    Joshua|      Patel|  JPATEL|650.121.1834|06-APR-06|ST_CLERK|  2500|            - |       123|           50|\n",
      "+-----------+----------+-----------+--------+------------+---------+--------+------+--------------+----------+-------------+\n",
      "\n"
     ]
    }
   ],
   "source": [
    "empDf.filter(col(\"SALARY\") < 5000).show(100)"
   ]
  },
  {
   "cell_type": "code",
   "execution_count": 7,
   "id": "3b9a4864",
   "metadata": {},
   "outputs": [
    {
     "name": "stdout",
     "output_type": "stream",
     "text": [
      "+-----------+----------+------+\n",
      "|EMPLOYEE_ID|FIRST_NAME|SALARY|\n",
      "+-----------+----------+------+\n",
      "|        198|    Donald|  2600|\n",
      "|        199|   Douglas|  2600|\n",
      "|        200|  Jennifer|  4400|\n",
      "|        105|     David|  4800|\n",
      "|        106|     Valli|  4800|\n",
      "|        107|     Diana|  4200|\n",
      "|        115| Alexander|  3100|\n",
      "|        116|    Shelli|  2900|\n",
      "|        117|     Sigal|  2800|\n",
      "|        118|       Guy|  2600|\n",
      "|        119|     Karen|  2500|\n",
      "|        125|     Julia|  3200|\n",
      "|        126|     Irene|  2700|\n",
      "|        127|     James|  2400|\n",
      "|        128|    Steven|  2200|\n",
      "|        129|     Laura|  3300|\n",
      "|        130|     Mozhe|  2800|\n",
      "|        131|     James|  2500|\n",
      "|        132|        TJ|  2100|\n",
      "|        133|     Jason|  3300|\n",
      "|        134|   Michael|  2900|\n",
      "|        135|        Ki|  2400|\n",
      "|        136|     Hazel|  2200|\n",
      "|        137|    Renske|  3600|\n",
      "|        138|   Stephen|  3200|\n",
      "|        139|      John|  2700|\n",
      "|        140|    Joshua|  2500|\n",
      "+-----------+----------+------+\n",
      "\n"
     ]
    }
   ],
   "source": [
    "empDf.filter(col(\"SALARY\") < 5000).select(\"EMPLOYEE_ID\",\"FIRST_NAME\",\"SALARY\").show(100)"
   ]
  },
  {
   "cell_type": "code",
   "execution_count": 8,
   "id": "6e8fd740",
   "metadata": {},
   "outputs": [
    {
     "name": "stdout",
     "output_type": "stream",
     "text": [
      "+-----------+----------+------+-------------+\n",
      "|EMPLOYEE_ID|FIRST_NAME|SALARY|DEPARTMENT_ID|\n",
      "+-----------+----------+------+-------------+\n",
      "|        198|    Donald|  2600|           50|\n",
      "|        199|   Douglas|  2600|           50|\n",
      "|        125|     Julia|  3200|           50|\n",
      "|        126|     Irene|  2700|           50|\n",
      "|        127|     James|  2400|           50|\n",
      "|        128|    Steven|  2200|           50|\n",
      "|        129|     Laura|  3300|           50|\n",
      "|        130|     Mozhe|  2800|           50|\n",
      "|        131|     James|  2500|           50|\n",
      "|        132|        TJ|  2100|           50|\n",
      "|        133|     Jason|  3300|           50|\n",
      "|        134|   Michael|  2900|           50|\n",
      "|        135|        Ki|  2400|           50|\n",
      "|        136|     Hazel|  2200|           50|\n",
      "|        137|    Renske|  3600|           50|\n",
      "|        138|   Stephen|  3200|           50|\n",
      "|        139|      John|  2700|           50|\n",
      "|        140|    Joshua|  2500|           50|\n",
      "+-----------+----------+------+-------------+\n",
      "\n"
     ]
    }
   ],
   "source": [
    "empDf.filter((col(\"DEPARTMENT_ID\") == 50) & (col(\"SALARY\") < 5000)).select(\"EMPLOYEE_ID\",\"FIRST_NAME\",\"SALARY\",\"DEPARTMENT_ID\").show(100)"
   ]
  },
  {
   "cell_type": "code",
   "execution_count": 9,
   "id": "a08c9328",
   "metadata": {},
   "outputs": [
    {
     "name": "stdout",
     "output_type": "stream",
     "text": [
      "+-----------+-----------+------+-------------+\n",
      "|EMPLOYEE_ID| FIRST_NAME|SALARY|DEPARTMENT_ID|\n",
      "+-----------+-----------+------+-------------+\n",
      "|        200|   Jennifer|  4400|           10|\n",
      "|        201|    Michael| 13000|           20|\n",
      "|        202|        Pat|  6000|           20|\n",
      "|        203|      Susan|  6500|           40|\n",
      "|        204|    Hermann| 10000|           70|\n",
      "|        205|    Shelley| 12008|          110|\n",
      "|        206|    William|  8300|          110|\n",
      "|        100|     Steven| 24000|           90|\n",
      "|        101|      Neena| 17000|           90|\n",
      "|        102|        Lex| 17000|           90|\n",
      "|        103|  Alexander|  9000|           60|\n",
      "|        104|      Bruce|  6000|           60|\n",
      "|        105|      David|  4800|           60|\n",
      "|        106|      Valli|  4800|           60|\n",
      "|        107|      Diana|  4200|           60|\n",
      "|        108|      Nancy| 12008|          100|\n",
      "|        109|     Daniel|  9000|          100|\n",
      "|        110|       John|  8200|          100|\n",
      "|        111|     Ismael|  7700|          100|\n",
      "|        112|Jose Manuel|  7800|          100|\n",
      "|        113|       Luis|  6900|          100|\n",
      "|        114|        Den| 11000|           30|\n",
      "|        115|  Alexander|  3100|           30|\n",
      "|        116|     Shelli|  2900|           30|\n",
      "|        117|      Sigal|  2800|           30|\n",
      "|        118|        Guy|  2600|           30|\n",
      "|        119|      Karen|  2500|           30|\n",
      "+-----------+-----------+------+-------------+\n",
      "\n"
     ]
    }
   ],
   "source": [
    "empDf.filter(\"DEPARTMENT_ID <> 50\").select(\"EMPLOYEE_ID\",\"FIRST_NAME\",\"SALARY\",\"DEPARTMENT_ID\").show(100)"
   ]
  },
  {
   "cell_type": "code",
   "execution_count": 10,
   "id": "40ca6f0d",
   "metadata": {},
   "outputs": [
    {
     "name": "stdout",
     "output_type": "stream",
     "text": [
      "+-----------+-----------+------+-------------+\n",
      "|EMPLOYEE_ID| FIRST_NAME|SALARY|DEPARTMENT_ID|\n",
      "+-----------+-----------+------+-------------+\n",
      "|        200|   Jennifer|  4400|           10|\n",
      "|        201|    Michael| 13000|           20|\n",
      "|        202|        Pat|  6000|           20|\n",
      "|        203|      Susan|  6500|           40|\n",
      "|        204|    Hermann| 10000|           70|\n",
      "|        205|    Shelley| 12008|          110|\n",
      "|        206|    William|  8300|          110|\n",
      "|        100|     Steven| 24000|           90|\n",
      "|        101|      Neena| 17000|           90|\n",
      "|        102|        Lex| 17000|           90|\n",
      "|        103|  Alexander|  9000|           60|\n",
      "|        104|      Bruce|  6000|           60|\n",
      "|        105|      David|  4800|           60|\n",
      "|        106|      Valli|  4800|           60|\n",
      "|        107|      Diana|  4200|           60|\n",
      "|        108|      Nancy| 12008|          100|\n",
      "|        109|     Daniel|  9000|          100|\n",
      "|        110|       John|  8200|          100|\n",
      "|        111|     Ismael|  7700|          100|\n",
      "|        112|Jose Manuel|  7800|          100|\n",
      "|        113|       Luis|  6900|          100|\n",
      "|        114|        Den| 11000|           30|\n",
      "|        115|  Alexander|  3100|           30|\n",
      "|        116|     Shelli|  2900|           30|\n",
      "|        117|      Sigal|  2800|           30|\n",
      "|        118|        Guy|  2600|           30|\n",
      "|        119|      Karen|  2500|           30|\n",
      "+-----------+-----------+------+-------------+\n",
      "\n"
     ]
    }
   ],
   "source": [
    "empDf.filter(\"DEPARTMENT_ID != 50\").select(\"EMPLOYEE_ID\",\"FIRST_NAME\",\"SALARY\",\"DEPARTMENT_ID\").show(100)"
   ]
  },
  {
   "cell_type": "code",
   "execution_count": 11,
   "id": "ded89321",
   "metadata": {},
   "outputs": [
    {
     "name": "stdout",
     "output_type": "stream",
     "text": [
      "+-----------+----------+------+-------------+\n",
      "|EMPLOYEE_ID|FIRST_NAME|SALARY|DEPARTMENT_ID|\n",
      "+-----------+----------+------+-------------+\n",
      "|        198|    Donald|  2600|           50|\n",
      "|        199|   Douglas|  2600|           50|\n",
      "|        125|     Julia|  3200|           50|\n",
      "|        126|     Irene|  2700|           50|\n",
      "|        127|     James|  2400|           50|\n",
      "|        128|    Steven|  2200|           50|\n",
      "|        129|     Laura|  3300|           50|\n",
      "|        130|     Mozhe|  2800|           50|\n",
      "|        131|     James|  2500|           50|\n",
      "|        132|        TJ|  2100|           50|\n",
      "|        133|     Jason|  3300|           50|\n",
      "|        134|   Michael|  2900|           50|\n",
      "|        135|        Ki|  2400|           50|\n",
      "|        136|     Hazel|  2200|           50|\n",
      "|        137|    Renske|  3600|           50|\n",
      "|        138|   Stephen|  3200|           50|\n",
      "|        139|      John|  2700|           50|\n",
      "|        140|    Joshua|  2500|           50|\n",
      "+-----------+----------+------+-------------+\n",
      "\n"
     ]
    }
   ],
   "source": [
    "empDf.filter(\"DEPARTMENT_ID == 50 and SALARY < 5000\").select(\"EMPLOYEE_ID\",\"FIRST_NAME\",\"SALARY\",\"DEPARTMENT_ID\").show(100)"
   ]
  },
  {
   "cell_type": "code",
   "execution_count": null,
   "id": "8d5cdec3",
   "metadata": {},
   "outputs": [],
   "source": []
  }
 ],
 "metadata": {
  "kernelspec": {
   "display_name": "Python 3 (ipykernel)",
   "language": "python",
   "name": "python3"
  },
  "language_info": {
   "codemirror_mode": {
    "name": "ipython",
    "version": 3
   },
   "file_extension": ".py",
   "mimetype": "text/x-python",
   "name": "python",
   "nbconvert_exporter": "python",
   "pygments_lexer": "ipython3",
   "version": "3.8.10"
  }
 },
 "nbformat": 4,
 "nbformat_minor": 5
}
