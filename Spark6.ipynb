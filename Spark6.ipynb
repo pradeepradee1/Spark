{
 "cells": [
  {
   "cell_type": "code",
   "execution_count": 7,
   "id": "d76e98a1",
   "metadata": {},
   "outputs": [],
   "source": [
    "from pyspark.sql import SparkSession\n",
    "from pyspark.sql.types import StructType,StructField,StringType,IntegerType"
   ]
  },
  {
   "cell_type": "code",
   "execution_count": 11,
   "id": "6533da35",
   "metadata": {},
   "outputs": [
    {
     "data": {
      "text/html": [
       "\n",
       "            <div>\n",
       "                <p><b>SparkSession - in-memory</b></p>\n",
       "                \n",
       "        <div>\n",
       "            <p><b>SparkContext</b></p>\n",
       "\n",
       "            <p><a href=\"http://192.168.1.5:4040\">Spark UI</a></p>\n",
       "\n",
       "            <dl>\n",
       "              <dt>Version</dt>\n",
       "                <dd><code>v3.3.2</code></dd>\n",
       "              <dt>Master</dt>\n",
       "                <dd><code>local[*]</code></dd>\n",
       "              <dt>AppName</dt>\n",
       "                <dd><code>Demo</code></dd>\n",
       "            </dl>\n",
       "        </div>\n",
       "        \n",
       "            </div>\n",
       "        "
      ],
      "text/plain": [
       "<pyspark.sql.session.SparkSession at 0x7fea709ca280>"
      ]
     },
     "execution_count": 11,
     "metadata": {},
     "output_type": "execute_result"
    }
   ],
   "source": [
    "spark = SparkSession.builder.master(\"local[*]\").appName(\"Demo\").getOrCreate()\n",
    "spark"
   ]
  },
  {
   "cell_type": "code",
   "execution_count": 23,
   "id": "77dec100",
   "metadata": {},
   "outputs": [
    {
     "name": "stdout",
     "output_type": "stream",
     "text": [
      "+-----------+----------+---------+--------+------------+---------+--------+------+--------------+----------+-------------+\n",
      "|EMPLOYEE_ID|FIRST_NAME|LAST_NAME|   EMAIL|PHONE_NUMBER|HIRE_DATE|  JOB_ID|SALARY|COMMISSION_PCT|MANAGER_ID|DEPARTMENT_ID|\n",
      "+-----------+----------+---------+--------+------------+---------+--------+------+--------------+----------+-------------+\n",
      "|        198|    Donald| OConnell|DOCONNEL|650.507.9833|21-JUN-07|SH_CLERK|  2600|            - |       124|           50|\n",
      "+-----------+----------+---------+--------+------------+---------+--------+------+--------------+----------+-------------+\n",
      "only showing top 1 row\n",
      "\n"
     ]
    }
   ],
   "source": [
    "empDf = spark.read.option(\"header\",True).option(\"infrechema\",True).csv(\"Spark-main/employees.csv\")\n",
    "empDf.show(1)"
   ]
  },
  {
   "cell_type": "code",
   "execution_count": 24,
   "id": "ba55da3c",
   "metadata": {},
   "outputs": [
    {
     "name": "stdout",
     "output_type": "stream",
     "text": [
      "+-------------+---------------+----------+-----------+\n",
      "|DEPARTMENT_ID|DEPARTMENT_NAME|MANAGER_ID|LOCATION_ID|\n",
      "+-------------+---------------+----------+-----------+\n",
      "|           10| Administration|       200|       1700|\n",
      "+-------------+---------------+----------+-----------+\n",
      "only showing top 1 row\n",
      "\n"
     ]
    }
   ],
   "source": [
    "deptDf = spark.read.option(\"header\",True).option(\"infrechema\",True).csv(\"Spark-main/departments.csv\")\n",
    "deptDf.show(1)"
   ]
  },
  {
   "cell_type": "code",
   "execution_count": 25,
   "id": "541cab45",
   "metadata": {},
   "outputs": [],
   "source": [
    "from pyspark.sql.functions import *"
   ]
  },
  {
   "cell_type": "code",
   "execution_count": 26,
   "id": "69e49754",
   "metadata": {},
   "outputs": [],
   "source": [
    "spark.conf.set(\"spark.sql.autoBroadcastJoinThreshold\", 104857600)\n",
    "#The Value is in Bytes"
   ]
  },
  {
   "cell_type": "code",
   "execution_count": 27,
   "id": "d94c015a",
   "metadata": {},
   "outputs": [
    {
     "name": "stdout",
     "output_type": "stream",
     "text": [
      "+-----------+-------------+----------------+\n",
      "|EMPLOYEE_ID|DEPARTMENT_ID| DEPARTMENT_NAME|\n",
      "+-----------+-------------+----------------+\n",
      "|        198|           50|        Shipping|\n",
      "|        199|           50|        Shipping|\n",
      "|        200|           10|  Administration|\n",
      "|        201|           20|       Marketing|\n",
      "|        202|           20|       Marketing|\n",
      "|        203|           40| Human Resources|\n",
      "|        204|           70|Public Relations|\n",
      "|        205|          110|      Accounting|\n",
      "|        206|          110|      Accounting|\n",
      "|        100|           90|       Executive|\n",
      "|        101|           90|       Executive|\n",
      "|        102|           90|       Executive|\n",
      "|        103|           60|              IT|\n",
      "|        104|           60|              IT|\n",
      "|        105|           60|              IT|\n",
      "|        106|           60|              IT|\n",
      "|        107|           60|              IT|\n",
      "|        108|          100|         Finance|\n",
      "|        109|          100|         Finance|\n",
      "|        110|          100|         Finance|\n",
      "|        111|          100|         Finance|\n",
      "|        112|          100|         Finance|\n",
      "|        113|          100|         Finance|\n",
      "|        114|           30|      Purchasing|\n",
      "|        115|           30|      Purchasing|\n",
      "|        116|           30|      Purchasing|\n",
      "|        117|           30|      Purchasing|\n",
      "|        118|           30|      Purchasing|\n",
      "|        119|           30|      Purchasing|\n",
      "|        120|           50|        Shipping|\n",
      "|        121|           50|        Shipping|\n",
      "|        122|           50|        Shipping|\n",
      "|        123|           50|        Shipping|\n",
      "|        124|           50|        Shipping|\n",
      "|        125|           50|        Shipping|\n",
      "|        126|           50|        Shipping|\n",
      "|        127|           50|        Shipping|\n",
      "|        128|           50|        Shipping|\n",
      "|        129|           50|        Shipping|\n",
      "|        130|           50|        Shipping|\n",
      "|        131|           50|        Shipping|\n",
      "|        132|           50|        Shipping|\n",
      "|        133|           50|        Shipping|\n",
      "|        134|           50|        Shipping|\n",
      "|        135|           50|        Shipping|\n",
      "|        136|           50|        Shipping|\n",
      "|        137|           50|        Shipping|\n",
      "|        138|           50|        Shipping|\n",
      "|        139|           50|        Shipping|\n",
      "|        140|           50|        Shipping|\n",
      "+-----------+-------------+----------------+\n",
      "\n"
     ]
    }
   ],
   "source": [
    "empDf.join(broadcast(deptDf), empDf.DEPARTMENT_ID == deptDf.DEPARTMENT_ID, \"inner\").select(empDf.EMPLOYEE_ID, empDf.DEPARTMENT_ID, deptDf.DEPARTMENT_NAME).show(100)"
   ]
  },
  {
   "cell_type": "code",
   "execution_count": 29,
   "id": "dd9415b4",
   "metadata": {},
   "outputs": [
    {
     "name": "stdout",
     "output_type": "stream",
     "text": [
      "+-----------+-------------+---------------+\n",
      "|EMPLOYEE_ID|DEPARTMENT_ID|DEPARTMENT_NAME|\n",
      "+-----------+-------------+---------------+\n",
      "|        198|           50|       Shipping|\n",
      "+-----------+-------------+---------------+\n",
      "only showing top 1 row\n",
      "\n"
     ]
    }
   ],
   "source": [
    "resultDf=empDf.join(broadcast(deptDf), empDf.DEPARTMENT_ID == deptDf.DEPARTMENT_ID, \"inner\").select(empDf.EMPLOYEE_ID, empDf.DEPARTMENT_ID, deptDf.DEPARTMENT_NAME)\n",
    "resultDf.show(1)"
   ]
  },
  {
   "cell_type": "code",
   "execution_count": 33,
   "id": "fd5cd0b4",
   "metadata": {},
   "outputs": [],
   "source": [
    "resultDf.write.option(\"header\",True).csv(\"/tmp/result1\")"
   ]
  },
  {
   "cell_type": "code",
   "execution_count": 34,
   "id": "f554fd5a",
   "metadata": {},
   "outputs": [],
   "source": [
    "resultDf.write.mode(\"overwrite\").option(\"header\",True).save(\"/tmp/result1\")"
   ]
  },
  {
   "cell_type": "code",
   "execution_count": 35,
   "id": "0eb56b3c",
   "metadata": {},
   "outputs": [],
   "source": [
    "resultDf.write.mode(\"overwrite\").option(\"header\",True).format(\"csv\").save(\"/tmp/result1\")"
   ]
  },
  {
   "cell_type": "code",
   "execution_count": 36,
   "id": "67f77f0f",
   "metadata": {},
   "outputs": [],
   "source": [
    "resultDf.write.mode(\"append\").option(\"header\",True).format(\"csv\").save(\"/tmp/result1\")"
   ]
  },
  {
   "cell_type": "code",
   "execution_count": 38,
   "id": "792ae6ce",
   "metadata": {},
   "outputs": [],
   "source": [
    "resultDf.write.mode(\"overwrite\").partitionBy(\"DEPARTMENT_NAME\").option(\"header\",True).format(\"csv\").save(\"/tmp/result1\")"
   ]
  },
  {
   "cell_type": "code",
   "execution_count": null,
   "id": "aeea7bfa",
   "metadata": {},
   "outputs": [],
   "source": []
  },
  {
   "cell_type": "code",
   "execution_count": 39,
   "id": "b25aa7a5",
   "metadata": {},
   "outputs": [
    {
     "data": {
      "text/plain": [
       "1"
      ]
     },
     "execution_count": 39,
     "metadata": {},
     "output_type": "execute_result"
    }
   ],
   "source": [
    "empDf.rdd.getNumPartitions()"
   ]
  },
  {
   "cell_type": "code",
   "execution_count": 40,
   "id": "292792ca",
   "metadata": {},
   "outputs": [
    {
     "data": {
      "text/plain": [
       "1"
      ]
     },
     "execution_count": 40,
     "metadata": {},
     "output_type": "execute_result"
    }
   ],
   "source": [
    "deptDf.rdd.getNumPartitions()"
   ]
  },
  {
   "cell_type": "code",
   "execution_count": 41,
   "id": "ac83613b",
   "metadata": {},
   "outputs": [
    {
     "data": {
      "text/plain": [
       "1"
      ]
     },
     "execution_count": 41,
     "metadata": {},
     "output_type": "execute_result"
    }
   ],
   "source": [
    "resultDf.rdd.getNumPartitions()"
   ]
  },
  {
   "cell_type": "code",
   "execution_count": 42,
   "id": "fb6dd41e",
   "metadata": {},
   "outputs": [
    {
     "data": {
      "text/plain": [
       "DataFrame[EMPLOYEE_ID: string, DEPARTMENT_ID: string, DEPARTMENT_NAME: string]"
      ]
     },
     "execution_count": 42,
     "metadata": {},
     "output_type": "execute_result"
    }
   ],
   "source": [
    "resultDf.repartition(10)"
   ]
  },
  {
   "cell_type": "code",
   "execution_count": 43,
   "id": "3820bc3d",
   "metadata": {},
   "outputs": [
    {
     "data": {
      "text/plain": [
       "1"
      ]
     },
     "execution_count": 43,
     "metadata": {},
     "output_type": "execute_result"
    }
   ],
   "source": [
    "resultDf.rdd.getNumPartitions()"
   ]
  },
  {
   "cell_type": "code",
   "execution_count": 44,
   "id": "6d26ae39",
   "metadata": {},
   "outputs": [
    {
     "data": {
      "text/plain": [
       "10"
      ]
     },
     "execution_count": 44,
     "metadata": {},
     "output_type": "execute_result"
    }
   ],
   "source": [
    "newDf = resultDf.repartition(10)\n",
    "newDf.rdd.getNumPartitions()"
   ]
  },
  {
   "cell_type": "code",
   "execution_count": 45,
   "id": "287656aa",
   "metadata": {},
   "outputs": [],
   "source": [
    "df1 = newDf.repartition(2)"
   ]
  },
  {
   "cell_type": "code",
   "execution_count": 46,
   "id": "24fab1bd",
   "metadata": {},
   "outputs": [
    {
     "data": {
      "text/plain": [
       "2"
      ]
     },
     "execution_count": 46,
     "metadata": {},
     "output_type": "execute_result"
    }
   ],
   "source": [
    "df1.rdd.getNumPartitions()"
   ]
  },
  {
   "cell_type": "code",
   "execution_count": 47,
   "id": "cc5ec77b",
   "metadata": {},
   "outputs": [
    {
     "data": {
      "text/plain": [
       "10"
      ]
     },
     "execution_count": 47,
     "metadata": {},
     "output_type": "execute_result"
    }
   ],
   "source": [
    "newDf.rdd.getNumPartitions()"
   ]
  },
  {
   "cell_type": "code",
   "execution_count": 49,
   "id": "0279edb1",
   "metadata": {},
   "outputs": [
    {
     "data": {
      "text/plain": [
       "10"
      ]
     },
     "execution_count": 49,
     "metadata": {},
     "output_type": "execute_result"
    }
   ],
   "source": [
    "df2 = newDf.coalesce(20)\n",
    "df2.rdd.getNumPartitions()"
   ]
  },
  {
   "cell_type": "code",
   "execution_count": 50,
   "id": "247ddbed",
   "metadata": {},
   "outputs": [
    {
     "data": {
      "text/plain": [
       "5"
      ]
     },
     "execution_count": 50,
     "metadata": {},
     "output_type": "execute_result"
    }
   ],
   "source": [
    "df3 = newDf.coalesce(5)\n",
    "df3.rdd.getNumPartitions()"
   ]
  },
  {
   "cell_type": "code",
   "execution_count": 52,
   "id": "4a2e43d3",
   "metadata": {},
   "outputs": [],
   "source": [
    "resultDf.coalesce(1).write.mode(\"overwrite\").option(\"header\",True).format(\"csv\").save(\"/tmp/result\")"
   ]
  },
  {
   "cell_type": "code",
   "execution_count": 54,
   "id": "528b9f4f",
   "metadata": {},
   "outputs": [
    {
     "name": "stdout",
     "output_type": "stream",
     "text": [
      "+------------+----+-----+-------+\n",
      "|      Array1|Num1|Text1|  Text2|\n",
      "+------------+----+-----+-------+\n",
      "|   [7, 8, 9]| 5.0|Hello|GoodBye|\n",
      "|[70, 88, 91]| 6.5| This|   That|\n",
      "|   [1, 2, 3]| 2.0|  Yes|     No|\n",
      "+------------+----+-----+-------+\n",
      "\n"
     ]
    }
   ],
   "source": [
    "jsonDf = spark.read.json(\"Spark-main/jsonexample.json\")\n",
    "jsonDf.show()"
   ]
  },
  {
   "cell_type": "code",
   "execution_count": 55,
   "id": "c653e091",
   "metadata": {},
   "outputs": [
    {
     "name": "stdout",
     "output_type": "stream",
     "text": [
      "root\n",
      " |-- Array1: array (nullable = true)\n",
      " |    |-- element: long (containsNull = true)\n",
      " |-- Num1: double (nullable = true)\n",
      " |-- Text1: string (nullable = true)\n",
      " |-- Text2: string (nullable = true)\n",
      "\n"
     ]
    }
   ],
   "source": [
    "jsonDf.printSchema()"
   ]
  },
  {
   "cell_type": "code",
   "execution_count": 56,
   "id": "f2fdb42f",
   "metadata": {},
   "outputs": [
    {
     "name": "stdout",
     "output_type": "stream",
     "text": [
      "+-----+------------+\n",
      "|Text1|      Array1|\n",
      "+-----+------------+\n",
      "|Hello|   [7, 8, 9]|\n",
      "| This|[70, 88, 91]|\n",
      "|  Yes|   [1, 2, 3]|\n",
      "+-----+------------+\n",
      "\n"
     ]
    }
   ],
   "source": [
    "jsonDf.select(jsonDf.Text1, jsonDf.Array1).show()"
   ]
  },
  {
   "cell_type": "code",
   "execution_count": 57,
   "id": "3957cc27",
   "metadata": {},
   "outputs": [
    {
     "name": "stdout",
     "output_type": "stream",
     "text": [
      "+-----+---------+\n",
      "|Text1|Array1[2]|\n",
      "+-----+---------+\n",
      "|Hello|        9|\n",
      "| This|       91|\n",
      "|  Yes|        3|\n",
      "+-----+---------+\n",
      "\n"
     ]
    }
   ],
   "source": [
    "jsonDf.select(jsonDf.Text1, jsonDf.Array1[2]).show()"
   ]
  },
  {
   "cell_type": "code",
   "execution_count": 58,
   "id": "7237fd18",
   "metadata": {},
   "outputs": [
    {
     "name": "stdout",
     "output_type": "stream",
     "text": [
      "+-----+---+\n",
      "|Text1|col|\n",
      "+-----+---+\n",
      "|Hello|  7|\n",
      "|Hello|  8|\n",
      "|Hello|  9|\n",
      "| This| 70|\n",
      "| This| 88|\n",
      "| This| 91|\n",
      "|  Yes|  1|\n",
      "|  Yes|  2|\n",
      "|  Yes|  3|\n",
      "+-----+---+\n",
      "\n"
     ]
    }
   ],
   "source": [
    "jsonDf.select(jsonDf.Text1, explode(jsonDf.Array1)).show()"
   ]
  },
  {
   "cell_type": "code",
   "execution_count": null,
   "id": "8352a492",
   "metadata": {},
   "outputs": [],
   "source": []
  }
 ],
 "metadata": {
  "kernelspec": {
   "display_name": "Python 3 (ipykernel)",
   "language": "python",
   "name": "python3"
  },
  "language_info": {
   "codemirror_mode": {
    "name": "ipython",
    "version": 3
   },
   "file_extension": ".py",
   "mimetype": "text/x-python",
   "name": "python",
   "nbconvert_exporter": "python",
   "pygments_lexer": "ipython3",
   "version": "3.8.10"
  }
 },
 "nbformat": 4,
 "nbformat_minor": 5
}
