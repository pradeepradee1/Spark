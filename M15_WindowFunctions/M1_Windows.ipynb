{
 "cells": [
  {
   "cell_type": "code",
   "execution_count": 1,
   "id": "32dab2de",
   "metadata": {},
   "outputs": [],
   "source": [
    "from pyspark.sql import SparkSession\n",
    "from pyspark.sql.types import StructType,StructField,StringType,IntegerType"
   ]
  },
  {
   "cell_type": "code",
   "execution_count": 2,
   "id": "99e5079a",
   "metadata": {},
   "outputs": [
    {
     "name": "stdout",
     "output_type": "stream",
     "text": [
      "23/03/23 16:55:30 WARN Utils: Your hostname, ZSCHN01LP0253L resolves to a loopback address: 127.0.1.1; using 192.168.229.237 instead (on interface wlp0s20f3)\n",
      "23/03/23 16:55:30 WARN Utils: Set SPARK_LOCAL_IP if you need to bind to another address\n"
     ]
    },
    {
     "name": "stderr",
     "output_type": "stream",
     "text": [
      "Setting default log level to \"WARN\".\n",
      "To adjust logging level use sc.setLogLevel(newLevel). For SparkR, use setLogLevel(newLevel).\n"
     ]
    },
    {
     "name": "stdout",
     "output_type": "stream",
     "text": [
      "23/03/23 16:55:30 WARN NativeCodeLoader: Unable to load native-hadoop library for your platform... using builtin-java classes where applicable\n",
      "23/03/23 16:55:31 WARN Utils: Service 'SparkUI' could not bind on port 4040. Attempting port 4041.\n",
      "23/03/23 16:55:31 WARN Utils: Service 'SparkUI' could not bind on port 4041. Attempting port 4042.\n"
     ]
    },
    {
     "data": {
      "text/html": [
       "\n",
       "            <div>\n",
       "                <p><b>SparkSession - in-memory</b></p>\n",
       "                \n",
       "        <div>\n",
       "            <p><b>SparkContext</b></p>\n",
       "\n",
       "            <p><a href=\"http://192.168.229.237:4042\">Spark UI</a></p>\n",
       "\n",
       "            <dl>\n",
       "              <dt>Version</dt>\n",
       "                <dd><code>v3.3.2</code></dd>\n",
       "              <dt>Master</dt>\n",
       "                <dd><code>local[*]</code></dd>\n",
       "              <dt>AppName</dt>\n",
       "                <dd><code>demo</code></dd>\n",
       "            </dl>\n",
       "        </div>\n",
       "        \n",
       "            </div>\n",
       "        "
      ],
      "text/plain": [
       "<pyspark.sql.session.SparkSession at 0x7efe4c139790>"
      ]
     },
     "execution_count": 2,
     "metadata": {},
     "output_type": "execute_result"
    }
   ],
   "source": [
    "#Creating Spark Session (It will executed in the Local Not in the Master Node)\n",
    "spark=SparkSession.builder.master(\"local[*]\").appName(\"demo\").getOrCreate()\n",
    "spark"
   ]
  },
  {
   "cell_type": "code",
   "execution_count": 3,
   "id": "ac203bd8",
   "metadata": {},
   "outputs": [
    {
     "name": "stdout",
     "output_type": "stream",
     "text": [
      "root\n",
      " |-- EMPLOYEE_ID: integer (nullable = true)\n",
      " |-- FIRST_NAME: string (nullable = true)\n",
      " |-- LAST_NAME: string (nullable = true)\n",
      " |-- EMAIL: string (nullable = true)\n",
      " |-- PHONE_NUMBER: string (nullable = true)\n",
      " |-- HIRE_DATE: string (nullable = true)\n",
      " |-- JOB_ID: string (nullable = true)\n",
      " |-- SALARY: integer (nullable = true)\n",
      " |-- COMMISSION_PCT: string (nullable = true)\n",
      " |-- MANAGER_ID: string (nullable = true)\n",
      " |-- DEPARTMENT_ID: integer (nullable = true)\n",
      "\n"
     ]
    }
   ],
   "source": [
    "empDf = spark.read.option(\"header\",True).option(\"inferSchema\",True).csv(\"../Spark-main/employees.csv\")\n",
    "empDf.printSchema()"
   ]
  },
  {
   "cell_type": "code",
   "execution_count": 4,
   "id": "ba0a5d15",
   "metadata": {},
   "outputs": [
    {
     "name": "stdout",
     "output_type": "stream",
     "text": [
      "+-------------+---------------+----------+-----------+\n",
      "|DEPARTMENT_ID|DEPARTMENT_NAME|MANAGER_ID|LOCATION_ID|\n",
      "+-------------+---------------+----------+-----------+\n",
      "|           10| Administration|       200|       1700|\n",
      "|           20|      Marketing|       201|       1800|\n",
      "|           30|     Purchasing|       114|       1700|\n",
      "|           40|Human Resources|       203|       2400|\n",
      "|           50|       Shipping|       121|       1500|\n",
      "+-------------+---------------+----------+-----------+\n",
      "only showing top 5 rows\n",
      "\n"
     ]
    }
   ],
   "source": [
    "deptDf = spark.read.option(\"header\",True).option(\"inferSchema\",True).csv(\"../Spark-main/departments.csv\")\n",
    "deptDf.show(5)"
   ]
  },
  {
   "cell_type": "markdown",
   "id": "ae99ea9a",
   "metadata": {},
   "source": [
    "### Windows Functions"
   ]
  },
  {
   "cell_type": "code",
   "execution_count": 7,
   "id": "4dd4edac",
   "metadata": {},
   "outputs": [
    {
     "name": "stdout",
     "output_type": "stream",
     "text": [
      "+-------------+------+-----------+\n",
      "|DEPARTMENT_ID|SALARY|salary_rank|\n",
      "+-------------+------+-----------+\n",
      "|           10|  4400|          1|\n",
      "|           20|  6000|          1|\n",
      "|           20| 13000|          2|\n",
      "|           30|  2500|          1|\n",
      "|           30|  2600|          2|\n",
      "|           30|  2800|          3|\n",
      "|           30|  2900|          4|\n",
      "|           30|  3100|          5|\n",
      "|           30| 11000|          6|\n",
      "|           40|  6500|          1|\n",
      "|           50|  2100|          1|\n",
      "|           50|  2200|          2|\n",
      "|           50|  2200|          2|\n",
      "|           50|  2400|          4|\n",
      "|           50|  2400|          4|\n",
      "|           50|  2500|          6|\n",
      "|           50|  2500|          6|\n",
      "|           50|  2600|          8|\n",
      "|           50|  2600|          8|\n",
      "|           50|  2700|         10|\n",
      "|           50|  2700|         10|\n",
      "|           50|  2800|         12|\n",
      "|           50|  2900|         13|\n",
      "|           50|  3200|         14|\n",
      "|           50|  3200|         14|\n",
      "|           50|  3300|         16|\n",
      "|           50|  3300|         16|\n",
      "|           50|  3600|         18|\n",
      "|           50|  5800|         19|\n",
      "|           50|  6500|         20|\n",
      "|           50|  7900|         21|\n",
      "|           50|  8000|         22|\n",
      "|           50|  8200|         23|\n",
      "|           60|  4200|          1|\n",
      "|           60|  4800|          2|\n",
      "|           60|  4800|          2|\n",
      "|           60|  6000|          4|\n",
      "|           60|  9000|          5|\n",
      "|           70| 10000|          1|\n",
      "|           90| 17000|          1|\n",
      "|           90| 17000|          1|\n",
      "|           90| 24000|          3|\n",
      "|          100|  6900|          1|\n",
      "|          100|  7700|          2|\n",
      "|          100|  7800|          3|\n",
      "|          100|  8200|          4|\n",
      "|          100|  9000|          5|\n",
      "|          100| 12008|          6|\n",
      "|          110|  8300|          1|\n",
      "|          110| 12008|          2|\n",
      "+-------------+------+-----------+\n",
      "\n"
     ]
    }
   ],
   "source": [
    "from pyspark.sql.window import Window\n",
    "from pyspark.sql.functions import *\n",
    "\n",
    "windowSpec = Window.partitionBy(\"DEPARTMENT_ID\").orderBy(\"SALARY\")\n",
    "empDf.withColumn(\"salary_rank\", rank().over(windowSpec)).select(\"DEPARTMENT_ID\",\"SALARY\",\"salary_rank\").show(100)"
   ]
  },
  {
   "cell_type": "code",
   "execution_count": 8,
   "id": "cdaf2a0f",
   "metadata": {},
   "outputs": [
    {
     "name": "stdout",
     "output_type": "stream",
     "text": [
      "+-------------+------+-----------+\n",
      "|DEPARTMENT_ID|SALARY|salary_rank|\n",
      "+-------------+------+-----------+\n",
      "|           10|  4400|          1|\n",
      "|           20| 13000|          1|\n",
      "|           20|  6000|          2|\n",
      "|           30| 11000|          1|\n",
      "|           30|  3100|          2|\n",
      "|           30|  2900|          3|\n",
      "|           30|  2800|          4|\n",
      "|           30|  2600|          5|\n",
      "|           30|  2500|          6|\n",
      "|           40|  6500|          1|\n",
      "|           50|  8200|          1|\n",
      "|           50|  8000|          2|\n",
      "|           50|  7900|          3|\n",
      "|           50|  6500|          4|\n",
      "|           50|  5800|          5|\n",
      "|           50|  3600|          6|\n",
      "|           50|  3300|          7|\n",
      "|           50|  3300|          7|\n",
      "|           50|  3200|          9|\n",
      "|           50|  3200|          9|\n",
      "|           50|  2900|         11|\n",
      "|           50|  2800|         12|\n",
      "|           50|  2700|         13|\n",
      "|           50|  2700|         13|\n",
      "|           50|  2600|         15|\n",
      "|           50|  2600|         15|\n",
      "|           50|  2500|         17|\n",
      "|           50|  2500|         17|\n",
      "|           50|  2400|         19|\n",
      "|           50|  2400|         19|\n",
      "|           50|  2200|         21|\n",
      "|           50|  2200|         21|\n",
      "|           50|  2100|         23|\n",
      "|           60|  9000|          1|\n",
      "|           60|  6000|          2|\n",
      "|           60|  4800|          3|\n",
      "|           60|  4800|          3|\n",
      "|           60|  4200|          5|\n",
      "|           70| 10000|          1|\n",
      "|           90| 24000|          1|\n",
      "|           90| 17000|          2|\n",
      "|           90| 17000|          2|\n",
      "|          100| 12008|          1|\n",
      "|          100|  9000|          2|\n",
      "|          100|  8200|          3|\n",
      "|          100|  7800|          4|\n",
      "|          100|  7700|          5|\n",
      "|          100|  6900|          6|\n",
      "|          110| 12008|          1|\n",
      "|          110|  8300|          2|\n",
      "+-------------+------+-----------+\n",
      "\n"
     ]
    }
   ],
   "source": [
    "windowSpec = Window.partitionBy(\"DEPARTMENT_ID\").orderBy(col(\"SALARY\").desc())\n",
    "empDf.withColumn(\"salary_rank\", rank().over(windowSpec)).select(\"DEPARTMENT_ID\",\"SALARY\",\"salary_rank\").show(100)"
   ]
  },
  {
   "cell_type": "code",
   "execution_count": 9,
   "id": "f52e6b35",
   "metadata": {},
   "outputs": [
    {
     "name": "stdout",
     "output_type": "stream",
     "text": [
      "+-------------+------+-----+\n",
      "|DEPARTMENT_ID|SALARY|  SUM|\n",
      "+-------------+------+-----+\n",
      "|           10|  4400| 4400|\n",
      "|           20| 13000|13000|\n",
      "|           20|  6000|19000|\n",
      "|           30| 11000|11000|\n",
      "|           30|  3100|14100|\n",
      "|           30|  2900|17000|\n",
      "|           30|  2800|19800|\n",
      "|           30|  2600|22400|\n",
      "|           30|  2500|24900|\n",
      "|           40|  6500| 6500|\n",
      "|           50|  8200| 8200|\n",
      "|           50|  8000|16200|\n",
      "|           50|  7900|24100|\n",
      "|           50|  6500|30600|\n",
      "|           50|  5800|36400|\n",
      "|           50|  3600|40000|\n",
      "|           50|  3300|46600|\n",
      "|           50|  3300|46600|\n",
      "|           50|  3200|53000|\n",
      "|           50|  3200|53000|\n",
      "|           50|  2900|55900|\n",
      "|           50|  2800|58700|\n",
      "|           50|  2700|64100|\n",
      "|           50|  2700|64100|\n",
      "|           50|  2600|69300|\n",
      "|           50|  2600|69300|\n",
      "|           50|  2500|74300|\n",
      "|           50|  2500|74300|\n",
      "|           50|  2400|79100|\n",
      "|           50|  2400|79100|\n",
      "|           50|  2200|83500|\n",
      "|           50|  2200|83500|\n",
      "|           50|  2100|85600|\n",
      "|           60|  9000| 9000|\n",
      "|           60|  6000|15000|\n",
      "|           60|  4800|24600|\n",
      "|           60|  4800|24600|\n",
      "|           60|  4200|28800|\n",
      "|           70| 10000|10000|\n",
      "|           90| 24000|24000|\n",
      "|           90| 17000|58000|\n",
      "|           90| 17000|58000|\n",
      "|          100| 12008|12008|\n",
      "|          100|  9000|21008|\n",
      "|          100|  8200|29208|\n",
      "|          100|  7800|37008|\n",
      "|          100|  7700|44708|\n",
      "|          100|  6900|51608|\n",
      "|          110| 12008|12008|\n",
      "|          110|  8300|20308|\n",
      "+-------------+------+-----+\n",
      "\n"
     ]
    }
   ],
   "source": [
    "windowSpec = Window.partitionBy(\"DEPARTMENT_ID\").orderBy(col(\"SALARY\").desc())\n",
    "empDf.withColumn(\"SUM\", sum(\"SALARY\").over(windowSpec)).select(\"DEPARTMENT_ID\",\"SALARY\",\"SUM\").show(100)"
   ]
  },
  {
   "cell_type": "code",
   "execution_count": 10,
   "id": "9eda306f",
   "metadata": {},
   "outputs": [
    {
     "name": "stdout",
     "output_type": "stream",
     "text": [
      "+-------------+------+-----+\n",
      "|DEPARTMENT_ID|SALARY|  SUM|\n",
      "+-------------+------+-----+\n",
      "|           10|  4400| 4400|\n",
      "|           20| 13000|19000|\n",
      "|           20|  6000|19000|\n",
      "|           30| 11000|24900|\n",
      "|           30|  3100|24900|\n",
      "|           30|  2900|24900|\n",
      "|           30|  2800|24900|\n",
      "|           30|  2600|24900|\n",
      "|           30|  2500|24900|\n",
      "|           40|  6500| 6500|\n",
      "|           50|  2600|85600|\n",
      "|           50|  2600|85600|\n",
      "|           50|  8000|85600|\n",
      "|           50|  8200|85600|\n",
      "|           50|  7900|85600|\n",
      "|           50|  6500|85600|\n",
      "|           50|  5800|85600|\n",
      "|           50|  3200|85600|\n",
      "|           50|  2700|85600|\n",
      "|           50|  2400|85600|\n",
      "|           50|  2200|85600|\n",
      "|           50|  3300|85600|\n",
      "|           50|  2800|85600|\n",
      "|           50|  2500|85600|\n",
      "|           50|  2100|85600|\n",
      "|           50|  3300|85600|\n",
      "|           50|  2900|85600|\n",
      "|           50|  2400|85600|\n",
      "|           50|  2200|85600|\n",
      "|           50|  3600|85600|\n",
      "|           50|  3200|85600|\n",
      "|           50|  2700|85600|\n",
      "|           50|  2500|85600|\n",
      "|           60|  9000|28800|\n",
      "|           60|  6000|28800|\n",
      "|           60|  4800|28800|\n",
      "|           60|  4800|28800|\n",
      "|           60|  4200|28800|\n",
      "|           70| 10000|10000|\n",
      "|           90| 24000|58000|\n",
      "|           90| 17000|58000|\n",
      "|           90| 17000|58000|\n",
      "|          100| 12008|51608|\n",
      "|          100|  9000|51608|\n",
      "|          100|  8200|51608|\n",
      "|          100|  7700|51608|\n",
      "|          100|  7800|51608|\n",
      "|          100|  6900|51608|\n",
      "|          110| 12008|20308|\n",
      "|          110|  8300|20308|\n",
      "+-------------+------+-----+\n",
      "\n"
     ]
    }
   ],
   "source": [
    "windowSpec = Window.partitionBy(\"DEPARTMENT_ID\")\n",
    "empDf.withColumn(\"SUM\", sum(\"SALARY\").over(windowSpec)).select(\"DEPARTMENT_ID\",\"SALARY\",\"SUM\").show(100)"
   ]
  },
  {
   "cell_type": "code",
   "execution_count": null,
   "id": "64dcce74",
   "metadata": {},
   "outputs": [],
   "source": []
  }
 ],
 "metadata": {
  "kernelspec": {
   "display_name": "Python 3 (ipykernel)",
   "language": "python",
   "name": "python3"
  },
  "language_info": {
   "codemirror_mode": {
    "name": "ipython",
    "version": 3
   },
   "file_extension": ".py",
   "mimetype": "text/x-python",
   "name": "python",
   "nbconvert_exporter": "python",
   "pygments_lexer": "ipython3",
   "version": "3.8.10"
  }
 },
 "nbformat": 4,
 "nbformat_minor": 5
}
