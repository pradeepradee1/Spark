{
 "cells": [
  {
   "cell_type": "code",
   "execution_count": 1,
   "id": "9b073303",
   "metadata": {},
   "outputs": [],
   "source": [
    "from pyspark.sql import SparkSession\n",
    "from pyspark.sql.types import StructType,StructField,StringType,IntegerType"
   ]
  },
  {
   "cell_type": "code",
   "execution_count": 2,
   "id": "a1867d22",
   "metadata": {},
   "outputs": [
    {
     "name": "stdout",
     "output_type": "stream",
     "text": [
      "23/03/23 16:01:12 WARN Utils: Your hostname, ZSCHN01LP0253L resolves to a loopback address: 127.0.1.1; using 192.168.229.237 instead (on interface wlp0s20f3)\n",
      "23/03/23 16:01:12 WARN Utils: Set SPARK_LOCAL_IP if you need to bind to another address\n"
     ]
    },
    {
     "name": "stderr",
     "output_type": "stream",
     "text": [
      "Setting default log level to \"WARN\".\n",
      "To adjust logging level use sc.setLogLevel(newLevel). For SparkR, use setLogLevel(newLevel).\n"
     ]
    },
    {
     "name": "stdout",
     "output_type": "stream",
     "text": [
      "23/03/23 16:01:13 WARN NativeCodeLoader: Unable to load native-hadoop library for your platform... using builtin-java classes where applicable\n",
      "23/03/23 16:01:13 WARN Utils: Service 'SparkUI' could not bind on port 4040. Attempting port 4041.\n",
      "23/03/23 16:01:13 WARN Utils: Service 'SparkUI' could not bind on port 4041. Attempting port 4042.\n",
      "23/03/23 16:01:13 WARN Utils: Service 'SparkUI' could not bind on port 4042. Attempting port 4043.\n",
      "23/03/23 16:01:13 WARN Utils: Service 'SparkUI' could not bind on port 4043. Attempting port 4044.\n",
      "23/03/23 16:01:13 WARN Utils: Service 'SparkUI' could not bind on port 4044. Attempting port 4045.\n",
      "23/03/23 16:01:13 WARN Utils: Service 'SparkUI' could not bind on port 4045. Attempting port 4046.\n",
      "23/03/23 16:01:13 WARN Utils: Service 'SparkUI' could not bind on port 4046. Attempting port 4047.\n",
      "23/03/23 16:01:13 WARN Utils: Service 'SparkUI' could not bind on port 4047. Attempting port 4048.\n",
      "23/03/23 16:01:13 WARN Utils: Service 'SparkUI' could not bind on port 4048. Attempting port 4049.\n",
      "23/03/23 16:01:13 WARN Utils: Service 'SparkUI' could not bind on port 4049. Attempting port 4050.\n",
      "23/03/23 16:01:13 WARN Utils: Service 'SparkUI' could not bind on port 4050. Attempting port 4051.\n"
     ]
    },
    {
     "data": {
      "text/html": [
       "\n",
       "            <div>\n",
       "                <p><b>SparkSession - in-memory</b></p>\n",
       "                \n",
       "        <div>\n",
       "            <p><b>SparkContext</b></p>\n",
       "\n",
       "            <p><a href=\"http://192.168.229.237:4051\">Spark UI</a></p>\n",
       "\n",
       "            <dl>\n",
       "              <dt>Version</dt>\n",
       "                <dd><code>v3.3.2</code></dd>\n",
       "              <dt>Master</dt>\n",
       "                <dd><code>local[*]</code></dd>\n",
       "              <dt>AppName</dt>\n",
       "                <dd><code>demo</code></dd>\n",
       "            </dl>\n",
       "        </div>\n",
       "        \n",
       "            </div>\n",
       "        "
      ],
      "text/plain": [
       "<pyspark.sql.session.SparkSession at 0x7fa88c4e4790>"
      ]
     },
     "execution_count": 2,
     "metadata": {},
     "output_type": "execute_result"
    }
   ],
   "source": [
    "#Creating Spark Session (It will executed in the Local Not in the Master Node)\n",
    "spark=SparkSession.builder.master(\"local[*]\").appName(\"demo\").getOrCreate()\n",
    "spark"
   ]
  },
  {
   "cell_type": "code",
   "execution_count": 3,
   "id": "6eb8ca1b",
   "metadata": {},
   "outputs": [
    {
     "name": "stdout",
     "output_type": "stream",
     "text": [
      "root\n",
      " |-- EMPLOYEE_ID: integer (nullable = true)\n",
      " |-- FIRST_NAME: string (nullable = true)\n",
      " |-- LAST_NAME: string (nullable = true)\n",
      " |-- EMAIL: string (nullable = true)\n",
      " |-- PHONE_NUMBER: string (nullable = true)\n",
      " |-- HIRE_DATE: string (nullable = true)\n",
      " |-- JOB_ID: string (nullable = true)\n",
      " |-- SALARY: integer (nullable = true)\n",
      " |-- COMMISSION_PCT: string (nullable = true)\n",
      " |-- MANAGER_ID: string (nullable = true)\n",
      " |-- DEPARTMENT_ID: integer (nullable = true)\n",
      "\n"
     ]
    }
   ],
   "source": [
    "empDf = spark.read.option(\"header\",True).option(\"inferSchema\",True).csv(\"../Spark-main/employees.csv\")\n",
    "empDf.printSchema()"
   ]
  },
  {
   "cell_type": "code",
   "execution_count": 4,
   "id": "fb63cafe",
   "metadata": {},
   "outputs": [
    {
     "name": "stdout",
     "output_type": "stream",
     "text": [
      "+-----------+----------+-------------+\n",
      "|EMPLOYEE_ID|FIRST_NAME|DEPARTMENT_ID|\n",
      "+-----------+----------+-------------+\n",
      "|        132|        TJ|           50|\n",
      "|        136|     Hazel|           50|\n",
      "|        128|    Steven|           50|\n",
      "|        127|     James|           50|\n",
      "|        135|        Ki|           50|\n",
      "|        131|     James|           50|\n",
      "|        119|     Karen|           30|\n",
      "|        140|    Joshua|           50|\n",
      "|        198|    Donald|           50|\n",
      "|        199|   Douglas|           50|\n",
      "|        118|       Guy|           30|\n",
      "|        126|     Irene|           50|\n",
      "|        139|      John|           50|\n",
      "|        130|     Mozhe|           50|\n",
      "|        117|     Sigal|           30|\n",
      "|        116|    Shelli|           30|\n",
      "|        134|   Michael|           50|\n",
      "|        115| Alexander|           30|\n",
      "|        125|     Julia|           50|\n",
      "|        138|   Stephen|           50|\n",
      "+-----------+----------+-------------+\n",
      "only showing top 20 rows\n",
      "\n"
     ]
    }
   ],
   "source": [
    "empDf.select(\"EMPLOYEE_ID\",\"FIRST_NAME\",\"DEPARTMENT_ID\").orderBy(\"salary\").show()"
   ]
  },
  {
   "cell_type": "code",
   "execution_count": 5,
   "id": "d99696fc",
   "metadata": {},
   "outputs": [
    {
     "name": "stdout",
     "output_type": "stream",
     "text": [
      "+-----------+----------+-------------+------+\n",
      "|EMPLOYEE_ID|FIRST_NAME|DEPARTMENT_ID|SALARY|\n",
      "+-----------+----------+-------------+------+\n",
      "|        132|        TJ|           50|  2100|\n",
      "|        136|     Hazel|           50|  2200|\n",
      "|        128|    Steven|           50|  2200|\n",
      "|        127|     James|           50|  2400|\n",
      "|        135|        Ki|           50|  2400|\n",
      "|        131|     James|           50|  2500|\n",
      "|        119|     Karen|           30|  2500|\n",
      "|        140|    Joshua|           50|  2500|\n",
      "|        198|    Donald|           50|  2600|\n",
      "|        199|   Douglas|           50|  2600|\n",
      "|        118|       Guy|           30|  2600|\n",
      "|        126|     Irene|           50|  2700|\n",
      "|        139|      John|           50|  2700|\n",
      "|        130|     Mozhe|           50|  2800|\n",
      "|        117|     Sigal|           30|  2800|\n",
      "|        116|    Shelli|           30|  2900|\n",
      "|        134|   Michael|           50|  2900|\n",
      "|        115| Alexander|           30|  3100|\n",
      "|        125|     Julia|           50|  3200|\n",
      "|        138|   Stephen|           50|  3200|\n",
      "+-----------+----------+-------------+------+\n",
      "only showing top 20 rows\n",
      "\n"
     ]
    }
   ],
   "source": [
    "empDf.select(\"EMPLOYEE_ID\",\"FIRST_NAME\",\"DEPARTMENT_ID\",\"SALARY\").orderBy(\"salary\").show()"
   ]
  },
  {
   "cell_type": "code",
   "execution_count": 9,
   "id": "e1f85531",
   "metadata": {},
   "outputs": [
    {
     "name": "stdout",
     "output_type": "stream",
     "text": [
      "+-----------+-----------+-------------+------+\n",
      "|EMPLOYEE_ID| FIRST_NAME|DEPARTMENT_ID|SALARY|\n",
      "+-----------+-----------+-------------+------+\n",
      "|        200|   Jennifer|           10|  4400|\n",
      "|        201|    Michael|           20| 13000|\n",
      "|        202|        Pat|           20|  6000|\n",
      "|        114|        Den|           30| 11000|\n",
      "|        115|  Alexander|           30|  3100|\n",
      "|        116|     Shelli|           30|  2900|\n",
      "|        117|      Sigal|           30|  2800|\n",
      "|        118|        Guy|           30|  2600|\n",
      "|        119|      Karen|           30|  2500|\n",
      "|        203|      Susan|           40|  6500|\n",
      "|        121|       Adam|           50|  8200|\n",
      "|        120|    Matthew|           50|  8000|\n",
      "|        122|      Payam|           50|  7900|\n",
      "|        123|     Shanta|           50|  6500|\n",
      "|        124|      Kevin|           50|  5800|\n",
      "|        137|     Renske|           50|  3600|\n",
      "|        133|      Jason|           50|  3300|\n",
      "|        129|      Laura|           50|  3300|\n",
      "|        125|      Julia|           50|  3200|\n",
      "|        138|    Stephen|           50|  3200|\n",
      "|        134|    Michael|           50|  2900|\n",
      "|        130|      Mozhe|           50|  2800|\n",
      "|        126|      Irene|           50|  2700|\n",
      "|        139|       John|           50|  2700|\n",
      "|        198|     Donald|           50|  2600|\n",
      "|        199|    Douglas|           50|  2600|\n",
      "|        131|      James|           50|  2500|\n",
      "|        140|     Joshua|           50|  2500|\n",
      "|        135|         Ki|           50|  2400|\n",
      "|        127|      James|           50|  2400|\n",
      "|        128|     Steven|           50|  2200|\n",
      "|        136|      Hazel|           50|  2200|\n",
      "|        132|         TJ|           50|  2100|\n",
      "|        103|  Alexander|           60|  9000|\n",
      "|        104|      Bruce|           60|  6000|\n",
      "|        105|      David|           60|  4800|\n",
      "|        106|      Valli|           60|  4800|\n",
      "|        107|      Diana|           60|  4200|\n",
      "|        204|    Hermann|           70| 10000|\n",
      "|        100|     Steven|           90| 24000|\n",
      "|        102|        Lex|           90| 17000|\n",
      "|        101|      Neena|           90| 17000|\n",
      "|        108|      Nancy|          100| 12008|\n",
      "|        109|     Daniel|          100|  9000|\n",
      "|        110|       John|          100|  8200|\n",
      "|        112|Jose Manuel|          100|  7800|\n",
      "|        111|     Ismael|          100|  7700|\n",
      "|        113|       Luis|          100|  6900|\n",
      "|        205|    Shelley|          110| 12008|\n",
      "|        206|    William|          110|  8300|\n",
      "+-----------+-----------+-------------+------+\n",
      "\n"
     ]
    }
   ],
   "source": [
    "from pyspark.sql.functions import *\n",
    "empDf.select(\"EMPLOYEE_ID\",\"FIRST_NAME\",\"DEPARTMENT_ID\",\"SALARY\").orderBy(col(\"DEPARTMENT_ID\").asc(),col(\"SALARY\").desc()).show(100)"
   ]
  },
  {
   "cell_type": "code",
   "execution_count": null,
   "id": "c41a2d0b",
   "metadata": {},
   "outputs": [],
   "source": []
  }
 ],
 "metadata": {
  "kernelspec": {
   "display_name": "Python 3 (ipykernel)",
   "language": "python",
   "name": "python3"
  },
  "language_info": {
   "codemirror_mode": {
    "name": "ipython",
    "version": 3
   },
   "file_extension": ".py",
   "mimetype": "text/x-python",
   "name": "python",
   "nbconvert_exporter": "python",
   "pygments_lexer": "ipython3",
   "version": "3.8.10"
  }
 },
 "nbformat": 4,
 "nbformat_minor": 5
}
