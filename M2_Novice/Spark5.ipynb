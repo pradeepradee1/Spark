{
 "cells": [
  {
   "cell_type": "code",
   "execution_count": 1,
   "id": "742eddc6",
   "metadata": {},
   "outputs": [],
   "source": [
    "from pyspark.sql import SparkSession\n",
    "from pyspark.sql.types import StructType,StructField,StringType,IntegerType"
   ]
  },
  {
   "cell_type": "code",
   "execution_count": 2,
   "id": "d9982f00",
   "metadata": {},
   "outputs": [
    {
     "name": "stdout",
     "output_type": "stream",
     "text": [
      "23/03/23 06:45:19 WARN Utils: Your hostname, ZSCHN01LP0253L resolves to a loopback address: 127.0.1.1; using 192.168.1.5 instead (on interface wlp0s20f3)\n",
      "23/03/23 06:45:19 WARN Utils: Set SPARK_LOCAL_IP if you need to bind to another address\n"
     ]
    },
    {
     "name": "stderr",
     "output_type": "stream",
     "text": [
      "Setting default log level to \"WARN\".\n",
      "To adjust logging level use sc.setLogLevel(newLevel). For SparkR, use setLogLevel(newLevel).\n"
     ]
    },
    {
     "name": "stdout",
     "output_type": "stream",
     "text": [
      "23/03/23 06:45:19 WARN NativeCodeLoader: Unable to load native-hadoop library for your platform... using builtin-java classes where applicable\n",
      "23/03/23 06:45:20 WARN Utils: Service 'SparkUI' could not bind on port 4040. Attempting port 4041.\n"
     ]
    },
    {
     "data": {
      "text/html": [
       "\n",
       "            <div>\n",
       "                <p><b>SparkSession - in-memory</b></p>\n",
       "                \n",
       "        <div>\n",
       "            <p><b>SparkContext</b></p>\n",
       "\n",
       "            <p><a href=\"http://192.168.1.5:4041\">Spark UI</a></p>\n",
       "\n",
       "            <dl>\n",
       "              <dt>Version</dt>\n",
       "                <dd><code>v3.3.2</code></dd>\n",
       "              <dt>Master</dt>\n",
       "                <dd><code>local[*]</code></dd>\n",
       "              <dt>AppName</dt>\n",
       "                <dd><code>demo</code></dd>\n",
       "            </dl>\n",
       "        </div>\n",
       "        \n",
       "            </div>\n",
       "        "
      ],
      "text/plain": [
       "<pyspark.sql.session.SparkSession at 0x7f398fce0670>"
      ]
     },
     "execution_count": 2,
     "metadata": {},
     "output_type": "execute_result"
    }
   ],
   "source": [
    "#Creating Spark Session (It will executed in the Local Not in the Master Node)\n",
    "spark=SparkSession.builder.master(\"local[*]\").appName(\"demo\").getOrCreate()\n",
    "spark"
   ]
  },
  {
   "cell_type": "code",
   "execution_count": 5,
   "id": "00fe7c0f",
   "metadata": {},
   "outputs": [
    {
     "name": "stdout",
     "output_type": "stream",
     "text": [
      "+-----------+----------+---------+--------+------------+---------+--------+------+--------------+----------+-------------+\n",
      "|EMPLOYEE_ID|FIRST_NAME|LAST_NAME|   EMAIL|PHONE_NUMBER|HIRE_DATE|  JOB_ID|SALARY|COMMISSION_PCT|MANAGER_ID|DEPARTMENT_ID|\n",
      "+-----------+----------+---------+--------+------------+---------+--------+------+--------------+----------+-------------+\n",
      "|        198|    Donald| OConnell|DOCONNEL|650.507.9833|21-JUN-07|SH_CLERK|  2600|            - |       124|           50|\n",
      "|        199|   Douglas|    Grant|  DGRANT|650.507.9844|13-JAN-08|SH_CLERK|  2600|            - |       124|           50|\n",
      "|        200|  Jennifer|   Whalen| JWHALEN|515.123.4444|17-SEP-03| AD_ASST|  4400|            - |       101|           10|\n",
      "|        201|   Michael|Hartstein|MHARTSTE|515.123.5555|17-FEB-04|  MK_MAN| 13000|            - |       100|           20|\n",
      "|        202|       Pat|      Fay|    PFAY|603.123.6666|17-AUG-05|  MK_REP|  6000|            - |       201|           20|\n",
      "+-----------+----------+---------+--------+------------+---------+--------+------+--------------+----------+-------------+\n",
      "only showing top 5 rows\n",
      "\n"
     ]
    }
   ],
   "source": [
    "empDf = spark.read.option(\"header\",True).option(\"inferSchema\",True).csv(\"../Spark-main/employees.csv\")\n",
    "empDf.show(5)"
   ]
  },
  {
   "cell_type": "code",
   "execution_count": 6,
   "id": "f7ed7b58",
   "metadata": {},
   "outputs": [
    {
     "name": "stdout",
     "output_type": "stream",
     "text": [
      "+-------------+---------------+----------+-----------+\n",
      "|DEPARTMENT_ID|DEPARTMENT_NAME|MANAGER_ID|LOCATION_ID|\n",
      "+-------------+---------------+----------+-----------+\n",
      "|           10| Administration|       200|       1700|\n",
      "|           20|      Marketing|       201|       1800|\n",
      "|           30|     Purchasing|       114|       1700|\n",
      "|           40|Human Resources|       203|       2400|\n",
      "|           50|       Shipping|       121|       1500|\n",
      "+-------------+---------------+----------+-----------+\n",
      "only showing top 5 rows\n",
      "\n"
     ]
    }
   ],
   "source": [
    "deptDf = spark.read.option(\"header\",True).option(\"inferSchema\",True).csv(\"../Spark-main/departments.csv\")\n",
    "deptDf.show(5)"
   ]
  },
  {
   "cell_type": "code",
   "execution_count": 8,
   "id": "4097ab01",
   "metadata": {},
   "outputs": [
    {
     "name": "stdout",
     "output_type": "stream",
     "text": [
      "+-----------+----------+---------+--------+------------+---------+----------+------+--------------+----------+-------------+-------------+----------------+----------+-----------+\n",
      "|EMPLOYEE_ID|FIRST_NAME|LAST_NAME|   EMAIL|PHONE_NUMBER|HIRE_DATE|    JOB_ID|SALARY|COMMISSION_PCT|MANAGER_ID|DEPARTMENT_ID|DEPARTMENT_ID| DEPARTMENT_NAME|MANAGER_ID|LOCATION_ID|\n",
      "+-----------+----------+---------+--------+------------+---------+----------+------+--------------+----------+-------------+-------------+----------------+----------+-----------+\n",
      "|        198|    Donald| OConnell|DOCONNEL|650.507.9833|21-JUN-07|  SH_CLERK|  2600|            - |       124|           50|           50|        Shipping|       121|       1500|\n",
      "|        199|   Douglas|    Grant|  DGRANT|650.507.9844|13-JAN-08|  SH_CLERK|  2600|            - |       124|           50|           50|        Shipping|       121|       1500|\n",
      "|        200|  Jennifer|   Whalen| JWHALEN|515.123.4444|17-SEP-03|   AD_ASST|  4400|            - |       101|           10|           10|  Administration|       200|       1700|\n",
      "|        201|   Michael|Hartstein|MHARTSTE|515.123.5555|17-FEB-04|    MK_MAN| 13000|            - |       100|           20|           20|       Marketing|       201|       1800|\n",
      "|        202|       Pat|      Fay|    PFAY|603.123.6666|17-AUG-05|    MK_REP|  6000|            - |       201|           20|           20|       Marketing|       201|       1800|\n",
      "|        203|     Susan|   Mavris| SMAVRIS|515.123.7777|07-JUN-02|    HR_REP|  6500|            - |       101|           40|           40| Human Resources|       203|       2400|\n",
      "|        204|   Hermann|     Baer|   HBAER|515.123.8888|07-JUN-02|    PR_REP| 10000|            - |       101|           70|           70|Public Relations|       204|       2700|\n",
      "|        205|   Shelley|  Higgins|SHIGGINS|515.123.8080|07-JUN-02|    AC_MGR| 12008|            - |       101|          110|          110|      Accounting|       205|       1700|\n",
      "|        206|   William|    Gietz|  WGIETZ|515.123.8181|07-JUN-02|AC_ACCOUNT|  8300|            - |       205|          110|          110|      Accounting|       205|       1700|\n",
      "|        100|    Steven|     King|   SKING|515.123.4567|17-JUN-03|   AD_PRES| 24000|            - |        - |           90|           90|       Executive|       100|       1700|\n",
      "|        101|     Neena|  Kochhar|NKOCHHAR|515.123.4568|21-SEP-05|     AD_VP| 17000|            - |       100|           90|           90|       Executive|       100|       1700|\n",
      "|        102|       Lex|  De Haan| LDEHAAN|515.123.4569|13-JAN-01|     AD_VP| 17000|            - |       100|           90|           90|       Executive|       100|       1700|\n",
      "|        103| Alexander|   Hunold| AHUNOLD|590.423.4567|03-JAN-06|   IT_PROG|  9000|            - |       102|           60|           60|              IT|       103|       1400|\n",
      "|        104|     Bruce|    Ernst|  BERNST|590.423.4568|21-MAY-07|   IT_PROG|  6000|            - |       103|           60|           60|              IT|       103|       1400|\n",
      "|        105|     David|   Austin| DAUSTIN|590.423.4569|25-JUN-05|   IT_PROG|  4800|            - |       103|           60|           60|              IT|       103|       1400|\n",
      "|        106|     Valli|Pataballa|VPATABAL|590.423.4560|05-FEB-06|   IT_PROG|  4800|            - |       103|           60|           60|              IT|       103|       1400|\n",
      "|        107|     Diana|  Lorentz|DLORENTZ|590.423.5567|07-FEB-07|   IT_PROG|  4200|            - |       103|           60|           60|              IT|       103|       1400|\n",
      "|        108|     Nancy|Greenberg|NGREENBE|515.124.4569|17-AUG-02|    FI_MGR| 12008|            - |       101|          100|          100|         Finance|       108|       1700|\n",
      "|        109|    Daniel|   Faviet| DFAVIET|515.124.4169|16-AUG-02|FI_ACCOUNT|  9000|            - |       108|          100|          100|         Finance|       108|       1700|\n",
      "|        110|      John|     Chen|   JCHEN|515.124.4269|28-SEP-05|FI_ACCOUNT|  8200|            - |       108|          100|          100|         Finance|       108|       1700|\n",
      "+-----------+----------+---------+--------+------------+---------+----------+------+--------------+----------+-------------+-------------+----------------+----------+-----------+\n",
      "only showing top 20 rows\n",
      "\n"
     ]
    }
   ],
   "source": [
    "empDf.join(deptDf, empDf.DEPARTMENT_ID == deptDf.DEPARTMENT_ID, \"inner\").show()"
   ]
  },
  {
   "cell_type": "code",
   "execution_count": 10,
   "id": "28af6340",
   "metadata": {},
   "outputs": [
    {
     "ename": "AnalysisException",
     "evalue": "Reference 'DEPARTMENT_ID' is ambiguous, could be: DEPARTMENT_ID, DEPARTMENT_ID.",
     "output_type": "error",
     "traceback": [
      "\u001b[0;31m---------------------------------------------------------------------------\u001b[0m",
      "\u001b[0;31mAnalysisException\u001b[0m                         Traceback (most recent call last)",
      "Input \u001b[0;32mIn [10]\u001b[0m, in \u001b[0;36m<cell line: 1>\u001b[0;34m()\u001b[0m\n\u001b[0;32m----> 1\u001b[0m \u001b[43mempDf\u001b[49m\u001b[38;5;241;43m.\u001b[39;49m\u001b[43mjoin\u001b[49m\u001b[43m(\u001b[49m\u001b[43mdeptDf\u001b[49m\u001b[43m,\u001b[49m\u001b[43m \u001b[49m\u001b[43mempDf\u001b[49m\u001b[38;5;241;43m.\u001b[39;49m\u001b[43mDEPARTMENT_ID\u001b[49m\u001b[43m \u001b[49m\u001b[38;5;241;43m==\u001b[39;49m\u001b[43m \u001b[49m\u001b[43mdeptDf\u001b[49m\u001b[38;5;241;43m.\u001b[39;49m\u001b[43mDEPARTMENT_ID\u001b[49m\u001b[43m,\u001b[49m\u001b[43m \u001b[49m\u001b[38;5;124;43m\"\u001b[39;49m\u001b[38;5;124;43minner\u001b[39;49m\u001b[38;5;124;43m\"\u001b[39;49m\u001b[43m)\u001b[49m\u001b[38;5;241;43m.\u001b[39;49m\u001b[43mselect\u001b[49m\u001b[43m(\u001b[49m\u001b[38;5;124;43m\"\u001b[39;49m\u001b[38;5;124;43mEMPLOYEE_ID\u001b[39;49m\u001b[38;5;124;43m\"\u001b[39;49m\u001b[43m,\u001b[49m\u001b[43m \u001b[49m\u001b[38;5;124;43m\"\u001b[39;49m\u001b[38;5;124;43mDEPARTMENT_ID\u001b[39;49m\u001b[38;5;124;43m\"\u001b[39;49m\u001b[43m,\u001b[49m\u001b[43m \u001b[49m\u001b[38;5;124;43m\"\u001b[39;49m\u001b[38;5;124;43mDEPARTMENT_NAME\u001b[39;49m\u001b[38;5;124;43m\"\u001b[39;49m\u001b[43m)\u001b[49m\u001b[38;5;241m.\u001b[39mshow()\n",
      "File \u001b[0;32m~/workspace_working_Repo/ML/envname/lib/python3.8/site-packages/pyspark/sql/dataframe.py:2023\u001b[0m, in \u001b[0;36mDataFrame.select\u001b[0;34m(self, *cols)\u001b[0m\n\u001b[1;32m   2002\u001b[0m \u001b[38;5;28;01mdef\u001b[39;00m \u001b[38;5;21mselect\u001b[39m(\u001b[38;5;28mself\u001b[39m, \u001b[38;5;241m*\u001b[39mcols: \u001b[38;5;124m\"\u001b[39m\u001b[38;5;124mColumnOrName\u001b[39m\u001b[38;5;124m\"\u001b[39m) \u001b[38;5;241m-\u001b[39m\u001b[38;5;241m>\u001b[39m \u001b[38;5;124m\"\u001b[39m\u001b[38;5;124mDataFrame\u001b[39m\u001b[38;5;124m\"\u001b[39m:  \u001b[38;5;66;03m# type: ignore[misc]\u001b[39;00m\n\u001b[1;32m   2003\u001b[0m     \u001b[38;5;124;03m\"\"\"Projects a set of expressions and returns a new :class:`DataFrame`.\u001b[39;00m\n\u001b[1;32m   2004\u001b[0m \n\u001b[1;32m   2005\u001b[0m \u001b[38;5;124;03m    .. versionadded:: 1.3.0\u001b[39;00m\n\u001b[0;32m   (...)\u001b[0m\n\u001b[1;32m   2021\u001b[0m \u001b[38;5;124;03m    [Row(name='Alice', age=12), Row(name='Bob', age=15)]\u001b[39;00m\n\u001b[1;32m   2022\u001b[0m \u001b[38;5;124;03m    \"\"\"\u001b[39;00m\n\u001b[0;32m-> 2023\u001b[0m     jdf \u001b[38;5;241m=\u001b[39m \u001b[38;5;28;43mself\u001b[39;49m\u001b[38;5;241;43m.\u001b[39;49m\u001b[43m_jdf\u001b[49m\u001b[38;5;241;43m.\u001b[39;49m\u001b[43mselect\u001b[49m\u001b[43m(\u001b[49m\u001b[38;5;28;43mself\u001b[39;49m\u001b[38;5;241;43m.\u001b[39;49m\u001b[43m_jcols\u001b[49m\u001b[43m(\u001b[49m\u001b[38;5;241;43m*\u001b[39;49m\u001b[43mcols\u001b[49m\u001b[43m)\u001b[49m\u001b[43m)\u001b[49m\n\u001b[1;32m   2024\u001b[0m     \u001b[38;5;28;01mreturn\u001b[39;00m DataFrame(jdf, \u001b[38;5;28mself\u001b[39m\u001b[38;5;241m.\u001b[39msparkSession)\n",
      "File \u001b[0;32m~/workspace_working_Repo/ML/envname/lib/python3.8/site-packages/py4j/java_gateway.py:1321\u001b[0m, in \u001b[0;36mJavaMember.__call__\u001b[0;34m(self, *args)\u001b[0m\n\u001b[1;32m   1315\u001b[0m command \u001b[38;5;241m=\u001b[39m proto\u001b[38;5;241m.\u001b[39mCALL_COMMAND_NAME \u001b[38;5;241m+\u001b[39m\\\n\u001b[1;32m   1316\u001b[0m     \u001b[38;5;28mself\u001b[39m\u001b[38;5;241m.\u001b[39mcommand_header \u001b[38;5;241m+\u001b[39m\\\n\u001b[1;32m   1317\u001b[0m     args_command \u001b[38;5;241m+\u001b[39m\\\n\u001b[1;32m   1318\u001b[0m     proto\u001b[38;5;241m.\u001b[39mEND_COMMAND_PART\n\u001b[1;32m   1320\u001b[0m answer \u001b[38;5;241m=\u001b[39m \u001b[38;5;28mself\u001b[39m\u001b[38;5;241m.\u001b[39mgateway_client\u001b[38;5;241m.\u001b[39msend_command(command)\n\u001b[0;32m-> 1321\u001b[0m return_value \u001b[38;5;241m=\u001b[39m \u001b[43mget_return_value\u001b[49m\u001b[43m(\u001b[49m\n\u001b[1;32m   1322\u001b[0m \u001b[43m    \u001b[49m\u001b[43manswer\u001b[49m\u001b[43m,\u001b[49m\u001b[43m \u001b[49m\u001b[38;5;28;43mself\u001b[39;49m\u001b[38;5;241;43m.\u001b[39;49m\u001b[43mgateway_client\u001b[49m\u001b[43m,\u001b[49m\u001b[43m \u001b[49m\u001b[38;5;28;43mself\u001b[39;49m\u001b[38;5;241;43m.\u001b[39;49m\u001b[43mtarget_id\u001b[49m\u001b[43m,\u001b[49m\u001b[43m \u001b[49m\u001b[38;5;28;43mself\u001b[39;49m\u001b[38;5;241;43m.\u001b[39;49m\u001b[43mname\u001b[49m\u001b[43m)\u001b[49m\n\u001b[1;32m   1324\u001b[0m \u001b[38;5;28;01mfor\u001b[39;00m temp_arg \u001b[38;5;129;01min\u001b[39;00m temp_args:\n\u001b[1;32m   1325\u001b[0m     temp_arg\u001b[38;5;241m.\u001b[39m_detach()\n",
      "File \u001b[0;32m~/workspace_working_Repo/ML/envname/lib/python3.8/site-packages/pyspark/sql/utils.py:196\u001b[0m, in \u001b[0;36mcapture_sql_exception.<locals>.deco\u001b[0;34m(*a, **kw)\u001b[0m\n\u001b[1;32m    192\u001b[0m converted \u001b[38;5;241m=\u001b[39m convert_exception(e\u001b[38;5;241m.\u001b[39mjava_exception)\n\u001b[1;32m    193\u001b[0m \u001b[38;5;28;01mif\u001b[39;00m \u001b[38;5;129;01mnot\u001b[39;00m \u001b[38;5;28misinstance\u001b[39m(converted, UnknownException):\n\u001b[1;32m    194\u001b[0m     \u001b[38;5;66;03m# Hide where the exception came from that shows a non-Pythonic\u001b[39;00m\n\u001b[1;32m    195\u001b[0m     \u001b[38;5;66;03m# JVM exception message.\u001b[39;00m\n\u001b[0;32m--> 196\u001b[0m     \u001b[38;5;28;01mraise\u001b[39;00m converted \u001b[38;5;28;01mfrom\u001b[39;00m \u001b[38;5;28mNone\u001b[39m\n\u001b[1;32m    197\u001b[0m \u001b[38;5;28;01melse\u001b[39;00m:\n\u001b[1;32m    198\u001b[0m     \u001b[38;5;28;01mraise\u001b[39;00m\n",
      "\u001b[0;31mAnalysisException\u001b[0m: Reference 'DEPARTMENT_ID' is ambiguous, could be: DEPARTMENT_ID, DEPARTMENT_ID."
     ]
    }
   ],
   "source": [
    "empDf.join(deptDf, empDf.DEPARTMENT_ID == deptDf.DEPARTMENT_ID, \"inner\").select(\"EMPLOYEE_ID\", \"DEPARTMENT_ID\", \"DEPARTMENT_NAME\").show()"
   ]
  },
  {
   "cell_type": "code",
   "execution_count": 12,
   "id": "e6aa4a61",
   "metadata": {},
   "outputs": [
    {
     "name": "stdout",
     "output_type": "stream",
     "text": [
      "+-----------+-------------+---------------+\n",
      "|EMPLOYEE_ID|DEPARTMENT_ID|DEPARTMENT_NAME|\n",
      "+-----------+-------------+---------------+\n",
      "|        200|           10| Administration|\n",
      "|        202|           20|      Marketing|\n",
      "|        201|           20|      Marketing|\n",
      "|        119|           30|     Purchasing|\n",
      "|        118|           30|     Purchasing|\n",
      "|        117|           30|     Purchasing|\n",
      "|        116|           30|     Purchasing|\n",
      "|        115|           30|     Purchasing|\n",
      "|        114|           30|     Purchasing|\n",
      "|        203|           40|Human Resources|\n",
      "|        140|           50|       Shipping|\n",
      "|        139|           50|       Shipping|\n",
      "|        138|           50|       Shipping|\n",
      "|        137|           50|       Shipping|\n",
      "|        136|           50|       Shipping|\n",
      "|        135|           50|       Shipping|\n",
      "|        134|           50|       Shipping|\n",
      "|        133|           50|       Shipping|\n",
      "|        132|           50|       Shipping|\n",
      "|        131|           50|       Shipping|\n",
      "+-----------+-------------+---------------+\n",
      "only showing top 20 rows\n",
      "\n"
     ]
    }
   ],
   "source": [
    "empDf.join(deptDf, empDf.DEPARTMENT_ID == deptDf.DEPARTMENT_ID, \"inner\").select(empDf.EMPLOYEE_ID, empDf.DEPARTMENT_ID, deptDf.DEPARTMENT_NAME).show()"
   ]
  },
  {
   "cell_type": "code",
   "execution_count": 14,
   "id": "1108f57e",
   "metadata": {},
   "outputs": [
    {
     "name": "stdout",
     "output_type": "stream",
     "text": [
      "+-----------+-------------+----------------+\n",
      "|EMPLOYEE_ID|DEPARTMENT_ID| DEPARTMENT_NAME|\n",
      "+-----------+-------------+----------------+\n",
      "|        198|           50|        Shipping|\n",
      "|        199|           50|        Shipping|\n",
      "|        200|           10|  Administration|\n",
      "|        201|           20|       Marketing|\n",
      "|        202|           20|       Marketing|\n",
      "|        203|           40| Human Resources|\n",
      "|        204|           70|Public Relations|\n",
      "|        205|          110|      Accounting|\n",
      "|        206|          110|      Accounting|\n",
      "|        100|           90|       Executive|\n",
      "|        101|           90|       Executive|\n",
      "|        102|           90|       Executive|\n",
      "|        103|           60|              IT|\n",
      "|        104|           60|              IT|\n",
      "|        105|           60|              IT|\n",
      "|        106|           60|              IT|\n",
      "|        107|           60|              IT|\n",
      "|        108|          100|         Finance|\n",
      "|        109|          100|         Finance|\n",
      "|        110|          100|         Finance|\n",
      "|        111|          100|         Finance|\n",
      "|        112|          100|         Finance|\n",
      "|        113|          100|         Finance|\n",
      "|        114|           30|      Purchasing|\n",
      "|        115|           30|      Purchasing|\n",
      "|        116|           30|      Purchasing|\n",
      "|        117|           30|      Purchasing|\n",
      "|        118|           30|      Purchasing|\n",
      "|        119|           30|      Purchasing|\n",
      "|        120|           50|        Shipping|\n",
      "|        121|           50|        Shipping|\n",
      "|        122|           50|        Shipping|\n",
      "|        123|           50|        Shipping|\n",
      "|        124|           50|        Shipping|\n",
      "|        125|           50|        Shipping|\n",
      "|        126|           50|        Shipping|\n",
      "|        127|           50|        Shipping|\n",
      "|        128|           50|        Shipping|\n",
      "|        129|           50|        Shipping|\n",
      "|        130|           50|        Shipping|\n",
      "|        131|           50|        Shipping|\n",
      "|        132|           50|        Shipping|\n",
      "|        133|           50|        Shipping|\n",
      "|        134|           50|        Shipping|\n",
      "|        135|           50|        Shipping|\n",
      "|        136|           50|        Shipping|\n",
      "|        137|           50|        Shipping|\n",
      "|        138|           50|        Shipping|\n",
      "|        139|           50|        Shipping|\n",
      "|        140|           50|        Shipping|\n",
      "+-----------+-------------+----------------+\n",
      "\n"
     ]
    }
   ],
   "source": [
    "empDf.join(deptDf, empDf.DEPARTMENT_ID == deptDf.DEPARTMENT_ID, \"left\").select(empDf.EMPLOYEE_ID, empDf.DEPARTMENT_ID, deptDf.DEPARTMENT_NAME).show(100)"
   ]
  },
  {
   "cell_type": "code",
   "execution_count": 15,
   "id": "b8f344ea",
   "metadata": {},
   "outputs": [
    {
     "name": "stdout",
     "output_type": "stream",
     "text": [
      "+-----------+-------------+--------------------+\n",
      "|EMPLOYEE_ID|DEPARTMENT_ID|     DEPARTMENT_NAME|\n",
      "+-----------+-------------+--------------------+\n",
      "|        200|           10|      Administration|\n",
      "|        202|           20|           Marketing|\n",
      "|        201|           20|           Marketing|\n",
      "|        119|           30|          Purchasing|\n",
      "|        118|           30|          Purchasing|\n",
      "|        117|           30|          Purchasing|\n",
      "|        116|           30|          Purchasing|\n",
      "|        115|           30|          Purchasing|\n",
      "|        114|           30|          Purchasing|\n",
      "|        203|           40|     Human Resources|\n",
      "|        140|           50|            Shipping|\n",
      "|        139|           50|            Shipping|\n",
      "|        138|           50|            Shipping|\n",
      "|        137|           50|            Shipping|\n",
      "|        136|           50|            Shipping|\n",
      "|        135|           50|            Shipping|\n",
      "|        134|           50|            Shipping|\n",
      "|        133|           50|            Shipping|\n",
      "|        132|           50|            Shipping|\n",
      "|        131|           50|            Shipping|\n",
      "|        130|           50|            Shipping|\n",
      "|        129|           50|            Shipping|\n",
      "|        128|           50|            Shipping|\n",
      "|        127|           50|            Shipping|\n",
      "|        126|           50|            Shipping|\n",
      "|        125|           50|            Shipping|\n",
      "|        124|           50|            Shipping|\n",
      "|        123|           50|            Shipping|\n",
      "|        122|           50|            Shipping|\n",
      "|        121|           50|            Shipping|\n",
      "|        120|           50|            Shipping|\n",
      "|        199|           50|            Shipping|\n",
      "|        198|           50|            Shipping|\n",
      "|        107|           60|                  IT|\n",
      "|        106|           60|                  IT|\n",
      "|        105|           60|                  IT|\n",
      "|        104|           60|                  IT|\n",
      "|        103|           60|                  IT|\n",
      "|        204|           70|    Public Relations|\n",
      "|       null|         null|               Sales|\n",
      "|        102|           90|           Executive|\n",
      "|        101|           90|           Executive|\n",
      "|        100|           90|           Executive|\n",
      "|        113|          100|             Finance|\n",
      "|        112|          100|             Finance|\n",
      "|        111|          100|             Finance|\n",
      "|        110|          100|             Finance|\n",
      "|        109|          100|             Finance|\n",
      "|        108|          100|             Finance|\n",
      "|        206|          110|          Accounting|\n",
      "|        205|          110|          Accounting|\n",
      "|       null|         null|            Treasury|\n",
      "|       null|         null|       Corporate Tax|\n",
      "|       null|         null|  Control And Credit|\n",
      "|       null|         null|Shareholder Services|\n",
      "|       null|         null|            Benefits|\n",
      "|       null|         null|       Manufacturing|\n",
      "|       null|         null|        Construction|\n",
      "|       null|         null|         Contracting|\n",
      "|       null|         null|          Operations|\n",
      "|       null|         null|          IT Support|\n",
      "|       null|         null|                 NOC|\n",
      "|       null|         null|         IT Helpdesk|\n",
      "|       null|         null|    Government Sales|\n",
      "|       null|         null|        Retail Sales|\n",
      "|       null|         null|          Recruiting|\n",
      "|       null|         null|             Payroll|\n",
      "+-----------+-------------+--------------------+\n",
      "\n"
     ]
    }
   ],
   "source": [
    "empDf.join(deptDf, empDf.DEPARTMENT_ID == deptDf.DEPARTMENT_ID, \"right\").select(empDf.EMPLOYEE_ID, empDf.DEPARTMENT_ID, deptDf.DEPARTMENT_NAME).show(100)"
   ]
  },
  {
   "cell_type": "code",
   "execution_count": 16,
   "id": "dd88876b",
   "metadata": {},
   "outputs": [
    {
     "name": "stdout",
     "output_type": "stream",
     "text": [
      "+-----------+-------------+--------------------+\n",
      "|EMPLOYEE_ID|DEPARTMENT_ID|     DEPARTMENT_NAME|\n",
      "+-----------+-------------+--------------------+\n",
      "|        200|           10|      Administration|\n",
      "|        201|           20|           Marketing|\n",
      "|        202|           20|           Marketing|\n",
      "|        114|           30|          Purchasing|\n",
      "|        115|           30|          Purchasing|\n",
      "|        116|           30|          Purchasing|\n",
      "|        117|           30|          Purchasing|\n",
      "|        118|           30|          Purchasing|\n",
      "|        119|           30|          Purchasing|\n",
      "|        203|           40|     Human Resources|\n",
      "|        198|           50|            Shipping|\n",
      "|        199|           50|            Shipping|\n",
      "|        120|           50|            Shipping|\n",
      "|        121|           50|            Shipping|\n",
      "|        122|           50|            Shipping|\n",
      "|        123|           50|            Shipping|\n",
      "|        124|           50|            Shipping|\n",
      "|        125|           50|            Shipping|\n",
      "|        126|           50|            Shipping|\n",
      "|        127|           50|            Shipping|\n",
      "|        128|           50|            Shipping|\n",
      "|        129|           50|            Shipping|\n",
      "|        130|           50|            Shipping|\n",
      "|        131|           50|            Shipping|\n",
      "|        132|           50|            Shipping|\n",
      "|        133|           50|            Shipping|\n",
      "|        134|           50|            Shipping|\n",
      "|        135|           50|            Shipping|\n",
      "|        136|           50|            Shipping|\n",
      "|        137|           50|            Shipping|\n",
      "|        138|           50|            Shipping|\n",
      "|        139|           50|            Shipping|\n",
      "|        140|           50|            Shipping|\n",
      "|        103|           60|                  IT|\n",
      "|        104|           60|                  IT|\n",
      "|        105|           60|                  IT|\n",
      "|        106|           60|                  IT|\n",
      "|        107|           60|                  IT|\n",
      "|        204|           70|    Public Relations|\n",
      "|       null|         null|               Sales|\n",
      "|        100|           90|           Executive|\n",
      "|        101|           90|           Executive|\n",
      "|        102|           90|           Executive|\n",
      "|        108|          100|             Finance|\n",
      "|        109|          100|             Finance|\n",
      "|        110|          100|             Finance|\n",
      "|        111|          100|             Finance|\n",
      "|        112|          100|             Finance|\n",
      "|        113|          100|             Finance|\n",
      "|        205|          110|          Accounting|\n",
      "|        206|          110|          Accounting|\n",
      "|       null|         null|            Treasury|\n",
      "|       null|         null|       Corporate Tax|\n",
      "|       null|         null|  Control And Credit|\n",
      "|       null|         null|Shareholder Services|\n",
      "|       null|         null|            Benefits|\n",
      "|       null|         null|       Manufacturing|\n",
      "|       null|         null|        Construction|\n",
      "|       null|         null|         Contracting|\n",
      "|       null|         null|          Operations|\n",
      "|       null|         null|          IT Support|\n",
      "|       null|         null|                 NOC|\n",
      "|       null|         null|         IT Helpdesk|\n",
      "|       null|         null|    Government Sales|\n",
      "|       null|         null|        Retail Sales|\n",
      "|       null|         null|          Recruiting|\n",
      "|       null|         null|             Payroll|\n",
      "+-----------+-------------+--------------------+\n",
      "\n"
     ]
    }
   ],
   "source": [
    "empDf.join(deptDf, empDf.DEPARTMENT_ID == deptDf.DEPARTMENT_ID, \"fullouter\").select(empDf.EMPLOYEE_ID, empDf.DEPARTMENT_ID, deptDf.DEPARTMENT_NAME).show(100)"
   ]
  },
  {
   "cell_type": "markdown",
   "id": "afdc5854",
   "metadata": {},
   "source": [
    "### Join With Restrictions"
   ]
  },
  {
   "cell_type": "code",
   "execution_count": 19,
   "id": "42b2752f",
   "metadata": {},
   "outputs": [
    {
     "name": "stdout",
     "output_type": "stream",
     "text": [
      "+-----------+----------+---------+--------+------------+---------+--------+------+--------------+----------+-------------+\n",
      "|EMPLOYEE_ID|FIRST_NAME|LAST_NAME|   EMAIL|PHONE_NUMBER|HIRE_DATE|  JOB_ID|SALARY|COMMISSION_PCT|MANAGER_ID|DEPARTMENT_ID|\n",
      "+-----------+----------+---------+--------+------------+---------+--------+------+--------------+----------+-------------+\n",
      "|        198|    Donald| OConnell|DOCONNEL|650.507.9833|21-JUN-07|SH_CLERK|  2600|            - |       124|           50|\n",
      "|        199|   Douglas|    Grant|  DGRANT|650.507.9844|13-JAN-08|SH_CLERK|  2600|            - |       124|           50|\n",
      "|        200|  Jennifer|   Whalen| JWHALEN|515.123.4444|17-SEP-03| AD_ASST|  4400|            - |       101|           10|\n",
      "|        201|   Michael|Hartstein|MHARTSTE|515.123.5555|17-FEB-04|  MK_MAN| 13000|            - |       100|           20|\n",
      "|        202|       Pat|      Fay|    PFAY|603.123.6666|17-AUG-05|  MK_REP|  6000|            - |       201|           20|\n",
      "+-----------+----------+---------+--------+------------+---------+--------+------+--------------+----------+-------------+\n",
      "only showing top 5 rows\n",
      "\n"
     ]
    }
   ],
   "source": [
    "empDf.show(5)"
   ]
  },
  {
   "cell_type": "code",
   "execution_count": 20,
   "id": "c898dd81",
   "metadata": {},
   "outputs": [
    {
     "name": "stdout",
     "output_type": "stream",
     "text": [
      "+-------------+---------------+----------+-----------+\n",
      "|DEPARTMENT_ID|DEPARTMENT_NAME|MANAGER_ID|LOCATION_ID|\n",
      "+-------------+---------------+----------+-----------+\n",
      "|           10| Administration|       200|       1700|\n",
      "|           20|      Marketing|       201|       1800|\n",
      "|           30|     Purchasing|       114|       1700|\n",
      "|           40|Human Resources|       203|       2400|\n",
      "|           50|       Shipping|       121|       1500|\n",
      "+-------------+---------------+----------+-----------+\n",
      "only showing top 5 rows\n",
      "\n"
     ]
    }
   ],
   "source": [
    "deptDf.show(5)"
   ]
  },
  {
   "cell_type": "code",
   "execution_count": 17,
   "id": "072e8d1c",
   "metadata": {},
   "outputs": [
    {
     "name": "stdout",
     "output_type": "stream",
     "text": [
      "+-------------+--------------------+----------+-----------+\n",
      "|DEPARTMENT_ID|     DEPARTMENT_NAME|MANAGER_ID|LOCATION_ID|\n",
      "+-------------+--------------------+----------+-----------+\n",
      "|           10|      Administration|       200|       1700|\n",
      "|           20|           Marketing|       201|       1800|\n",
      "|           30|          Purchasing|       114|       1700|\n",
      "|           40|     Human Resources|       203|       2400|\n",
      "|           50|            Shipping|       121|       1500|\n",
      "|           60|                  IT|       103|       1400|\n",
      "|           70|    Public Relations|       204|       2700|\n",
      "|           80|               Sales|       145|       2500|\n",
      "|           90|           Executive|       100|       1700|\n",
      "|          100|             Finance|       108|       1700|\n",
      "|          110|          Accounting|       205|       1700|\n",
      "|          120|            Treasury|        - |       1700|\n",
      "|          130|       Corporate Tax|        - |       1700|\n",
      "|          140|  Control And Credit|        - |       1700|\n",
      "|          150|Shareholder Services|        - |       1700|\n",
      "|          160|            Benefits|        - |       1700|\n",
      "|          170|       Manufacturing|        - |       1700|\n",
      "|          180|        Construction|        - |       1700|\n",
      "|          190|         Contracting|        - |       1700|\n",
      "|          200|          Operations|        - |       1700|\n",
      "+-------------+--------------------+----------+-----------+\n",
      "only showing top 20 rows\n",
      "\n"
     ]
    }
   ],
   "source": [
    "deptDf.filter(deptDf.MANAGER_ID != \"-\").show()"
   ]
  },
  {
   "cell_type": "code",
   "execution_count": 22,
   "id": "da76554d",
   "metadata": {},
   "outputs": [
    {
     "name": "stdout",
     "output_type": "stream",
     "text": [
      "+----------+----------+---------+\n",
      "|manager_id|first_name|last_name|\n",
      "+----------+----------+---------+\n",
      "|       201|   Michael|Hartstein|\n",
      "|       205|   Shelley|  Higgins|\n",
      "|       100|    Steven|     King|\n",
      "|       100|    Steven|     King|\n",
      "|       100|    Steven|     King|\n",
      "|       100|    Steven|     King|\n",
      "|       100|    Steven|     King|\n",
      "|       100|    Steven|     King|\n",
      "|       100|    Steven|     King|\n",
      "|       100|    Steven|     King|\n",
      "|       100|    Steven|     King|\n",
      "|       101|     Neena|  Kochhar|\n",
      "|       101|     Neena|  Kochhar|\n",
      "|       101|     Neena|  Kochhar|\n",
      "|       101|     Neena|  Kochhar|\n",
      "|       101|     Neena|  Kochhar|\n",
      "|       102|       Lex|  De Haan|\n",
      "|       103| Alexander|   Hunold|\n",
      "|       103| Alexander|   Hunold|\n",
      "|       103| Alexander|   Hunold|\n",
      "|       103| Alexander|   Hunold|\n",
      "|       108|     Nancy|Greenberg|\n",
      "|       108|     Nancy|Greenberg|\n",
      "|       108|     Nancy|Greenberg|\n",
      "|       108|     Nancy|Greenberg|\n",
      "|       108|     Nancy|Greenberg|\n",
      "|       114|       Den| Raphaely|\n",
      "|       114|       Den| Raphaely|\n",
      "|       114|       Den| Raphaely|\n",
      "|       114|       Den| Raphaely|\n",
      "|       114|       Den| Raphaely|\n",
      "|       120|   Matthew|    Weiss|\n",
      "|       120|   Matthew|    Weiss|\n",
      "|       120|   Matthew|    Weiss|\n",
      "|       120|   Matthew|    Weiss|\n",
      "|       121|      Adam|    Fripp|\n",
      "|       121|      Adam|    Fripp|\n",
      "|       121|      Adam|    Fripp|\n",
      "|       121|      Adam|    Fripp|\n",
      "|       122|     Payam| Kaufling|\n",
      "|       122|     Payam| Kaufling|\n",
      "|       122|     Payam| Kaufling|\n",
      "|       122|     Payam| Kaufling|\n",
      "|       123|    Shanta|  Vollman|\n",
      "|       123|    Shanta|  Vollman|\n",
      "|       123|    Shanta|  Vollman|\n",
      "|       123|    Shanta|  Vollman|\n",
      "|       124|     Kevin|  Mourgos|\n",
      "|       124|     Kevin|  Mourgos|\n",
      "+----------+----------+---------+\n",
      "\n"
     ]
    }
   ],
   "source": [
    "from pyspark.sql.functions import col\n",
    "empDf.alias(\"emp1\").join(empDf.alias(\"emp2\") , col(\"emp1.manager_id\") == col(\"emp2.employee_id\"), \"inner\").select(col(\"emp1.manager_id\"), col(\"emp2.first_name\"), col(\"emp2.last_name\")).show(100)"
   ]
  },
  {
   "cell_type": "code",
   "execution_count": 23,
   "id": "4ed3d704",
   "metadata": {},
   "outputs": [
    {
     "name": "stdout",
     "output_type": "stream",
     "text": [
      "+----------+----------+---------+\n",
      "|manager_id|first_name|last_name|\n",
      "+----------+----------+---------+\n",
      "|       122|     Payam| Kaufling|\n",
      "|       101|     Neena|  Kochhar|\n",
      "|       100|    Steven|     King|\n",
      "|       205|   Shelley|  Higgins|\n",
      "|       114|       Den| Raphaely|\n",
      "|       103| Alexander|   Hunold|\n",
      "|       124|     Kevin|  Mourgos|\n",
      "|       120|   Matthew|    Weiss|\n",
      "|       123|    Shanta|  Vollman|\n",
      "|       121|      Adam|    Fripp|\n",
      "|       108|     Nancy|Greenberg|\n",
      "|       102|       Lex|  De Haan|\n",
      "|       201|   Michael|Hartstein|\n",
      "+----------+----------+---------+\n",
      "\n"
     ]
    }
   ],
   "source": [
    "empDf.alias(\"emp1\").join(empDf.alias(\"emp2\") , col(\"emp1.manager_id\") == col(\"emp2.employee_id\"), \"inner\").select(col(\"emp1.manager_id\"), col(\"emp2.first_name\"), col(\"emp2.last_name\")).dropDuplicates().show(100)"
   ]
  },
  {
   "cell_type": "code",
   "execution_count": 26,
   "id": "6d12357d",
   "metadata": {},
   "outputs": [
    {
     "name": "stdout",
     "output_type": "stream",
     "text": [
      "+-----------+-------------+---------------+\n",
      "|EMPLOYEE_ID|DEPARTMENT_ID|DEPARTMENT_NAME|\n",
      "+-----------+-------------+---------------+\n",
      "|        200|           10| Administration|\n",
      "|        119|           30|     Purchasing|\n",
      "|        118|           30|     Purchasing|\n",
      "|        117|           30|     Purchasing|\n",
      "|        116|           30|     Purchasing|\n",
      "|        115|           30|     Purchasing|\n",
      "|        114|           30|     Purchasing|\n",
      "|        102|           90|      Executive|\n",
      "|        101|           90|      Executive|\n",
      "|        100|           90|      Executive|\n",
      "|        113|          100|        Finance|\n",
      "|        112|          100|        Finance|\n",
      "|        111|          100|        Finance|\n",
      "|        110|          100|        Finance|\n",
      "|        109|          100|        Finance|\n",
      "|        108|          100|        Finance|\n",
      "|        206|          110|     Accounting|\n",
      "|        205|          110|     Accounting|\n",
      "+-----------+-------------+---------------+\n",
      "\n"
     ]
    }
   ],
   "source": [
    "empDf.join(deptDf, (empDf.DEPARTMENT_ID == deptDf.DEPARTMENT_ID) & (deptDf.LOCATION_ID == 1700), \"inner\").select(empDf.EMPLOYEE_ID, empDf.DEPARTMENT_ID, deptDf.DEPARTMENT_NAME).show()"
   ]
  },
  {
   "cell_type": "code",
   "execution_count": 27,
   "id": "fbbc5115",
   "metadata": {},
   "outputs": [
    {
     "name": "stdout",
     "output_type": "stream",
     "text": [
      "root\n",
      " |-- LOCATION_ID: integer (nullable = true)\n",
      " |-- LOCATION_NAME: string (nullable = true)\n",
      "\n"
     ]
    }
   ],
   "source": [
    "from pyspark.sql.types import StructType,StructField, StringType, IntegerType\n",
    "location_data = [(1700, \"INDIA\"), (1800, \"USA\")]\n",
    "schema = StructType([ StructField(\"LOCATION_ID\",IntegerType(),True), StructField(\"LOCATION_NAME\",StringType(),True) ])\n",
    "locDf = spark.createDataFrame(data=location_data,schema=schema)\n",
    "locDf.printSchema()"
   ]
  },
  {
   "cell_type": "code",
   "execution_count": 28,
   "id": "ba71285a",
   "metadata": {},
   "outputs": [
    {
     "name": "stdout",
     "output_type": "stream",
     "text": [
      "+-----------+-------------+\n",
      "|LOCATION_ID|LOCATION_NAME|\n",
      "+-----------+-------------+\n",
      "|       1700|        INDIA|\n",
      "|       1800|          USA|\n",
      "+-----------+-------------+\n",
      "\n"
     ]
    }
   ],
   "source": [
    "locDf.show()"
   ]
  },
  {
   "cell_type": "markdown",
   "id": "a9b484a3",
   "metadata": {},
   "source": [
    "### Multiple Join"
   ]
  },
  {
   "cell_type": "code",
   "execution_count": 31,
   "id": "75df9b1d",
   "metadata": {},
   "outputs": [
    {
     "name": "stdout",
     "output_type": "stream",
     "text": [
      "+-----------+-------------+---------------+-------------+\n",
      "|EMPLOYEE_ID|DEPARTMENT_ID|DEPARTMENT_NAME|LOCATION_NAME|\n",
      "+-----------+-------------+---------------+-------------+\n",
      "|        205|          110|     Accounting|        INDIA|\n",
      "|        206|          110|     Accounting|        INDIA|\n",
      "|        108|          100|        Finance|        INDIA|\n",
      "|        109|          100|        Finance|        INDIA|\n",
      "|        110|          100|        Finance|        INDIA|\n",
      "|        111|          100|        Finance|        INDIA|\n",
      "|        112|          100|        Finance|        INDIA|\n",
      "|        113|          100|        Finance|        INDIA|\n",
      "|        100|           90|      Executive|        INDIA|\n",
      "|        101|           90|      Executive|        INDIA|\n",
      "|        102|           90|      Executive|        INDIA|\n",
      "|        114|           30|     Purchasing|        INDIA|\n",
      "|        115|           30|     Purchasing|        INDIA|\n",
      "|        116|           30|     Purchasing|        INDIA|\n",
      "|        117|           30|     Purchasing|        INDIA|\n",
      "|        118|           30|     Purchasing|        INDIA|\n",
      "|        119|           30|     Purchasing|        INDIA|\n",
      "|        200|           10| Administration|        INDIA|\n",
      "+-----------+-------------+---------------+-------------+\n",
      "\n"
     ]
    }
   ],
   "source": [
    "empDf.join(deptDf, (empDf.DEPARTMENT_ID == deptDf.DEPARTMENT_ID) & (deptDf.LOCATION_ID == 1700), \"inner\").join(locDf, deptDf.LOCATION_ID == locDf.LOCATION_ID, \"inner\").select(empDf.EMPLOYEE_ID, empDf.DEPARTMENT_ID, deptDf.DEPARTMENT_NAME, locDf.LOCATION_NAME).show()"
   ]
  },
  {
   "cell_type": "markdown",
   "id": "8bd73a73",
   "metadata": {},
   "source": [
    "### UDF"
   ]
  },
  {
   "cell_type": "code",
   "execution_count": 36,
   "id": "f78715d1",
   "metadata": {},
   "outputs": [
    {
     "name": "stdout",
     "output_type": "stream",
     "text": [
      "HELLO\n",
      "+-----------+----------+---------+--------------------+-------------------+\n",
      "|EMPLOYEE_ID|FIRST_NAME|LAST_NAME|<lambda>(FIRST_NAME)|<lambda>(LAST_NAME)|\n",
      "+-----------+----------+---------+--------------------+-------------------+\n",
      "|        198|    Donald| OConnell|              DONALD|           OCONNELL|\n",
      "|        199|   Douglas|    Grant|             DOUGLAS|              GRANT|\n",
      "|        200|  Jennifer|   Whalen|            JENNIFER|             WHALEN|\n",
      "|        201|   Michael|Hartstein|             MICHAEL|          HARTSTEIN|\n",
      "|        202|       Pat|      Fay|                 PAT|                FAY|\n",
      "|        203|     Susan|   Mavris|               SUSAN|             MAVRIS|\n",
      "|        204|   Hermann|     Baer|             HERMANN|               BAER|\n",
      "|        205|   Shelley|  Higgins|             SHELLEY|            HIGGINS|\n",
      "|        206|   William|    Gietz|             WILLIAM|              GIETZ|\n",
      "|        100|    Steven|     King|              STEVEN|               KING|\n",
      "|        101|     Neena|  Kochhar|               NEENA|            KOCHHAR|\n",
      "|        102|       Lex|  De Haan|                 LEX|            DE HAAN|\n",
      "|        103| Alexander|   Hunold|           ALEXANDER|             HUNOLD|\n",
      "|        104|     Bruce|    Ernst|               BRUCE|              ERNST|\n",
      "|        105|     David|   Austin|               DAVID|             AUSTIN|\n",
      "|        106|     Valli|Pataballa|               VALLI|          PATABALLA|\n",
      "|        107|     Diana|  Lorentz|               DIANA|            LORENTZ|\n",
      "|        108|     Nancy|Greenberg|               NANCY|          GREENBERG|\n",
      "|        109|    Daniel|   Faviet|              DANIEL|             FAVIET|\n",
      "|        110|      John|     Chen|                JOHN|               CHEN|\n",
      "+-----------+----------+---------+--------------------+-------------------+\n",
      "only showing top 20 rows\n",
      "\n"
     ]
    }
   ],
   "source": [
    "from pyspark.sql.functions import udf\n",
    "\n",
    "def upperCase(in_str):\n",
    "    out_str = in_str.upper()\n",
    "    return out_str\n",
    "\n",
    "print(upperCase(\"hello\"))\n",
    "upperCaseUDF = udf(lambda z : upperCase(z) , StringType())\n",
    "empDf.select(col(\"EMPLOYEE_ID\") , col(\"FIRST_NAME\"), col(\"LAST_NAME\"), upperCaseUDF(col(\"FIRST_NAME\")), upperCaseUDF(col(\"LAST_NAME\"))).show()"
   ]
  },
  {
   "cell_type": "code",
   "execution_count": 37,
   "id": "aeac8e93",
   "metadata": {},
   "outputs": [],
   "source": [
    "@udf(returnType=StringType())\n",
    "def upperCaseNew(in_str):\n",
    "    out_str = in_str.upper()\n",
    "    return out_str"
   ]
  },
  {
   "cell_type": "code",
   "execution_count": 38,
   "id": "37f46e63",
   "metadata": {},
   "outputs": [
    {
     "name": "stdout",
     "output_type": "stream",
     "text": [
      "+-----------+----------+---------+------------------------+-----------------------+\n",
      "|EMPLOYEE_ID|FIRST_NAME|LAST_NAME|upperCaseNew(FIRST_NAME)|upperCaseNew(LAST_NAME)|\n",
      "+-----------+----------+---------+------------------------+-----------------------+\n",
      "|        198|    Donald| OConnell|                  DONALD|               OCONNELL|\n",
      "|        199|   Douglas|    Grant|                 DOUGLAS|                  GRANT|\n",
      "|        200|  Jennifer|   Whalen|                JENNIFER|                 WHALEN|\n",
      "|        201|   Michael|Hartstein|                 MICHAEL|              HARTSTEIN|\n",
      "|        202|       Pat|      Fay|                     PAT|                    FAY|\n",
      "|        203|     Susan|   Mavris|                   SUSAN|                 MAVRIS|\n",
      "|        204|   Hermann|     Baer|                 HERMANN|                   BAER|\n",
      "|        205|   Shelley|  Higgins|                 SHELLEY|                HIGGINS|\n",
      "|        206|   William|    Gietz|                 WILLIAM|                  GIETZ|\n",
      "|        100|    Steven|     King|                  STEVEN|                   KING|\n",
      "|        101|     Neena|  Kochhar|                   NEENA|                KOCHHAR|\n",
      "|        102|       Lex|  De Haan|                     LEX|                DE HAAN|\n",
      "|        103| Alexander|   Hunold|               ALEXANDER|                 HUNOLD|\n",
      "|        104|     Bruce|    Ernst|                   BRUCE|                  ERNST|\n",
      "|        105|     David|   Austin|                   DAVID|                 AUSTIN|\n",
      "|        106|     Valli|Pataballa|                   VALLI|              PATABALLA|\n",
      "|        107|     Diana|  Lorentz|                   DIANA|                LORENTZ|\n",
      "|        108|     Nancy|Greenberg|                   NANCY|              GREENBERG|\n",
      "|        109|    Daniel|   Faviet|                  DANIEL|                 FAVIET|\n",
      "|        110|      John|     Chen|                    JOHN|                   CHEN|\n",
      "+-----------+----------+---------+------------------------+-----------------------+\n",
      "only showing top 20 rows\n",
      "\n"
     ]
    }
   ],
   "source": [
    "empDf.select(col(\"EMPLOYEE_ID\") , col(\"FIRST_NAME\"), col(\"LAST_NAME\"), upperCaseNew(col(\"FIRST_NAME\")), upperCaseNew(col(\"LAST_NAME\"))).show()"
   ]
  },
  {
   "cell_type": "markdown",
   "id": "1f8e8bc8",
   "metadata": {},
   "source": [
    "### Windows Functions"
   ]
  },
  {
   "cell_type": "code",
   "execution_count": 39,
   "id": "4519f665",
   "metadata": {},
   "outputs": [
    {
     "name": "stdout",
     "output_type": "stream",
     "text": [
      "+-------------+------+-----------+\n",
      "|DEPARTMENT_ID|SALARY|salary_rank|\n",
      "+-------------+------+-----------+\n",
      "|           10|  4400|          1|\n",
      "|           20|  6000|          1|\n",
      "|           20| 13000|          2|\n",
      "|           30|  2500|          1|\n",
      "|           30|  2600|          2|\n",
      "|           30|  2800|          3|\n",
      "|           30|  2900|          4|\n",
      "|           30|  3100|          5|\n",
      "|           30| 11000|          6|\n",
      "|           40|  6500|          1|\n",
      "|           50|  2100|          1|\n",
      "|           50|  2200|          2|\n",
      "|           50|  2200|          2|\n",
      "|           50|  2400|          4|\n",
      "|           50|  2400|          4|\n",
      "|           50|  2500|          6|\n",
      "|           50|  2500|          6|\n",
      "|           50|  2600|          8|\n",
      "|           50|  2600|          8|\n",
      "|           50|  2700|         10|\n",
      "|           50|  2700|         10|\n",
      "|           50|  2800|         12|\n",
      "|           50|  2900|         13|\n",
      "|           50|  3200|         14|\n",
      "|           50|  3200|         14|\n",
      "|           50|  3300|         16|\n",
      "|           50|  3300|         16|\n",
      "|           50|  3600|         18|\n",
      "|           50|  5800|         19|\n",
      "|           50|  6500|         20|\n",
      "|           50|  7900|         21|\n",
      "|           50|  8000|         22|\n",
      "|           50|  8200|         23|\n",
      "|           60|  4200|          1|\n",
      "|           60|  4800|          2|\n",
      "|           60|  4800|          2|\n",
      "|           60|  6000|          4|\n",
      "|           60|  9000|          5|\n",
      "|           70| 10000|          1|\n",
      "|           90| 17000|          1|\n",
      "|           90| 17000|          1|\n",
      "|           90| 24000|          3|\n",
      "|          100|  6900|          1|\n",
      "|          100|  7700|          2|\n",
      "|          100|  7800|          3|\n",
      "|          100|  8200|          4|\n",
      "|          100|  9000|          5|\n",
      "|          100| 12008|          6|\n",
      "|          110|  8300|          1|\n",
      "|          110| 12008|          2|\n",
      "+-------------+------+-----------+\n",
      "\n"
     ]
    }
   ],
   "source": [
    "from pyspark.sql.window import Window\n",
    "windowSpec = Window.partitionBy(\"DEPARTMENT_ID\").orderBy(\"SALARY\")\n",
    "empDf.withColumn(\"salary_rank\", rank().over(windowSpec)).select(\"DEPARTMENT_ID\",\"SALARY\",\"salary_rank\").show(100)"
   ]
  },
  {
   "cell_type": "code",
   "execution_count": 40,
   "id": "a5929963",
   "metadata": {},
   "outputs": [
    {
     "name": "stdout",
     "output_type": "stream",
     "text": [
      "+-------------+------+-----------+\n",
      "|DEPARTMENT_ID|SALARY|salary_rank|\n",
      "+-------------+------+-----------+\n",
      "|           10|  4400|          1|\n",
      "|           20| 13000|          1|\n",
      "|           20|  6000|          2|\n",
      "|           30| 11000|          1|\n",
      "|           30|  3100|          2|\n",
      "|           30|  2900|          3|\n",
      "|           30|  2800|          4|\n",
      "|           30|  2600|          5|\n",
      "|           30|  2500|          6|\n",
      "|           40|  6500|          1|\n",
      "|           50|  8200|          1|\n",
      "|           50|  8000|          2|\n",
      "|           50|  7900|          3|\n",
      "|           50|  6500|          4|\n",
      "|           50|  5800|          5|\n",
      "|           50|  3600|          6|\n",
      "|           50|  3300|          7|\n",
      "|           50|  3300|          7|\n",
      "|           50|  3200|          9|\n",
      "|           50|  3200|          9|\n",
      "|           50|  2900|         11|\n",
      "|           50|  2800|         12|\n",
      "|           50|  2700|         13|\n",
      "|           50|  2700|         13|\n",
      "|           50|  2600|         15|\n",
      "|           50|  2600|         15|\n",
      "|           50|  2500|         17|\n",
      "|           50|  2500|         17|\n",
      "|           50|  2400|         19|\n",
      "|           50|  2400|         19|\n",
      "|           50|  2200|         21|\n",
      "|           50|  2200|         21|\n",
      "|           50|  2100|         23|\n",
      "|           60|  9000|          1|\n",
      "|           60|  6000|          2|\n",
      "|           60|  4800|          3|\n",
      "|           60|  4800|          3|\n",
      "|           60|  4200|          5|\n",
      "|           70| 10000|          1|\n",
      "|           90| 24000|          1|\n",
      "|           90| 17000|          2|\n",
      "|           90| 17000|          2|\n",
      "|          100| 12008|          1|\n",
      "|          100|  9000|          2|\n",
      "|          100|  8200|          3|\n",
      "|          100|  7800|          4|\n",
      "|          100|  7700|          5|\n",
      "|          100|  6900|          6|\n",
      "|          110| 12008|          1|\n",
      "|          110|  8300|          2|\n",
      "+-------------+------+-----------+\n",
      "\n"
     ]
    }
   ],
   "source": [
    "windowSpec = Window.partitionBy(\"DEPARTMENT_ID\").orderBy(col(\"SALARY\").desc())\n",
    "empDf.withColumn(\"salary_rank\", rank().over(windowSpec)).select(\"DEPARTMENT_ID\",\"SALARY\",\"salary_rank\").show(100)"
   ]
  },
  {
   "cell_type": "code",
   "execution_count": 41,
   "id": "b65fe07c",
   "metadata": {},
   "outputs": [
    {
     "name": "stdout",
     "output_type": "stream",
     "text": [
      "+-------------+------+-----+\n",
      "|DEPARTMENT_ID|SALARY|  SUM|\n",
      "+-------------+------+-----+\n",
      "|           10|  4400| 4400|\n",
      "|           20| 13000|13000|\n",
      "|           20|  6000|19000|\n",
      "|           30| 11000|11000|\n",
      "|           30|  3100|14100|\n",
      "|           30|  2900|17000|\n",
      "|           30|  2800|19800|\n",
      "|           30|  2600|22400|\n",
      "|           30|  2500|24900|\n",
      "|           40|  6500| 6500|\n",
      "|           50|  8200| 8200|\n",
      "|           50|  8000|16200|\n",
      "|           50|  7900|24100|\n",
      "|           50|  6500|30600|\n",
      "|           50|  5800|36400|\n",
      "|           50|  3600|40000|\n",
      "|           50|  3300|46600|\n",
      "|           50|  3300|46600|\n",
      "|           50|  3200|53000|\n",
      "|           50|  3200|53000|\n",
      "|           50|  2900|55900|\n",
      "|           50|  2800|58700|\n",
      "|           50|  2700|64100|\n",
      "|           50|  2700|64100|\n",
      "|           50|  2600|69300|\n",
      "|           50|  2600|69300|\n",
      "|           50|  2500|74300|\n",
      "|           50|  2500|74300|\n",
      "|           50|  2400|79100|\n",
      "|           50|  2400|79100|\n",
      "|           50|  2200|83500|\n",
      "|           50|  2200|83500|\n",
      "|           50|  2100|85600|\n",
      "|           60|  9000| 9000|\n",
      "|           60|  6000|15000|\n",
      "|           60|  4800|24600|\n",
      "|           60|  4800|24600|\n",
      "|           60|  4200|28800|\n",
      "|           70| 10000|10000|\n",
      "|           90| 24000|24000|\n",
      "|           90| 17000|58000|\n",
      "|           90| 17000|58000|\n",
      "|          100| 12008|12008|\n",
      "|          100|  9000|21008|\n",
      "|          100|  8200|29208|\n",
      "|          100|  7800|37008|\n",
      "|          100|  7700|44708|\n",
      "|          100|  6900|51608|\n",
      "|          110| 12008|12008|\n",
      "|          110|  8300|20308|\n",
      "+-------------+------+-----+\n",
      "\n"
     ]
    }
   ],
   "source": [
    "windowSpec = Window.partitionBy(\"DEPARTMENT_ID\").orderBy(col(\"SALARY\").desc())\n",
    "empDf.withColumn(\"SUM\", sum(\"SALARY\").over(windowSpec)).select(\"DEPARTMENT_ID\",\"SALARY\",\"SUM\").show(100)"
   ]
  },
  {
   "cell_type": "code",
   "execution_count": 42,
   "id": "a70b2058",
   "metadata": {},
   "outputs": [
    {
     "name": "stdout",
     "output_type": "stream",
     "text": [
      "+-------------+------+-----+\n",
      "|DEPARTMENT_ID|SALARY|  SUM|\n",
      "+-------------+------+-----+\n",
      "|           10|  4400| 4400|\n",
      "|           20| 13000|19000|\n",
      "|           20|  6000|19000|\n",
      "|           30| 11000|24900|\n",
      "|           30|  3100|24900|\n",
      "|           30|  2900|24900|\n",
      "|           30|  2800|24900|\n",
      "|           30|  2600|24900|\n",
      "|           30|  2500|24900|\n",
      "|           40|  6500| 6500|\n",
      "|           50|  2600|85600|\n",
      "|           50|  2600|85600|\n",
      "|           50|  8000|85600|\n",
      "|           50|  8200|85600|\n",
      "|           50|  7900|85600|\n",
      "|           50|  6500|85600|\n",
      "|           50|  5800|85600|\n",
      "|           50|  3200|85600|\n",
      "|           50|  2700|85600|\n",
      "|           50|  2400|85600|\n",
      "|           50|  2200|85600|\n",
      "|           50|  3300|85600|\n",
      "|           50|  2800|85600|\n",
      "|           50|  2500|85600|\n",
      "|           50|  2100|85600|\n",
      "|           50|  3300|85600|\n",
      "|           50|  2900|85600|\n",
      "|           50|  2400|85600|\n",
      "|           50|  2200|85600|\n",
      "|           50|  3600|85600|\n",
      "|           50|  3200|85600|\n",
      "|           50|  2700|85600|\n",
      "|           50|  2500|85600|\n",
      "|           60|  9000|28800|\n",
      "|           60|  6000|28800|\n",
      "|           60|  4800|28800|\n",
      "|           60|  4800|28800|\n",
      "|           60|  4200|28800|\n",
      "|           70| 10000|10000|\n",
      "|           90| 24000|58000|\n",
      "|           90| 17000|58000|\n",
      "|           90| 17000|58000|\n",
      "|          100| 12008|51608|\n",
      "|          100|  9000|51608|\n",
      "|          100|  8200|51608|\n",
      "|          100|  7700|51608|\n",
      "|          100|  7800|51608|\n",
      "|          100|  6900|51608|\n",
      "|          110| 12008|20308|\n",
      "|          110|  8300|20308|\n",
      "+-------------+------+-----+\n",
      "\n"
     ]
    }
   ],
   "source": [
    "windowSpec = Window.partitionBy(\"DEPARTMENT_ID\")\n",
    "empDf.withColumn(\"SUM\", sum(\"SALARY\").over(windowSpec)).select(\"DEPARTMENT_ID\",\"SALARY\",\"SUM\").show(100)"
   ]
  },
  {
   "cell_type": "code",
   "execution_count": null,
   "id": "9161615e",
   "metadata": {},
   "outputs": [],
   "source": []
  }
 ],
 "metadata": {
  "kernelspec": {
   "display_name": "Python 3 (ipykernel)",
   "language": "python",
   "name": "python3"
  },
  "language_info": {
   "codemirror_mode": {
    "name": "ipython",
    "version": 3
   },
   "file_extension": ".py",
   "mimetype": "text/x-python",
   "name": "python",
   "nbconvert_exporter": "python",
   "pygments_lexer": "ipython3",
   "version": "3.8.10"
  }
 },
 "nbformat": 4,
 "nbformat_minor": 5
}
