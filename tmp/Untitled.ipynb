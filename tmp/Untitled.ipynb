{
 "cells": [
  {
   "cell_type": "code",
   "execution_count": 1,
   "id": "cb6d2598",
   "metadata": {},
   "outputs": [],
   "source": [
    "from pyspark.sql import SparkSession\n",
    "from pyspark.sql.types import StructType,StructField,StringType,IntegerType"
   ]
  },
  {
   "cell_type": "code",
   "execution_count": 2,
   "id": "0553fda4",
   "metadata": {},
   "outputs": [
    {
     "name": "stdout",
     "output_type": "stream",
     "text": [
      "23/06/27 13:05:30 WARN Utils: Your hostname, ZSCHN01LP0253L resolves to a loopback address: 127.0.1.1; using 192.168.98.237 instead (on interface wlp0s20f3)\n",
      "23/06/27 13:05:30 WARN Utils: Set SPARK_LOCAL_IP if you need to bind to another address\n"
     ]
    },
    {
     "name": "stderr",
     "output_type": "stream",
     "text": [
      "Setting default log level to \"WARN\".\n",
      "To adjust logging level use sc.setLogLevel(newLevel). For SparkR, use setLogLevel(newLevel).\n"
     ]
    },
    {
     "name": "stdout",
     "output_type": "stream",
     "text": [
      "23/06/27 13:05:30 WARN NativeCodeLoader: Unable to load native-hadoop library for your platform... using builtin-java classes where applicable\n"
     ]
    },
    {
     "data": {
      "text/html": [
       "\n",
       "            <div>\n",
       "                <p><b>SparkSession - in-memory</b></p>\n",
       "                \n",
       "        <div>\n",
       "            <p><b>SparkContext</b></p>\n",
       "\n",
       "            <p><a href=\"http://192.168.98.237:4040\">Spark UI</a></p>\n",
       "\n",
       "            <dl>\n",
       "              <dt>Version</dt>\n",
       "                <dd><code>v3.3.2</code></dd>\n",
       "              <dt>Master</dt>\n",
       "                <dd><code>local[*]</code></dd>\n",
       "              <dt>AppName</dt>\n",
       "                <dd><code>Demo</code></dd>\n",
       "            </dl>\n",
       "        </div>\n",
       "        \n",
       "            </div>\n",
       "        "
      ],
      "text/plain": [
       "<pyspark.sql.session.SparkSession at 0x7f074c2ff490>"
      ]
     },
     "execution_count": 2,
     "metadata": {},
     "output_type": "execute_result"
    }
   ],
   "source": [
    "spark=SparkSession.builder.master(\"local[*]\").appName(\"Demo\").getOrCreate()\n",
    "spark"
   ]
  },
  {
   "cell_type": "code",
   "execution_count": 3,
   "id": "6879b60b",
   "metadata": {},
   "outputs": [
    {
     "name": "stdout",
     "output_type": "stream",
     "text": [
      "root\n",
      " |-- id: integer (nullable = true)\n",
      " |-- Name: string (nullable = true)\n",
      "\n"
     ]
    }
   ],
   "source": [
    "data=[(1,\"Pradeep\"),(2,\"radee\")]\n",
    "schema=StructType(\\\n",
    "                 [StructField(\"id\",IntegerType(),True),\\\n",
    "                 StructField(\"Name\",StringType(),True)\n",
    "                 ])\n",
    "data=spark.createDataFrame(data=data,schema=schema)\n",
    "data.printSchema()"
   ]
  },
  {
   "cell_type": "code",
   "execution_count": 4,
   "id": "beff8240",
   "metadata": {},
   "outputs": [
    {
     "name": "stderr",
     "output_type": "stream",
     "text": [
      "                                                                                \r"
     ]
    },
    {
     "name": "stdout",
     "output_type": "stream",
     "text": [
      "+---+-------+\n",
      "| id|   Name|\n",
      "+---+-------+\n",
      "|  1|Pradeep|\n",
      "|  2|  radee|\n",
      "+---+-------+\n",
      "\n"
     ]
    }
   ],
   "source": [
    "data.show(truncate=True)"
   ]
  },
  {
   "cell_type": "code",
   "execution_count": 5,
   "id": "4454dbe1",
   "metadata": {},
   "outputs": [
    {
     "name": "stdout",
     "output_type": "stream",
     "text": [
      "+-----------+----------+---------+--------+------------+---------+--------+------+--------------+----------+-------------+\n",
      "|EMPLOYEE_ID|FIRST_NAME|LAST_NAME|   EMAIL|PHONE_NUMBER|HIRE_DATE|  JOB_ID|SALARY|COMMISSION_PCT|MANAGER_ID|DEPARTMENT_ID|\n",
      "+-----------+----------+---------+--------+------------+---------+--------+------+--------------+----------+-------------+\n",
      "|        198|    Donald| OConnell|DOCONNEL|650.507.9833|21-JUN-07|SH_CLERK|  2600|            - |       124|           50|\n",
      "+-----------+----------+---------+--------+------------+---------+--------+------+--------------+----------+-------------+\n",
      "only showing top 1 row\n",
      "\n"
     ]
    }
   ],
   "source": [
    "data=spark.read.option(\"header\",True).option(\"inferSchema\",True).csv(\"../Data/employees.csv\")\n",
    "data.show(1)"
   ]
  },
  {
   "cell_type": "code",
   "execution_count": 6,
   "id": "a0598a76",
   "metadata": {},
   "outputs": [
    {
     "name": "stdout",
     "output_type": "stream",
     "text": [
      "root\n",
      " |-- EMPLOYEE_ID: integer (nullable = true)\n",
      " |-- FIRST_NAME: string (nullable = true)\n",
      " |-- LAST_NAME: string (nullable = true)\n",
      " |-- EMAIL: string (nullable = true)\n",
      " |-- PHONE_NUMBER: string (nullable = true)\n",
      " |-- HIRE_DATE: string (nullable = true)\n",
      " |-- JOB_ID: string (nullable = true)\n",
      " |-- SALARY: integer (nullable = true)\n",
      " |-- COMMISSION_PCT: string (nullable = true)\n",
      " |-- MANAGER_ID: string (nullable = true)\n",
      " |-- DEPARTMENT_ID: integer (nullable = true)\n",
      "\n"
     ]
    }
   ],
   "source": [
    "data.printSchema()"
   ]
  },
  {
   "cell_type": "code",
   "execution_count": 7,
   "id": "86467fb1",
   "metadata": {},
   "outputs": [
    {
     "name": "stdout",
     "output_type": "stream",
     "text": [
      "+-----------+------+\n",
      "|EMPLOYEE_ID|SALARY|\n",
      "+-----------+------+\n",
      "|        198|  2600|\n",
      "|        199|  2600|\n",
      "+-----------+------+\n",
      "only showing top 2 rows\n",
      "\n"
     ]
    }
   ],
   "source": [
    "data.select(\"EMPLOYEE_ID\",\"SALARY\").show(2)"
   ]
  },
  {
   "cell_type": "code",
   "execution_count": 8,
   "id": "3905ff63",
   "metadata": {},
   "outputs": [
    {
     "name": "stdout",
     "output_type": "stream",
     "text": [
      "+-----------+------+\n",
      "|EMPLOYEE_ID|SALARY|\n",
      "+-----------+------+\n",
      "|        198|  2600|\n",
      "|        199|  2600|\n",
      "+-----------+------+\n",
      "only showing top 2 rows\n",
      "\n"
     ]
    }
   ],
   "source": [
    "data.select(data.EMPLOYEE_ID,data.SALARY).show(2)"
   ]
  },
  {
   "cell_type": "code",
   "execution_count": 9,
   "id": "3efe9418",
   "metadata": {},
   "outputs": [
    {
     "name": "stdout",
     "output_type": "stream",
     "text": [
      "+-----------+------+\n",
      "|EMPLOYEE_ID|SALARY|\n",
      "+-----------+------+\n",
      "|        198|  2600|\n",
      "|        199|  2600|\n",
      "+-----------+------+\n",
      "only showing top 2 rows\n",
      "\n"
     ]
    }
   ],
   "source": [
    "data.select(data[\"EMPLOYEE_ID\"],data[\"SALARY\"]).show(2)"
   ]
  },
  {
   "cell_type": "code",
   "execution_count": 10,
   "id": "405b62b9",
   "metadata": {},
   "outputs": [
    {
     "name": "stdout",
     "output_type": "stream",
     "text": [
      "+-----------+------+\n",
      "|EMPLOYEE_ID|SALARY|\n",
      "+-----------+------+\n",
      "|        198|  2600|\n",
      "|        199|  2600|\n",
      "+-----------+------+\n",
      "only showing top 2 rows\n",
      "\n"
     ]
    }
   ],
   "source": [
    "from pyspark.sql.functions import col\n",
    "data.select(col(\"EMPLOYEE_ID\"),col(\"SALARY\")).show(2)"
   ]
  },
  {
   "cell_type": "code",
   "execution_count": 11,
   "id": "15371143",
   "metadata": {},
   "outputs": [
    {
     "name": "stdout",
     "output_type": "stream",
     "text": [
      "+---+------+\n",
      "|eid|SALARY|\n",
      "+---+------+\n",
      "|198|  2600|\n",
      "|199|  2600|\n",
      "+---+------+\n",
      "only showing top 2 rows\n",
      "\n"
     ]
    }
   ],
   "source": [
    "data.select(col(\"EMPLOYEE_ID\").alias(\"eid\"),col(\"SALARY\")).show(2)"
   ]
  },
  {
   "cell_type": "code",
   "execution_count": 12,
   "id": "29f189ca",
   "metadata": {},
   "outputs": [
    {
     "name": "stdout",
     "output_type": "stream",
     "text": [
      "+-----------+------+---------+\n",
      "|EMPLOYEE_ID|SALARY|NewSalary|\n",
      "+-----------+------+---------+\n",
      "|        198|  2600|     3600|\n",
      "+-----------+------+---------+\n",
      "only showing top 1 row\n",
      "\n"
     ]
    }
   ],
   "source": [
    "data.withColumn(\"NewSalary\",col(\"SALARY\")+1000).select(\"EMPLOYEE_ID\",\"SALARY\",\"NewSalary\").show(1)"
   ]
  },
  {
   "cell_type": "code",
   "execution_count": 13,
   "id": "9e9670d7",
   "metadata": {},
   "outputs": [
    {
     "name": "stdout",
     "output_type": "stream",
     "text": [
      "+-----------+----------+---------+--------+------------+---------+--------+-------+--------------+----------+-------------+\n",
      "|EMPLOYEE_ID|FIRST_NAME|LAST_NAME|   EMAIL|PHONE_NUMBER|HIRE_DATE|  JOB_ID|NEW_SAL|COMMISSION_PCT|MANAGER_ID|DEPARTMENT_ID|\n",
      "+-----------+----------+---------+--------+------------+---------+--------+-------+--------------+----------+-------------+\n",
      "|        198|    Donald| OConnell|DOCONNEL|650.507.9833|21-JUN-07|SH_CLERK|   2600|            - |       124|           50|\n",
      "+-----------+----------+---------+--------+------------+---------+--------+-------+--------------+----------+-------------+\n",
      "only showing top 1 row\n",
      "\n"
     ]
    }
   ],
   "source": [
    "data.withColumnRenamed(\"SALARY\",\"NEW_SAL\").select(\"*\").show(1)"
   ]
  },
  {
   "cell_type": "code",
   "execution_count": 14,
   "id": "803c3f7f",
   "metadata": {},
   "outputs": [
    {
     "name": "stdout",
     "output_type": "stream",
     "text": [
      "+-----------+---------+--------+------------+--------+------+--------------+----------+-------------+\n",
      "|EMPLOYEE_ID|LAST_NAME|   EMAIL|PHONE_NUMBER|  JOB_ID|SALARY|COMMISSION_PCT|MANAGER_ID|DEPARTMENT_ID|\n",
      "+-----------+---------+--------+------------+--------+------+--------------+----------+-------------+\n",
      "|        198| OConnell|DOCONNEL|650.507.9833|SH_CLERK|  2600|            - |       124|           50|\n",
      "+-----------+---------+--------+------------+--------+------+--------------+----------+-------------+\n",
      "only showing top 1 row\n",
      "\n"
     ]
    }
   ],
   "source": [
    "data.drop(\"FIRST_NAME\",\"HIRE_DATE\").show(1)"
   ]
  },
  {
   "cell_type": "code",
   "execution_count": 15,
   "id": "7f6af0d2",
   "metadata": {},
   "outputs": [
    {
     "name": "stdout",
     "output_type": "stream",
     "text": [
      "+-----------+----------+---------+--------+------------+---------+------+------+--------------+----------+-------------+\n",
      "|EMPLOYEE_ID|FIRST_NAME|LAST_NAME|   EMAIL|PHONE_NUMBER|HIRE_DATE|JOB_ID|SALARY|COMMISSION_PCT|MANAGER_ID|DEPARTMENT_ID|\n",
      "+-----------+----------+---------+--------+------------+---------+------+------+--------------+----------+-------------+\n",
      "|        201|   Michael|Hartstein|MHARTSTE|515.123.5555|17-FEB-04|MK_MAN| 13000|            - |       100|           20|\n",
      "+-----------+----------+---------+--------+------------+---------+------+------+--------------+----------+-------------+\n",
      "only showing top 1 row\n",
      "\n"
     ]
    }
   ],
   "source": [
    "data.filter(\"SALARY>5000\").show(1)"
   ]
  },
  {
   "cell_type": "code",
   "execution_count": 16,
   "id": "ca2a5239",
   "metadata": {},
   "outputs": [
    {
     "name": "stdout",
     "output_type": "stream",
     "text": [
      "+-----------+----------+---------+--------+------------+---------+------+------+--------------+----------+-------------+\n",
      "|EMPLOYEE_ID|FIRST_NAME|LAST_NAME|   EMAIL|PHONE_NUMBER|HIRE_DATE|JOB_ID|SALARY|COMMISSION_PCT|MANAGER_ID|DEPARTMENT_ID|\n",
      "+-----------+----------+---------+--------+------------+---------+------+------+--------------+----------+-------------+\n",
      "|        201|   Michael|Hartstein|MHARTSTE|515.123.5555|17-FEB-04|MK_MAN| 13000|            - |       100|           20|\n",
      "+-----------+----------+---------+--------+------------+---------+------+------+--------------+----------+-------------+\n",
      "only showing top 1 row\n",
      "\n"
     ]
    }
   ],
   "source": [
    "data.filter(data.SALARY>5000).show(1)"
   ]
  },
  {
   "cell_type": "code",
   "execution_count": 17,
   "id": "4d6e12e5",
   "metadata": {},
   "outputs": [
    {
     "name": "stdout",
     "output_type": "stream",
     "text": [
      "+-----------+----------+---------+--------+------------+---------+------+------+--------------+----------+-------------+\n",
      "|EMPLOYEE_ID|FIRST_NAME|LAST_NAME|   EMAIL|PHONE_NUMBER|HIRE_DATE|JOB_ID|SALARY|COMMISSION_PCT|MANAGER_ID|DEPARTMENT_ID|\n",
      "+-----------+----------+---------+--------+------------+---------+------+------+--------------+----------+-------------+\n",
      "|        201|   Michael|Hartstein|MHARTSTE|515.123.5555|17-FEB-04|MK_MAN| 13000|            - |       100|           20|\n",
      "+-----------+----------+---------+--------+------------+---------+------+------+--------------+----------+-------------+\n",
      "only showing top 1 row\n",
      "\n"
     ]
    }
   ],
   "source": [
    "data.filter(data[\"SALARY\"]>5000).show(1)"
   ]
  },
  {
   "cell_type": "code",
   "execution_count": 18,
   "id": "9440331f",
   "metadata": {},
   "outputs": [
    {
     "name": "stdout",
     "output_type": "stream",
     "text": [
      "+-----------+----------+---------+--------+------------+---------+------+------+--------------+----------+-------------+\n",
      "|EMPLOYEE_ID|FIRST_NAME|LAST_NAME|   EMAIL|PHONE_NUMBER|HIRE_DATE|JOB_ID|SALARY|COMMISSION_PCT|MANAGER_ID|DEPARTMENT_ID|\n",
      "+-----------+----------+---------+--------+------------+---------+------+------+--------------+----------+-------------+\n",
      "|        201|   Michael|Hartstein|MHARTSTE|515.123.5555|17-FEB-04|MK_MAN| 13000|            - |       100|           20|\n",
      "+-----------+----------+---------+--------+------------+---------+------+------+--------------+----------+-------------+\n",
      "only showing top 1 row\n",
      "\n"
     ]
    }
   ],
   "source": [
    "data.filter(col(\"SALARY\")>5000).show(1)"
   ]
  },
  {
   "cell_type": "code",
   "execution_count": 19,
   "id": "716a145f",
   "metadata": {},
   "outputs": [
    {
     "name": "stdout",
     "output_type": "stream",
     "text": [
      "+-----------+----------+---------+-----+------------+---------+------+------+--------------+----------+-------------+\n",
      "|EMPLOYEE_ID|FIRST_NAME|LAST_NAME|EMAIL|PHONE_NUMBER|HIRE_DATE|JOB_ID|SALARY|COMMISSION_PCT|MANAGER_ID|DEPARTMENT_ID|\n",
      "+-----------+----------+---------+-----+------------+---------+------+------+--------------+----------+-------------+\n",
      "|        202|       Pat|      Fay| PFAY|603.123.6666|17-AUG-05|MK_REP|  6000|            - |       201|           20|\n",
      "+-----------+----------+---------+-----+------------+---------+------+------+--------------+----------+-------------+\n",
      "only showing top 1 row\n",
      "\n"
     ]
    }
   ],
   "source": [
    "data.filter( (col(\"SALARY\")>5000) & (col(\"SALARY\")<7000)).show(1)"
   ]
  },
  {
   "cell_type": "code",
   "execution_count": 20,
   "id": "2ffdbc93",
   "metadata": {},
   "outputs": [
    {
     "name": "stdout",
     "output_type": "stream",
     "text": [
      "+-----------+----------+---------+-----+------------+---------+------+------+--------------+----------+-------------+\n",
      "|EMPLOYEE_ID|FIRST_NAME|LAST_NAME|EMAIL|PHONE_NUMBER|HIRE_DATE|JOB_ID|SALARY|COMMISSION_PCT|MANAGER_ID|DEPARTMENT_ID|\n",
      "+-----------+----------+---------+-----+------------+---------+------+------+--------------+----------+-------------+\n",
      "|        202|       Pat|      Fay| PFAY|603.123.6666|17-AUG-05|MK_REP|  6000|            - |       201|           20|\n",
      "+-----------+----------+---------+-----+------------+---------+------+------+--------------+----------+-------------+\n",
      "only showing top 1 row\n",
      "\n"
     ]
    }
   ],
   "source": [
    "data.filter(\"SALARY>5000 and SALARY<7000\").show(1)"
   ]
  },
  {
   "cell_type": "code",
   "execution_count": 21,
   "id": "98a5530e",
   "metadata": {},
   "outputs": [
    {
     "name": "stdout",
     "output_type": "stream",
     "text": [
      "+-----+\n",
      "|count|\n",
      "+-----+\n",
      "|   50|\n",
      "+-----+\n",
      "\n"
     ]
    }
   ],
   "source": [
    "from pyspark.sql.functions import *\n",
    "data.select(count(\"SALARY\").alias(\"count\")).show(1)"
   ]
  },
  {
   "cell_type": "code",
   "execution_count": 22,
   "id": "71a8ff1f",
   "metadata": {},
   "outputs": [
    {
     "name": "stdout",
     "output_type": "stream",
     "text": [
      "+-----+\n",
      "|count|\n",
      "+-----+\n",
      "|24000|\n",
      "+-----+\n",
      "\n"
     ]
    }
   ],
   "source": [
    "data.select(max(\"SALARY\").alias(\"count\")).show(1)"
   ]
  },
  {
   "cell_type": "code",
   "execution_count": 23,
   "id": "0aeeb696",
   "metadata": {},
   "outputs": [
    {
     "name": "stdout",
     "output_type": "stream",
     "text": [
      "+-----+\n",
      "|count|\n",
      "+-----+\n",
      "| 2100|\n",
      "+-----+\n",
      "\n"
     ]
    }
   ],
   "source": [
    "data.select(min(\"SALARY\").alias(\"count\")).show(1)"
   ]
  },
  {
   "cell_type": "code",
   "execution_count": 24,
   "id": "d37ad134",
   "metadata": {},
   "outputs": [
    {
     "name": "stdout",
     "output_type": "stream",
     "text": [
      "+-------+\n",
      "|  count|\n",
      "+-------+\n",
      "|6182.32|\n",
      "+-------+\n",
      "\n"
     ]
    }
   ],
   "source": [
    "data.select(avg(\"SALARY\").alias(\"count\")).show(1)"
   ]
  },
  {
   "cell_type": "code",
   "execution_count": 25,
   "id": "a3274f23",
   "metadata": {},
   "outputs": [
    {
     "name": "stdout",
     "output_type": "stream",
     "text": [
      "+------+\n",
      "| count|\n",
      "+------+\n",
      "|309116|\n",
      "+------+\n",
      "\n"
     ]
    }
   ],
   "source": [
    "data.select(sum(\"SALARY\").alias(\"count\")).show(1)"
   ]
  },
  {
   "cell_type": "code",
   "execution_count": 26,
   "id": "c72065d7",
   "metadata": {},
   "outputs": [
    {
     "name": "stdout",
     "output_type": "stream",
     "text": [
      "+------+\n",
      "|SALARY|\n",
      "+------+\n",
      "|  2600|\n",
      "|  2600|\n",
      "|  4400|\n",
      "| 13000|\n",
      "|  6000|\n",
      "|  6500|\n",
      "| 10000|\n",
      "| 12008|\n",
      "|  8300|\n",
      "| 24000|\n",
      "+------+\n",
      "only showing top 10 rows\n",
      "\n"
     ]
    }
   ],
   "source": [
    "data.select(\"SALARY\").show(10)"
   ]
  },
  {
   "cell_type": "code",
   "execution_count": 27,
   "id": "cf49a544",
   "metadata": {},
   "outputs": [
    {
     "name": "stdout",
     "output_type": "stream",
     "text": [
      "+------+\n",
      "|SALARY|\n",
      "+------+\n",
      "|  2100|\n",
      "|  2200|\n",
      "|  2200|\n",
      "|  2400|\n",
      "|  2400|\n",
      "|  2500|\n",
      "|  2500|\n",
      "|  2500|\n",
      "|  2600|\n",
      "|  2600|\n",
      "+------+\n",
      "only showing top 10 rows\n",
      "\n"
     ]
    }
   ],
   "source": [
    "data.select(\"SALARY\").orderBy(\"SALARY\").show(10)"
   ]
  },
  {
   "cell_type": "code",
   "execution_count": 28,
   "id": "4508cfa1",
   "metadata": {},
   "outputs": [
    {
     "name": "stdout",
     "output_type": "stream",
     "text": [
      "+------+\n",
      "|SALARY|\n",
      "+------+\n",
      "| 24000|\n",
      "| 17000|\n",
      "| 17000|\n",
      "| 13000|\n",
      "| 12008|\n",
      "| 12008|\n",
      "| 11000|\n",
      "| 10000|\n",
      "|  9000|\n",
      "|  9000|\n",
      "+------+\n",
      "only showing top 10 rows\n",
      "\n"
     ]
    }
   ],
   "source": [
    "data.select(\"SALARY\").orderBy(col(\"SALARY\").desc()).show(10)"
   ]
  },
  {
   "cell_type": "code",
   "execution_count": 29,
   "id": "21a11607",
   "metadata": {},
   "outputs": [
    {
     "name": "stdout",
     "output_type": "stream",
     "text": [
      "+-----------+----------+---------+--------+------------+---------+--------+------+--------------+----------+-------------+\n",
      "|EMPLOYEE_ID|FIRST_NAME|LAST_NAME|   EMAIL|PHONE_NUMBER|HIRE_DATE|  JOB_ID|SALARY|COMMISSION_PCT|MANAGER_ID|DEPARTMENT_ID|\n",
      "+-----------+----------+---------+--------+------------+---------+--------+------+--------------+----------+-------------+\n",
      "|        198|    Donald| OConnell|DOCONNEL|650.507.9833|21-JUN-07|SH_CLERK|  2600|            - |       124|           50|\n",
      "+-----------+----------+---------+--------+------------+---------+--------+------+--------------+----------+-------------+\n",
      "only showing top 1 row\n",
      "\n"
     ]
    }
   ],
   "source": [
    "data.select(\"*\").show(1)"
   ]
  },
  {
   "cell_type": "code",
   "execution_count": 30,
   "id": "9b873ce3",
   "metadata": {},
   "outputs": [
    {
     "name": "stdout",
     "output_type": "stream",
     "text": [
      "+----------+-------------+-----------+-----------+\n",
      "|MANAGER_ID|count(SALARY)|max(SALARY)|min(SALARY)|\n",
      "+----------+-------------+-----------+-----------+\n",
      "|       124|            2|       2600|       2600|\n",
      "+----------+-------------+-----------+-----------+\n",
      "only showing top 1 row\n",
      "\n"
     ]
    }
   ],
   "source": [
    "data.groupBy(\"MANAGER_ID\").agg(count(\"SALARY\"),max(\"SALARY\"),min(\"SALARY\")).show(1)"
   ]
  },
  {
   "cell_type": "code",
   "execution_count": 31,
   "id": "b41764e6",
   "metadata": {},
   "outputs": [
    {
     "name": "stdout",
     "output_type": "stream",
     "text": [
      "+-----------+----------+---------+--------+------------+---------+--------+------+--------------+----------+-------------+\n",
      "|EMPLOYEE_ID|FIRST_NAME|LAST_NAME|   EMAIL|PHONE_NUMBER|HIRE_DATE|  JOB_ID|SALARY|COMMISSION_PCT|MANAGER_ID|DEPARTMENT_ID|\n",
      "+-----------+----------+---------+--------+------------+---------+--------+------+--------------+----------+-------------+\n",
      "|        198|    Donald| OConnell|DOCONNEL|650.507.9833|21-JUN-07|SH_CLERK|  2600|            - |       124|           50|\n",
      "|        199|   Douglas|    Grant|  DGRANT|650.507.9844|13-JAN-08|SH_CLERK|  2600|            - |       124|           50|\n",
      "|        200|  Jennifer|   Whalen| JWHALEN|515.123.4444|17-SEP-03| AD_ASST|  4400|            - |       101|           10|\n",
      "|        201|   Michael|Hartstein|MHARTSTE|515.123.5555|17-FEB-04|  MK_MAN| 13000|            - |       100|           20|\n",
      "|        202|       Pat|      Fay|    PFAY|603.123.6666|17-AUG-05|  MK_REP|  6000|            - |       201|           20|\n",
      "+-----------+----------+---------+--------+------------+---------+--------+------+--------------+----------+-------------+\n",
      "only showing top 5 rows\n",
      "\n"
     ]
    }
   ],
   "source": [
    "data.show(5)"
   ]
  },
  {
   "cell_type": "code",
   "execution_count": 48,
   "id": "e02fb14d",
   "metadata": {},
   "outputs": [
    {
     "name": "stdout",
     "output_type": "stream",
     "text": [
      "+------+-----+\n",
      "|SALARY|Class|\n",
      "+------+-----+\n",
      "|  2600|    3|\n",
      "|  2600|    3|\n",
      "|  4400|    3|\n",
      "| 13000|    1|\n",
      "|  6000|    2|\n",
      "+------+-----+\n",
      "only showing top 5 rows\n",
      "\n"
     ]
    }
   ],
   "source": [
    "data.withColumn(\"Class\",when( col(\"SALARY\") < 5000 , 3).when( ((col(\"SALARY\") >=5000) & (col(\"SALARY\")<=10000)) , 2).otherwise(\"1\")).select(\"SALARY\",\"Class\").show(5)"
   ]
  },
  {
   "cell_type": "code",
   "execution_count": 53,
   "id": "45670631",
   "metadata": {},
   "outputs": [
    {
     "name": "stdout",
     "output_type": "stream",
     "text": [
      "+-----------+------+\n",
      "|EMPLOYEE_ID|SALARY|\n",
      "+-----------+------+\n",
      "|        198|  2600|\n",
      "+-----------+------+\n",
      "\n"
     ]
    }
   ],
   "source": [
    "from pyspark.sql.functions import *\n",
    "data.createOrReplaceTempView(\"employee\")\n",
    "spark.sql(\"select * from employee limit 1\").select(\"EMPLOYEE_ID\",\"SALARY\").show()"
   ]
  },
  {
   "cell_type": "code",
   "execution_count": 55,
   "id": "9ff976e5",
   "metadata": {},
   "outputs": [
    {
     "name": "stdout",
     "output_type": "stream",
     "text": [
      "+-----------+----------+---------+--------+------------+---------+--------+------+--------------+----------+-------------+\n",
      "|EMPLOYEE_ID|FIRST_NAME|LAST_NAME|   EMAIL|PHONE_NUMBER|HIRE_DATE|  JOB_ID|SALARY|COMMISSION_PCT|MANAGER_ID|DEPARTMENT_ID|\n",
      "+-----------+----------+---------+--------+------------+---------+--------+------+--------------+----------+-------------+\n",
      "|        198|    Donald| OConnell|DOCONNEL|650.507.9833|21-JUN-07|SH_CLERK|  2600|            - |       124|           50|\n",
      "+-----------+----------+---------+--------+------------+---------+--------+------+--------------+----------+-------------+\n",
      "only showing top 1 row\n",
      "\n"
     ]
    }
   ],
   "source": [
    "empdf=spark.read.option(\"header\",True).option(\"inferSchema\",True).csv(\"../Data/employees.csv\")\n",
    "empdf.show(1)"
   ]
  },
  {
   "cell_type": "code",
   "execution_count": 56,
   "id": "9e6bb915",
   "metadata": {},
   "outputs": [
    {
     "name": "stdout",
     "output_type": "stream",
     "text": [
      "+-------------+---------------+----------+-----------+\n",
      "|DEPARTMENT_ID|DEPARTMENT_NAME|MANAGER_ID|LOCATION_ID|\n",
      "+-------------+---------------+----------+-----------+\n",
      "|           10| Administration|       200|       1700|\n",
      "+-------------+---------------+----------+-----------+\n",
      "only showing top 1 row\n",
      "\n"
     ]
    }
   ],
   "source": [
    "deptdf=spark.read.option(\"header\",True).option(\"inferSchema\",True).csv(\"../Data/departments.csv\")\n",
    "deptdf.show(1)"
   ]
  },
  {
   "cell_type": "code",
   "execution_count": 61,
   "id": "ecfc5783",
   "metadata": {},
   "outputs": [
    {
     "name": "stdout",
     "output_type": "stream",
     "text": [
      "+-----------+----------+---------+--------+------------+---------+----------+------+--------------+----------+-------------+-------------+----------------+----------+-----------+\n",
      "|EMPLOYEE_ID|FIRST_NAME|LAST_NAME|   EMAIL|PHONE_NUMBER|HIRE_DATE|    JOB_ID|SALARY|COMMISSION_PCT|MANAGER_ID|DEPARTMENT_ID|DEPARTMENT_ID| DEPARTMENT_NAME|MANAGER_ID|LOCATION_ID|\n",
      "+-----------+----------+---------+--------+------------+---------+----------+------+--------------+----------+-------------+-------------+----------------+----------+-----------+\n",
      "|        198|    Donald| OConnell|DOCONNEL|650.507.9833|21-JUN-07|  SH_CLERK|  2600|            - |       124|           50|           50|        Shipping|       121|       1500|\n",
      "|        199|   Douglas|    Grant|  DGRANT|650.507.9844|13-JAN-08|  SH_CLERK|  2600|            - |       124|           50|           50|        Shipping|       121|       1500|\n",
      "|        200|  Jennifer|   Whalen| JWHALEN|515.123.4444|17-SEP-03|   AD_ASST|  4400|            - |       101|           10|           10|  Administration|       200|       1700|\n",
      "|        201|   Michael|Hartstein|MHARTSTE|515.123.5555|17-FEB-04|    MK_MAN| 13000|            - |       100|           20|           20|       Marketing|       201|       1800|\n",
      "|        202|       Pat|      Fay|    PFAY|603.123.6666|17-AUG-05|    MK_REP|  6000|            - |       201|           20|           20|       Marketing|       201|       1800|\n",
      "|        203|     Susan|   Mavris| SMAVRIS|515.123.7777|07-JUN-02|    HR_REP|  6500|            - |       101|           40|           40| Human Resources|       203|       2400|\n",
      "|        204|   Hermann|     Baer|   HBAER|515.123.8888|07-JUN-02|    PR_REP| 10000|            - |       101|           70|           70|Public Relations|       204|       2700|\n",
      "|        205|   Shelley|  Higgins|SHIGGINS|515.123.8080|07-JUN-02|    AC_MGR| 12008|            - |       101|          110|          110|      Accounting|       205|       1700|\n",
      "|        206|   William|    Gietz|  WGIETZ|515.123.8181|07-JUN-02|AC_ACCOUNT|  8300|            - |       205|          110|          110|      Accounting|       205|       1700|\n",
      "|        100|    Steven|     King|   SKING|515.123.4567|17-JUN-03|   AD_PRES| 24000|            - |        - |           90|           90|       Executive|       100|       1700|\n",
      "|        101|     Neena|  Kochhar|NKOCHHAR|515.123.4568|21-SEP-05|     AD_VP| 17000|            - |       100|           90|           90|       Executive|       100|       1700|\n",
      "|        102|       Lex|  De Haan| LDEHAAN|515.123.4569|13-JAN-01|     AD_VP| 17000|            - |       100|           90|           90|       Executive|       100|       1700|\n",
      "|        103| Alexander|   Hunold| AHUNOLD|590.423.4567|03-JAN-06|   IT_PROG|  9000|            - |       102|           60|           60|              IT|       103|       1400|\n",
      "|        104|     Bruce|    Ernst|  BERNST|590.423.4568|21-MAY-07|   IT_PROG|  6000|            - |       103|           60|           60|              IT|       103|       1400|\n",
      "|        105|     David|   Austin| DAUSTIN|590.423.4569|25-JUN-05|   IT_PROG|  4800|            - |       103|           60|           60|              IT|       103|       1400|\n",
      "|        106|     Valli|Pataballa|VPATABAL|590.423.4560|05-FEB-06|   IT_PROG|  4800|            - |       103|           60|           60|              IT|       103|       1400|\n",
      "|        107|     Diana|  Lorentz|DLORENTZ|590.423.5567|07-FEB-07|   IT_PROG|  4200|            - |       103|           60|           60|              IT|       103|       1400|\n",
      "|        108|     Nancy|Greenberg|NGREENBE|515.124.4569|17-AUG-02|    FI_MGR| 12008|            - |       101|          100|          100|         Finance|       108|       1700|\n",
      "|        109|    Daniel|   Faviet| DFAVIET|515.124.4169|16-AUG-02|FI_ACCOUNT|  9000|            - |       108|          100|          100|         Finance|       108|       1700|\n",
      "|        110|      John|     Chen|   JCHEN|515.124.4269|28-SEP-05|FI_ACCOUNT|  8200|            - |       108|          100|          100|         Finance|       108|       1700|\n",
      "+-----------+----------+---------+--------+------------+---------+----------+------+--------------+----------+-------------+-------------+----------------+----------+-----------+\n",
      "only showing top 20 rows\n",
      "\n"
     ]
    }
   ],
   "source": [
    "empdf.join(deptdf,empdf.DEPARTMENT_ID == deptdf.DEPARTMENT_ID,\"inner\").show()"
   ]
  },
  {
   "cell_type": "code",
   "execution_count": null,
   "id": "b0983903",
   "metadata": {},
   "outputs": [],
   "source": []
  }
 ],
 "metadata": {
  "kernelspec": {
   "display_name": "Python 3 (ipykernel)",
   "language": "python",
   "name": "python3"
  },
  "language_info": {
   "codemirror_mode": {
    "name": "ipython",
    "version": 3
   },
   "file_extension": ".py",
   "mimetype": "text/x-python",
   "name": "python",
   "nbconvert_exporter": "python",
   "pygments_lexer": "ipython3",
   "version": "3.8.10"
  }
 },
 "nbformat": 4,
 "nbformat_minor": 5
}
