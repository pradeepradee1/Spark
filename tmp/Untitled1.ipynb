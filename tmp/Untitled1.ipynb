{
 "cells": [
  {
   "cell_type": "code",
   "execution_count": 1,
   "id": "473d7fd1",
   "metadata": {},
   "outputs": [],
   "source": [
    "from pyspark.sql import SparkSession\n",
    "from pyspark.sql.types import StructField,StructType,IntegerType,StringType"
   ]
  },
  {
   "cell_type": "code",
   "execution_count": 2,
   "id": "75b8d95f",
   "metadata": {},
   "outputs": [
    {
     "name": "stdout",
     "output_type": "stream",
     "text": [
      "23/04/03 19:04:48 WARN Utils: Your hostname, ZSCHN01LP0253L resolves to a loopback address: 127.0.1.1; using 192.168.1.5 instead (on interface wlp0s20f3)\n",
      "23/04/03 19:04:48 WARN Utils: Set SPARK_LOCAL_IP if you need to bind to another address\n"
     ]
    },
    {
     "name": "stderr",
     "output_type": "stream",
     "text": [
      "Setting default log level to \"WARN\".\n",
      "To adjust logging level use sc.setLogLevel(newLevel). For SparkR, use setLogLevel(newLevel).\n"
     ]
    },
    {
     "name": "stdout",
     "output_type": "stream",
     "text": [
      "23/04/03 19:04:48 WARN NativeCodeLoader: Unable to load native-hadoop library for your platform... using builtin-java classes where applicable\n",
      "23/04/03 19:04:49 WARN Utils: Service 'SparkUI' could not bind on port 4040. Attempting port 4041.\n",
      "23/04/03 19:04:49 WARN Utils: Service 'SparkUI' could not bind on port 4041. Attempting port 4042.\n",
      "23/04/03 19:04:49 WARN Utils: Service 'SparkUI' could not bind on port 4042. Attempting port 4043.\n",
      "23/04/03 19:04:49 WARN Utils: Service 'SparkUI' could not bind on port 4043. Attempting port 4044.\n"
     ]
    },
    {
     "data": {
      "text/html": [
       "\n",
       "            <div>\n",
       "                <p><b>SparkSession - in-memory</b></p>\n",
       "                \n",
       "        <div>\n",
       "            <p><b>SparkContext</b></p>\n",
       "\n",
       "            <p><a href=\"http://192.168.1.5:4044\">Spark UI</a></p>\n",
       "\n",
       "            <dl>\n",
       "              <dt>Version</dt>\n",
       "                <dd><code>v3.3.2</code></dd>\n",
       "              <dt>Master</dt>\n",
       "                <dd><code>local[*]</code></dd>\n",
       "              <dt>AppName</dt>\n",
       "                <dd><code>Demo</code></dd>\n",
       "            </dl>\n",
       "        </div>\n",
       "        \n",
       "            </div>\n",
       "        "
      ],
      "text/plain": [
       "<pyspark.sql.session.SparkSession at 0x7fb43995b070>"
      ]
     },
     "execution_count": 2,
     "metadata": {},
     "output_type": "execute_result"
    }
   ],
   "source": [
    "spark = SparkSession.builder.master(\"local[*]\").appName(\"Demo\").getOrCreate()\n",
    "spark"
   ]
  },
  {
   "cell_type": "code",
   "execution_count": 7,
   "id": "efe0368c",
   "metadata": {},
   "outputs": [
    {
     "name": "stderr",
     "output_type": "stream",
     "text": [
      "                                                                                \r"
     ]
    },
    {
     "name": "stdout",
     "output_type": "stream",
     "text": [
      "+---+--------+-----------+\n",
      "| id|    name|designation|\n",
      "+---+--------+-----------+\n",
      "|  1| pradeep|         ML|\n",
      "|  2|pradeep1|         DE|\n",
      "+---+--------+-----------+\n",
      "\n"
     ]
    }
   ],
   "source": [
    "data=[(1,\"pradeep\",\"ML\"),(2,\"pradeep1\",\"DE\")]\n",
    "schema=StructType([\n",
    "                   StructField(\"id\",IntegerType(),True),\n",
    "                   StructField(\"name\",StringType(),True),\n",
    "                   StructField(\"designation\",StringType(),True)\n",
    "])\n",
    "data = spark.createDataFrame(data=data,schema=schema)\n",
    "data.show()"
   ]
  },
  {
   "cell_type": "code",
   "execution_count": 8,
   "id": "fa07e8b4",
   "metadata": {},
   "outputs": [
    {
     "name": "stdout",
     "output_type": "stream",
     "text": [
      "+---+--------+-----------+\n",
      "| id|    name|designation|\n",
      "+---+--------+-----------+\n",
      "|  1| pradeep|         ML|\n",
      "|  2|pradeep1|         DE|\n",
      "+---+--------+-----------+\n",
      "\n"
     ]
    }
   ],
   "source": [
    "data.show(truncate=True)"
   ]
  },
  {
   "cell_type": "code",
   "execution_count": 12,
   "id": "d164479d",
   "metadata": {},
   "outputs": [
    {
     "name": "stdout",
     "output_type": "stream",
     "text": [
      "root\n",
      " |-- EMPLOYEE_ID: integer (nullable = true)\n",
      " |-- FIRST_NAME: string (nullable = true)\n",
      " |-- LAST_NAME: string (nullable = true)\n",
      " |-- EMAIL: string (nullable = true)\n",
      " |-- PHONE_NUMBER: string (nullable = true)\n",
      " |-- HIRE_DATE: string (nullable = true)\n",
      " |-- JOB_ID: string (nullable = true)\n",
      " |-- SALARY: integer (nullable = true)\n",
      " |-- COMMISSION_PCT: string (nullable = true)\n",
      " |-- MANAGER_ID: string (nullable = true)\n",
      " |-- DEPARTMENT_ID: integer (nullable = true)\n",
      "\n"
     ]
    }
   ],
   "source": [
    "data = spark.read.option(\"header\",True).option(\"inferSchema\",True).option(\"delimeter\",True).csv(\"../Spark-main/employees.csv\")\n",
    "data.printSchema()"
   ]
  },
  {
   "cell_type": "code",
   "execution_count": 13,
   "id": "3d645fe5",
   "metadata": {},
   "outputs": [
    {
     "name": "stdout",
     "output_type": "stream",
     "text": [
      "+-----------+----------+---------+--------+------------+---------+----------+------+--------------+----------+-------------+\n",
      "|EMPLOYEE_ID|FIRST_NAME|LAST_NAME|   EMAIL|PHONE_NUMBER|HIRE_DATE|    JOB_ID|SALARY|COMMISSION_PCT|MANAGER_ID|DEPARTMENT_ID|\n",
      "+-----------+----------+---------+--------+------------+---------+----------+------+--------------+----------+-------------+\n",
      "|        198|    Donald| OConnell|DOCONNEL|650.507.9833|21-JUN-07|  SH_CLERK|  2600|            - |       124|           50|\n",
      "|        199|   Douglas|    Grant|  DGRANT|650.507.9844|13-JAN-08|  SH_CLERK|  2600|            - |       124|           50|\n",
      "|        200|  Jennifer|   Whalen| JWHALEN|515.123.4444|17-SEP-03|   AD_ASST|  4400|            - |       101|           10|\n",
      "|        201|   Michael|Hartstein|MHARTSTE|515.123.5555|17-FEB-04|    MK_MAN| 13000|            - |       100|           20|\n",
      "|        202|       Pat|      Fay|    PFAY|603.123.6666|17-AUG-05|    MK_REP|  6000|            - |       201|           20|\n",
      "|        203|     Susan|   Mavris| SMAVRIS|515.123.7777|07-JUN-02|    HR_REP|  6500|            - |       101|           40|\n",
      "|        204|   Hermann|     Baer|   HBAER|515.123.8888|07-JUN-02|    PR_REP| 10000|            - |       101|           70|\n",
      "|        205|   Shelley|  Higgins|SHIGGINS|515.123.8080|07-JUN-02|    AC_MGR| 12008|            - |       101|          110|\n",
      "|        206|   William|    Gietz|  WGIETZ|515.123.8181|07-JUN-02|AC_ACCOUNT|  8300|            - |       205|          110|\n",
      "|        100|    Steven|     King|   SKING|515.123.4567|17-JUN-03|   AD_PRES| 24000|            - |        - |           90|\n",
      "|        101|     Neena|  Kochhar|NKOCHHAR|515.123.4568|21-SEP-05|     AD_VP| 17000|            - |       100|           90|\n",
      "|        102|       Lex|  De Haan| LDEHAAN|515.123.4569|13-JAN-01|     AD_VP| 17000|            - |       100|           90|\n",
      "|        103| Alexander|   Hunold| AHUNOLD|590.423.4567|03-JAN-06|   IT_PROG|  9000|            - |       102|           60|\n",
      "|        104|     Bruce|    Ernst|  BERNST|590.423.4568|21-MAY-07|   IT_PROG|  6000|            - |       103|           60|\n",
      "|        105|     David|   Austin| DAUSTIN|590.423.4569|25-JUN-05|   IT_PROG|  4800|            - |       103|           60|\n",
      "|        106|     Valli|Pataballa|VPATABAL|590.423.4560|05-FEB-06|   IT_PROG|  4800|            - |       103|           60|\n",
      "|        107|     Diana|  Lorentz|DLORENTZ|590.423.5567|07-FEB-07|   IT_PROG|  4200|            - |       103|           60|\n",
      "|        108|     Nancy|Greenberg|NGREENBE|515.124.4569|17-AUG-02|    FI_MGR| 12008|            - |       101|          100|\n",
      "|        109|    Daniel|   Faviet| DFAVIET|515.124.4169|16-AUG-02|FI_ACCOUNT|  9000|            - |       108|          100|\n",
      "|        110|      John|     Chen|   JCHEN|515.124.4269|28-SEP-05|FI_ACCOUNT|  8200|            - |       108|          100|\n",
      "+-----------+----------+---------+--------+------------+---------+----------+------+--------------+----------+-------------+\n",
      "only showing top 20 rows\n",
      "\n"
     ]
    }
   ],
   "source": [
    "data.select(\"*\").show()"
   ]
  },
  {
   "cell_type": "code",
   "execution_count": 14,
   "id": "8d813cc9",
   "metadata": {},
   "outputs": [
    {
     "name": "stdout",
     "output_type": "stream",
     "text": [
      "+-----------+\n",
      "|EMPLOYEE_ID|\n",
      "+-----------+\n",
      "|        198|\n",
      "|        199|\n",
      "|        200|\n",
      "|        201|\n",
      "|        202|\n",
      "|        203|\n",
      "|        204|\n",
      "|        205|\n",
      "|        206|\n",
      "|        100|\n",
      "|        101|\n",
      "|        102|\n",
      "|        103|\n",
      "|        104|\n",
      "|        105|\n",
      "|        106|\n",
      "|        107|\n",
      "|        108|\n",
      "|        109|\n",
      "|        110|\n",
      "+-----------+\n",
      "only showing top 20 rows\n",
      "\n"
     ]
    }
   ],
   "source": [
    "data.select(\"EMPLOYEE_ID\").show()"
   ]
  },
  {
   "cell_type": "code",
   "execution_count": 15,
   "id": "3b555d34",
   "metadata": {},
   "outputs": [
    {
     "name": "stdout",
     "output_type": "stream",
     "text": [
      "+-----------+------+\n",
      "|EMPLOYEE_ID|SALARY|\n",
      "+-----------+------+\n",
      "|        198|  2600|\n",
      "|        199|  2600|\n",
      "|        200|  4400|\n",
      "|        201| 13000|\n",
      "|        202|  6000|\n",
      "|        203|  6500|\n",
      "|        204| 10000|\n",
      "|        205| 12008|\n",
      "|        206|  8300|\n",
      "|        100| 24000|\n",
      "|        101| 17000|\n",
      "|        102| 17000|\n",
      "|        103|  9000|\n",
      "|        104|  6000|\n",
      "|        105|  4800|\n",
      "|        106|  4800|\n",
      "|        107|  4200|\n",
      "|        108| 12008|\n",
      "|        109|  9000|\n",
      "|        110|  8200|\n",
      "+-----------+------+\n",
      "only showing top 20 rows\n",
      "\n"
     ]
    }
   ],
   "source": [
    "data.select(\"EMPLOYEE_ID\",\"SALARY\").show()"
   ]
  },
  {
   "cell_type": "code",
   "execution_count": 16,
   "id": "99c6db03",
   "metadata": {},
   "outputs": [
    {
     "name": "stdout",
     "output_type": "stream",
     "text": [
      "+-----------+------+\n",
      "|EMPLOYEE_ID|SALARY|\n",
      "+-----------+------+\n",
      "|        198|  2600|\n",
      "|        199|  2600|\n",
      "|        200|  4400|\n",
      "|        201| 13000|\n",
      "|        202|  6000|\n",
      "|        203|  6500|\n",
      "|        204| 10000|\n",
      "|        205| 12008|\n",
      "|        206|  8300|\n",
      "|        100| 24000|\n",
      "|        101| 17000|\n",
      "|        102| 17000|\n",
      "|        103|  9000|\n",
      "|        104|  6000|\n",
      "|        105|  4800|\n",
      "|        106|  4800|\n",
      "|        107|  4200|\n",
      "|        108| 12008|\n",
      "|        109|  9000|\n",
      "|        110|  8200|\n",
      "+-----------+------+\n",
      "only showing top 20 rows\n",
      "\n"
     ]
    }
   ],
   "source": [
    "data.select(data.EMPLOYEE_ID,data.SALARY).show()"
   ]
  },
  {
   "cell_type": "code",
   "execution_count": 18,
   "id": "27432211",
   "metadata": {},
   "outputs": [
    {
     "name": "stdout",
     "output_type": "stream",
     "text": [
      "+-----------+------+\n",
      "|EMPLOYEE_ID|SALARY|\n",
      "+-----------+------+\n",
      "|        198|  2600|\n",
      "|        199|  2600|\n",
      "|        200|  4400|\n",
      "|        201| 13000|\n",
      "|        202|  6000|\n",
      "|        203|  6500|\n",
      "|        204| 10000|\n",
      "|        205| 12008|\n",
      "|        206|  8300|\n",
      "|        100| 24000|\n",
      "|        101| 17000|\n",
      "|        102| 17000|\n",
      "|        103|  9000|\n",
      "|        104|  6000|\n",
      "|        105|  4800|\n",
      "|        106|  4800|\n",
      "|        107|  4200|\n",
      "|        108| 12008|\n",
      "|        109|  9000|\n",
      "|        110|  8200|\n",
      "+-----------+------+\n",
      "only showing top 20 rows\n",
      "\n"
     ]
    }
   ],
   "source": [
    "data.select(data[\"EMPLOYEE_ID\"],data[\"SALARY\"]).show()"
   ]
  },
  {
   "cell_type": "code",
   "execution_count": 20,
   "id": "4ba23363",
   "metadata": {},
   "outputs": [
    {
     "name": "stdout",
     "output_type": "stream",
     "text": [
      "+-----------+------+\n",
      "|EMPLOYEE_ID|SALARY|\n",
      "+-----------+------+\n",
      "|        198|  2600|\n",
      "|        199|  2600|\n",
      "|        200|  4400|\n",
      "|        201| 13000|\n",
      "|        202|  6000|\n",
      "|        203|  6500|\n",
      "|        204| 10000|\n",
      "|        205| 12008|\n",
      "|        206|  8300|\n",
      "|        100| 24000|\n",
      "|        101| 17000|\n",
      "|        102| 17000|\n",
      "|        103|  9000|\n",
      "|        104|  6000|\n",
      "|        105|  4800|\n",
      "|        106|  4800|\n",
      "|        107|  4200|\n",
      "|        108| 12008|\n",
      "|        109|  9000|\n",
      "|        110|  8200|\n",
      "+-----------+------+\n",
      "only showing top 20 rows\n",
      "\n"
     ]
    }
   ],
   "source": [
    "from pyspark.sql.functions import col\n",
    "data.select(col(\"EMPLOYEE_ID\"),col(\"SALARY\")).show()"
   ]
  },
  {
   "cell_type": "code",
   "execution_count": 21,
   "id": "5f9b9916",
   "metadata": {},
   "outputs": [
    {
     "name": "stdout",
     "output_type": "stream",
     "text": [
      "+----+-----+\n",
      "|e_id|  sal|\n",
      "+----+-----+\n",
      "| 198| 2600|\n",
      "| 199| 2600|\n",
      "| 200| 4400|\n",
      "| 201|13000|\n",
      "| 202| 6000|\n",
      "| 203| 6500|\n",
      "| 204|10000|\n",
      "| 205|12008|\n",
      "| 206| 8300|\n",
      "| 100|24000|\n",
      "| 101|17000|\n",
      "| 102|17000|\n",
      "| 103| 9000|\n",
      "| 104| 6000|\n",
      "| 105| 4800|\n",
      "| 106| 4800|\n",
      "| 107| 4200|\n",
      "| 108|12008|\n",
      "| 109| 9000|\n",
      "| 110| 8200|\n",
      "+----+-----+\n",
      "only showing top 20 rows\n",
      "\n"
     ]
    }
   ],
   "source": [
    "data.select(col(\"EMPLOYEE_ID\").alias(\"e_id\"),col(\"SALARY\").alias(\"sal\")).show()"
   ]
  },
  {
   "cell_type": "code",
   "execution_count": 22,
   "id": "a85cab7c",
   "metadata": {},
   "outputs": [
    {
     "name": "stdout",
     "output_type": "stream",
     "text": [
      "root\n",
      " |-- EMPLOYEE_ID: integer (nullable = true)\n",
      " |-- FIRST_NAME: string (nullable = true)\n",
      " |-- LAST_NAME: string (nullable = true)\n",
      " |-- EMAIL: string (nullable = true)\n",
      " |-- PHONE_NUMBER: string (nullable = true)\n",
      " |-- HIRE_DATE: string (nullable = true)\n",
      " |-- JOB_ID: string (nullable = true)\n",
      " |-- SALARY: integer (nullable = true)\n",
      " |-- COMMISSION_PCT: string (nullable = true)\n",
      " |-- MANAGER_ID: string (nullable = true)\n",
      " |-- DEPARTMENT_ID: integer (nullable = true)\n",
      "\n"
     ]
    }
   ],
   "source": [
    "data.printSchema()"
   ]
  },
  {
   "cell_type": "code",
   "execution_count": 24,
   "id": "61b1a58b",
   "metadata": {},
   "outputs": [
    {
     "name": "stdout",
     "output_type": "stream",
     "text": [
      "+-----------+----------+------+-------+\n",
      "|EMPLOYEE_ID|FIRST_NAME|SALARY|NEW_Sal|\n",
      "+-----------+----------+------+-------+\n",
      "|        198|    Donald|  2600|   3600|\n",
      "|        199|   Douglas|  2600|   3600|\n",
      "|        200|  Jennifer|  4400|   5400|\n",
      "|        201|   Michael| 13000|  14000|\n",
      "|        202|       Pat|  6000|   7000|\n",
      "|        203|     Susan|  6500|   7500|\n",
      "|        204|   Hermann| 10000|  11000|\n",
      "|        205|   Shelley| 12008|  13008|\n",
      "|        206|   William|  8300|   9300|\n",
      "|        100|    Steven| 24000|  25000|\n",
      "|        101|     Neena| 17000|  18000|\n",
      "|        102|       Lex| 17000|  18000|\n",
      "|        103| Alexander|  9000|  10000|\n",
      "|        104|     Bruce|  6000|   7000|\n",
      "|        105|     David|  4800|   5800|\n",
      "|        106|     Valli|  4800|   5800|\n",
      "|        107|     Diana|  4200|   5200|\n",
      "|        108|     Nancy| 12008|  13008|\n",
      "|        109|    Daniel|  9000|  10000|\n",
      "|        110|      John|  8200|   9200|\n",
      "+-----------+----------+------+-------+\n",
      "only showing top 20 rows\n",
      "\n"
     ]
    }
   ],
   "source": [
    "data.select(\"EMPLOYEE_ID\",\"FIRST_NAME\",\"SALARY\").withColumn(\"NEW_Sal\",col(\"SALARY\")+1000).show()"
   ]
  },
  {
   "cell_type": "code",
   "execution_count": 25,
   "id": "fd291f76",
   "metadata": {},
   "outputs": [
    {
     "name": "stdout",
     "output_type": "stream",
     "text": [
      "+-----------+----------+-------+------+\n",
      "|EMPLOYEE_ID|FIRST_NAME|NEW_Sal|SALARY|\n",
      "+-----------+----------+-------+------+\n",
      "|        198|    Donald|   3600|  2600|\n",
      "|        199|   Douglas|   3600|  2600|\n",
      "|        200|  Jennifer|   5400|  4400|\n",
      "|        201|   Michael|  14000| 13000|\n",
      "|        202|       Pat|   7000|  6000|\n",
      "|        203|     Susan|   7500|  6500|\n",
      "|        204|   Hermann|  11000| 10000|\n",
      "|        205|   Shelley|  13008| 12008|\n",
      "|        206|   William|   9300|  8300|\n",
      "|        100|    Steven|  25000| 24000|\n",
      "|        101|     Neena|  18000| 17000|\n",
      "|        102|       Lex|  18000| 17000|\n",
      "|        103| Alexander|  10000|  9000|\n",
      "|        104|     Bruce|   7000|  6000|\n",
      "|        105|     David|   5800|  4800|\n",
      "|        106|     Valli|   5800|  4800|\n",
      "|        107|     Diana|   5200|  4200|\n",
      "|        108|     Nancy|  13008| 12008|\n",
      "|        109|    Daniel|  10000|  9000|\n",
      "|        110|      John|   9200|  8200|\n",
      "+-----------+----------+-------+------+\n",
      "only showing top 20 rows\n",
      "\n"
     ]
    }
   ],
   "source": [
    "data.withColumn(\"NEW_Sal\",col(\"SALARY\")+1000).select(\"EMPLOYEE_ID\",\"FIRST_NAME\",\"NEW_Sal\",\"SALARY\").show()"
   ]
  },
  {
   "cell_type": "code",
   "execution_count": 30,
   "id": "c7a66c30",
   "metadata": {},
   "outputs": [
    {
     "name": "stdout",
     "output_type": "stream",
     "text": [
      "+-----------+----------+---------+--------+------------+---------+----------+------+--------------+----------+-------------+\n",
      "|EMPLOYEE_ID|FIRST_NAME|LAST_NAME|   EMAIL|PHONE_NUMBER|HIRE_DATE|    JOB_ID|Salary|COMMISSION_PCT|MANAGER_ID|DEPARTMENT_ID|\n",
      "+-----------+----------+---------+--------+------------+---------+----------+------+--------------+----------+-------------+\n",
      "|        198|    Donald| OConnell|DOCONNEL|650.507.9833|21-JUN-07|  SH_CLERK|  2600|            - |       124|           50|\n",
      "|        199|   Douglas|    Grant|  DGRANT|650.507.9844|13-JAN-08|  SH_CLERK|  2600|            - |       124|           50|\n",
      "|        200|  Jennifer|   Whalen| JWHALEN|515.123.4444|17-SEP-03|   AD_ASST|  4400|            - |       101|           10|\n",
      "|        201|   Michael|Hartstein|MHARTSTE|515.123.5555|17-FEB-04|    MK_MAN| 13000|            - |       100|           20|\n",
      "|        202|       Pat|      Fay|    PFAY|603.123.6666|17-AUG-05|    MK_REP|  6000|            - |       201|           20|\n",
      "|        203|     Susan|   Mavris| SMAVRIS|515.123.7777|07-JUN-02|    HR_REP|  6500|            - |       101|           40|\n",
      "|        204|   Hermann|     Baer|   HBAER|515.123.8888|07-JUN-02|    PR_REP| 10000|            - |       101|           70|\n",
      "|        205|   Shelley|  Higgins|SHIGGINS|515.123.8080|07-JUN-02|    AC_MGR| 12008|            - |       101|          110|\n",
      "|        206|   William|    Gietz|  WGIETZ|515.123.8181|07-JUN-02|AC_ACCOUNT|  8300|            - |       205|          110|\n",
      "|        100|    Steven|     King|   SKING|515.123.4567|17-JUN-03|   AD_PRES| 24000|            - |        - |           90|\n",
      "|        101|     Neena|  Kochhar|NKOCHHAR|515.123.4568|21-SEP-05|     AD_VP| 17000|            - |       100|           90|\n",
      "|        102|       Lex|  De Haan| LDEHAAN|515.123.4569|13-JAN-01|     AD_VP| 17000|            - |       100|           90|\n",
      "|        103| Alexander|   Hunold| AHUNOLD|590.423.4567|03-JAN-06|   IT_PROG|  9000|            - |       102|           60|\n",
      "|        104|     Bruce|    Ernst|  BERNST|590.423.4568|21-MAY-07|   IT_PROG|  6000|            - |       103|           60|\n",
      "|        105|     David|   Austin| DAUSTIN|590.423.4569|25-JUN-05|   IT_PROG|  4800|            - |       103|           60|\n",
      "|        106|     Valli|Pataballa|VPATABAL|590.423.4560|05-FEB-06|   IT_PROG|  4800|            - |       103|           60|\n",
      "|        107|     Diana|  Lorentz|DLORENTZ|590.423.5567|07-FEB-07|   IT_PROG|  4200|            - |       103|           60|\n",
      "|        108|     Nancy|Greenberg|NGREENBE|515.124.4569|17-AUG-02|    FI_MGR| 12008|            - |       101|          100|\n",
      "|        109|    Daniel|   Faviet| DFAVIET|515.124.4169|16-AUG-02|FI_ACCOUNT|  9000|            - |       108|          100|\n",
      "|        110|      John|     Chen|   JCHEN|515.124.4269|28-SEP-05|FI_ACCOUNT|  8200|            - |       108|          100|\n",
      "+-----------+----------+---------+--------+------------+---------+----------+------+--------------+----------+-------------+\n",
      "only showing top 20 rows\n",
      "\n"
     ]
    }
   ],
   "source": [
    "data.withColumnRenamed(\"SALARY\",\"Salary\").show()"
   ]
  },
  {
   "cell_type": "code",
   "execution_count": 44,
   "id": "a87dec7c",
   "metadata": {},
   "outputs": [
    {
     "name": "stdout",
     "output_type": "stream",
     "text": [
      "+-----------+----------+-----------+--------+------------+---------+--------+------+--------------+----------+-------------+\n",
      "|EMPLOYEE_ID|FIRST_NAME|  LAST_NAME|   EMAIL|PHONE_NUMBER|HIRE_DATE|  JOB_ID|SALARY|COMMISSION_PCT|MANAGER_ID|DEPARTMENT_ID|\n",
      "+-----------+----------+-----------+--------+------------+---------+--------+------+--------------+----------+-------------+\n",
      "|        198|    Donald|   OConnell|DOCONNEL|650.507.9833|21-JUN-07|SH_CLERK|  2600|            - |       124|           50|\n",
      "|        199|   Douglas|      Grant|  DGRANT|650.507.9844|13-JAN-08|SH_CLERK|  2600|            - |       124|           50|\n",
      "|        200|  Jennifer|     Whalen| JWHALEN|515.123.4444|17-SEP-03| AD_ASST|  4400|            - |       101|           10|\n",
      "|        105|     David|     Austin| DAUSTIN|590.423.4569|25-JUN-05| IT_PROG|  4800|            - |       103|           60|\n",
      "|        106|     Valli|  Pataballa|VPATABAL|590.423.4560|05-FEB-06| IT_PROG|  4800|            - |       103|           60|\n",
      "|        107|     Diana|    Lorentz|DLORENTZ|590.423.5567|07-FEB-07| IT_PROG|  4200|            - |       103|           60|\n",
      "|        115| Alexander|       Khoo|   AKHOO|515.127.4562|18-MAY-03|PU_CLERK|  3100|            - |       114|           30|\n",
      "|        116|    Shelli|      Baida|  SBAIDA|515.127.4563|24-DEC-05|PU_CLERK|  2900|            - |       114|           30|\n",
      "|        117|     Sigal|     Tobias| STOBIAS|515.127.4564|24-JUL-05|PU_CLERK|  2800|            - |       114|           30|\n",
      "|        118|       Guy|     Himuro| GHIMURO|515.127.4565|15-NOV-06|PU_CLERK|  2600|            - |       114|           30|\n",
      "|        119|     Karen| Colmenares|KCOLMENA|515.127.4566|10-AUG-07|PU_CLERK|  2500|            - |       114|           30|\n",
      "|        125|     Julia|      Nayer|  JNAYER|650.124.1214|16-JUL-05|ST_CLERK|  3200|            - |       120|           50|\n",
      "|        126|     Irene|Mikkilineni|IMIKKILI|650.124.1224|28-SEP-06|ST_CLERK|  2700|            - |       120|           50|\n",
      "|        127|     James|     Landry| JLANDRY|650.124.1334|14-JAN-07|ST_CLERK|  2400|            - |       120|           50|\n",
      "|        128|    Steven|     Markle| SMARKLE|650.124.1434|08-MAR-08|ST_CLERK|  2200|            - |       120|           50|\n",
      "|        129|     Laura|     Bissot| LBISSOT|650.124.5234|20-AUG-05|ST_CLERK|  3300|            - |       121|           50|\n",
      "|        130|     Mozhe|   Atkinson|MATKINSO|650.124.6234|30-OCT-05|ST_CLERK|  2800|            - |       121|           50|\n",
      "|        131|     James|     Marlow| JAMRLOW|650.124.7234|16-FEB-05|ST_CLERK|  2500|            - |       121|           50|\n",
      "|        132|        TJ|      Olson| TJOLSON|650.124.8234|10-APR-07|ST_CLERK|  2100|            - |       121|           50|\n",
      "|        133|     Jason|     Mallin| JMALLIN|650.127.1934|14-JUN-04|ST_CLERK|  3300|            - |       122|           50|\n",
      "+-----------+----------+-----------+--------+------------+---------+--------+------+--------------+----------+-------------+\n",
      "only showing top 20 rows\n",
      "\n"
     ]
    }
   ],
   "source": [
    "data.filter(col('SALARY') < 5000 ).show()"
   ]
  },
  {
   "cell_type": "code",
   "execution_count": null,
   "id": "1034c351",
   "metadata": {},
   "outputs": [],
   "source": []
  }
 ],
 "metadata": {
  "kernelspec": {
   "display_name": "Python 3 (ipykernel)",
   "language": "python",
   "name": "python3"
  },
  "language_info": {
   "codemirror_mode": {
    "name": "ipython",
    "version": 3
   },
   "file_extension": ".py",
   "mimetype": "text/x-python",
   "name": "python",
   "nbconvert_exporter": "python",
   "pygments_lexer": "ipython3",
   "version": "3.8.10"
  }
 },
 "nbformat": 4,
 "nbformat_minor": 5
}
