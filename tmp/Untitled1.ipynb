{
 "cells": [
  {
   "cell_type": "code",
   "execution_count": 1,
   "id": "a86bb40e",
   "metadata": {},
   "outputs": [],
   "source": [
    "from pyspark.sql import SparkSession\n",
    "from pyspark.sql.types import StructType,StructField,StringType,IntegerType"
   ]
  },
  {
   "cell_type": "code",
   "execution_count": 2,
   "id": "ea1bc7aa",
   "metadata": {},
   "outputs": [
    {
     "name": "stdout",
     "output_type": "stream",
     "text": [
      "23/04/07 09:46:57 WARN Utils: Your hostname, ZSCHN01LP0253L resolves to a loopback address: 127.0.1.1; using 192.168.1.5 instead (on interface wlp0s20f3)\n",
      "23/04/07 09:46:57 WARN Utils: Set SPARK_LOCAL_IP if you need to bind to another address\n"
     ]
    },
    {
     "name": "stderr",
     "output_type": "stream",
     "text": [
      "Setting default log level to \"WARN\".\n",
      "To adjust logging level use sc.setLogLevel(newLevel). For SparkR, use setLogLevel(newLevel).\n"
     ]
    },
    {
     "name": "stdout",
     "output_type": "stream",
     "text": [
      "23/04/07 09:46:57 WARN NativeCodeLoader: Unable to load native-hadoop library for your platform... using builtin-java classes where applicable\n"
     ]
    },
    {
     "data": {
      "text/html": [
       "\n",
       "            <div>\n",
       "                <p><b>SparkSession - in-memory</b></p>\n",
       "                \n",
       "        <div>\n",
       "            <p><b>SparkContext</b></p>\n",
       "\n",
       "            <p><a href=\"http://192.168.1.5:4040\">Spark UI</a></p>\n",
       "\n",
       "            <dl>\n",
       "              <dt>Version</dt>\n",
       "                <dd><code>v3.3.2</code></dd>\n",
       "              <dt>Master</dt>\n",
       "                <dd><code>local[*]</code></dd>\n",
       "              <dt>AppName</dt>\n",
       "                <dd><code>Demo</code></dd>\n",
       "            </dl>\n",
       "        </div>\n",
       "        \n",
       "            </div>\n",
       "        "
      ],
      "text/plain": [
       "<pyspark.sql.session.SparkSession at 0x7f717b7d5f10>"
      ]
     },
     "execution_count": 2,
     "metadata": {},
     "output_type": "execute_result"
    }
   ],
   "source": [
    "spark = SparkSession.builder.master(\"local[*]\").appName(\"Demo\").getOrCreate()\n",
    "spark"
   ]
  },
  {
   "cell_type": "code",
   "execution_count": 6,
   "id": "9cf1f29b",
   "metadata": {},
   "outputs": [
    {
     "name": "stderr",
     "output_type": "stream",
     "text": [
      "                                                                                \r"
     ]
    },
    {
     "name": "stdout",
     "output_type": "stream",
     "text": [
      "+---+--------+-----------+\n",
      "| id|    Name|Designation|\n",
      "+---+--------+-----------+\n",
      "|  1| pradeep|         ml|\n",
      "|  2|pradeep1|         de|\n",
      "+---+--------+-----------+\n",
      "\n"
     ]
    }
   ],
   "source": [
    "data=[(1,\"pradeep\",\"ml\"),(2,\"pradeep1\",\"de\")]\n",
    "schema=StructType([\\\n",
    "                  StructField(\"id\",IntegerType(),True),\n",
    "                  StructField(\"Name\",StringType(),True),\n",
    "                  StructField(\"Designation\",StringType(),True)\n",
    "                  ])\n",
    "data=spark.createDataFrame(data=data,schema=schema)\n",
    "data.show()"
   ]
  },
  {
   "cell_type": "code",
   "execution_count": 7,
   "id": "9e9d0541",
   "metadata": {},
   "outputs": [
    {
     "name": "stdout",
     "output_type": "stream",
     "text": [
      "root\n",
      " |-- id: integer (nullable = true)\n",
      " |-- Name: string (nullable = true)\n",
      " |-- Designation: string (nullable = true)\n",
      "\n"
     ]
    }
   ],
   "source": [
    "data.printSchema()"
   ]
  },
  {
   "cell_type": "code",
   "execution_count": 8,
   "id": "081beab7",
   "metadata": {},
   "outputs": [
    {
     "name": "stdout",
     "output_type": "stream",
     "text": [
      "+---+--------+-----------+\n",
      "| id|    Name|Designation|\n",
      "+---+--------+-----------+\n",
      "|  1| pradeep|         ml|\n",
      "|  2|pradeep1|         de|\n",
      "+---+--------+-----------+\n",
      "\n"
     ]
    }
   ],
   "source": [
    "data.show(truncate=True)"
   ]
  },
  {
   "cell_type": "code",
   "execution_count": 10,
   "id": "a3ee4c02",
   "metadata": {},
   "outputs": [
    {
     "name": "stdout",
     "output_type": "stream",
     "text": [
      "+-----------+----------+---------+--------+------------+---------+--------+------+--------------+----------+-------------+\n",
      "|EMPLOYEE_ID|FIRST_NAME|LAST_NAME|   EMAIL|PHONE_NUMBER|HIRE_DATE|  JOB_ID|SALARY|COMMISSION_PCT|MANAGER_ID|DEPARTMENT_ID|\n",
      "+-----------+----------+---------+--------+------------+---------+--------+------+--------------+----------+-------------+\n",
      "|        198|    Donald| OConnell|DOCONNEL|650.507.9833|21-JUN-07|SH_CLERK|  2600|            - |       124|           50|\n",
      "+-----------+----------+---------+--------+------------+---------+--------+------+--------------+----------+-------------+\n",
      "only showing top 1 row\n",
      "\n"
     ]
    }
   ],
   "source": [
    "data=spark.read.option(\"header\",True).option(\"inferSchema\",True).csv(\"../Spark-main/employees.csv\")\n",
    "data.show(1)"
   ]
  },
  {
   "cell_type": "code",
   "execution_count": 11,
   "id": "baf449cc",
   "metadata": {},
   "outputs": [
    {
     "name": "stdout",
     "output_type": "stream",
     "text": [
      "root\n",
      " |-- EMPLOYEE_ID: integer (nullable = true)\n",
      " |-- FIRST_NAME: string (nullable = true)\n",
      " |-- LAST_NAME: string (nullable = true)\n",
      " |-- EMAIL: string (nullable = true)\n",
      " |-- PHONE_NUMBER: string (nullable = true)\n",
      " |-- HIRE_DATE: string (nullable = true)\n",
      " |-- JOB_ID: string (nullable = true)\n",
      " |-- SALARY: integer (nullable = true)\n",
      " |-- COMMISSION_PCT: string (nullable = true)\n",
      " |-- MANAGER_ID: string (nullable = true)\n",
      " |-- DEPARTMENT_ID: integer (nullable = true)\n",
      "\n"
     ]
    }
   ],
   "source": [
    "data.printSchema()"
   ]
  },
  {
   "cell_type": "code",
   "execution_count": 12,
   "id": "48b8a9fd",
   "metadata": {},
   "outputs": [
    {
     "name": "stdout",
     "output_type": "stream",
     "text": [
      "+-----------+------+\n",
      "|EMPLOYEE_ID|SALARY|\n",
      "+-----------+------+\n",
      "|        198|  2600|\n",
      "|        199|  2600|\n",
      "|        200|  4400|\n",
      "|        201| 13000|\n",
      "|        202|  6000|\n",
      "|        203|  6500|\n",
      "|        204| 10000|\n",
      "|        205| 12008|\n",
      "|        206|  8300|\n",
      "|        100| 24000|\n",
      "|        101| 17000|\n",
      "|        102| 17000|\n",
      "|        103|  9000|\n",
      "|        104|  6000|\n",
      "|        105|  4800|\n",
      "|        106|  4800|\n",
      "|        107|  4200|\n",
      "|        108| 12008|\n",
      "|        109|  9000|\n",
      "|        110|  8200|\n",
      "+-----------+------+\n",
      "only showing top 20 rows\n",
      "\n"
     ]
    }
   ],
   "source": [
    "data.select(\"EMPLOYEE_ID\",\"SALARY\").show()"
   ]
  },
  {
   "cell_type": "code",
   "execution_count": 13,
   "id": "64f22355",
   "metadata": {},
   "outputs": [
    {
     "name": "stdout",
     "output_type": "stream",
     "text": [
      "+-----------+------+\n",
      "|EMPLOYEE_ID|SALARY|\n",
      "+-----------+------+\n",
      "|        198|  2600|\n",
      "|        199|  2600|\n",
      "|        200|  4400|\n",
      "|        201| 13000|\n",
      "|        202|  6000|\n",
      "|        203|  6500|\n",
      "|        204| 10000|\n",
      "|        205| 12008|\n",
      "|        206|  8300|\n",
      "|        100| 24000|\n",
      "|        101| 17000|\n",
      "|        102| 17000|\n",
      "|        103|  9000|\n",
      "|        104|  6000|\n",
      "|        105|  4800|\n",
      "|        106|  4800|\n",
      "|        107|  4200|\n",
      "|        108| 12008|\n",
      "|        109|  9000|\n",
      "|        110|  8200|\n",
      "+-----------+------+\n",
      "only showing top 20 rows\n",
      "\n"
     ]
    }
   ],
   "source": [
    "data.select(data.EMPLOYEE_ID,data.SALARY).show()"
   ]
  },
  {
   "cell_type": "code",
   "execution_count": 14,
   "id": "8c29d1a2",
   "metadata": {},
   "outputs": [
    {
     "name": "stdout",
     "output_type": "stream",
     "text": [
      "+-----------+------+\n",
      "|EMPLOYEE_ID|SALARY|\n",
      "+-----------+------+\n",
      "|        198|  2600|\n",
      "|        199|  2600|\n",
      "|        200|  4400|\n",
      "|        201| 13000|\n",
      "|        202|  6000|\n",
      "|        203|  6500|\n",
      "|        204| 10000|\n",
      "|        205| 12008|\n",
      "|        206|  8300|\n",
      "|        100| 24000|\n",
      "|        101| 17000|\n",
      "|        102| 17000|\n",
      "|        103|  9000|\n",
      "|        104|  6000|\n",
      "|        105|  4800|\n",
      "|        106|  4800|\n",
      "|        107|  4200|\n",
      "|        108| 12008|\n",
      "|        109|  9000|\n",
      "|        110|  8200|\n",
      "+-----------+------+\n",
      "only showing top 20 rows\n",
      "\n"
     ]
    }
   ],
   "source": [
    "data.select(data[\"EMPLOYEE_ID\"],data[\"SALARY\"]).show()"
   ]
  },
  {
   "cell_type": "code",
   "execution_count": 15,
   "id": "a115b79c",
   "metadata": {},
   "outputs": [
    {
     "name": "stdout",
     "output_type": "stream",
     "text": [
      "+-----------+------+\n",
      "|EMPLOYEE_ID|SALARY|\n",
      "+-----------+------+\n",
      "|        198|  2600|\n",
      "|        199|  2600|\n",
      "|        200|  4400|\n",
      "|        201| 13000|\n",
      "|        202|  6000|\n",
      "|        203|  6500|\n",
      "|        204| 10000|\n",
      "|        205| 12008|\n",
      "|        206|  8300|\n",
      "|        100| 24000|\n",
      "|        101| 17000|\n",
      "|        102| 17000|\n",
      "|        103|  9000|\n",
      "|        104|  6000|\n",
      "|        105|  4800|\n",
      "|        106|  4800|\n",
      "|        107|  4200|\n",
      "|        108| 12008|\n",
      "|        109|  9000|\n",
      "|        110|  8200|\n",
      "+-----------+------+\n",
      "only showing top 20 rows\n",
      "\n"
     ]
    }
   ],
   "source": [
    "from pyspark.sql.functions import col\n",
    "data.select(col(\"EMPLOYEE_ID\"),col(\"SALARY\")).show()"
   ]
  },
  {
   "cell_type": "code",
   "execution_count": 16,
   "id": "2d582f59",
   "metadata": {},
   "outputs": [
    {
     "name": "stdout",
     "output_type": "stream",
     "text": [
      "+----+-----+\n",
      "|e_id|  sal|\n",
      "+----+-----+\n",
      "| 198| 2600|\n",
      "| 199| 2600|\n",
      "| 200| 4400|\n",
      "| 201|13000|\n",
      "| 202| 6000|\n",
      "| 203| 6500|\n",
      "| 204|10000|\n",
      "| 205|12008|\n",
      "| 206| 8300|\n",
      "| 100|24000|\n",
      "| 101|17000|\n",
      "| 102|17000|\n",
      "| 103| 9000|\n",
      "| 104| 6000|\n",
      "| 105| 4800|\n",
      "| 106| 4800|\n",
      "| 107| 4200|\n",
      "| 108|12008|\n",
      "| 109| 9000|\n",
      "| 110| 8200|\n",
      "+----+-----+\n",
      "only showing top 20 rows\n",
      "\n"
     ]
    }
   ],
   "source": [
    "data.select(col(\"EMPLOYEE_ID\").alias(\"e_id\"),col(\"SALARY\").alias(\"sal\")).show()"
   ]
  },
  {
   "cell_type": "code",
   "execution_count": 17,
   "id": "c5550d84",
   "metadata": {},
   "outputs": [
    {
     "name": "stdout",
     "output_type": "stream",
     "text": [
      "+-----------+------+----------+\n",
      "|EMPLOYEE_ID|SALARY|New_Salary|\n",
      "+-----------+------+----------+\n",
      "|        198|  2600|      3600|\n",
      "+-----------+------+----------+\n",
      "only showing top 1 row\n",
      "\n"
     ]
    }
   ],
   "source": [
    "data.withColumn(\"New_Salary\",col(\"SALARY\")+1000).select(\"EMPLOYEE_ID\",\"SALARY\",\"New_Salary\").show(1)"
   ]
  },
  {
   "cell_type": "code",
   "execution_count": 19,
   "id": "441a3ed6",
   "metadata": {},
   "outputs": [
    {
     "name": "stdout",
     "output_type": "stream",
     "text": [
      "+-----------+----------+---------+--------+------------+---------+--------+----------+--------------+----------+-------------+\n",
      "|EMPLOYEE_ID|FIRST_NAME|LAST_NAME|   EMAIL|PHONE_NUMBER|HIRE_DATE|  JOB_ID|New_Salary|COMMISSION_PCT|MANAGER_ID|DEPARTMENT_ID|\n",
      "+-----------+----------+---------+--------+------------+---------+--------+----------+--------------+----------+-------------+\n",
      "|        198|    Donald| OConnell|DOCONNEL|650.507.9833|21-JUN-07|SH_CLERK|      2600|            - |       124|           50|\n",
      "+-----------+----------+---------+--------+------------+---------+--------+----------+--------------+----------+-------------+\n",
      "only showing top 1 row\n",
      "\n"
     ]
    }
   ],
   "source": [
    "data.withColumnRenamed(\"SALARY\",\"New_Salary\").show(1)"
   ]
  },
  {
   "cell_type": "code",
   "execution_count": 20,
   "id": "2500bd38",
   "metadata": {},
   "outputs": [
    {
     "name": "stdout",
     "output_type": "stream",
     "text": [
      "+-----------+----------+---------+--------+------------+---------+----------+------+--------------+-------------+\n",
      "|EMPLOYEE_ID|FIRST_NAME|LAST_NAME|   EMAIL|PHONE_NUMBER|HIRE_DATE|    JOB_ID|SALARY|COMMISSION_PCT|DEPARTMENT_ID|\n",
      "+-----------+----------+---------+--------+------------+---------+----------+------+--------------+-------------+\n",
      "|        198|    Donald| OConnell|DOCONNEL|650.507.9833|21-JUN-07|  SH_CLERK|  2600|            - |           50|\n",
      "|        199|   Douglas|    Grant|  DGRANT|650.507.9844|13-JAN-08|  SH_CLERK|  2600|            - |           50|\n",
      "|        200|  Jennifer|   Whalen| JWHALEN|515.123.4444|17-SEP-03|   AD_ASST|  4400|            - |           10|\n",
      "|        201|   Michael|Hartstein|MHARTSTE|515.123.5555|17-FEB-04|    MK_MAN| 13000|            - |           20|\n",
      "|        202|       Pat|      Fay|    PFAY|603.123.6666|17-AUG-05|    MK_REP|  6000|            - |           20|\n",
      "|        203|     Susan|   Mavris| SMAVRIS|515.123.7777|07-JUN-02|    HR_REP|  6500|            - |           40|\n",
      "|        204|   Hermann|     Baer|   HBAER|515.123.8888|07-JUN-02|    PR_REP| 10000|            - |           70|\n",
      "|        205|   Shelley|  Higgins|SHIGGINS|515.123.8080|07-JUN-02|    AC_MGR| 12008|            - |          110|\n",
      "|        206|   William|    Gietz|  WGIETZ|515.123.8181|07-JUN-02|AC_ACCOUNT|  8300|            - |          110|\n",
      "|        100|    Steven|     King|   SKING|515.123.4567|17-JUN-03|   AD_PRES| 24000|            - |           90|\n",
      "|        101|     Neena|  Kochhar|NKOCHHAR|515.123.4568|21-SEP-05|     AD_VP| 17000|            - |           90|\n",
      "|        102|       Lex|  De Haan| LDEHAAN|515.123.4569|13-JAN-01|     AD_VP| 17000|            - |           90|\n",
      "|        103| Alexander|   Hunold| AHUNOLD|590.423.4567|03-JAN-06|   IT_PROG|  9000|            - |           60|\n",
      "|        104|     Bruce|    Ernst|  BERNST|590.423.4568|21-MAY-07|   IT_PROG|  6000|            - |           60|\n",
      "|        105|     David|   Austin| DAUSTIN|590.423.4569|25-JUN-05|   IT_PROG|  4800|            - |           60|\n",
      "|        106|     Valli|Pataballa|VPATABAL|590.423.4560|05-FEB-06|   IT_PROG|  4800|            - |           60|\n",
      "|        107|     Diana|  Lorentz|DLORENTZ|590.423.5567|07-FEB-07|   IT_PROG|  4200|            - |           60|\n",
      "|        108|     Nancy|Greenberg|NGREENBE|515.124.4569|17-AUG-02|    FI_MGR| 12008|            - |          100|\n",
      "|        109|    Daniel|   Faviet| DFAVIET|515.124.4169|16-AUG-02|FI_ACCOUNT|  9000|            - |          100|\n",
      "|        110|      John|     Chen|   JCHEN|515.124.4269|28-SEP-05|FI_ACCOUNT|  8200|            - |          100|\n",
      "+-----------+----------+---------+--------+------------+---------+----------+------+--------------+-------------+\n",
      "only showing top 20 rows\n",
      "\n"
     ]
    }
   ],
   "source": [
    "data.drop(\"MANAGER_ID\").show()"
   ]
  },
  {
   "cell_type": "code",
   "execution_count": 26,
   "id": "a5ac4645",
   "metadata": {},
   "outputs": [
    {
     "name": "stdout",
     "output_type": "stream",
     "text": [
      "+-----------+------+\n",
      "|EMPLOYEE_ID|SALARY|\n",
      "+-----------+------+\n",
      "|        201| 13000|\n",
      "+-----------+------+\n",
      "only showing top 1 row\n",
      "\n"
     ]
    }
   ],
   "source": [
    "data.filter(data.SALARY > 10000).select(\"EMPLOYEE_ID\",\"SALARY\").show(1)"
   ]
  },
  {
   "cell_type": "code",
   "execution_count": 27,
   "id": "d93de118",
   "metadata": {},
   "outputs": [
    {
     "name": "stdout",
     "output_type": "stream",
     "text": [
      "+-----------+------+\n",
      "|EMPLOYEE_ID|SALARY|\n",
      "+-----------+------+\n",
      "|        201| 13000|\n",
      "+-----------+------+\n",
      "only showing top 1 row\n",
      "\n"
     ]
    }
   ],
   "source": [
    "data.filter(data[\"SALARY\"] > 10000).select(\"EMPLOYEE_ID\",\"SALARY\").show(1)"
   ]
  },
  {
   "cell_type": "code",
   "execution_count": 28,
   "id": "797d5c48",
   "metadata": {},
   "outputs": [
    {
     "name": "stdout",
     "output_type": "stream",
     "text": [
      "+-----------+------+\n",
      "|EMPLOYEE_ID|SALARY|\n",
      "+-----------+------+\n",
      "|        201| 13000|\n",
      "+-----------+------+\n",
      "only showing top 1 row\n",
      "\n"
     ]
    }
   ],
   "source": [
    "data.filter(col(\"SALARY\") > 10000).select(\"EMPLOYEE_ID\",\"SALARY\").show(1)"
   ]
  },
  {
   "cell_type": "code",
   "execution_count": 32,
   "id": "d26315bd",
   "metadata": {},
   "outputs": [
    {
     "name": "stdout",
     "output_type": "stream",
     "text": [
      "+-------------+\n",
      "|count(SALARY)|\n",
      "+-------------+\n",
      "|           50|\n",
      "+-------------+\n",
      "\n"
     ]
    }
   ],
   "source": [
    "from pyspark.sql.functions import *\n",
    "data.select(count(\"SALARY\")).show()"
   ]
  },
  {
   "cell_type": "code",
   "execution_count": 33,
   "id": "10c58d37",
   "metadata": {},
   "outputs": [
    {
     "name": "stdout",
     "output_type": "stream",
     "text": [
      "+-----------+\n",
      "|avg(SALARY)|\n",
      "+-----------+\n",
      "|    6182.32|\n",
      "+-----------+\n",
      "\n"
     ]
    }
   ],
   "source": [
    "data.select(avg(\"SALARY\")).show()"
   ]
  },
  {
   "cell_type": "code",
   "execution_count": 34,
   "id": "5ba8422c",
   "metadata": {},
   "outputs": [
    {
     "name": "stdout",
     "output_type": "stream",
     "text": [
      "+-----------+\n",
      "|max(SALARY)|\n",
      "+-----------+\n",
      "|      24000|\n",
      "+-----------+\n",
      "\n"
     ]
    }
   ],
   "source": [
    "data.select(max(\"SALARY\")).show()"
   ]
  },
  {
   "cell_type": "code",
   "execution_count": 35,
   "id": "810c1da2",
   "metadata": {},
   "outputs": [
    {
     "name": "stdout",
     "output_type": "stream",
     "text": [
      "+-----------+\n",
      "|min(SALARY)|\n",
      "+-----------+\n",
      "|       2100|\n",
      "+-----------+\n",
      "\n"
     ]
    }
   ],
   "source": [
    "data.select(min(\"SALARY\")).show()"
   ]
  },
  {
   "cell_type": "code",
   "execution_count": 36,
   "id": "636c2dda",
   "metadata": {},
   "outputs": [
    {
     "name": "stdout",
     "output_type": "stream",
     "text": [
      "+------+\n",
      "|SALARY|\n",
      "+------+\n",
      "|  2100|\n",
      "|  2200|\n",
      "|  2200|\n",
      "|  2400|\n",
      "|  2400|\n",
      "|  2500|\n",
      "|  2500|\n",
      "|  2500|\n",
      "|  2600|\n",
      "|  2600|\n",
      "|  2600|\n",
      "|  2700|\n",
      "|  2700|\n",
      "|  2800|\n",
      "|  2800|\n",
      "|  2900|\n",
      "|  2900|\n",
      "|  3100|\n",
      "|  3200|\n",
      "|  3200|\n",
      "+------+\n",
      "only showing top 20 rows\n",
      "\n"
     ]
    }
   ],
   "source": [
    "data.select(\"SALARY\").orderBy(\"SALARY\").show()"
   ]
  },
  {
   "cell_type": "code",
   "execution_count": 38,
   "id": "e6653c64",
   "metadata": {},
   "outputs": [
    {
     "name": "stdout",
     "output_type": "stream",
     "text": [
      "+------+\n",
      "|SALARY|\n",
      "+------+\n",
      "| 24000|\n",
      "| 17000|\n",
      "| 17000|\n",
      "| 13000|\n",
      "| 12008|\n",
      "| 12008|\n",
      "| 11000|\n",
      "| 10000|\n",
      "|  9000|\n",
      "|  9000|\n",
      "|  8300|\n",
      "|  8200|\n",
      "|  8200|\n",
      "|  8000|\n",
      "|  7900|\n",
      "|  7800|\n",
      "|  7700|\n",
      "|  6900|\n",
      "|  6500|\n",
      "|  6500|\n",
      "+------+\n",
      "only showing top 20 rows\n",
      "\n"
     ]
    }
   ],
   "source": [
    "data.select(\"SALARY\").orderBy(col(\"SALARY\").desc()).show()"
   ]
  },
  {
   "cell_type": "code",
   "execution_count": 40,
   "id": "7be1de36",
   "metadata": {},
   "outputs": [
    {
     "name": "stdout",
     "output_type": "stream",
     "text": [
      "+-----------+----------+---------+--------+------------+---------+--------+------+--------------+----------+-------------+\n",
      "|EMPLOYEE_ID|FIRST_NAME|LAST_NAME|   EMAIL|PHONE_NUMBER|HIRE_DATE|  JOB_ID|SALARY|COMMISSION_PCT|MANAGER_ID|DEPARTMENT_ID|\n",
      "+-----------+----------+---------+--------+------------+---------+--------+------+--------------+----------+-------------+\n",
      "|        198|    Donald| OConnell|DOCONNEL|650.507.9833|21-JUN-07|SH_CLERK|  2600|            - |       124|           50|\n",
      "+-----------+----------+---------+--------+------------+---------+--------+------+--------------+----------+-------------+\n",
      "only showing top 1 row\n",
      "\n"
     ]
    }
   ],
   "source": [
    "data.select(\"*\").show(1)"
   ]
  },
  {
   "cell_type": "code",
   "execution_count": 41,
   "id": "9c3cf839",
   "metadata": {},
   "outputs": [
    {
     "name": "stdout",
     "output_type": "stream",
     "text": [
      "+-------------+-----------+\n",
      "|DEPARTMENT_ID|max(SALARY)|\n",
      "+-------------+-----------+\n",
      "|           20|      13000|\n",
      "|           40|       6500|\n",
      "|          100|      12008|\n",
      "|           10|       4400|\n",
      "|           50|       8200|\n",
      "|           70|      10000|\n",
      "|           90|      24000|\n",
      "|           60|       9000|\n",
      "|          110|      12008|\n",
      "|           30|      11000|\n",
      "+-------------+-----------+\n",
      "\n"
     ]
    }
   ],
   "source": [
    "data.groupBy(\"DEPARTMENT_ID\").max(\"SALARY\").show()"
   ]
  },
  {
   "cell_type": "code",
   "execution_count": 55,
   "id": "0659b784",
   "metadata": {},
   "outputs": [
    {
     "name": "stdout",
     "output_type": "stream",
     "text": [
      "+-------------+----------+----------+----------+\n",
      "|DEPARTMENT_ID|max_salary|min_salary|avg_salary|\n",
      "+-------------+----------+----------+----------+\n",
      "|           20|     13000|      6000|    9500.0|\n",
      "+-------------+----------+----------+----------+\n",
      "\n"
     ]
    }
   ],
   "source": [
    "data.groupBy(\"DEPARTMENT_ID\").agg(max(\"SALARY\").alias(\"max_salary\"),min(\"SALARY\").alias(\"min_salary\"),avg(\"SALARY\").alias(\"avg_salary\")).where(col(\"max_salary\")==13000).show()"
   ]
  },
  {
   "cell_type": "code",
   "execution_count": 79,
   "id": "f02ca59c",
   "metadata": {},
   "outputs": [
    {
     "name": "stdout",
     "output_type": "stream",
     "text": [
      "+------+----------+\n",
      "|SALARY|New_Salary|\n",
      "+------+----------+\n",
      "|  2600|         a|\n",
      "|  2600|         a|\n",
      "|  4400|         a|\n",
      "| 13000|         b|\n",
      "|  6000|         b|\n",
      "|  6500|         b|\n",
      "| 10000|         b|\n",
      "| 12008|         b|\n",
      "|  8300|         b|\n",
      "| 24000|         c|\n",
      "| 17000|         c|\n",
      "| 17000|         c|\n",
      "|  9000|         b|\n",
      "|  6000|         b|\n",
      "|  4800|         a|\n",
      "|  4800|         a|\n",
      "|  4200|         a|\n",
      "| 12008|         b|\n",
      "|  9000|         b|\n",
      "|  8200|         b|\n",
      "+------+----------+\n",
      "only showing top 20 rows\n",
      "\n"
     ]
    }
   ],
   "source": [
    "data.withColumn(\"New_Salary\",when( col(\"SALARY\")<5000,\"a\" ).when( (col(\"SALARY\")>=5000) & (col(\"SALARY\")<15000) ,\"b\" ).otherwise(\"c\")).select(\"SALARY\",\"New_Salary\").show()"
   ]
  },
  {
   "cell_type": "code",
   "execution_count": 82,
   "id": "d855dfd6",
   "metadata": {},
   "outputs": [
    {
     "name": "stdout",
     "output_type": "stream",
     "text": [
      "+-----------+----------+---------+--------+------------+---------+--------+------+--------------+----------+-------------+\n",
      "|EMPLOYEE_ID|FIRST_NAME|LAST_NAME|   EMAIL|PHONE_NUMBER|HIRE_DATE|  JOB_ID|SALARY|COMMISSION_PCT|MANAGER_ID|DEPARTMENT_ID|\n",
      "+-----------+----------+---------+--------+------------+---------+--------+------+--------------+----------+-------------+\n",
      "|        198|    Donald| OConnell|DOCONNEL|650.507.9833|21-JUN-07|SH_CLERK|  2600|            - |       124|           50|\n",
      "+-----------+----------+---------+--------+------------+---------+--------+------+--------------+----------+-------------+\n",
      "only showing top 1 row\n",
      "\n"
     ]
    }
   ],
   "source": [
    "data.createOrReplaceTempView(\"employee\")\n",
    "spark.sql(\"select * from employee\").show(1)"
   ]
  },
  {
   "cell_type": "code",
   "execution_count": null,
   "id": "8856c115",
   "metadata": {},
   "outputs": [],
   "source": []
  }
 ],
 "metadata": {
  "kernelspec": {
   "display_name": "Python 3 (ipykernel)",
   "language": "python",
   "name": "python3"
  },
  "language_info": {
   "codemirror_mode": {
    "name": "ipython",
    "version": 3
   },
   "file_extension": ".py",
   "mimetype": "text/x-python",
   "name": "python",
   "nbconvert_exporter": "python",
   "pygments_lexer": "ipython3",
   "version": "3.8.10"
  }
 },
 "nbformat": 4,
 "nbformat_minor": 5
}
