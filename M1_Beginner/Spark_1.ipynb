{
 "cells": [
  {
   "cell_type": "code",
   "execution_count": 1,
   "id": "e316a700",
   "metadata": {},
   "outputs": [],
   "source": [
    "from pyspark.sql import SparkSession\n",
    "from pyspark.sql.types import StructType,StructField,StringType,IntegerType"
   ]
  },
  {
   "cell_type": "code",
   "execution_count": 2,
   "id": "1a929561",
   "metadata": {},
   "outputs": [
    {
     "name": "stdout",
     "output_type": "stream",
     "text": [
      "23/03/22 13:27:01 WARN Utils: Your hostname, ZSCHN01LP0253L resolves to a loopback address: 127.0.1.1; using 192.168.1.5 instead (on interface wlp0s20f3)\n",
      "23/03/22 13:27:01 WARN Utils: Set SPARK_LOCAL_IP if you need to bind to another address\n"
     ]
    },
    {
     "name": "stderr",
     "output_type": "stream",
     "text": [
      "Setting default log level to \"WARN\".\n",
      "To adjust logging level use sc.setLogLevel(newLevel). For SparkR, use setLogLevel(newLevel).\n"
     ]
    },
    {
     "name": "stdout",
     "output_type": "stream",
     "text": [
      "23/03/22 13:27:02 WARN NativeCodeLoader: Unable to load native-hadoop library for your platform... using builtin-java classes where applicable\n",
      "23/03/22 13:27:03 WARN Utils: Service 'SparkUI' could not bind on port 4040. Attempting port 4041.\n",
      "23/03/22 13:27:03 WARN Utils: Service 'SparkUI' could not bind on port 4041. Attempting port 4042.\n",
      "23/03/22 13:27:03 WARN Utils: Service 'SparkUI' could not bind on port 4042. Attempting port 4043.\n"
     ]
    },
    {
     "data": {
      "text/html": [
       "\n",
       "            <div>\n",
       "                <p><b>SparkSession - in-memory</b></p>\n",
       "                \n",
       "        <div>\n",
       "            <p><b>SparkContext</b></p>\n",
       "\n",
       "            <p><a href=\"http://192.168.1.5:4043\">Spark UI</a></p>\n",
       "\n",
       "            <dl>\n",
       "              <dt>Version</dt>\n",
       "                <dd><code>v3.3.2</code></dd>\n",
       "              <dt>Master</dt>\n",
       "                <dd><code>local[*]</code></dd>\n",
       "              <dt>AppName</dt>\n",
       "                <dd><code>demo</code></dd>\n",
       "            </dl>\n",
       "        </div>\n",
       "        \n",
       "            </div>\n",
       "        "
      ],
      "text/plain": [
       "<pyspark.sql.session.SparkSession at 0x7fc913be26a0>"
      ]
     },
     "execution_count": 2,
     "metadata": {},
     "output_type": "execute_result"
    }
   ],
   "source": [
    "#Creating Spark Session (It will executed in the Local Not in the Master Node)\n",
    "spark=SparkSession.builder.master(\"local[*]\").appName(\"demo\").getOrCreate()\n",
    "spark"
   ]
  },
  {
   "cell_type": "code",
   "execution_count": 3,
   "id": "8e1f753e",
   "metadata": {},
   "outputs": [
    {
     "data": {
      "text/plain": [
       "DataFrame[firstname: string, middlename: string, lastname: string, id: int, gender: string]"
      ]
     },
     "execution_count": 3,
     "metadata": {},
     "output_type": "execute_result"
    }
   ],
   "source": [
    "person_list = [(\"Berry\",\"\",\"Allen\",1,\"M\"),\n",
    "        (\"Oliver\",\"Queen\",\"\",2,\"M\"),\n",
    "        (\"Robert\",\"\",\"Williams\",3,\"M\"),\n",
    "        (\"Tony\",\"\",\"Stark\",4,\"F\"),\n",
    "        (\"Rajiv\",\"Mary\",\"Kumar\",5,\"F\")\n",
    "]\n",
    "#Creating The Schema For the Dataset\n",
    "schema = StructType([ \\\n",
    "        StructField(\"firstname\",StringType(),True), \\\n",
    "        StructField(\"middlename\",StringType(),True), \\\n",
    "        StructField(\"lastname\",StringType(),True), \\\n",
    "        StructField(\"id\", IntegerType(), True),\\\n",
    "        StructField(\"gender\", StringType(), True)])\n",
    "#Creating Spark DataFrame\n",
    "df = spark.createDataFrame(data=person_list,schema=schema)\n",
    "df"
   ]
  },
  {
   "cell_type": "code",
   "execution_count": 4,
   "id": "338dac89",
   "metadata": {},
   "outputs": [
    {
     "name": "stderr",
     "output_type": "stream",
     "text": [
      "                                                                                \r"
     ]
    },
    {
     "name": "stdout",
     "output_type": "stream",
     "text": [
      "+---------+----------+--------+---+------+\n",
      "|firstname|middlename|lastname| id|gender|\n",
      "+---------+----------+--------+---+------+\n",
      "|    Berry|          |   Allen|  1|     M|\n",
      "|   Oliver|     Queen|        |  2|     M|\n",
      "|   Robert|          |Williams|  3|     M|\n",
      "|     Tony|          |   Stark|  4|     F|\n",
      "|    Rajiv|      Mary|   Kumar|  5|     F|\n",
      "+---------+----------+--------+---+------+\n",
      "\n"
     ]
    }
   ],
   "source": [
    "#Action\n",
    "df.show()"
   ]
  },
  {
   "cell_type": "code",
   "execution_count": 5,
   "id": "345b8a8b",
   "metadata": {},
   "outputs": [
    {
     "name": "stdout",
     "output_type": "stream",
     "text": [
      "+---------+----------+--------+---+------+\n",
      "|firstname|middlename|lastname|id |gender|\n",
      "+---------+----------+--------+---+------+\n",
      "|Berry    |          |Allen   |1  |M     |\n",
      "|Oliver   |Queen     |        |2  |M     |\n",
      "|Robert   |          |Williams|3  |M     |\n",
      "|Tony     |          |Stark   |4  |F     |\n",
      "|Rajiv    |Mary      |Kumar   |5  |F     |\n",
      "+---------+----------+--------+---+------+\n",
      "\n"
     ]
    }
   ],
   "source": [
    "df.show(truncate=False)"
   ]
  },
  {
   "cell_type": "code",
   "execution_count": 6,
   "id": "ac7f9bf4",
   "metadata": {},
   "outputs": [
    {
     "name": "stdout",
     "output_type": "stream",
     "text": [
      "root\n",
      " |-- firstname: string (nullable = true)\n",
      " |-- middlename: string (nullable = true)\n",
      " |-- lastname: string (nullable = true)\n",
      " |-- id: integer (nullable = true)\n",
      " |-- gender: string (nullable = true)\n",
      "\n"
     ]
    }
   ],
   "source": [
    "df.printSchema()"
   ]
  },
  {
   "cell_type": "code",
   "execution_count": null,
   "id": "712cfcac",
   "metadata": {},
   "outputs": [],
   "source": []
  },
  {
   "cell_type": "code",
   "execution_count": null,
   "id": "15a3efff",
   "metadata": {},
   "outputs": [],
   "source": []
  },
  {
   "cell_type": "code",
   "execution_count": null,
   "id": "d5044a67",
   "metadata": {},
   "outputs": [],
   "source": []
  },
  {
   "cell_type": "code",
   "execution_count": null,
   "id": "c21a3b46",
   "metadata": {},
   "outputs": [],
   "source": []
  },
  {
   "cell_type": "code",
   "execution_count": null,
   "id": "f8760c8a",
   "metadata": {},
   "outputs": [],
   "source": []
  },
  {
   "cell_type": "code",
   "execution_count": 20,
   "id": "84869c17",
   "metadata": {},
   "outputs": [
    {
     "name": "stdout",
     "output_type": "stream",
     "text": [
      "root\n",
      " |-- DEPARTMENT_ID: string (nullable = true)\n",
      " |-- DEPARTMENT_NAME: string (nullable = true)\n",
      " |-- MANAGER_ID: string (nullable = true)\n",
      " |-- LOCATION_ID: string (nullable = true)\n",
      "\n"
     ]
    }
   ],
   "source": [
    "# Read data from HDFS path\n",
    "df1 = spark.read.option(\"header\",True).csv(\"Spark-main/departments.csv\")\n",
    "df1.printSchema()"
   ]
  },
  {
   "cell_type": "code",
   "execution_count": 21,
   "id": "07e6c7bf",
   "metadata": {},
   "outputs": [
    {
     "name": "stdout",
     "output_type": "stream",
     "text": [
      "root\n",
      " |-- DEPARTMENT_ID: integer (nullable = true)\n",
      " |-- DEPARTMENT_NAME: string (nullable = true)\n",
      " |-- MANAGER_ID: string (nullable = true)\n",
      " |-- LOCATION_ID: integer (nullable = true)\n",
      "\n"
     ]
    }
   ],
   "source": [
    "df2 = spark.read.option(\"header\",True).option(\"inferSchema\",True).csv(\"Spark-main/departments.csv\")\n",
    "df2.printSchema()"
   ]
  },
  {
   "cell_type": "code",
   "execution_count": 22,
   "id": "ccff7b98",
   "metadata": {},
   "outputs": [
    {
     "name": "stdout",
     "output_type": "stream",
     "text": [
      "+-------------+--------------------+----------+-----------+\n",
      "|DEPARTMENT_ID|     DEPARTMENT_NAME|MANAGER_ID|LOCATION_ID|\n",
      "+-------------+--------------------+----------+-----------+\n",
      "|           10|      Administration|       200|       1700|\n",
      "|           20|           Marketing|       201|       1800|\n",
      "|           30|          Purchasing|       114|       1700|\n",
      "|           40|     Human Resources|       203|       2400|\n",
      "|           50|            Shipping|       121|       1500|\n",
      "|           60|                  IT|       103|       1400|\n",
      "|           70|    Public Relations|       204|       2700|\n",
      "|           80|               Sales|       145|       2500|\n",
      "|           90|           Executive|       100|       1700|\n",
      "|          100|             Finance|       108|       1700|\n",
      "|          110|          Accounting|       205|       1700|\n",
      "|          120|            Treasury|        - |       1700|\n",
      "|          130|       Corporate Tax|        - |       1700|\n",
      "|          140|  Control And Credit|        - |       1700|\n",
      "|          150|Shareholder Services|        - |       1700|\n",
      "|          160|            Benefits|        - |       1700|\n",
      "|          170|       Manufacturing|        - |       1700|\n",
      "|          180|        Construction|        - |       1700|\n",
      "|          190|         Contracting|        - |       1700|\n",
      "|          200|          Operations|        - |       1700|\n",
      "+-------------+--------------------+----------+-----------+\n",
      "only showing top 20 rows\n",
      "\n"
     ]
    }
   ],
   "source": [
    "df2.show()"
   ]
  },
  {
   "cell_type": "code",
   "execution_count": null,
   "id": "c5d5aadf",
   "metadata": {},
   "outputs": [],
   "source": []
  },
  {
   "cell_type": "code",
   "execution_count": null,
   "id": "296cba22",
   "metadata": {},
   "outputs": [],
   "source": []
  },
  {
   "cell_type": "code",
   "execution_count": 28,
   "id": "59180654",
   "metadata": {},
   "outputs": [
    {
     "name": "stdout",
     "output_type": "stream",
     "text": [
      "root\n",
      " |-- EMPLOYEE_ID: integer (nullable = true)\n",
      " |-- FIRST_NAME: string (nullable = true)\n",
      " |-- LAST_NAME: string (nullable = true)\n",
      " |-- EMAIL: string (nullable = true)\n",
      " |-- PHONE_NUMBER: string (nullable = true)\n",
      " |-- HIRE_DATE: string (nullable = true)\n",
      " |-- JOB_ID: string (nullable = true)\n",
      " |-- SALARY: integer (nullable = true)\n",
      " |-- COMMISSION_PCT: string (nullable = true)\n",
      " |-- MANAGER_ID: string (nullable = true)\n",
      " |-- DEPARTMENT_ID: integer (nullable = true)\n",
      "\n"
     ]
    }
   ],
   "source": [
    "empDf = spark.read.option(\"header\",True).option(\"inferSchema\",True).csv(\"Spark-main/employees.csv\")\n",
    "empDf.printSchema()"
   ]
  },
  {
   "cell_type": "code",
   "execution_count": 29,
   "id": "e34da429",
   "metadata": {},
   "outputs": [
    {
     "name": "stdout",
     "output_type": "stream",
     "text": [
      "+-----------+----------+---------+--------+------------+---------+----------+------+--------------+----------+-------------+\n",
      "|EMPLOYEE_ID|FIRST_NAME|LAST_NAME|   EMAIL|PHONE_NUMBER|HIRE_DATE|    JOB_ID|SALARY|COMMISSION_PCT|MANAGER_ID|DEPARTMENT_ID|\n",
      "+-----------+----------+---------+--------+------------+---------+----------+------+--------------+----------+-------------+\n",
      "|        198|    Donald| OConnell|DOCONNEL|650.507.9833|21-JUN-07|  SH_CLERK|  2600|            - |       124|           50|\n",
      "|        199|   Douglas|    Grant|  DGRANT|650.507.9844|13-JAN-08|  SH_CLERK|  2600|            - |       124|           50|\n",
      "|        200|  Jennifer|   Whalen| JWHALEN|515.123.4444|17-SEP-03|   AD_ASST|  4400|            - |       101|           10|\n",
      "|        201|   Michael|Hartstein|MHARTSTE|515.123.5555|17-FEB-04|    MK_MAN| 13000|            - |       100|           20|\n",
      "|        202|       Pat|      Fay|    PFAY|603.123.6666|17-AUG-05|    MK_REP|  6000|            - |       201|           20|\n",
      "|        203|     Susan|   Mavris| SMAVRIS|515.123.7777|07-JUN-02|    HR_REP|  6500|            - |       101|           40|\n",
      "|        204|   Hermann|     Baer|   HBAER|515.123.8888|07-JUN-02|    PR_REP| 10000|            - |       101|           70|\n",
      "|        205|   Shelley|  Higgins|SHIGGINS|515.123.8080|07-JUN-02|    AC_MGR| 12008|            - |       101|          110|\n",
      "|        206|   William|    Gietz|  WGIETZ|515.123.8181|07-JUN-02|AC_ACCOUNT|  8300|            - |       205|          110|\n",
      "|        100|    Steven|     King|   SKING|515.123.4567|17-JUN-03|   AD_PRES| 24000|            - |        - |           90|\n",
      "|        101|     Neena|  Kochhar|NKOCHHAR|515.123.4568|21-SEP-05|     AD_VP| 17000|            - |       100|           90|\n",
      "|        102|       Lex|  De Haan| LDEHAAN|515.123.4569|13-JAN-01|     AD_VP| 17000|            - |       100|           90|\n",
      "|        103| Alexander|   Hunold| AHUNOLD|590.423.4567|03-JAN-06|   IT_PROG|  9000|            - |       102|           60|\n",
      "|        104|     Bruce|    Ernst|  BERNST|590.423.4568|21-MAY-07|   IT_PROG|  6000|            - |       103|           60|\n",
      "|        105|     David|   Austin| DAUSTIN|590.423.4569|25-JUN-05|   IT_PROG|  4800|            - |       103|           60|\n",
      "|        106|     Valli|Pataballa|VPATABAL|590.423.4560|05-FEB-06|   IT_PROG|  4800|            - |       103|           60|\n",
      "|        107|     Diana|  Lorentz|DLORENTZ|590.423.5567|07-FEB-07|   IT_PROG|  4200|            - |       103|           60|\n",
      "|        108|     Nancy|Greenberg|NGREENBE|515.124.4569|17-AUG-02|    FI_MGR| 12008|            - |       101|          100|\n",
      "|        109|    Daniel|   Faviet| DFAVIET|515.124.4169|16-AUG-02|FI_ACCOUNT|  9000|            - |       108|          100|\n",
      "|        110|      John|     Chen|   JCHEN|515.124.4269|28-SEP-05|FI_ACCOUNT|  8200|            - |       108|          100|\n",
      "+-----------+----------+---------+--------+------------+---------+----------+------+--------------+----------+-------------+\n",
      "only showing top 20 rows\n",
      "\n"
     ]
    }
   ],
   "source": [
    "empDf.show()"
   ]
  },
  {
   "cell_type": "code",
   "execution_count": 30,
   "id": "6df73116",
   "metadata": {},
   "outputs": [
    {
     "name": "stdout",
     "output_type": "stream",
     "text": [
      "+-----------+----------+---------+--------+------------+---------+----------+------+--------------+----------+-------------+\n",
      "|EMPLOYEE_ID|FIRST_NAME|LAST_NAME|   EMAIL|PHONE_NUMBER|HIRE_DATE|    JOB_ID|SALARY|COMMISSION_PCT|MANAGER_ID|DEPARTMENT_ID|\n",
      "+-----------+----------+---------+--------+------------+---------+----------+------+--------------+----------+-------------+\n",
      "|        198|    Donald| OConnell|DOCONNEL|650.507.9833|21-JUN-07|  SH_CLERK|  2600|            - |       124|           50|\n",
      "|        199|   Douglas|    Grant|  DGRANT|650.507.9844|13-JAN-08|  SH_CLERK|  2600|            - |       124|           50|\n",
      "|        200|  Jennifer|   Whalen| JWHALEN|515.123.4444|17-SEP-03|   AD_ASST|  4400|            - |       101|           10|\n",
      "|        201|   Michael|Hartstein|MHARTSTE|515.123.5555|17-FEB-04|    MK_MAN| 13000|            - |       100|           20|\n",
      "|        202|       Pat|      Fay|    PFAY|603.123.6666|17-AUG-05|    MK_REP|  6000|            - |       201|           20|\n",
      "|        203|     Susan|   Mavris| SMAVRIS|515.123.7777|07-JUN-02|    HR_REP|  6500|            - |       101|           40|\n",
      "|        204|   Hermann|     Baer|   HBAER|515.123.8888|07-JUN-02|    PR_REP| 10000|            - |       101|           70|\n",
      "|        205|   Shelley|  Higgins|SHIGGINS|515.123.8080|07-JUN-02|    AC_MGR| 12008|            - |       101|          110|\n",
      "|        206|   William|    Gietz|  WGIETZ|515.123.8181|07-JUN-02|AC_ACCOUNT|  8300|            - |       205|          110|\n",
      "|        100|    Steven|     King|   SKING|515.123.4567|17-JUN-03|   AD_PRES| 24000|            - |        - |           90|\n",
      "|        101|     Neena|  Kochhar|NKOCHHAR|515.123.4568|21-SEP-05|     AD_VP| 17000|            - |       100|           90|\n",
      "|        102|       Lex|  De Haan| LDEHAAN|515.123.4569|13-JAN-01|     AD_VP| 17000|            - |       100|           90|\n",
      "|        103| Alexander|   Hunold| AHUNOLD|590.423.4567|03-JAN-06|   IT_PROG|  9000|            - |       102|           60|\n",
      "|        104|     Bruce|    Ernst|  BERNST|590.423.4568|21-MAY-07|   IT_PROG|  6000|            - |       103|           60|\n",
      "|        105|     David|   Austin| DAUSTIN|590.423.4569|25-JUN-05|   IT_PROG|  4800|            - |       103|           60|\n",
      "|        106|     Valli|Pataballa|VPATABAL|590.423.4560|05-FEB-06|   IT_PROG|  4800|            - |       103|           60|\n",
      "|        107|     Diana|  Lorentz|DLORENTZ|590.423.5567|07-FEB-07|   IT_PROG|  4200|            - |       103|           60|\n",
      "|        108|     Nancy|Greenberg|NGREENBE|515.124.4569|17-AUG-02|    FI_MGR| 12008|            - |       101|          100|\n",
      "|        109|    Daniel|   Faviet| DFAVIET|515.124.4169|16-AUG-02|FI_ACCOUNT|  9000|            - |       108|          100|\n",
      "|        110|      John|     Chen|   JCHEN|515.124.4269|28-SEP-05|FI_ACCOUNT|  8200|            - |       108|          100|\n",
      "+-----------+----------+---------+--------+------------+---------+----------+------+--------------+----------+-------------+\n",
      "only showing top 20 rows\n",
      "\n"
     ]
    }
   ],
   "source": [
    "empDf.select(\"*\").show()"
   ]
  },
  {
   "cell_type": "code",
   "execution_count": 31,
   "id": "006133fc",
   "metadata": {},
   "outputs": [
    {
     "name": "stdout",
     "output_type": "stream",
     "text": [
      "+-----------+----------+\n",
      "|EMPLOYEE_ID|FIRST_NAME|\n",
      "+-----------+----------+\n",
      "|        198|    Donald|\n",
      "|        199|   Douglas|\n",
      "|        200|  Jennifer|\n",
      "|        201|   Michael|\n",
      "|        202|       Pat|\n",
      "|        203|     Susan|\n",
      "|        204|   Hermann|\n",
      "|        205|   Shelley|\n",
      "|        206|   William|\n",
      "|        100|    Steven|\n",
      "|        101|     Neena|\n",
      "|        102|       Lex|\n",
      "|        103| Alexander|\n",
      "|        104|     Bruce|\n",
      "|        105|     David|\n",
      "|        106|     Valli|\n",
      "|        107|     Diana|\n",
      "|        108|     Nancy|\n",
      "|        109|    Daniel|\n",
      "|        110|      John|\n",
      "+-----------+----------+\n",
      "only showing top 20 rows\n",
      "\n"
     ]
    }
   ],
   "source": [
    "empDf.select(\"EMPLOYEE_ID\",\"FIRST_NAME\").show()"
   ]
  },
  {
   "cell_type": "code",
   "execution_count": 32,
   "id": "5c2c89b0",
   "metadata": {},
   "outputs": [
    {
     "name": "stdout",
     "output_type": "stream",
     "text": [
      "+-----------+----------+\n",
      "|EMPLOYEE_ID|FIRST_NAME|\n",
      "+-----------+----------+\n",
      "|        198|    Donald|\n",
      "|        199|   Douglas|\n",
      "|        200|  Jennifer|\n",
      "|        201|   Michael|\n",
      "|        202|       Pat|\n",
      "|        203|     Susan|\n",
      "|        204|   Hermann|\n",
      "|        205|   Shelley|\n",
      "|        206|   William|\n",
      "|        100|    Steven|\n",
      "|        101|     Neena|\n",
      "|        102|       Lex|\n",
      "|        103| Alexander|\n",
      "|        104|     Bruce|\n",
      "|        105|     David|\n",
      "|        106|     Valli|\n",
      "|        107|     Diana|\n",
      "|        108|     Nancy|\n",
      "|        109|    Daniel|\n",
      "|        110|      John|\n",
      "+-----------+----------+\n",
      "only showing top 20 rows\n",
      "\n"
     ]
    }
   ],
   "source": [
    "empDf.select(empDf.EMPLOYEE_ID,empDf.FIRST_NAME).show()"
   ]
  },
  {
   "cell_type": "code",
   "execution_count": 33,
   "id": "f11981fd",
   "metadata": {},
   "outputs": [
    {
     "name": "stdout",
     "output_type": "stream",
     "text": [
      "+-----------+----------+\n",
      "|EMPLOYEE_ID|FIRST_NAME|\n",
      "+-----------+----------+\n",
      "|        198|    Donald|\n",
      "|        199|   Douglas|\n",
      "|        200|  Jennifer|\n",
      "|        201|   Michael|\n",
      "|        202|       Pat|\n",
      "|        203|     Susan|\n",
      "|        204|   Hermann|\n",
      "|        205|   Shelley|\n",
      "|        206|   William|\n",
      "|        100|    Steven|\n",
      "|        101|     Neena|\n",
      "|        102|       Lex|\n",
      "|        103| Alexander|\n",
      "|        104|     Bruce|\n",
      "|        105|     David|\n",
      "|        106|     Valli|\n",
      "|        107|     Diana|\n",
      "|        108|     Nancy|\n",
      "|        109|    Daniel|\n",
      "|        110|      John|\n",
      "+-----------+----------+\n",
      "only showing top 20 rows\n",
      "\n"
     ]
    }
   ],
   "source": [
    "empDf.select(empDf[\"EMPLOYEE_ID\"],empDf[\"FIRST_NAME\"]).show()"
   ]
  },
  {
   "cell_type": "code",
   "execution_count": 34,
   "id": "9caa14d5",
   "metadata": {},
   "outputs": [
    {
     "name": "stdout",
     "output_type": "stream",
     "text": [
      "+-----------+----------+\n",
      "|EMPLOYEE_ID|FIRST_NAME|\n",
      "+-----------+----------+\n",
      "|        198|    Donald|\n",
      "|        199|   Douglas|\n",
      "|        200|  Jennifer|\n",
      "|        201|   Michael|\n",
      "|        202|       Pat|\n",
      "|        203|     Susan|\n",
      "|        204|   Hermann|\n",
      "|        205|   Shelley|\n",
      "|        206|   William|\n",
      "|        100|    Steven|\n",
      "|        101|     Neena|\n",
      "|        102|       Lex|\n",
      "|        103| Alexander|\n",
      "|        104|     Bruce|\n",
      "|        105|     David|\n",
      "|        106|     Valli|\n",
      "|        107|     Diana|\n",
      "|        108|     Nancy|\n",
      "|        109|    Daniel|\n",
      "|        110|      John|\n",
      "+-----------+----------+\n",
      "only showing top 20 rows\n",
      "\n"
     ]
    }
   ],
   "source": [
    "from pyspark.sql.functions import col\n",
    "empDf.select(col(\"EMPLOYEE_ID\"),col(\"FIRST_NAME\")).show()"
   ]
  },
  {
   "cell_type": "code",
   "execution_count": 35,
   "id": "cde90a04",
   "metadata": {},
   "outputs": [
    {
     "name": "stdout",
     "output_type": "stream",
     "text": [
      "+------+---------+\n",
      "|EMP_ID|   F_NAME|\n",
      "+------+---------+\n",
      "|   198|   Donald|\n",
      "|   199|  Douglas|\n",
      "|   200| Jennifer|\n",
      "|   201|  Michael|\n",
      "|   202|      Pat|\n",
      "|   203|    Susan|\n",
      "|   204|  Hermann|\n",
      "|   205|  Shelley|\n",
      "|   206|  William|\n",
      "|   100|   Steven|\n",
      "|   101|    Neena|\n",
      "|   102|      Lex|\n",
      "|   103|Alexander|\n",
      "|   104|    Bruce|\n",
      "|   105|    David|\n",
      "|   106|    Valli|\n",
      "|   107|    Diana|\n",
      "|   108|    Nancy|\n",
      "|   109|   Daniel|\n",
      "|   110|     John|\n",
      "+------+---------+\n",
      "only showing top 20 rows\n",
      "\n"
     ]
    }
   ],
   "source": [
    "empDf.select(col(\"EMPLOYEE_ID\").alias(\"EMP_ID\"),col(\"FIRST_NAME\").alias(\"F_NAME\")).show()"
   ]
  },
  {
   "cell_type": "code",
   "execution_count": 36,
   "id": "29be214e",
   "metadata": {},
   "outputs": [
    {
     "name": "stdout",
     "output_type": "stream",
     "text": [
      "+-----------+----------+------+----------+\n",
      "|EMPLOYEE_ID|FIRST_NAME|SALARY|NEW_SALARY|\n",
      "+-----------+----------+------+----------+\n",
      "|        198|    Donald|  2600|      3600|\n",
      "|        199|   Douglas|  2600|      3600|\n",
      "|        200|  Jennifer|  4400|      5400|\n",
      "|        201|   Michael| 13000|     14000|\n",
      "|        202|       Pat|  6000|      7000|\n",
      "|        203|     Susan|  6500|      7500|\n",
      "|        204|   Hermann| 10000|     11000|\n",
      "|        205|   Shelley| 12008|     13008|\n",
      "|        206|   William|  8300|      9300|\n",
      "|        100|    Steven| 24000|     25000|\n",
      "|        101|     Neena| 17000|     18000|\n",
      "|        102|       Lex| 17000|     18000|\n",
      "|        103| Alexander|  9000|     10000|\n",
      "|        104|     Bruce|  6000|      7000|\n",
      "|        105|     David|  4800|      5800|\n",
      "|        106|     Valli|  4800|      5800|\n",
      "|        107|     Diana|  4200|      5200|\n",
      "|        108|     Nancy| 12008|     13008|\n",
      "|        109|    Daniel|  9000|     10000|\n",
      "|        110|      John|  8200|      9200|\n",
      "+-----------+----------+------+----------+\n",
      "only showing top 20 rows\n",
      "\n"
     ]
    }
   ],
   "source": [
    "empDf.select(\"EMPLOYEE_ID\",\"FIRST_NAME\",\"SALARY\").withColumn(\"NEW_SALARY\",col(\"SALARY\") + 1000).show()"
   ]
  },
  {
   "cell_type": "code",
   "execution_count": 37,
   "id": "86aa7529",
   "metadata": {},
   "outputs": [
    {
     "name": "stdout",
     "output_type": "stream",
     "text": [
      "+-----------+----------+----------+\n",
      "|EMPLOYEE_ID|FIRST_NAME|NEW_SALARY|\n",
      "+-----------+----------+----------+\n",
      "|        198|    Donald|      3600|\n",
      "|        199|   Douglas|      3600|\n",
      "|        200|  Jennifer|      5400|\n",
      "|        201|   Michael|     14000|\n",
      "|        202|       Pat|      7000|\n",
      "|        203|     Susan|      7500|\n",
      "|        204|   Hermann|     11000|\n",
      "|        205|   Shelley|     13008|\n",
      "|        206|   William|      9300|\n",
      "|        100|    Steven|     25000|\n",
      "|        101|     Neena|     18000|\n",
      "|        102|       Lex|     18000|\n",
      "|        103| Alexander|     10000|\n",
      "|        104|     Bruce|      7000|\n",
      "|        105|     David|      5800|\n",
      "|        106|     Valli|      5800|\n",
      "|        107|     Diana|      5200|\n",
      "|        108|     Nancy|     13008|\n",
      "|        109|    Daniel|     10000|\n",
      "|        110|      John|      9200|\n",
      "+-----------+----------+----------+\n",
      "only showing top 20 rows\n",
      "\n"
     ]
    }
   ],
   "source": [
    "empDf.withColumn(\"NEW_SALARY\",col(\"SALARY\") + 1000).select(\"EMPLOYEE_ID\",\"FIRST_NAME\",\"NEW_SALARY\").show()"
   ]
  },
  {
   "cell_type": "code",
   "execution_count": 38,
   "id": "61120d5e",
   "metadata": {},
   "outputs": [
    {
     "name": "stdout",
     "output_type": "stream",
     "text": [
      "+-----------+----------+------+\n",
      "|EMPLOYEE_ID|FIRST_NAME|SALARY|\n",
      "+-----------+----------+------+\n",
      "|        198|    Donald|  1600|\n",
      "|        199|   Douglas|  1600|\n",
      "|        200|  Jennifer|  3400|\n",
      "|        201|   Michael| 12000|\n",
      "|        202|       Pat|  5000|\n",
      "|        203|     Susan|  5500|\n",
      "|        204|   Hermann|  9000|\n",
      "|        205|   Shelley| 11008|\n",
      "|        206|   William|  7300|\n",
      "|        100|    Steven| 23000|\n",
      "|        101|     Neena| 16000|\n",
      "|        102|       Lex| 16000|\n",
      "|        103| Alexander|  8000|\n",
      "|        104|     Bruce|  5000|\n",
      "|        105|     David|  3800|\n",
      "|        106|     Valli|  3800|\n",
      "|        107|     Diana|  3200|\n",
      "|        108|     Nancy| 11008|\n",
      "|        109|    Daniel|  8000|\n",
      "|        110|      John|  7200|\n",
      "+-----------+----------+------+\n",
      "only showing top 20 rows\n",
      "\n"
     ]
    }
   ],
   "source": [
    "empDf.withColumn(\"SALARY\",col(\"SALARY\") - 1000).select(\"EMPLOYEE_ID\",\"FIRST_NAME\",\"SALARY\").show()"
   ]
  },
  {
   "cell_type": "code",
   "execution_count": 39,
   "id": "d11f5319",
   "metadata": {},
   "outputs": [
    {
     "name": "stdout",
     "output_type": "stream",
     "text": [
      "+-----------+----------+---------+--------+------------+---------+----------+----------+--------------+----------+-------------+\n",
      "|EMPLOYEE_ID|FIRST_NAME|LAST_NAME|   EMAIL|PHONE_NUMBER|HIRE_DATE|    JOB_ID|EMP_SALARY|COMMISSION_PCT|MANAGER_ID|DEPARTMENT_ID|\n",
      "+-----------+----------+---------+--------+------------+---------+----------+----------+--------------+----------+-------------+\n",
      "|        198|    Donald| OConnell|DOCONNEL|650.507.9833|21-JUN-07|  SH_CLERK|      2600|            - |       124|           50|\n",
      "|        199|   Douglas|    Grant|  DGRANT|650.507.9844|13-JAN-08|  SH_CLERK|      2600|            - |       124|           50|\n",
      "|        200|  Jennifer|   Whalen| JWHALEN|515.123.4444|17-SEP-03|   AD_ASST|      4400|            - |       101|           10|\n",
      "|        201|   Michael|Hartstein|MHARTSTE|515.123.5555|17-FEB-04|    MK_MAN|     13000|            - |       100|           20|\n",
      "|        202|       Pat|      Fay|    PFAY|603.123.6666|17-AUG-05|    MK_REP|      6000|            - |       201|           20|\n",
      "|        203|     Susan|   Mavris| SMAVRIS|515.123.7777|07-JUN-02|    HR_REP|      6500|            - |       101|           40|\n",
      "|        204|   Hermann|     Baer|   HBAER|515.123.8888|07-JUN-02|    PR_REP|     10000|            - |       101|           70|\n",
      "|        205|   Shelley|  Higgins|SHIGGINS|515.123.8080|07-JUN-02|    AC_MGR|     12008|            - |       101|          110|\n",
      "|        206|   William|    Gietz|  WGIETZ|515.123.8181|07-JUN-02|AC_ACCOUNT|      8300|            - |       205|          110|\n",
      "|        100|    Steven|     King|   SKING|515.123.4567|17-JUN-03|   AD_PRES|     24000|            - |        - |           90|\n",
      "|        101|     Neena|  Kochhar|NKOCHHAR|515.123.4568|21-SEP-05|     AD_VP|     17000|            - |       100|           90|\n",
      "|        102|       Lex|  De Haan| LDEHAAN|515.123.4569|13-JAN-01|     AD_VP|     17000|            - |       100|           90|\n",
      "|        103| Alexander|   Hunold| AHUNOLD|590.423.4567|03-JAN-06|   IT_PROG|      9000|            - |       102|           60|\n",
      "|        104|     Bruce|    Ernst|  BERNST|590.423.4568|21-MAY-07|   IT_PROG|      6000|            - |       103|           60|\n",
      "|        105|     David|   Austin| DAUSTIN|590.423.4569|25-JUN-05|   IT_PROG|      4800|            - |       103|           60|\n",
      "|        106|     Valli|Pataballa|VPATABAL|590.423.4560|05-FEB-06|   IT_PROG|      4800|            - |       103|           60|\n",
      "|        107|     Diana|  Lorentz|DLORENTZ|590.423.5567|07-FEB-07|   IT_PROG|      4200|            - |       103|           60|\n",
      "|        108|     Nancy|Greenberg|NGREENBE|515.124.4569|17-AUG-02|    FI_MGR|     12008|            - |       101|          100|\n",
      "|        109|    Daniel|   Faviet| DFAVIET|515.124.4169|16-AUG-02|FI_ACCOUNT|      9000|            - |       108|          100|\n",
      "|        110|      John|     Chen|   JCHEN|515.124.4269|28-SEP-05|FI_ACCOUNT|      8200|            - |       108|          100|\n",
      "+-----------+----------+---------+--------+------------+---------+----------+----------+--------------+----------+-------------+\n",
      "only showing top 20 rows\n",
      "\n"
     ]
    }
   ],
   "source": [
    "empDf.withColumnRenamed(\"SALARY\",\"EMP_SALARY\").show()"
   ]
  },
  {
   "cell_type": "code",
   "execution_count": 40,
   "id": "ae0cab9c",
   "metadata": {},
   "outputs": [
    {
     "name": "stdout",
     "output_type": "stream",
     "text": [
      "+-----------+----------+---------+--------+------------+---------+----------+------+----------+-------------+\n",
      "|EMPLOYEE_ID|FIRST_NAME|LAST_NAME|   EMAIL|PHONE_NUMBER|HIRE_DATE|    JOB_ID|SALARY|MANAGER_ID|DEPARTMENT_ID|\n",
      "+-----------+----------+---------+--------+------------+---------+----------+------+----------+-------------+\n",
      "|        198|    Donald| OConnell|DOCONNEL|650.507.9833|21-JUN-07|  SH_CLERK|  2600|       124|           50|\n",
      "|        199|   Douglas|    Grant|  DGRANT|650.507.9844|13-JAN-08|  SH_CLERK|  2600|       124|           50|\n",
      "|        200|  Jennifer|   Whalen| JWHALEN|515.123.4444|17-SEP-03|   AD_ASST|  4400|       101|           10|\n",
      "|        201|   Michael|Hartstein|MHARTSTE|515.123.5555|17-FEB-04|    MK_MAN| 13000|       100|           20|\n",
      "|        202|       Pat|      Fay|    PFAY|603.123.6666|17-AUG-05|    MK_REP|  6000|       201|           20|\n",
      "|        203|     Susan|   Mavris| SMAVRIS|515.123.7777|07-JUN-02|    HR_REP|  6500|       101|           40|\n",
      "|        204|   Hermann|     Baer|   HBAER|515.123.8888|07-JUN-02|    PR_REP| 10000|       101|           70|\n",
      "|        205|   Shelley|  Higgins|SHIGGINS|515.123.8080|07-JUN-02|    AC_MGR| 12008|       101|          110|\n",
      "|        206|   William|    Gietz|  WGIETZ|515.123.8181|07-JUN-02|AC_ACCOUNT|  8300|       205|          110|\n",
      "|        100|    Steven|     King|   SKING|515.123.4567|17-JUN-03|   AD_PRES| 24000|        - |           90|\n",
      "|        101|     Neena|  Kochhar|NKOCHHAR|515.123.4568|21-SEP-05|     AD_VP| 17000|       100|           90|\n",
      "|        102|       Lex|  De Haan| LDEHAAN|515.123.4569|13-JAN-01|     AD_VP| 17000|       100|           90|\n",
      "|        103| Alexander|   Hunold| AHUNOLD|590.423.4567|03-JAN-06|   IT_PROG|  9000|       102|           60|\n",
      "|        104|     Bruce|    Ernst|  BERNST|590.423.4568|21-MAY-07|   IT_PROG|  6000|       103|           60|\n",
      "|        105|     David|   Austin| DAUSTIN|590.423.4569|25-JUN-05|   IT_PROG|  4800|       103|           60|\n",
      "|        106|     Valli|Pataballa|VPATABAL|590.423.4560|05-FEB-06|   IT_PROG|  4800|       103|           60|\n",
      "|        107|     Diana|  Lorentz|DLORENTZ|590.423.5567|07-FEB-07|   IT_PROG|  4200|       103|           60|\n",
      "|        108|     Nancy|Greenberg|NGREENBE|515.124.4569|17-AUG-02|    FI_MGR| 12008|       101|          100|\n",
      "|        109|    Daniel|   Faviet| DFAVIET|515.124.4169|16-AUG-02|FI_ACCOUNT|  9000|       108|          100|\n",
      "|        110|      John|     Chen|   JCHEN|515.124.4269|28-SEP-05|FI_ACCOUNT|  8200|       108|          100|\n",
      "+-----------+----------+---------+--------+------------+---------+----------+------+----------+-------------+\n",
      "only showing top 20 rows\n",
      "\n"
     ]
    }
   ],
   "source": [
    "empDf.drop(\"COMMISSION_PCT\").show()"
   ]
  },
  {
   "cell_type": "code",
   "execution_count": 41,
   "id": "3a20033d",
   "metadata": {},
   "outputs": [
    {
     "name": "stdout",
     "output_type": "stream",
     "text": [
      "+-----------+----------+-----------+--------+------------+---------+--------+------+--------------+----------+-------------+\n",
      "|EMPLOYEE_ID|FIRST_NAME|  LAST_NAME|   EMAIL|PHONE_NUMBER|HIRE_DATE|  JOB_ID|SALARY|COMMISSION_PCT|MANAGER_ID|DEPARTMENT_ID|\n",
      "+-----------+----------+-----------+--------+------------+---------+--------+------+--------------+----------+-------------+\n",
      "|        198|    Donald|   OConnell|DOCONNEL|650.507.9833|21-JUN-07|SH_CLERK|  2600|            - |       124|           50|\n",
      "|        199|   Douglas|      Grant|  DGRANT|650.507.9844|13-JAN-08|SH_CLERK|  2600|            - |       124|           50|\n",
      "|        200|  Jennifer|     Whalen| JWHALEN|515.123.4444|17-SEP-03| AD_ASST|  4400|            - |       101|           10|\n",
      "|        105|     David|     Austin| DAUSTIN|590.423.4569|25-JUN-05| IT_PROG|  4800|            - |       103|           60|\n",
      "|        106|     Valli|  Pataballa|VPATABAL|590.423.4560|05-FEB-06| IT_PROG|  4800|            - |       103|           60|\n",
      "|        107|     Diana|    Lorentz|DLORENTZ|590.423.5567|07-FEB-07| IT_PROG|  4200|            - |       103|           60|\n",
      "|        115| Alexander|       Khoo|   AKHOO|515.127.4562|18-MAY-03|PU_CLERK|  3100|            - |       114|           30|\n",
      "|        116|    Shelli|      Baida|  SBAIDA|515.127.4563|24-DEC-05|PU_CLERK|  2900|            - |       114|           30|\n",
      "|        117|     Sigal|     Tobias| STOBIAS|515.127.4564|24-JUL-05|PU_CLERK|  2800|            - |       114|           30|\n",
      "|        118|       Guy|     Himuro| GHIMURO|515.127.4565|15-NOV-06|PU_CLERK|  2600|            - |       114|           30|\n",
      "|        119|     Karen| Colmenares|KCOLMENA|515.127.4566|10-AUG-07|PU_CLERK|  2500|            - |       114|           30|\n",
      "|        125|     Julia|      Nayer|  JNAYER|650.124.1214|16-JUL-05|ST_CLERK|  3200|            - |       120|           50|\n",
      "|        126|     Irene|Mikkilineni|IMIKKILI|650.124.1224|28-SEP-06|ST_CLERK|  2700|            - |       120|           50|\n",
      "|        127|     James|     Landry| JLANDRY|650.124.1334|14-JAN-07|ST_CLERK|  2400|            - |       120|           50|\n",
      "|        128|    Steven|     Markle| SMARKLE|650.124.1434|08-MAR-08|ST_CLERK|  2200|            - |       120|           50|\n",
      "|        129|     Laura|     Bissot| LBISSOT|650.124.5234|20-AUG-05|ST_CLERK|  3300|            - |       121|           50|\n",
      "|        130|     Mozhe|   Atkinson|MATKINSO|650.124.6234|30-OCT-05|ST_CLERK|  2800|            - |       121|           50|\n",
      "|        131|     James|     Marlow| JAMRLOW|650.124.7234|16-FEB-05|ST_CLERK|  2500|            - |       121|           50|\n",
      "|        132|        TJ|      Olson| TJOLSON|650.124.8234|10-APR-07|ST_CLERK|  2100|            - |       121|           50|\n",
      "|        133|     Jason|     Mallin| JMALLIN|650.127.1934|14-JUN-04|ST_CLERK|  3300|            - |       122|           50|\n",
      "+-----------+----------+-----------+--------+------------+---------+--------+------+--------------+----------+-------------+\n",
      "only showing top 20 rows\n",
      "\n"
     ]
    }
   ],
   "source": [
    "empDf.filter(col(\"SALARY\") < 5000).show()"
   ]
  },
  {
   "cell_type": "code",
   "execution_count": 42,
   "id": "d147d23c",
   "metadata": {},
   "outputs": [
    {
     "name": "stdout",
     "output_type": "stream",
     "text": [
      "+-----------+----------+-----------+--------+------------+---------+--------+------+--------------+----------+-------------+\n",
      "|EMPLOYEE_ID|FIRST_NAME|  LAST_NAME|   EMAIL|PHONE_NUMBER|HIRE_DATE|  JOB_ID|SALARY|COMMISSION_PCT|MANAGER_ID|DEPARTMENT_ID|\n",
      "+-----------+----------+-----------+--------+------------+---------+--------+------+--------------+----------+-------------+\n",
      "|        198|    Donald|   OConnell|DOCONNEL|650.507.9833|21-JUN-07|SH_CLERK|  2600|            - |       124|           50|\n",
      "|        199|   Douglas|      Grant|  DGRANT|650.507.9844|13-JAN-08|SH_CLERK|  2600|            - |       124|           50|\n",
      "|        200|  Jennifer|     Whalen| JWHALEN|515.123.4444|17-SEP-03| AD_ASST|  4400|            - |       101|           10|\n",
      "|        105|     David|     Austin| DAUSTIN|590.423.4569|25-JUN-05| IT_PROG|  4800|            - |       103|           60|\n",
      "|        106|     Valli|  Pataballa|VPATABAL|590.423.4560|05-FEB-06| IT_PROG|  4800|            - |       103|           60|\n",
      "|        107|     Diana|    Lorentz|DLORENTZ|590.423.5567|07-FEB-07| IT_PROG|  4200|            - |       103|           60|\n",
      "|        115| Alexander|       Khoo|   AKHOO|515.127.4562|18-MAY-03|PU_CLERK|  3100|            - |       114|           30|\n",
      "|        116|    Shelli|      Baida|  SBAIDA|515.127.4563|24-DEC-05|PU_CLERK|  2900|            - |       114|           30|\n",
      "|        117|     Sigal|     Tobias| STOBIAS|515.127.4564|24-JUL-05|PU_CLERK|  2800|            - |       114|           30|\n",
      "|        118|       Guy|     Himuro| GHIMURO|515.127.4565|15-NOV-06|PU_CLERK|  2600|            - |       114|           30|\n",
      "|        119|     Karen| Colmenares|KCOLMENA|515.127.4566|10-AUG-07|PU_CLERK|  2500|            - |       114|           30|\n",
      "|        125|     Julia|      Nayer|  JNAYER|650.124.1214|16-JUL-05|ST_CLERK|  3200|            - |       120|           50|\n",
      "|        126|     Irene|Mikkilineni|IMIKKILI|650.124.1224|28-SEP-06|ST_CLERK|  2700|            - |       120|           50|\n",
      "|        127|     James|     Landry| JLANDRY|650.124.1334|14-JAN-07|ST_CLERK|  2400|            - |       120|           50|\n",
      "|        128|    Steven|     Markle| SMARKLE|650.124.1434|08-MAR-08|ST_CLERK|  2200|            - |       120|           50|\n",
      "|        129|     Laura|     Bissot| LBISSOT|650.124.5234|20-AUG-05|ST_CLERK|  3300|            - |       121|           50|\n",
      "|        130|     Mozhe|   Atkinson|MATKINSO|650.124.6234|30-OCT-05|ST_CLERK|  2800|            - |       121|           50|\n",
      "|        131|     James|     Marlow| JAMRLOW|650.124.7234|16-FEB-05|ST_CLERK|  2500|            - |       121|           50|\n",
      "|        132|        TJ|      Olson| TJOLSON|650.124.8234|10-APR-07|ST_CLERK|  2100|            - |       121|           50|\n",
      "|        133|     Jason|     Mallin| JMALLIN|650.127.1934|14-JUN-04|ST_CLERK|  3300|            - |       122|           50|\n",
      "|        134|   Michael|     Rogers| MROGERS|650.127.1834|26-AUG-06|ST_CLERK|  2900|            - |       122|           50|\n",
      "|        135|        Ki|        Gee|    KGEE|650.127.1734|12-DEC-07|ST_CLERK|  2400|            - |       122|           50|\n",
      "|        136|     Hazel| Philtanker|HPHILTAN|650.127.1634|06-FEB-08|ST_CLERK|  2200|            - |       122|           50|\n",
      "|        137|    Renske|     Ladwig| RLADWIG|650.121.1234|14-JUL-03|ST_CLERK|  3600|            - |       123|           50|\n",
      "|        138|   Stephen|     Stiles| SSTILES|650.121.2034|26-OCT-05|ST_CLERK|  3200|            - |       123|           50|\n",
      "|        139|      John|        Seo|    JSEO|650.121.2019|12-FEB-06|ST_CLERK|  2700|            - |       123|           50|\n",
      "|        140|    Joshua|      Patel|  JPATEL|650.121.1834|06-APR-06|ST_CLERK|  2500|            - |       123|           50|\n",
      "+-----------+----------+-----------+--------+------------+---------+--------+------+--------------+----------+-------------+\n",
      "\n"
     ]
    }
   ],
   "source": [
    "empDf.filter(col(\"SALARY\") < 5000).show(100)"
   ]
  },
  {
   "cell_type": "code",
   "execution_count": 43,
   "id": "6668282b",
   "metadata": {},
   "outputs": [
    {
     "name": "stdout",
     "output_type": "stream",
     "text": [
      "+-----------+----------+------+\n",
      "|EMPLOYEE_ID|FIRST_NAME|SALARY|\n",
      "+-----------+----------+------+\n",
      "|        198|    Donald|  2600|\n",
      "|        199|   Douglas|  2600|\n",
      "|        200|  Jennifer|  4400|\n",
      "|        105|     David|  4800|\n",
      "|        106|     Valli|  4800|\n",
      "|        107|     Diana|  4200|\n",
      "|        115| Alexander|  3100|\n",
      "|        116|    Shelli|  2900|\n",
      "|        117|     Sigal|  2800|\n",
      "|        118|       Guy|  2600|\n",
      "|        119|     Karen|  2500|\n",
      "|        125|     Julia|  3200|\n",
      "|        126|     Irene|  2700|\n",
      "|        127|     James|  2400|\n",
      "|        128|    Steven|  2200|\n",
      "|        129|     Laura|  3300|\n",
      "|        130|     Mozhe|  2800|\n",
      "|        131|     James|  2500|\n",
      "|        132|        TJ|  2100|\n",
      "|        133|     Jason|  3300|\n",
      "|        134|   Michael|  2900|\n",
      "|        135|        Ki|  2400|\n",
      "|        136|     Hazel|  2200|\n",
      "|        137|    Renske|  3600|\n",
      "|        138|   Stephen|  3200|\n",
      "|        139|      John|  2700|\n",
      "|        140|    Joshua|  2500|\n",
      "+-----------+----------+------+\n",
      "\n"
     ]
    }
   ],
   "source": [
    "empDf.filter(col(\"SALARY\") < 5000).select(\"EMPLOYEE_ID\",\"FIRST_NAME\",\"SALARY\").show(100)"
   ]
  },
  {
   "cell_type": "code",
   "execution_count": 44,
   "id": "5b16851e",
   "metadata": {},
   "outputs": [
    {
     "name": "stdout",
     "output_type": "stream",
     "text": [
      "+-----------+----------+------+-------------+\n",
      "|EMPLOYEE_ID|FIRST_NAME|SALARY|DEPARTMENT_ID|\n",
      "+-----------+----------+------+-------------+\n",
      "|        198|    Donald|  2600|           50|\n",
      "|        199|   Douglas|  2600|           50|\n",
      "|        125|     Julia|  3200|           50|\n",
      "|        126|     Irene|  2700|           50|\n",
      "|        127|     James|  2400|           50|\n",
      "|        128|    Steven|  2200|           50|\n",
      "|        129|     Laura|  3300|           50|\n",
      "|        130|     Mozhe|  2800|           50|\n",
      "|        131|     James|  2500|           50|\n",
      "|        132|        TJ|  2100|           50|\n",
      "|        133|     Jason|  3300|           50|\n",
      "|        134|   Michael|  2900|           50|\n",
      "|        135|        Ki|  2400|           50|\n",
      "|        136|     Hazel|  2200|           50|\n",
      "|        137|    Renske|  3600|           50|\n",
      "|        138|   Stephen|  3200|           50|\n",
      "|        139|      John|  2700|           50|\n",
      "|        140|    Joshua|  2500|           50|\n",
      "+-----------+----------+------+-------------+\n",
      "\n"
     ]
    }
   ],
   "source": [
    "empDf.filter((col(\"DEPARTMENT_ID\") == 50) & (col(\"SALARY\") < 5000)).select(\"EMPLOYEE_ID\",\"FIRST_NAME\",\"SALARY\",\"DEPARTMENT_ID\").show(100)"
   ]
  },
  {
   "cell_type": "code",
   "execution_count": 45,
   "id": "09e31086",
   "metadata": {},
   "outputs": [
    {
     "name": "stdout",
     "output_type": "stream",
     "text": [
      "+-----------+-----------+------+-------------+\n",
      "|EMPLOYEE_ID| FIRST_NAME|SALARY|DEPARTMENT_ID|\n",
      "+-----------+-----------+------+-------------+\n",
      "|        200|   Jennifer|  4400|           10|\n",
      "|        201|    Michael| 13000|           20|\n",
      "|        202|        Pat|  6000|           20|\n",
      "|        203|      Susan|  6500|           40|\n",
      "|        204|    Hermann| 10000|           70|\n",
      "|        205|    Shelley| 12008|          110|\n",
      "|        206|    William|  8300|          110|\n",
      "|        100|     Steven| 24000|           90|\n",
      "|        101|      Neena| 17000|           90|\n",
      "|        102|        Lex| 17000|           90|\n",
      "|        103|  Alexander|  9000|           60|\n",
      "|        104|      Bruce|  6000|           60|\n",
      "|        105|      David|  4800|           60|\n",
      "|        106|      Valli|  4800|           60|\n",
      "|        107|      Diana|  4200|           60|\n",
      "|        108|      Nancy| 12008|          100|\n",
      "|        109|     Daniel|  9000|          100|\n",
      "|        110|       John|  8200|          100|\n",
      "|        111|     Ismael|  7700|          100|\n",
      "|        112|Jose Manuel|  7800|          100|\n",
      "|        113|       Luis|  6900|          100|\n",
      "|        114|        Den| 11000|           30|\n",
      "|        115|  Alexander|  3100|           30|\n",
      "|        116|     Shelli|  2900|           30|\n",
      "|        117|      Sigal|  2800|           30|\n",
      "|        118|        Guy|  2600|           30|\n",
      "|        119|      Karen|  2500|           30|\n",
      "+-----------+-----------+------+-------------+\n",
      "\n"
     ]
    }
   ],
   "source": [
    "empDf.filter(\"DEPARTMENT_ID != 50\").select(\"EMPLOYEE_ID\",\"FIRST_NAME\",\"SALARY\",\"DEPARTMENT_ID\").show(100)"
   ]
  },
  {
   "cell_type": "code",
   "execution_count": 46,
   "id": "8497aba8",
   "metadata": {},
   "outputs": [
    {
     "name": "stdout",
     "output_type": "stream",
     "text": [
      "+-----------+----------+------+-------------+\n",
      "|EMPLOYEE_ID|FIRST_NAME|SALARY|DEPARTMENT_ID|\n",
      "+-----------+----------+------+-------------+\n",
      "|        198|    Donald|  2600|           50|\n",
      "|        199|   Douglas|  2600|           50|\n",
      "|        125|     Julia|  3200|           50|\n",
      "|        126|     Irene|  2700|           50|\n",
      "|        127|     James|  2400|           50|\n",
      "|        128|    Steven|  2200|           50|\n",
      "|        129|     Laura|  3300|           50|\n",
      "|        130|     Mozhe|  2800|           50|\n",
      "|        131|     James|  2500|           50|\n",
      "|        132|        TJ|  2100|           50|\n",
      "|        133|     Jason|  3300|           50|\n",
      "|        134|   Michael|  2900|           50|\n",
      "|        135|        Ki|  2400|           50|\n",
      "|        136|     Hazel|  2200|           50|\n",
      "|        137|    Renske|  3600|           50|\n",
      "|        138|   Stephen|  3200|           50|\n",
      "|        139|      John|  2700|           50|\n",
      "|        140|    Joshua|  2500|           50|\n",
      "+-----------+----------+------+-------------+\n",
      "\n"
     ]
    }
   ],
   "source": [
    "empDf.filter(\"DEPARTMENT_ID == 50 and SALARY < 5000\").select(\"EMPLOYEE_ID\",\"FIRST_NAME\",\"SALARY\",\"DEPARTMENT_ID\").show(100)"
   ]
  },
  {
   "cell_type": "code",
   "execution_count": 47,
   "id": "bb3fe835",
   "metadata": {},
   "outputs": [
    {
     "name": "stdout",
     "output_type": "stream",
     "text": [
      "+-----------+----------+---------+--------+------------+---------+----------+------+--------------+----------+-------------+\n",
      "|EMPLOYEE_ID|FIRST_NAME|LAST_NAME|   EMAIL|PHONE_NUMBER|HIRE_DATE|    JOB_ID|SALARY|COMMISSION_PCT|MANAGER_ID|DEPARTMENT_ID|\n",
      "+-----------+----------+---------+--------+------------+---------+----------+------+--------------+----------+-------------+\n",
      "|        120|   Matthew|    Weiss|  MWEISS|650.123.1234|18-JUL-04|    ST_MAN|  8000|            - |       100|           50|\n",
      "|        118|       Guy|   Himuro| GHIMURO|515.127.4565|15-NOV-06|  PU_CLERK|  2600|            - |       114|           30|\n",
      "|        110|      John|     Chen|   JCHEN|515.124.4269|28-SEP-05|FI_ACCOUNT|  8200|            - |       108|          100|\n",
      "|        123|    Shanta|  Vollman|SVOLLMAN|650.123.4234|10-OCT-05|    ST_MAN|  6500|            - |       100|           50|\n",
      "|        124|     Kevin|  Mourgos|KMOURGOS|650.123.5234|16-NOV-07|    ST_MAN|  5800|            - |       100|           50|\n",
      "|        137|    Renske|   Ladwig| RLADWIG|650.121.1234|14-JUL-03|  ST_CLERK|  3600|            - |       123|           50|\n",
      "|        132|        TJ|    Olson| TJOLSON|650.124.8234|10-APR-07|  ST_CLERK|  2100|            - |       121|           50|\n",
      "|        113|      Luis|     Popp|   LPOPP|515.124.4567|07-DEC-07|FI_ACCOUNT|  6900|            - |       108|          100|\n",
      "|        139|      John|      Seo|    JSEO|650.121.2019|12-FEB-06|  ST_CLERK|  2700|            - |       123|           50|\n",
      "|        201|   Michael|Hartstein|MHARTSTE|515.123.5555|17-FEB-04|    MK_MAN| 13000|            - |       100|           20|\n",
      "|        107|     Diana|  Lorentz|DLORENTZ|590.423.5567|07-FEB-07|   IT_PROG|  4200|            - |       103|           60|\n",
      "|        135|        Ki|      Gee|    KGEE|650.127.1734|12-DEC-07|  ST_CLERK|  2400|            - |       122|           50|\n",
      "|        104|     Bruce|    Ernst|  BERNST|590.423.4568|21-MAY-07|   IT_PROG|  6000|            - |       103|           60|\n",
      "|        103| Alexander|   Hunold| AHUNOLD|590.423.4567|03-JAN-06|   IT_PROG|  9000|            - |       102|           60|\n",
      "|        108|     Nancy|Greenberg|NGREENBE|515.124.4569|17-AUG-02|    FI_MGR| 12008|            - |       101|          100|\n",
      "|        121|      Adam|    Fripp|  AFRIPP|650.123.2234|10-APR-05|    ST_MAN|  8200|            - |       100|           50|\n",
      "|        100|    Steven|     King|   SKING|515.123.4567|17-JUN-03|   AD_PRES| 24000|            - |        - |           90|\n",
      "|        117|     Sigal|   Tobias| STOBIAS|515.127.4564|24-JUL-05|  PU_CLERK|  2800|            - |       114|           30|\n",
      "|        130|     Mozhe| Atkinson|MATKINSO|650.124.6234|30-OCT-05|  ST_CLERK|  2800|            - |       121|           50|\n",
      "|        134|   Michael|   Rogers| MROGERS|650.127.1834|26-AUG-06|  ST_CLERK|  2900|            - |       122|           50|\n",
      "+-----------+----------+---------+--------+------------+---------+----------+------+--------------+----------+-------------+\n",
      "only showing top 20 rows\n",
      "\n"
     ]
    }
   ],
   "source": [
    "empDf.distinct().show()"
   ]
  },
  {
   "cell_type": "code",
   "execution_count": 48,
   "id": "d3640ff7",
   "metadata": {},
   "outputs": [
    {
     "name": "stdout",
     "output_type": "stream",
     "text": [
      "+-----------+-----------+-----------+--------+------------+---------+----------+------+--------------+----------+-------------+\n",
      "|EMPLOYEE_ID| FIRST_NAME|  LAST_NAME|   EMAIL|PHONE_NUMBER|HIRE_DATE|    JOB_ID|SALARY|COMMISSION_PCT|MANAGER_ID|DEPARTMENT_ID|\n",
      "+-----------+-----------+-----------+--------+------------+---------+----------+------+--------------+----------+-------------+\n",
      "|        120|    Matthew|      Weiss|  MWEISS|650.123.1234|18-JUL-04|    ST_MAN|  8000|            - |       100|           50|\n",
      "|        118|        Guy|     Himuro| GHIMURO|515.127.4565|15-NOV-06|  PU_CLERK|  2600|            - |       114|           30|\n",
      "|        110|       John|       Chen|   JCHEN|515.124.4269|28-SEP-05|FI_ACCOUNT|  8200|            - |       108|          100|\n",
      "|        123|     Shanta|    Vollman|SVOLLMAN|650.123.4234|10-OCT-05|    ST_MAN|  6500|            - |       100|           50|\n",
      "|        124|      Kevin|    Mourgos|KMOURGOS|650.123.5234|16-NOV-07|    ST_MAN|  5800|            - |       100|           50|\n",
      "|        137|     Renske|     Ladwig| RLADWIG|650.121.1234|14-JUL-03|  ST_CLERK|  3600|            - |       123|           50|\n",
      "|        132|         TJ|      Olson| TJOLSON|650.124.8234|10-APR-07|  ST_CLERK|  2100|            - |       121|           50|\n",
      "|        113|       Luis|       Popp|   LPOPP|515.124.4567|07-DEC-07|FI_ACCOUNT|  6900|            - |       108|          100|\n",
      "|        139|       John|        Seo|    JSEO|650.121.2019|12-FEB-06|  ST_CLERK|  2700|            - |       123|           50|\n",
      "|        201|    Michael|  Hartstein|MHARTSTE|515.123.5555|17-FEB-04|    MK_MAN| 13000|            - |       100|           20|\n",
      "|        107|      Diana|    Lorentz|DLORENTZ|590.423.5567|07-FEB-07|   IT_PROG|  4200|            - |       103|           60|\n",
      "|        135|         Ki|        Gee|    KGEE|650.127.1734|12-DEC-07|  ST_CLERK|  2400|            - |       122|           50|\n",
      "|        104|      Bruce|      Ernst|  BERNST|590.423.4568|21-MAY-07|   IT_PROG|  6000|            - |       103|           60|\n",
      "|        103|  Alexander|     Hunold| AHUNOLD|590.423.4567|03-JAN-06|   IT_PROG|  9000|            - |       102|           60|\n",
      "|        108|      Nancy|  Greenberg|NGREENBE|515.124.4569|17-AUG-02|    FI_MGR| 12008|            - |       101|          100|\n",
      "|        121|       Adam|      Fripp|  AFRIPP|650.123.2234|10-APR-05|    ST_MAN|  8200|            - |       100|           50|\n",
      "|        100|     Steven|       King|   SKING|515.123.4567|17-JUN-03|   AD_PRES| 24000|            - |        - |           90|\n",
      "|        117|      Sigal|     Tobias| STOBIAS|515.127.4564|24-JUL-05|  PU_CLERK|  2800|            - |       114|           30|\n",
      "|        130|      Mozhe|   Atkinson|MATKINSO|650.124.6234|30-OCT-05|  ST_CLERK|  2800|            - |       121|           50|\n",
      "|        134|    Michael|     Rogers| MROGERS|650.127.1834|26-AUG-06|  ST_CLERK|  2900|            - |       122|           50|\n",
      "|        133|      Jason|     Mallin| JMALLIN|650.127.1934|14-JUN-04|  ST_CLERK|  3300|            - |       122|           50|\n",
      "|        138|    Stephen|     Stiles| SSTILES|650.121.2034|26-OCT-05|  ST_CLERK|  3200|            - |       123|           50|\n",
      "|        105|      David|     Austin| DAUSTIN|590.423.4569|25-JUN-05|   IT_PROG|  4800|            - |       103|           60|\n",
      "|        111|     Ismael|    Sciarra|ISCIARRA|515.124.4369|30-SEP-05|FI_ACCOUNT|  7700|            - |       108|          100|\n",
      "|        116|     Shelli|      Baida|  SBAIDA|515.127.4563|24-DEC-05|  PU_CLERK|  2900|            - |       114|           30|\n",
      "|        204|    Hermann|       Baer|   HBAER|515.123.8888|07-JUN-02|    PR_REP| 10000|            - |       101|           70|\n",
      "|        115|  Alexander|       Khoo|   AKHOO|515.127.4562|18-MAY-03|  PU_CLERK|  3100|            - |       114|           30|\n",
      "|        102|        Lex|    De Haan| LDEHAAN|515.123.4569|13-JAN-01|     AD_VP| 17000|            - |       100|           90|\n",
      "|        114|        Den|   Raphaely|DRAPHEAL|515.127.4561|07-DEC-02|    PU_MAN| 11000|            - |       100|           30|\n",
      "|        206|    William|      Gietz|  WGIETZ|515.123.8181|07-JUN-02|AC_ACCOUNT|  8300|            - |       205|          110|\n",
      "|        205|    Shelley|    Higgins|SHIGGINS|515.123.8080|07-JUN-02|    AC_MGR| 12008|            - |       101|          110|\n",
      "|        119|      Karen| Colmenares|KCOLMENA|515.127.4566|10-AUG-07|  PU_CLERK|  2500|            - |       114|           30|\n",
      "|        106|      Valli|  Pataballa|VPATABAL|590.423.4560|05-FEB-06|   IT_PROG|  4800|            - |       103|           60|\n",
      "|        126|      Irene|Mikkilineni|IMIKKILI|650.124.1224|28-SEP-06|  ST_CLERK|  2700|            - |       120|           50|\n",
      "|        140|     Joshua|      Patel|  JPATEL|650.121.1834|06-APR-06|  ST_CLERK|  2500|            - |       123|           50|\n",
      "|        125|      Julia|      Nayer|  JNAYER|650.124.1214|16-JUL-05|  ST_CLERK|  3200|            - |       120|           50|\n",
      "|        136|      Hazel| Philtanker|HPHILTAN|650.127.1634|06-FEB-08|  ST_CLERK|  2200|            - |       122|           50|\n",
      "|        129|      Laura|     Bissot| LBISSOT|650.124.5234|20-AUG-05|  ST_CLERK|  3300|            - |       121|           50|\n",
      "|        203|      Susan|     Mavris| SMAVRIS|515.123.7777|07-JUN-02|    HR_REP|  6500|            - |       101|           40|\n",
      "|        198|     Donald|   OConnell|DOCONNEL|650.507.9833|21-JUN-07|  SH_CLERK|  2600|            - |       124|           50|\n",
      "|        202|        Pat|        Fay|    PFAY|603.123.6666|17-AUG-05|    MK_REP|  6000|            - |       201|           20|\n",
      "|        200|   Jennifer|     Whalen| JWHALEN|515.123.4444|17-SEP-03|   AD_ASST|  4400|            - |       101|           10|\n",
      "|        109|     Daniel|     Faviet| DFAVIET|515.124.4169|16-AUG-02|FI_ACCOUNT|  9000|            - |       108|          100|\n",
      "|        101|      Neena|    Kochhar|NKOCHHAR|515.123.4568|21-SEP-05|     AD_VP| 17000|            - |       100|           90|\n",
      "|        122|      Payam|   Kaufling|PKAUFLIN|650.123.3234|01-MAY-03|    ST_MAN|  7900|            - |       100|           50|\n",
      "|        199|    Douglas|      Grant|  DGRANT|650.507.9844|13-JAN-08|  SH_CLERK|  2600|            - |       124|           50|\n",
      "|        127|      James|     Landry| JLANDRY|650.124.1334|14-JAN-07|  ST_CLERK|  2400|            - |       120|           50|\n",
      "|        128|     Steven|     Markle| SMARKLE|650.124.1434|08-MAR-08|  ST_CLERK|  2200|            - |       120|           50|\n",
      "|        112|Jose Manuel|      Urman| JMURMAN|515.124.4469|07-MAR-06|FI_ACCOUNT|  7800|            - |       108|          100|\n",
      "|        131|      James|     Marlow| JAMRLOW|650.124.7234|16-FEB-05|  ST_CLERK|  2500|            - |       121|           50|\n",
      "+-----------+-----------+-----------+--------+------------+---------+----------+------+--------------+----------+-------------+\n",
      "\n"
     ]
    }
   ],
   "source": [
    "empDf.distinct().show(100)"
   ]
  },
  {
   "cell_type": "code",
   "execution_count": 49,
   "id": "62d857cc",
   "metadata": {},
   "outputs": [
    {
     "name": "stdout",
     "output_type": "stream",
     "text": [
      "+-----------+-----------+-----------+--------+------------+---------+----------+------+--------------+----------+-------------+\n",
      "|EMPLOYEE_ID| FIRST_NAME|  LAST_NAME|   EMAIL|PHONE_NUMBER|HIRE_DATE|    JOB_ID|SALARY|COMMISSION_PCT|MANAGER_ID|DEPARTMENT_ID|\n",
      "+-----------+-----------+-----------+--------+------------+---------+----------+------+--------------+----------+-------------+\n",
      "|        120|    Matthew|      Weiss|  MWEISS|650.123.1234|18-JUL-04|    ST_MAN|  8000|            - |       100|           50|\n",
      "|        118|        Guy|     Himuro| GHIMURO|515.127.4565|15-NOV-06|  PU_CLERK|  2600|            - |       114|           30|\n",
      "|        110|       John|       Chen|   JCHEN|515.124.4269|28-SEP-05|FI_ACCOUNT|  8200|            - |       108|          100|\n",
      "|        123|     Shanta|    Vollman|SVOLLMAN|650.123.4234|10-OCT-05|    ST_MAN|  6500|            - |       100|           50|\n",
      "|        124|      Kevin|    Mourgos|KMOURGOS|650.123.5234|16-NOV-07|    ST_MAN|  5800|            - |       100|           50|\n",
      "|        137|     Renske|     Ladwig| RLADWIG|650.121.1234|14-JUL-03|  ST_CLERK|  3600|            - |       123|           50|\n",
      "|        132|         TJ|      Olson| TJOLSON|650.124.8234|10-APR-07|  ST_CLERK|  2100|            - |       121|           50|\n",
      "|        113|       Luis|       Popp|   LPOPP|515.124.4567|07-DEC-07|FI_ACCOUNT|  6900|            - |       108|          100|\n",
      "|        139|       John|        Seo|    JSEO|650.121.2019|12-FEB-06|  ST_CLERK|  2700|            - |       123|           50|\n",
      "|        201|    Michael|  Hartstein|MHARTSTE|515.123.5555|17-FEB-04|    MK_MAN| 13000|            - |       100|           20|\n",
      "|        107|      Diana|    Lorentz|DLORENTZ|590.423.5567|07-FEB-07|   IT_PROG|  4200|            - |       103|           60|\n",
      "|        135|         Ki|        Gee|    KGEE|650.127.1734|12-DEC-07|  ST_CLERK|  2400|            - |       122|           50|\n",
      "|        104|      Bruce|      Ernst|  BERNST|590.423.4568|21-MAY-07|   IT_PROG|  6000|            - |       103|           60|\n",
      "|        103|  Alexander|     Hunold| AHUNOLD|590.423.4567|03-JAN-06|   IT_PROG|  9000|            - |       102|           60|\n",
      "|        108|      Nancy|  Greenberg|NGREENBE|515.124.4569|17-AUG-02|    FI_MGR| 12008|            - |       101|          100|\n",
      "|        121|       Adam|      Fripp|  AFRIPP|650.123.2234|10-APR-05|    ST_MAN|  8200|            - |       100|           50|\n",
      "|        100|     Steven|       King|   SKING|515.123.4567|17-JUN-03|   AD_PRES| 24000|            - |        - |           90|\n",
      "|        117|      Sigal|     Tobias| STOBIAS|515.127.4564|24-JUL-05|  PU_CLERK|  2800|            - |       114|           30|\n",
      "|        130|      Mozhe|   Atkinson|MATKINSO|650.124.6234|30-OCT-05|  ST_CLERK|  2800|            - |       121|           50|\n",
      "|        134|    Michael|     Rogers| MROGERS|650.127.1834|26-AUG-06|  ST_CLERK|  2900|            - |       122|           50|\n",
      "|        133|      Jason|     Mallin| JMALLIN|650.127.1934|14-JUN-04|  ST_CLERK|  3300|            - |       122|           50|\n",
      "|        138|    Stephen|     Stiles| SSTILES|650.121.2034|26-OCT-05|  ST_CLERK|  3200|            - |       123|           50|\n",
      "|        105|      David|     Austin| DAUSTIN|590.423.4569|25-JUN-05|   IT_PROG|  4800|            - |       103|           60|\n",
      "|        111|     Ismael|    Sciarra|ISCIARRA|515.124.4369|30-SEP-05|FI_ACCOUNT|  7700|            - |       108|          100|\n",
      "|        116|     Shelli|      Baida|  SBAIDA|515.127.4563|24-DEC-05|  PU_CLERK|  2900|            - |       114|           30|\n",
      "|        204|    Hermann|       Baer|   HBAER|515.123.8888|07-JUN-02|    PR_REP| 10000|            - |       101|           70|\n",
      "|        115|  Alexander|       Khoo|   AKHOO|515.127.4562|18-MAY-03|  PU_CLERK|  3100|            - |       114|           30|\n",
      "|        102|        Lex|    De Haan| LDEHAAN|515.123.4569|13-JAN-01|     AD_VP| 17000|            - |       100|           90|\n",
      "|        114|        Den|   Raphaely|DRAPHEAL|515.127.4561|07-DEC-02|    PU_MAN| 11000|            - |       100|           30|\n",
      "|        206|    William|      Gietz|  WGIETZ|515.123.8181|07-JUN-02|AC_ACCOUNT|  8300|            - |       205|          110|\n",
      "|        205|    Shelley|    Higgins|SHIGGINS|515.123.8080|07-JUN-02|    AC_MGR| 12008|            - |       101|          110|\n",
      "|        119|      Karen| Colmenares|KCOLMENA|515.127.4566|10-AUG-07|  PU_CLERK|  2500|            - |       114|           30|\n",
      "|        106|      Valli|  Pataballa|VPATABAL|590.423.4560|05-FEB-06|   IT_PROG|  4800|            - |       103|           60|\n",
      "|        126|      Irene|Mikkilineni|IMIKKILI|650.124.1224|28-SEP-06|  ST_CLERK|  2700|            - |       120|           50|\n",
      "|        140|     Joshua|      Patel|  JPATEL|650.121.1834|06-APR-06|  ST_CLERK|  2500|            - |       123|           50|\n",
      "|        125|      Julia|      Nayer|  JNAYER|650.124.1214|16-JUL-05|  ST_CLERK|  3200|            - |       120|           50|\n",
      "|        136|      Hazel| Philtanker|HPHILTAN|650.127.1634|06-FEB-08|  ST_CLERK|  2200|            - |       122|           50|\n",
      "|        129|      Laura|     Bissot| LBISSOT|650.124.5234|20-AUG-05|  ST_CLERK|  3300|            - |       121|           50|\n",
      "|        203|      Susan|     Mavris| SMAVRIS|515.123.7777|07-JUN-02|    HR_REP|  6500|            - |       101|           40|\n",
      "|        198|     Donald|   OConnell|DOCONNEL|650.507.9833|21-JUN-07|  SH_CLERK|  2600|            - |       124|           50|\n",
      "|        202|        Pat|        Fay|    PFAY|603.123.6666|17-AUG-05|    MK_REP|  6000|            - |       201|           20|\n",
      "|        200|   Jennifer|     Whalen| JWHALEN|515.123.4444|17-SEP-03|   AD_ASST|  4400|            - |       101|           10|\n",
      "|        109|     Daniel|     Faviet| DFAVIET|515.124.4169|16-AUG-02|FI_ACCOUNT|  9000|            - |       108|          100|\n",
      "|        101|      Neena|    Kochhar|NKOCHHAR|515.123.4568|21-SEP-05|     AD_VP| 17000|            - |       100|           90|\n",
      "|        122|      Payam|   Kaufling|PKAUFLIN|650.123.3234|01-MAY-03|    ST_MAN|  7900|            - |       100|           50|\n",
      "|        199|    Douglas|      Grant|  DGRANT|650.507.9844|13-JAN-08|  SH_CLERK|  2600|            - |       124|           50|\n",
      "|        127|      James|     Landry| JLANDRY|650.124.1334|14-JAN-07|  ST_CLERK|  2400|            - |       120|           50|\n",
      "|        128|     Steven|     Markle| SMARKLE|650.124.1434|08-MAR-08|  ST_CLERK|  2200|            - |       120|           50|\n",
      "|        112|Jose Manuel|      Urman| JMURMAN|515.124.4469|07-MAR-06|FI_ACCOUNT|  7800|            - |       108|          100|\n",
      "|        131|      James|     Marlow| JAMRLOW|650.124.7234|16-FEB-05|  ST_CLERK|  2500|            - |       121|           50|\n",
      "+-----------+-----------+-----------+--------+------------+---------+----------+------+--------------+----------+-------------+\n",
      "\n"
     ]
    }
   ],
   "source": [
    "empDf.dropDuplicates().show(100)"
   ]
  },
  {
   "cell_type": "code",
   "execution_count": 50,
   "id": "dd5a526e",
   "metadata": {},
   "outputs": [
    {
     "name": "stdout",
     "output_type": "stream",
     "text": [
      "+-----------+-----------+-----------+--------+------------+---------+----------+------+--------------+----------+-------------+\n",
      "|EMPLOYEE_ID| FIRST_NAME|  LAST_NAME|   EMAIL|PHONE_NUMBER|HIRE_DATE|    JOB_ID|SALARY|COMMISSION_PCT|MANAGER_ID|DEPARTMENT_ID|\n",
      "+-----------+-----------+-----------+--------+------------+---------+----------+------+--------------+----------+-------------+\n",
      "|        200|   Jennifer|     Whalen| JWHALEN|515.123.4444|17-SEP-03|   AD_ASST|  4400|            - |       101|           10|\n",
      "|        202|        Pat|        Fay|    PFAY|603.123.6666|17-AUG-05|    MK_REP|  6000|            - |       201|           20|\n",
      "|        201|    Michael|  Hartstein|MHARTSTE|515.123.5555|17-FEB-04|    MK_MAN| 13000|            - |       100|           20|\n",
      "|        114|        Den|   Raphaely|DRAPHEAL|515.127.4561|07-DEC-02|    PU_MAN| 11000|            - |       100|           30|\n",
      "|        119|      Karen| Colmenares|KCOLMENA|515.127.4566|10-AUG-07|  PU_CLERK|  2500|            - |       114|           30|\n",
      "|        118|        Guy|     Himuro| GHIMURO|515.127.4565|15-NOV-06|  PU_CLERK|  2600|            - |       114|           30|\n",
      "|        115|  Alexander|       Khoo|   AKHOO|515.127.4562|18-MAY-03|  PU_CLERK|  3100|            - |       114|           30|\n",
      "|        116|     Shelli|      Baida|  SBAIDA|515.127.4563|24-DEC-05|  PU_CLERK|  2900|            - |       114|           30|\n",
      "|        117|      Sigal|     Tobias| STOBIAS|515.127.4564|24-JUL-05|  PU_CLERK|  2800|            - |       114|           30|\n",
      "|        203|      Susan|     Mavris| SMAVRIS|515.123.7777|07-JUN-02|    HR_REP|  6500|            - |       101|           40|\n",
      "|        122|      Payam|   Kaufling|PKAUFLIN|650.123.3234|01-MAY-03|    ST_MAN|  7900|            - |       100|           50|\n",
      "|        140|     Joshua|      Patel|  JPATEL|650.121.1834|06-APR-06|  ST_CLERK|  2500|            - |       123|           50|\n",
      "|        136|      Hazel| Philtanker|HPHILTAN|650.127.1634|06-FEB-08|  ST_CLERK|  2200|            - |       122|           50|\n",
      "|        128|     Steven|     Markle| SMARKLE|650.124.1434|08-MAR-08|  ST_CLERK|  2200|            - |       120|           50|\n",
      "|        121|       Adam|      Fripp|  AFRIPP|650.123.2234|10-APR-05|    ST_MAN|  8200|            - |       100|           50|\n",
      "|        132|         TJ|      Olson| TJOLSON|650.124.8234|10-APR-07|  ST_CLERK|  2100|            - |       121|           50|\n",
      "|        123|     Shanta|    Vollman|SVOLLMAN|650.123.4234|10-OCT-05|    ST_MAN|  6500|            - |       100|           50|\n",
      "|        135|         Ki|        Gee|    KGEE|650.127.1734|12-DEC-07|  ST_CLERK|  2400|            - |       122|           50|\n",
      "|        139|       John|        Seo|    JSEO|650.121.2019|12-FEB-06|  ST_CLERK|  2700|            - |       123|           50|\n",
      "|        199|    Douglas|      Grant|  DGRANT|650.507.9844|13-JAN-08|  SH_CLERK|  2600|            - |       124|           50|\n",
      "|        127|      James|     Landry| JLANDRY|650.124.1334|14-JAN-07|  ST_CLERK|  2400|            - |       120|           50|\n",
      "|        137|     Renske|     Ladwig| RLADWIG|650.121.1234|14-JUL-03|  ST_CLERK|  3600|            - |       123|           50|\n",
      "|        133|      Jason|     Mallin| JMALLIN|650.127.1934|14-JUN-04|  ST_CLERK|  3300|            - |       122|           50|\n",
      "|        131|      James|     Marlow| JAMRLOW|650.124.7234|16-FEB-05|  ST_CLERK|  2500|            - |       121|           50|\n",
      "|        125|      Julia|      Nayer|  JNAYER|650.124.1214|16-JUL-05|  ST_CLERK|  3200|            - |       120|           50|\n",
      "|        124|      Kevin|    Mourgos|KMOURGOS|650.123.5234|16-NOV-07|    ST_MAN|  5800|            - |       100|           50|\n",
      "|        120|    Matthew|      Weiss|  MWEISS|650.123.1234|18-JUL-04|    ST_MAN|  8000|            - |       100|           50|\n",
      "|        129|      Laura|     Bissot| LBISSOT|650.124.5234|20-AUG-05|  ST_CLERK|  3300|            - |       121|           50|\n",
      "|        198|     Donald|   OConnell|DOCONNEL|650.507.9833|21-JUN-07|  SH_CLERK|  2600|            - |       124|           50|\n",
      "|        134|    Michael|     Rogers| MROGERS|650.127.1834|26-AUG-06|  ST_CLERK|  2900|            - |       122|           50|\n",
      "|        138|    Stephen|     Stiles| SSTILES|650.121.2034|26-OCT-05|  ST_CLERK|  3200|            - |       123|           50|\n",
      "|        126|      Irene|Mikkilineni|IMIKKILI|650.124.1224|28-SEP-06|  ST_CLERK|  2700|            - |       120|           50|\n",
      "|        130|      Mozhe|   Atkinson|MATKINSO|650.124.6234|30-OCT-05|  ST_CLERK|  2800|            - |       121|           50|\n",
      "|        103|  Alexander|     Hunold| AHUNOLD|590.423.4567|03-JAN-06|   IT_PROG|  9000|            - |       102|           60|\n",
      "|        106|      Valli|  Pataballa|VPATABAL|590.423.4560|05-FEB-06|   IT_PROG|  4800|            - |       103|           60|\n",
      "|        107|      Diana|    Lorentz|DLORENTZ|590.423.5567|07-FEB-07|   IT_PROG|  4200|            - |       103|           60|\n",
      "|        104|      Bruce|      Ernst|  BERNST|590.423.4568|21-MAY-07|   IT_PROG|  6000|            - |       103|           60|\n",
      "|        105|      David|     Austin| DAUSTIN|590.423.4569|25-JUN-05|   IT_PROG|  4800|            - |       103|           60|\n",
      "|        204|    Hermann|       Baer|   HBAER|515.123.8888|07-JUN-02|    PR_REP| 10000|            - |       101|           70|\n",
      "|        102|        Lex|    De Haan| LDEHAAN|515.123.4569|13-JAN-01|     AD_VP| 17000|            - |       100|           90|\n",
      "|        100|     Steven|       King|   SKING|515.123.4567|17-JUN-03|   AD_PRES| 24000|            - |        - |           90|\n",
      "|        101|      Neena|    Kochhar|NKOCHHAR|515.123.4568|21-SEP-05|     AD_VP| 17000|            - |       100|           90|\n",
      "|        113|       Luis|       Popp|   LPOPP|515.124.4567|07-DEC-07|FI_ACCOUNT|  6900|            - |       108|          100|\n",
      "|        112|Jose Manuel|      Urman| JMURMAN|515.124.4469|07-MAR-06|FI_ACCOUNT|  7800|            - |       108|          100|\n",
      "|        109|     Daniel|     Faviet| DFAVIET|515.124.4169|16-AUG-02|FI_ACCOUNT|  9000|            - |       108|          100|\n",
      "|        108|      Nancy|  Greenberg|NGREENBE|515.124.4569|17-AUG-02|    FI_MGR| 12008|            - |       101|          100|\n",
      "|        110|       John|       Chen|   JCHEN|515.124.4269|28-SEP-05|FI_ACCOUNT|  8200|            - |       108|          100|\n",
      "|        111|     Ismael|    Sciarra|ISCIARRA|515.124.4369|30-SEP-05|FI_ACCOUNT|  7700|            - |       108|          100|\n",
      "|        205|    Shelley|    Higgins|SHIGGINS|515.123.8080|07-JUN-02|    AC_MGR| 12008|            - |       101|          110|\n",
      "+-----------+-----------+-----------+--------+------------+---------+----------+------+--------------+----------+-------------+\n",
      "\n"
     ]
    }
   ],
   "source": [
    "empDf.dropDuplicates([\"DEPARTMENT_ID\", \"HIRE_DATE\"]).show(100)"
   ]
  },
  {
   "cell_type": "code",
   "execution_count": 51,
   "id": "96b56d92",
   "metadata": {},
   "outputs": [
    {
     "name": "stdout",
     "output_type": "stream",
     "text": [
      "+-----------+---------+-------------+\n",
      "|EMPLOYEE_ID|HIRE_DATE|DEPARTMENT_ID|\n",
      "+-----------+---------+-------------+\n",
      "|        123|10-OCT-05|           50|\n",
      "|        101|21-SEP-05|           90|\n",
      "|        107|07-FEB-07|           60|\n",
      "|        108|17-AUG-02|          100|\n",
      "|        124|16-NOV-07|           50|\n",
      "|        102|13-JAN-01|           90|\n",
      "|        120|18-JUL-04|           50|\n",
      "|        204|07-JUN-02|           70|\n",
      "|        134|26-AUG-06|           50|\n",
      "|        201|17-FEB-04|           20|\n",
      "|        113|07-DEC-07|          100|\n",
      "|        119|10-AUG-07|           30|\n",
      "|        139|12-FEB-06|           50|\n",
      "|        202|17-AUG-05|           20|\n",
      "|        126|28-SEP-06|           50|\n",
      "|        135|12-DEC-07|           50|\n",
      "|        104|21-MAY-07|           60|\n",
      "|        106|05-FEB-06|           60|\n",
      "|        100|17-JUN-03|           90|\n",
      "|        132|10-APR-07|           50|\n",
      "|        137|14-JUL-03|           50|\n",
      "|        121|10-APR-05|           50|\n",
      "|        122|01-MAY-03|           50|\n",
      "|        131|16-FEB-05|           50|\n",
      "|        198|21-JUN-07|           50|\n",
      "|        105|25-JUN-05|           60|\n",
      "|        116|24-DEC-05|           30|\n",
      "|        111|30-SEP-05|          100|\n",
      "|        200|17-SEP-03|           10|\n",
      "|        203|07-JUN-02|           40|\n",
      "|        129|20-AUG-05|           50|\n",
      "|        140|06-APR-06|           50|\n",
      "|        130|30-OCT-05|           50|\n",
      "|        115|18-MAY-03|           30|\n",
      "|        103|03-JAN-06|           60|\n",
      "|        136|06-FEB-08|           50|\n",
      "|        138|26-OCT-05|           50|\n",
      "|        205|07-JUN-02|          110|\n",
      "|        114|07-DEC-02|           30|\n",
      "|        112|07-MAR-06|          100|\n",
      "|        125|16-JUL-05|           50|\n",
      "|        199|13-JAN-08|           50|\n",
      "|        118|15-NOV-06|           30|\n",
      "|        128|08-MAR-08|           50|\n",
      "|        109|16-AUG-02|          100|\n",
      "|        133|14-JUN-04|           50|\n",
      "|        117|24-JUL-05|           30|\n",
      "|        110|28-SEP-05|          100|\n",
      "|        127|14-JAN-07|           50|\n",
      "+-----------+---------+-------------+\n",
      "\n"
     ]
    }
   ],
   "source": [
    "empDf.dropDuplicates([\"DEPARTMENT_ID\", \"HIRE_DATE\"]).select(\"EMPLOYEE_ID\",\"HIRE_DATE\",\"DEPARTMENT_ID\").show(100)"
   ]
  },
  {
   "cell_type": "code",
   "execution_count": 52,
   "id": "bd72e1a3",
   "metadata": {},
   "outputs": [
    {
     "data": {
      "text/plain": [
       "50"
      ]
     },
     "execution_count": 52,
     "metadata": {},
     "output_type": "execute_result"
    }
   ],
   "source": [
    "from pyspark.sql.functions import *\n",
    "empDf.count()"
   ]
  },
  {
   "cell_type": "code",
   "execution_count": 53,
   "id": "eacae7b8",
   "metadata": {},
   "outputs": [
    {
     "name": "stdout",
     "output_type": "stream",
     "text": [
      "+-------------+\n",
      "|count(salary)|\n",
      "+-------------+\n",
      "|           50|\n",
      "+-------------+\n",
      "\n"
     ]
    }
   ],
   "source": [
    "empDf.select(count(\"salary\")).show()"
   ]
  },
  {
   "cell_type": "code",
   "execution_count": 54,
   "id": "88e77e22",
   "metadata": {},
   "outputs": [
    {
     "name": "stdout",
     "output_type": "stream",
     "text": [
      "+-----------+\n",
      "|total_count|\n",
      "+-----------+\n",
      "|         50|\n",
      "+-----------+\n",
      "\n"
     ]
    }
   ],
   "source": [
    "empDf.select(count(\"salary\").alias(\"total_count\")).show()"
   ]
  },
  {
   "cell_type": "code",
   "execution_count": 55,
   "id": "7fbc225f",
   "metadata": {},
   "outputs": [
    {
     "name": "stdout",
     "output_type": "stream",
     "text": [
      "+----------+\n",
      "|max_salary|\n",
      "+----------+\n",
      "|     24000|\n",
      "+----------+\n",
      "\n"
     ]
    }
   ],
   "source": [
    "empDf.select(max(\"salary\").alias(\"max_salary\")).show()"
   ]
  },
  {
   "cell_type": "code",
   "execution_count": 56,
   "id": "b72cfd4e",
   "metadata": {},
   "outputs": [
    {
     "name": "stdout",
     "output_type": "stream",
     "text": [
      "+----------+\n",
      "|min_salary|\n",
      "+----------+\n",
      "|      2100|\n",
      "+----------+\n",
      "\n"
     ]
    }
   ],
   "source": [
    "empDf.select(min(\"salary\").alias(\"min_salary\")).show()"
   ]
  },
  {
   "cell_type": "code",
   "execution_count": 57,
   "id": "2e465331",
   "metadata": {},
   "outputs": [
    {
     "name": "stdout",
     "output_type": "stream",
     "text": [
      "+----------+\n",
      "|avg_salary|\n",
      "+----------+\n",
      "|   6182.32|\n",
      "+----------+\n",
      "\n"
     ]
    }
   ],
   "source": [
    "empDf.select(avg(\"salary\").alias(\"avg_salary\")).show()"
   ]
  },
  {
   "cell_type": "code",
   "execution_count": 58,
   "id": "ccd33aa3",
   "metadata": {},
   "outputs": [
    {
     "name": "stdout",
     "output_type": "stream",
     "text": [
      "+----------+\n",
      "|sum_salary|\n",
      "+----------+\n",
      "|    309116|\n",
      "+----------+\n",
      "\n"
     ]
    }
   ],
   "source": [
    "empDf.select(sum(\"salary\").alias(\"sum_salary\")).show()"
   ]
  },
  {
   "cell_type": "code",
   "execution_count": 59,
   "id": "360400e8",
   "metadata": {},
   "outputs": [
    {
     "ename": "AnalysisException",
     "evalue": "grouping expressions sequence is empty, and 'EMPLOYEE_ID' is not an aggregate function. Wrap '(sum(salary) AS sum_salary)' in windowing function(s) or wrap 'EMPLOYEE_ID' in first() (or first_value) if you don't care which value you get.;\nAggregate [EMPLOYEE_ID#192, sum(salary#199) AS sum_salary#1289L]\n+- Relation [EMPLOYEE_ID#192,FIRST_NAME#193,LAST_NAME#194,EMAIL#195,PHONE_NUMBER#196,HIRE_DATE#197,JOB_ID#198,SALARY#199,COMMISSION_PCT#200,MANAGER_ID#201,DEPARTMENT_ID#202] csv\n",
     "output_type": "error",
     "traceback": [
      "\u001b[0;31m---------------------------------------------------------------------------\u001b[0m",
      "\u001b[0;31mAnalysisException\u001b[0m                         Traceback (most recent call last)",
      "Input \u001b[0;32mIn [59]\u001b[0m, in \u001b[0;36m<cell line: 1>\u001b[0;34m()\u001b[0m\n\u001b[0;32m----> 1\u001b[0m \u001b[43mempDf\u001b[49m\u001b[38;5;241;43m.\u001b[39;49m\u001b[43mselect\u001b[49m\u001b[43m(\u001b[49m\u001b[38;5;124;43m\"\u001b[39;49m\u001b[38;5;124;43mEMPLOYEE_ID\u001b[39;49m\u001b[38;5;124;43m\"\u001b[39;49m\u001b[43m,\u001b[49m\u001b[43m \u001b[49m\u001b[38;5;28;43msum\u001b[39;49m\u001b[43m(\u001b[49m\u001b[38;5;124;43m\"\u001b[39;49m\u001b[38;5;124;43msalary\u001b[39;49m\u001b[38;5;124;43m\"\u001b[39;49m\u001b[43m)\u001b[49m\u001b[38;5;241;43m.\u001b[39;49m\u001b[43malias\u001b[49m\u001b[43m(\u001b[49m\u001b[38;5;124;43m\"\u001b[39;49m\u001b[38;5;124;43msum_salary\u001b[39;49m\u001b[38;5;124;43m\"\u001b[39;49m\u001b[43m)\u001b[49m\u001b[43m)\u001b[49m\u001b[38;5;241m.\u001b[39mshow()\n",
      "File \u001b[0;32m~/workspace_working_Repo/ML/envname/lib/python3.8/site-packages/pyspark/sql/dataframe.py:2023\u001b[0m, in \u001b[0;36mDataFrame.select\u001b[0;34m(self, *cols)\u001b[0m\n\u001b[1;32m   2002\u001b[0m \u001b[38;5;28;01mdef\u001b[39;00m \u001b[38;5;21mselect\u001b[39m(\u001b[38;5;28mself\u001b[39m, \u001b[38;5;241m*\u001b[39mcols: \u001b[38;5;124m\"\u001b[39m\u001b[38;5;124mColumnOrName\u001b[39m\u001b[38;5;124m\"\u001b[39m) \u001b[38;5;241m-\u001b[39m\u001b[38;5;241m>\u001b[39m \u001b[38;5;124m\"\u001b[39m\u001b[38;5;124mDataFrame\u001b[39m\u001b[38;5;124m\"\u001b[39m:  \u001b[38;5;66;03m# type: ignore[misc]\u001b[39;00m\n\u001b[1;32m   2003\u001b[0m     \u001b[38;5;124;03m\"\"\"Projects a set of expressions and returns a new :class:`DataFrame`.\u001b[39;00m\n\u001b[1;32m   2004\u001b[0m \n\u001b[1;32m   2005\u001b[0m \u001b[38;5;124;03m    .. versionadded:: 1.3.0\u001b[39;00m\n\u001b[0;32m   (...)\u001b[0m\n\u001b[1;32m   2021\u001b[0m \u001b[38;5;124;03m    [Row(name='Alice', age=12), Row(name='Bob', age=15)]\u001b[39;00m\n\u001b[1;32m   2022\u001b[0m \u001b[38;5;124;03m    \"\"\"\u001b[39;00m\n\u001b[0;32m-> 2023\u001b[0m     jdf \u001b[38;5;241m=\u001b[39m \u001b[38;5;28;43mself\u001b[39;49m\u001b[38;5;241;43m.\u001b[39;49m\u001b[43m_jdf\u001b[49m\u001b[38;5;241;43m.\u001b[39;49m\u001b[43mselect\u001b[49m\u001b[43m(\u001b[49m\u001b[38;5;28;43mself\u001b[39;49m\u001b[38;5;241;43m.\u001b[39;49m\u001b[43m_jcols\u001b[49m\u001b[43m(\u001b[49m\u001b[38;5;241;43m*\u001b[39;49m\u001b[43mcols\u001b[49m\u001b[43m)\u001b[49m\u001b[43m)\u001b[49m\n\u001b[1;32m   2024\u001b[0m     \u001b[38;5;28;01mreturn\u001b[39;00m DataFrame(jdf, \u001b[38;5;28mself\u001b[39m\u001b[38;5;241m.\u001b[39msparkSession)\n",
      "File \u001b[0;32m~/workspace_working_Repo/ML/envname/lib/python3.8/site-packages/py4j/java_gateway.py:1321\u001b[0m, in \u001b[0;36mJavaMember.__call__\u001b[0;34m(self, *args)\u001b[0m\n\u001b[1;32m   1315\u001b[0m command \u001b[38;5;241m=\u001b[39m proto\u001b[38;5;241m.\u001b[39mCALL_COMMAND_NAME \u001b[38;5;241m+\u001b[39m\\\n\u001b[1;32m   1316\u001b[0m     \u001b[38;5;28mself\u001b[39m\u001b[38;5;241m.\u001b[39mcommand_header \u001b[38;5;241m+\u001b[39m\\\n\u001b[1;32m   1317\u001b[0m     args_command \u001b[38;5;241m+\u001b[39m\\\n\u001b[1;32m   1318\u001b[0m     proto\u001b[38;5;241m.\u001b[39mEND_COMMAND_PART\n\u001b[1;32m   1320\u001b[0m answer \u001b[38;5;241m=\u001b[39m \u001b[38;5;28mself\u001b[39m\u001b[38;5;241m.\u001b[39mgateway_client\u001b[38;5;241m.\u001b[39msend_command(command)\n\u001b[0;32m-> 1321\u001b[0m return_value \u001b[38;5;241m=\u001b[39m \u001b[43mget_return_value\u001b[49m\u001b[43m(\u001b[49m\n\u001b[1;32m   1322\u001b[0m \u001b[43m    \u001b[49m\u001b[43manswer\u001b[49m\u001b[43m,\u001b[49m\u001b[43m \u001b[49m\u001b[38;5;28;43mself\u001b[39;49m\u001b[38;5;241;43m.\u001b[39;49m\u001b[43mgateway_client\u001b[49m\u001b[43m,\u001b[49m\u001b[43m \u001b[49m\u001b[38;5;28;43mself\u001b[39;49m\u001b[38;5;241;43m.\u001b[39;49m\u001b[43mtarget_id\u001b[49m\u001b[43m,\u001b[49m\u001b[43m \u001b[49m\u001b[38;5;28;43mself\u001b[39;49m\u001b[38;5;241;43m.\u001b[39;49m\u001b[43mname\u001b[49m\u001b[43m)\u001b[49m\n\u001b[1;32m   1324\u001b[0m \u001b[38;5;28;01mfor\u001b[39;00m temp_arg \u001b[38;5;129;01min\u001b[39;00m temp_args:\n\u001b[1;32m   1325\u001b[0m     temp_arg\u001b[38;5;241m.\u001b[39m_detach()\n",
      "File \u001b[0;32m~/workspace_working_Repo/ML/envname/lib/python3.8/site-packages/pyspark/sql/utils.py:196\u001b[0m, in \u001b[0;36mcapture_sql_exception.<locals>.deco\u001b[0;34m(*a, **kw)\u001b[0m\n\u001b[1;32m    192\u001b[0m converted \u001b[38;5;241m=\u001b[39m convert_exception(e\u001b[38;5;241m.\u001b[39mjava_exception)\n\u001b[1;32m    193\u001b[0m \u001b[38;5;28;01mif\u001b[39;00m \u001b[38;5;129;01mnot\u001b[39;00m \u001b[38;5;28misinstance\u001b[39m(converted, UnknownException):\n\u001b[1;32m    194\u001b[0m     \u001b[38;5;66;03m# Hide where the exception came from that shows a non-Pythonic\u001b[39;00m\n\u001b[1;32m    195\u001b[0m     \u001b[38;5;66;03m# JVM exception message.\u001b[39;00m\n\u001b[0;32m--> 196\u001b[0m     \u001b[38;5;28;01mraise\u001b[39;00m converted \u001b[38;5;28;01mfrom\u001b[39;00m \u001b[38;5;28mNone\u001b[39m\n\u001b[1;32m    197\u001b[0m \u001b[38;5;28;01melse\u001b[39;00m:\n\u001b[1;32m    198\u001b[0m     \u001b[38;5;28;01mraise\u001b[39;00m\n",
      "\u001b[0;31mAnalysisException\u001b[0m: grouping expressions sequence is empty, and 'EMPLOYEE_ID' is not an aggregate function. Wrap '(sum(salary) AS sum_salary)' in windowing function(s) or wrap 'EMPLOYEE_ID' in first() (or first_value) if you don't care which value you get.;\nAggregate [EMPLOYEE_ID#192, sum(salary#199) AS sum_salary#1289L]\n+- Relation [EMPLOYEE_ID#192,FIRST_NAME#193,LAST_NAME#194,EMAIL#195,PHONE_NUMBER#196,HIRE_DATE#197,JOB_ID#198,SALARY#199,COMMISSION_PCT#200,MANAGER_ID#201,DEPARTMENT_ID#202] csv\n"
     ]
    }
   ],
   "source": [
    "empDf.select(\"EMPLOYEE_ID\", sum(\"salary\").alias(\"sum_salary\")).show()"
   ]
  },
  {
   "cell_type": "code",
   "execution_count": 60,
   "id": "db91aeff",
   "metadata": {},
   "outputs": [
    {
     "name": "stdout",
     "output_type": "stream",
     "text": [
      "+-----------+----------+-------------+------+\n",
      "|EMPLOYEE_ID|FIRST_NAME|DEPARTMENT_ID|SALARY|\n",
      "+-----------+----------+-------------+------+\n",
      "|        132|        TJ|           50|  2100|\n",
      "|        136|     Hazel|           50|  2200|\n",
      "|        128|    Steven|           50|  2200|\n",
      "|        127|     James|           50|  2400|\n",
      "|        135|        Ki|           50|  2400|\n",
      "|        131|     James|           50|  2500|\n",
      "|        119|     Karen|           30|  2500|\n",
      "|        140|    Joshua|           50|  2500|\n",
      "|        198|    Donald|           50|  2600|\n",
      "|        199|   Douglas|           50|  2600|\n",
      "|        118|       Guy|           30|  2600|\n",
      "|        126|     Irene|           50|  2700|\n",
      "|        139|      John|           50|  2700|\n",
      "|        130|     Mozhe|           50|  2800|\n",
      "|        117|     Sigal|           30|  2800|\n",
      "|        116|    Shelli|           30|  2900|\n",
      "|        134|   Michael|           50|  2900|\n",
      "|        115| Alexander|           30|  3100|\n",
      "|        125|     Julia|           50|  3200|\n",
      "|        138|   Stephen|           50|  3200|\n",
      "+-----------+----------+-------------+------+\n",
      "only showing top 20 rows\n",
      "\n"
     ]
    }
   ],
   "source": [
    "empDf.select(\"EMPLOYEE_ID\",\"FIRST_NAME\",\"DEPARTMENT_ID\",\"SALARY\").orderBy(\"salary\").show()"
   ]
  },
  {
   "cell_type": "code",
   "execution_count": 61,
   "id": "f55d8ab0",
   "metadata": {},
   "outputs": [
    {
     "name": "stdout",
     "output_type": "stream",
     "text": [
      "+-----------+-----------+-------------+------+\n",
      "|EMPLOYEE_ID| FIRST_NAME|DEPARTMENT_ID|SALARY|\n",
      "+-----------+-----------+-------------+------+\n",
      "|        200|   Jennifer|           10|  4400|\n",
      "|        201|    Michael|           20| 13000|\n",
      "|        202|        Pat|           20|  6000|\n",
      "|        114|        Den|           30| 11000|\n",
      "|        115|  Alexander|           30|  3100|\n",
      "|        116|     Shelli|           30|  2900|\n",
      "|        117|      Sigal|           30|  2800|\n",
      "|        118|        Guy|           30|  2600|\n",
      "|        119|      Karen|           30|  2500|\n",
      "|        203|      Susan|           40|  6500|\n",
      "|        121|       Adam|           50|  8200|\n",
      "|        120|    Matthew|           50|  8000|\n",
      "|        122|      Payam|           50|  7900|\n",
      "|        123|     Shanta|           50|  6500|\n",
      "|        124|      Kevin|           50|  5800|\n",
      "|        137|     Renske|           50|  3600|\n",
      "|        133|      Jason|           50|  3300|\n",
      "|        129|      Laura|           50|  3300|\n",
      "|        125|      Julia|           50|  3200|\n",
      "|        138|    Stephen|           50|  3200|\n",
      "|        134|    Michael|           50|  2900|\n",
      "|        130|      Mozhe|           50|  2800|\n",
      "|        126|      Irene|           50|  2700|\n",
      "|        139|       John|           50|  2700|\n",
      "|        198|     Donald|           50|  2600|\n",
      "|        199|    Douglas|           50|  2600|\n",
      "|        131|      James|           50|  2500|\n",
      "|        140|     Joshua|           50|  2500|\n",
      "|        135|         Ki|           50|  2400|\n",
      "|        127|      James|           50|  2400|\n",
      "|        128|     Steven|           50|  2200|\n",
      "|        136|      Hazel|           50|  2200|\n",
      "|        132|         TJ|           50|  2100|\n",
      "|        103|  Alexander|           60|  9000|\n",
      "|        104|      Bruce|           60|  6000|\n",
      "|        105|      David|           60|  4800|\n",
      "|        106|      Valli|           60|  4800|\n",
      "|        107|      Diana|           60|  4200|\n",
      "|        204|    Hermann|           70| 10000|\n",
      "|        100|     Steven|           90| 24000|\n",
      "|        102|        Lex|           90| 17000|\n",
      "|        101|      Neena|           90| 17000|\n",
      "|        108|      Nancy|          100| 12008|\n",
      "|        109|     Daniel|          100|  9000|\n",
      "|        110|       John|          100|  8200|\n",
      "|        112|Jose Manuel|          100|  7800|\n",
      "|        111|     Ismael|          100|  7700|\n",
      "|        113|       Luis|          100|  6900|\n",
      "|        205|    Shelley|          110| 12008|\n",
      "|        206|    William|          110|  8300|\n",
      "+-----------+-----------+-------------+------+\n",
      "\n"
     ]
    }
   ],
   "source": [
    "empDf.select(\"EMPLOYEE_ID\",\"FIRST_NAME\",\"DEPARTMENT_ID\",\"SALARY\").orderBy(col(\"DEPARTMENT_ID\").asc(),col(\"SALARY\").desc()).show(100)"
   ]
  },
  {
   "cell_type": "code",
   "execution_count": 62,
   "id": "814cf633",
   "metadata": {},
   "outputs": [
    {
     "name": "stdout",
     "output_type": "stream",
     "text": [
      "+-------------+-----------+\n",
      "|DEPARTMENT_ID|sum(SALARY)|\n",
      "+-------------+-----------+\n",
      "|           20|      19000|\n",
      "|           40|       6500|\n",
      "|          100|      51608|\n",
      "|           10|       4400|\n",
      "|           50|      85600|\n",
      "|           70|      10000|\n",
      "|           90|      58000|\n",
      "|           60|      28800|\n",
      "|          110|      20308|\n",
      "|           30|      24900|\n",
      "+-------------+-----------+\n",
      "\n"
     ]
    }
   ],
   "source": [
    "empDf.groupBy(\"DEPARTMENT_ID\").sum(\"SALARY\").show(100)"
   ]
  },
  {
   "cell_type": "code",
   "execution_count": 63,
   "id": "3bb2e477",
   "metadata": {},
   "outputs": [
    {
     "name": "stdout",
     "output_type": "stream",
     "text": [
      "+-------------+-----------+\n",
      "|DEPARTMENT_ID|max(SALARY)|\n",
      "+-------------+-----------+\n",
      "|           20|      13000|\n",
      "|           40|       6500|\n",
      "|          100|      12008|\n",
      "|           10|       4400|\n",
      "|           50|       8200|\n",
      "|           70|      10000|\n",
      "|           90|      24000|\n",
      "|           60|       9000|\n",
      "|          110|      12008|\n",
      "|           30|      11000|\n",
      "+-------------+-----------+\n",
      "\n"
     ]
    }
   ],
   "source": [
    "empDf.groupBy(\"DEPARTMENT_ID\").max(\"SALARY\").show(100)"
   ]
  },
  {
   "cell_type": "code",
   "execution_count": 64,
   "id": "98db067a",
   "metadata": {},
   "outputs": [
    {
     "name": "stdout",
     "output_type": "stream",
     "text": [
      "+-------------+-----------+\n",
      "|DEPARTMENT_ID|min(SALARY)|\n",
      "+-------------+-----------+\n",
      "|           20|       6000|\n",
      "|           40|       6500|\n",
      "|          100|       6900|\n",
      "|           10|       4400|\n",
      "|           50|       2100|\n",
      "|           70|      10000|\n",
      "|           90|      17000|\n",
      "|           60|       4200|\n",
      "|          110|       8300|\n",
      "|           30|       2500|\n",
      "+-------------+-----------+\n",
      "\n"
     ]
    }
   ],
   "source": [
    "empDf.groupBy(\"DEPARTMENT_ID\").min(\"SALARY\").show(100)"
   ]
  },
  {
   "cell_type": "code",
   "execution_count": 65,
   "id": "7d56bd6e",
   "metadata": {},
   "outputs": [
    {
     "name": "stdout",
     "output_type": "stream",
     "text": [
      "+-------------+----------+-----------+\n",
      "|DEPARTMENT_ID|    JOB_ID|sum(SALARY)|\n",
      "+-------------+----------+-----------+\n",
      "|           90|   AD_PRES|      24000|\n",
      "|           30|    PU_MAN|      11000|\n",
      "|           70|    PR_REP|      10000|\n",
      "|           50|    ST_MAN|      36400|\n",
      "|           40|    HR_REP|       6500|\n",
      "|           60|   IT_PROG|      28800|\n",
      "|           10|   AD_ASST|       4400|\n",
      "|           30|  PU_CLERK|      13900|\n",
      "|           50|  ST_CLERK|      44000|\n",
      "|           20|    MK_REP|       6000|\n",
      "|           50|  SH_CLERK|       5200|\n",
      "|           90|     AD_VP|      34000|\n",
      "|          100|FI_ACCOUNT|      39600|\n",
      "|          110|    AC_MGR|      12008|\n",
      "|          110|AC_ACCOUNT|       8300|\n",
      "|           20|    MK_MAN|      13000|\n",
      "|          100|    FI_MGR|      12008|\n",
      "+-------------+----------+-----------+\n",
      "\n"
     ]
    }
   ],
   "source": [
    "empDf.groupBy(\"DEPARTMENT_ID\",\"JOB_ID\").sum(\"SALARY\").show(100)"
   ]
  },
  {
   "cell_type": "code",
   "execution_count": 66,
   "id": "e8724ef8",
   "metadata": {},
   "outputs": [
    {
     "name": "stdout",
     "output_type": "stream",
     "text": [
      "root\n",
      " |-- EMPLOYEE_ID: integer (nullable = true)\n",
      " |-- FIRST_NAME: string (nullable = true)\n",
      " |-- LAST_NAME: string (nullable = true)\n",
      " |-- EMAIL: string (nullable = true)\n",
      " |-- PHONE_NUMBER: string (nullable = true)\n",
      " |-- HIRE_DATE: string (nullable = true)\n",
      " |-- JOB_ID: string (nullable = true)\n",
      " |-- SALARY: integer (nullable = true)\n",
      " |-- COMMISSION_PCT: string (nullable = true)\n",
      " |-- MANAGER_ID: string (nullable = true)\n",
      " |-- DEPARTMENT_ID: integer (nullable = true)\n",
      "\n"
     ]
    }
   ],
   "source": [
    "empDf.printSchema()"
   ]
  },
  {
   "cell_type": "code",
   "execution_count": 67,
   "id": "9521804c",
   "metadata": {},
   "outputs": [
    {
     "name": "stdout",
     "output_type": "stream",
     "text": [
      "+-------------+----------+-----------+----------------+\n",
      "|DEPARTMENT_ID|    JOB_ID|sum(SALARY)|sum(EMPLOYEE_ID)|\n",
      "+-------------+----------+-----------+----------------+\n",
      "|           90|   AD_PRES|      24000|             100|\n",
      "|           30|    PU_MAN|      11000|             114|\n",
      "|           70|    PR_REP|      10000|             204|\n",
      "|           50|    ST_MAN|      36400|             610|\n",
      "|           40|    HR_REP|       6500|             203|\n",
      "|           60|   IT_PROG|      28800|             525|\n",
      "|           10|   AD_ASST|       4400|             200|\n",
      "|           30|  PU_CLERK|      13900|             585|\n",
      "|           50|  ST_CLERK|      44000|            2120|\n",
      "|           20|    MK_REP|       6000|             202|\n",
      "|           50|  SH_CLERK|       5200|             397|\n",
      "|           90|     AD_VP|      34000|             203|\n",
      "|          100|FI_ACCOUNT|      39600|             555|\n",
      "|          110|    AC_MGR|      12008|             205|\n",
      "|          110|AC_ACCOUNT|       8300|             206|\n",
      "|           20|    MK_MAN|      13000|             201|\n",
      "|          100|    FI_MGR|      12008|             108|\n",
      "+-------------+----------+-----------+----------------+\n",
      "\n"
     ]
    }
   ],
   "source": [
    "empDf.groupBy(\"DEPARTMENT_ID\",\"JOB_ID\").sum(\"SALARY\", \"EMPLOYEE_ID\").show(100)"
   ]
  },
  {
   "cell_type": "code",
   "execution_count": 68,
   "id": "cc5fd3ed",
   "metadata": {},
   "outputs": [
    {
     "name": "stdout",
     "output_type": "stream",
     "text": [
      "+-------------+----------+----------+----------+------------------+\n",
      "|DEPARTMENT_ID|SUM_SALARY|MAX_SALARY|MIN_SALARY|        AVG_SALARY|\n",
      "+-------------+----------+----------+----------+------------------+\n",
      "|           20|     19000|     13000|      6000|            9500.0|\n",
      "|           40|      6500|      6500|      6500|            6500.0|\n",
      "|          100|     51608|     12008|      6900| 8601.333333333334|\n",
      "|           10|      4400|      4400|      4400|            4400.0|\n",
      "|           50|     85600|      8200|      2100|3721.7391304347825|\n",
      "|           70|     10000|     10000|     10000|           10000.0|\n",
      "|           90|     58000|     24000|     17000|19333.333333333332|\n",
      "|           60|     28800|      9000|      4200|            5760.0|\n",
      "|          110|     20308|     12008|      8300|           10154.0|\n",
      "|           30|     24900|     11000|      2500|            4150.0|\n",
      "+-------------+----------+----------+----------+------------------+\n",
      "\n"
     ]
    }
   ],
   "source": [
    "empDf.groupBy(\"DEPARTMENT_ID\").agg(sum(\"SALARY\").alias(\"SUM_SALARY\") , max(\"SALARY\").alias(\"MAX_SALARY\"), min(\"SALARY\").alias(\"MIN_SALARY\") , avg(\"SALARY\").alias(\"AVG_SALARY\")).show()"
   ]
  },
  {
   "cell_type": "code",
   "execution_count": 69,
   "id": "42a4c833",
   "metadata": {},
   "outputs": [
    {
     "name": "stdout",
     "output_type": "stream",
     "text": [
      "+-------------+----------+----------+----------+------------------+\n",
      "|DEPARTMENT_ID|SUM_SALARY|MAX_SALARY|MIN_SALARY|        AVG_SALARY|\n",
      "+-------------+----------+----------+----------+------------------+\n",
      "|           20|     19000|     13000|      6000|            9500.0|\n",
      "|          100|     51608|     12008|      6900| 8601.333333333334|\n",
      "|           70|     10000|     10000|     10000|           10000.0|\n",
      "|           90|     58000|     24000|     17000|19333.333333333332|\n",
      "|          110|     20308|     12008|      8300|           10154.0|\n",
      "|           30|     24900|     11000|      2500|            4150.0|\n",
      "+-------------+----------+----------+----------+------------------+\n",
      "\n"
     ]
    }
   ],
   "source": [
    "empDf.groupBy(\"DEPARTMENT_ID\").agg(sum(\"SALARY\").alias(\"SUM_SALARY\") , max(\"SALARY\").alias(\"MAX_SALARY\"), min(\"SALARY\").alias(\"MIN_SALARY\") , avg(\"SALARY\").alias(\"AVG_SALARY\")).where(col(\"MAX_SALARY\") >= 10000).show()"
   ]
  },
  {
   "cell_type": "code",
   "execution_count": 70,
   "id": "2309276e",
   "metadata": {},
   "outputs": [
    {
     "name": "stdout",
     "output_type": "stream",
     "text": [
      "+-------------+----------+----------+----------+------------------+\n",
      "|DEPARTMENT_ID|SUM_SALARY|MAX_SALARY|MIN_SALARY|        AVG_SALARY|\n",
      "+-------------+----------+----------+----------+------------------+\n",
      "|           20|     19000|     13000|      6000|            9500.0|\n",
      "|          100|     51608|     12008|      6900| 8601.333333333334|\n",
      "|           70|     10000|     10000|     10000|           10000.0|\n",
      "|           90|     58000|     24000|     17000|19333.333333333332|\n",
      "|          110|     20308|     12008|      8300|           10154.0|\n",
      "|           30|     24900|     11000|      2500|            4150.0|\n",
      "+-------------+----------+----------+----------+------------------+\n",
      "\n"
     ]
    }
   ],
   "source": [
    "empDf.groupBy(\"DEPARTMENT_ID\").agg(sum(\"SALARY\").alias(\"SUM_SALARY\") , max(\"SALARY\").alias(\"MAX_SALARY\"), min(\"SALARY\").alias(\"MIN_SALARY\") , avg(\"SALARY\").alias(\"AVG_SALARY\")).where(col(\"MAX_SALARY\") >= 10000).show()"
   ]
  },
  {
   "cell_type": "code",
   "execution_count": 72,
   "id": "45069ba7",
   "metadata": {},
   "outputs": [
    {
     "name": "stdout",
     "output_type": "stream",
     "text": [
      "+-----------+------+---------+\n",
      "|EMPLOYEE_ID|SALARY|EMP_GRADE|\n",
      "+-----------+------+---------+\n",
      "|        198|  2600|        C|\n",
      "|        199|  2600|        C|\n",
      "|        200|  4400|        C|\n",
      "|        201| 13000|        B|\n",
      "|        202|  6000|        C|\n",
      "|        203|  6500|        C|\n",
      "|        204| 10000|        B|\n",
      "|        205| 12008|        B|\n",
      "|        206|  8300|        C|\n",
      "|        100| 24000|        A|\n",
      "|        101| 17000|        A|\n",
      "|        102| 17000|        A|\n",
      "|        103|  9000|        C|\n",
      "|        104|  6000|        C|\n",
      "|        105|  4800|        C|\n",
      "|        106|  4800|        C|\n",
      "|        107|  4200|        C|\n",
      "|        108| 12008|        B|\n",
      "|        109|  9000|        C|\n",
      "|        110|  8200|        C|\n",
      "|        111|  7700|        C|\n",
      "|        112|  7800|        C|\n",
      "|        113|  6900|        C|\n",
      "|        114| 11000|        B|\n",
      "|        115|  3100|        C|\n",
      "|        116|  2900|        C|\n",
      "|        117|  2800|        C|\n",
      "|        118|  2600|        C|\n",
      "|        119|  2500|        C|\n",
      "|        120|  8000|        C|\n",
      "|        121|  8200|        C|\n",
      "|        122|  7900|        C|\n",
      "|        123|  6500|        C|\n",
      "|        124|  5800|        C|\n",
      "|        125|  3200|        C|\n",
      "|        126|  2700|        C|\n",
      "|        127|  2400|        C|\n",
      "|        128|  2200|        C|\n",
      "|        129|  3300|        C|\n",
      "|        130|  2800|        C|\n",
      "|        131|  2500|        C|\n",
      "|        132|  2100|        C|\n",
      "|        133|  3300|        C|\n",
      "|        134|  2900|        C|\n",
      "|        135|  2400|        C|\n",
      "|        136|  2200|        C|\n",
      "|        137|  3600|        C|\n",
      "|        138|  3200|        C|\n",
      "|        139|  2700|        C|\n",
      "|        140|  2500|        C|\n",
      "+-----------+------+---------+\n",
      "\n"
     ]
    }
   ],
   "source": [
    "df = empDf.withColumn(\"EMP_GRADE\", when( col(\"SALARY\") > 15000 , \"A\").when( (col(\"SALARY\") >= 10000) & ( col(\"SALARY\") < 15000), \"B\").otherwise(\"C\"))\n",
    "df.select(\"EMPLOYEE_ID\", \"SALARY\", \"EMP_GRADE\").show(100)"
   ]
  },
  {
   "cell_type": "code",
   "execution_count": 73,
   "id": "fd76bca3",
   "metadata": {},
   "outputs": [
    {
     "name": "stdout",
     "output_type": "stream",
     "text": [
      "+-----------+----------+---------+--------+------------+---------+--------+------+--------------+----------+-------------+\n",
      "|EMPLOYEE_ID|FIRST_NAME|LAST_NAME|   EMAIL|PHONE_NUMBER|HIRE_DATE|  JOB_ID|SALARY|COMMISSION_PCT|MANAGER_ID|DEPARTMENT_ID|\n",
      "+-----------+----------+---------+--------+------------+---------+--------+------+--------------+----------+-------------+\n",
      "|        198|    Donald| OConnell|DOCONNEL|650.507.9833|21-JUN-07|SH_CLERK|  2600|            - |       124|           50|\n",
      "|        199|   Douglas|    Grant|  DGRANT|650.507.9844|13-JAN-08|SH_CLERK|  2600|            - |       124|           50|\n",
      "|        200|  Jennifer|   Whalen| JWHALEN|515.123.4444|17-SEP-03| AD_ASST|  4400|            - |       101|           10|\n",
      "|        201|   Michael|Hartstein|MHARTSTE|515.123.5555|17-FEB-04|  MK_MAN| 13000|            - |       100|           20|\n",
      "|        202|       Pat|      Fay|    PFAY|603.123.6666|17-AUG-05|  MK_REP|  6000|            - |       201|           20|\n",
      "+-----------+----------+---------+--------+------------+---------+--------+------+--------------+----------+-------------+\n",
      "\n"
     ]
    }
   ],
   "source": [
    "empDf.createOrReplaceTempView(\"employee\")\n",
    "spark.sql(\" select * from employee limit 5\").show()"
   ]
  },
  {
   "cell_type": "code",
   "execution_count": 74,
   "id": "ade89481",
   "metadata": {},
   "outputs": [
    {
     "name": "stdout",
     "output_type": "stream",
     "text": [
      "+-----------+------+\n",
      "|employee_id|salary|\n",
      "+-----------+------+\n",
      "|        198|  2600|\n",
      "|        199|  2600|\n",
      "|        200|  4400|\n",
      "|        201| 13000|\n",
      "|        202|  6000|\n",
      "|        203|  6500|\n",
      "|        204| 10000|\n",
      "|        205| 12008|\n",
      "|        206|  8300|\n",
      "|        100| 24000|\n",
      "|        101| 17000|\n",
      "|        102| 17000|\n",
      "|        103|  9000|\n",
      "|        104|  6000|\n",
      "|        105|  4800|\n",
      "|        106|  4800|\n",
      "|        107|  4200|\n",
      "|        108| 12008|\n",
      "|        109|  9000|\n",
      "|        110|  8200|\n",
      "|        111|  7700|\n",
      "|        112|  7800|\n",
      "|        113|  6900|\n",
      "|        114| 11000|\n",
      "|        115|  3100|\n",
      "|        116|  2900|\n",
      "|        117|  2800|\n",
      "|        118|  2600|\n",
      "|        119|  2500|\n",
      "|        120|  8000|\n",
      "|        121|  8200|\n",
      "|        122|  7900|\n",
      "|        123|  6500|\n",
      "|        124|  5800|\n",
      "|        125|  3200|\n",
      "|        126|  2700|\n",
      "|        127|  2400|\n",
      "|        128|  2200|\n",
      "|        129|  3300|\n",
      "|        130|  2800|\n",
      "|        131|  2500|\n",
      "|        132|  2100|\n",
      "|        133|  3300|\n",
      "|        134|  2900|\n",
      "|        135|  2400|\n",
      "|        136|  2200|\n",
      "|        137|  3600|\n",
      "|        138|  3200|\n",
      "|        139|  2700|\n",
      "|        140|  2500|\n",
      "+-----------+------+\n",
      "\n"
     ]
    }
   ],
   "source": [
    "df = spark.sql(\" select employee_id,salary from employee\")\n",
    "df.show(100)"
   ]
  },
  {
   "cell_type": "code",
   "execution_count": 75,
   "id": "49c67f2a",
   "metadata": {},
   "outputs": [
    {
     "name": "stdout",
     "output_type": "stream",
     "text": [
      "+-------------+----------+\n",
      "|department_id|sum_salary|\n",
      "+-------------+----------+\n",
      "|           20|     19000|\n",
      "|           40|      6500|\n",
      "|          100|     51608|\n",
      "|           10|      4400|\n",
      "|           50|     85600|\n",
      "|           70|     10000|\n",
      "|           90|     58000|\n",
      "|           60|     28800|\n",
      "|          110|     20308|\n",
      "|           30|     24900|\n",
      "+-------------+----------+\n",
      "\n"
     ]
    }
   ],
   "source": [
    "spark.sql(\"select department_id, sum(salary) as sum_salary from employee group by department_id\").show()"
   ]
  },
  {
   "cell_type": "code",
   "execution_count": 77,
   "id": "9fd44bba",
   "metadata": {},
   "outputs": [
    {
     "name": "stdout",
     "output_type": "stream",
     "text": [
      "+-----------+-------------+-----------+\n",
      "|employee_id|department_id|rank_salary|\n",
      "+-----------+-------------+-----------+\n",
      "|        200|           10|          1|\n",
      "|        201|           20|          1|\n",
      "|        202|           20|          2|\n",
      "|        114|           30|          1|\n",
      "|        115|           30|          2|\n",
      "|        116|           30|          3|\n",
      "|        117|           30|          4|\n",
      "|        118|           30|          5|\n",
      "|        119|           30|          6|\n",
      "|        203|           40|          1|\n",
      "|        121|           50|          1|\n",
      "|        120|           50|          2|\n",
      "|        122|           50|          3|\n",
      "|        123|           50|          4|\n",
      "|        124|           50|          5|\n",
      "|        137|           50|          6|\n",
      "|        129|           50|          7|\n",
      "|        133|           50|          7|\n",
      "|        125|           50|          9|\n",
      "|        138|           50|          9|\n",
      "+-----------+-------------+-----------+\n",
      "only showing top 20 rows\n",
      "\n"
     ]
    }
   ],
   "source": [
    "spark.sql(\"select employee_id, department_id, rank() over(partition by department_id order by salary desc) as rank_salary from employee\").show()"
   ]
  },
  {
   "cell_type": "code",
   "execution_count": 81,
   "id": "ddeec975",
   "metadata": {},
   "outputs": [
    {
     "name": "stdout",
     "output_type": "stream",
     "text": [
      "+-----------+----------+---------+--------+------------+---------+----------+------+--------------+----------+-------------+-------------+----------------+----------+-----------+\n",
      "|EMPLOYEE_ID|FIRST_NAME|LAST_NAME|   EMAIL|PHONE_NUMBER|HIRE_DATE|    JOB_ID|SALARY|COMMISSION_PCT|MANAGER_ID|DEPARTMENT_ID|DEPARTMENT_ID| DEPARTMENT_NAME|MANAGER_ID|LOCATION_ID|\n",
      "+-----------+----------+---------+--------+------------+---------+----------+------+--------------+----------+-------------+-------------+----------------+----------+-----------+\n",
      "|        198|    Donald| OConnell|DOCONNEL|650.507.9833|21-JUN-07|  SH_CLERK|  2600|            - |       124|           50|           50|        Shipping|       121|       1500|\n",
      "|        199|   Douglas|    Grant|  DGRANT|650.507.9844|13-JAN-08|  SH_CLERK|  2600|            - |       124|           50|           50|        Shipping|       121|       1500|\n",
      "|        200|  Jennifer|   Whalen| JWHALEN|515.123.4444|17-SEP-03|   AD_ASST|  4400|            - |       101|           10|           10|  Administration|       200|       1700|\n",
      "|        201|   Michael|Hartstein|MHARTSTE|515.123.5555|17-FEB-04|    MK_MAN| 13000|            - |       100|           20|           20|       Marketing|       201|       1800|\n",
      "|        202|       Pat|      Fay|    PFAY|603.123.6666|17-AUG-05|    MK_REP|  6000|            - |       201|           20|           20|       Marketing|       201|       1800|\n",
      "|        203|     Susan|   Mavris| SMAVRIS|515.123.7777|07-JUN-02|    HR_REP|  6500|            - |       101|           40|           40| Human Resources|       203|       2400|\n",
      "|        204|   Hermann|     Baer|   HBAER|515.123.8888|07-JUN-02|    PR_REP| 10000|            - |       101|           70|           70|Public Relations|       204|       2700|\n",
      "|        205|   Shelley|  Higgins|SHIGGINS|515.123.8080|07-JUN-02|    AC_MGR| 12008|            - |       101|          110|          110|      Accounting|       205|       1700|\n",
      "|        206|   William|    Gietz|  WGIETZ|515.123.8181|07-JUN-02|AC_ACCOUNT|  8300|            - |       205|          110|          110|      Accounting|       205|       1700|\n",
      "|        100|    Steven|     King|   SKING|515.123.4567|17-JUN-03|   AD_PRES| 24000|            - |        - |           90|           90|       Executive|       100|       1700|\n",
      "|        101|     Neena|  Kochhar|NKOCHHAR|515.123.4568|21-SEP-05|     AD_VP| 17000|            - |       100|           90|           90|       Executive|       100|       1700|\n",
      "|        102|       Lex|  De Haan| LDEHAAN|515.123.4569|13-JAN-01|     AD_VP| 17000|            - |       100|           90|           90|       Executive|       100|       1700|\n",
      "|        103| Alexander|   Hunold| AHUNOLD|590.423.4567|03-JAN-06|   IT_PROG|  9000|            - |       102|           60|           60|              IT|       103|       1400|\n",
      "|        104|     Bruce|    Ernst|  BERNST|590.423.4568|21-MAY-07|   IT_PROG|  6000|            - |       103|           60|           60|              IT|       103|       1400|\n",
      "|        105|     David|   Austin| DAUSTIN|590.423.4569|25-JUN-05|   IT_PROG|  4800|            - |       103|           60|           60|              IT|       103|       1400|\n",
      "|        106|     Valli|Pataballa|VPATABAL|590.423.4560|05-FEB-06|   IT_PROG|  4800|            - |       103|           60|           60|              IT|       103|       1400|\n",
      "|        107|     Diana|  Lorentz|DLORENTZ|590.423.5567|07-FEB-07|   IT_PROG|  4200|            - |       103|           60|           60|              IT|       103|       1400|\n",
      "|        108|     Nancy|Greenberg|NGREENBE|515.124.4569|17-AUG-02|    FI_MGR| 12008|            - |       101|          100|          100|         Finance|       108|       1700|\n",
      "|        109|    Daniel|   Faviet| DFAVIET|515.124.4169|16-AUG-02|FI_ACCOUNT|  9000|            - |       108|          100|          100|         Finance|       108|       1700|\n",
      "|        110|      John|     Chen|   JCHEN|515.124.4269|28-SEP-05|FI_ACCOUNT|  8200|            - |       108|          100|          100|         Finance|       108|       1700|\n",
      "+-----------+----------+---------+--------+------------+---------+----------+------+--------------+----------+-------------+-------------+----------------+----------+-----------+\n",
      "only showing top 20 rows\n",
      "\n"
     ]
    }
   ],
   "source": [
    "empDf.join(df2, empDf.DEPARTMENT_ID == df2.DEPARTMENT_ID, \"inner\").show()"
   ]
  },
  {
   "cell_type": "code",
   "execution_count": 83,
   "id": "759209a6",
   "metadata": {},
   "outputs": [
    {
     "ename": "AnalysisException",
     "evalue": "Reference 'DEPARTMENT_ID' is ambiguous, could be: DEPARTMENT_ID, DEPARTMENT_ID.",
     "output_type": "error",
     "traceback": [
      "\u001b[0;31m---------------------------------------------------------------------------\u001b[0m",
      "\u001b[0;31mAnalysisException\u001b[0m                         Traceback (most recent call last)",
      "Input \u001b[0;32mIn [83]\u001b[0m, in \u001b[0;36m<cell line: 1>\u001b[0;34m()\u001b[0m\n\u001b[0;32m----> 1\u001b[0m \u001b[43mempDf\u001b[49m\u001b[38;5;241;43m.\u001b[39;49m\u001b[43mjoin\u001b[49m\u001b[43m(\u001b[49m\u001b[43mdf2\u001b[49m\u001b[43m,\u001b[49m\u001b[43m \u001b[49m\u001b[43mempDf\u001b[49m\u001b[38;5;241;43m.\u001b[39;49m\u001b[43mDEPARTMENT_ID\u001b[49m\u001b[43m \u001b[49m\u001b[38;5;241;43m==\u001b[39;49m\u001b[43m \u001b[49m\u001b[43mdf2\u001b[49m\u001b[38;5;241;43m.\u001b[39;49m\u001b[43mDEPARTMENT_ID\u001b[49m\u001b[43m,\u001b[49m\u001b[43m \u001b[49m\u001b[38;5;124;43m\"\u001b[39;49m\u001b[38;5;124;43minner\u001b[39;49m\u001b[38;5;124;43m\"\u001b[39;49m\u001b[43m)\u001b[49m\u001b[38;5;241;43m.\u001b[39;49m\u001b[43mselect\u001b[49m\u001b[43m(\u001b[49m\u001b[38;5;124;43m\"\u001b[39;49m\u001b[38;5;124;43mEMPLOYEE_ID\u001b[39;49m\u001b[38;5;124;43m\"\u001b[39;49m\u001b[43m,\u001b[49m\u001b[43m \u001b[49m\u001b[38;5;124;43m\"\u001b[39;49m\u001b[38;5;124;43mDEPARTMENT_ID\u001b[39;49m\u001b[38;5;124;43m\"\u001b[39;49m\u001b[43m,\u001b[49m\u001b[43m \u001b[49m\u001b[38;5;124;43m\"\u001b[39;49m\u001b[38;5;124;43mDEPARTMENT_NAME\u001b[39;49m\u001b[38;5;124;43m\"\u001b[39;49m\u001b[43m)\u001b[49m\u001b[38;5;241m.\u001b[39mshow()\n",
      "File \u001b[0;32m~/workspace_working_Repo/ML/envname/lib/python3.8/site-packages/pyspark/sql/dataframe.py:2023\u001b[0m, in \u001b[0;36mDataFrame.select\u001b[0;34m(self, *cols)\u001b[0m\n\u001b[1;32m   2002\u001b[0m \u001b[38;5;28;01mdef\u001b[39;00m \u001b[38;5;21mselect\u001b[39m(\u001b[38;5;28mself\u001b[39m, \u001b[38;5;241m*\u001b[39mcols: \u001b[38;5;124m\"\u001b[39m\u001b[38;5;124mColumnOrName\u001b[39m\u001b[38;5;124m\"\u001b[39m) \u001b[38;5;241m-\u001b[39m\u001b[38;5;241m>\u001b[39m \u001b[38;5;124m\"\u001b[39m\u001b[38;5;124mDataFrame\u001b[39m\u001b[38;5;124m\"\u001b[39m:  \u001b[38;5;66;03m# type: ignore[misc]\u001b[39;00m\n\u001b[1;32m   2003\u001b[0m     \u001b[38;5;124;03m\"\"\"Projects a set of expressions and returns a new :class:`DataFrame`.\u001b[39;00m\n\u001b[1;32m   2004\u001b[0m \n\u001b[1;32m   2005\u001b[0m \u001b[38;5;124;03m    .. versionadded:: 1.3.0\u001b[39;00m\n\u001b[0;32m   (...)\u001b[0m\n\u001b[1;32m   2021\u001b[0m \u001b[38;5;124;03m    [Row(name='Alice', age=12), Row(name='Bob', age=15)]\u001b[39;00m\n\u001b[1;32m   2022\u001b[0m \u001b[38;5;124;03m    \"\"\"\u001b[39;00m\n\u001b[0;32m-> 2023\u001b[0m     jdf \u001b[38;5;241m=\u001b[39m \u001b[38;5;28;43mself\u001b[39;49m\u001b[38;5;241;43m.\u001b[39;49m\u001b[43m_jdf\u001b[49m\u001b[38;5;241;43m.\u001b[39;49m\u001b[43mselect\u001b[49m\u001b[43m(\u001b[49m\u001b[38;5;28;43mself\u001b[39;49m\u001b[38;5;241;43m.\u001b[39;49m\u001b[43m_jcols\u001b[49m\u001b[43m(\u001b[49m\u001b[38;5;241;43m*\u001b[39;49m\u001b[43mcols\u001b[49m\u001b[43m)\u001b[49m\u001b[43m)\u001b[49m\n\u001b[1;32m   2024\u001b[0m     \u001b[38;5;28;01mreturn\u001b[39;00m DataFrame(jdf, \u001b[38;5;28mself\u001b[39m\u001b[38;5;241m.\u001b[39msparkSession)\n",
      "File \u001b[0;32m~/workspace_working_Repo/ML/envname/lib/python3.8/site-packages/py4j/java_gateway.py:1321\u001b[0m, in \u001b[0;36mJavaMember.__call__\u001b[0;34m(self, *args)\u001b[0m\n\u001b[1;32m   1315\u001b[0m command \u001b[38;5;241m=\u001b[39m proto\u001b[38;5;241m.\u001b[39mCALL_COMMAND_NAME \u001b[38;5;241m+\u001b[39m\\\n\u001b[1;32m   1316\u001b[0m     \u001b[38;5;28mself\u001b[39m\u001b[38;5;241m.\u001b[39mcommand_header \u001b[38;5;241m+\u001b[39m\\\n\u001b[1;32m   1317\u001b[0m     args_command \u001b[38;5;241m+\u001b[39m\\\n\u001b[1;32m   1318\u001b[0m     proto\u001b[38;5;241m.\u001b[39mEND_COMMAND_PART\n\u001b[1;32m   1320\u001b[0m answer \u001b[38;5;241m=\u001b[39m \u001b[38;5;28mself\u001b[39m\u001b[38;5;241m.\u001b[39mgateway_client\u001b[38;5;241m.\u001b[39msend_command(command)\n\u001b[0;32m-> 1321\u001b[0m return_value \u001b[38;5;241m=\u001b[39m \u001b[43mget_return_value\u001b[49m\u001b[43m(\u001b[49m\n\u001b[1;32m   1322\u001b[0m \u001b[43m    \u001b[49m\u001b[43manswer\u001b[49m\u001b[43m,\u001b[49m\u001b[43m \u001b[49m\u001b[38;5;28;43mself\u001b[39;49m\u001b[38;5;241;43m.\u001b[39;49m\u001b[43mgateway_client\u001b[49m\u001b[43m,\u001b[49m\u001b[43m \u001b[49m\u001b[38;5;28;43mself\u001b[39;49m\u001b[38;5;241;43m.\u001b[39;49m\u001b[43mtarget_id\u001b[49m\u001b[43m,\u001b[49m\u001b[43m \u001b[49m\u001b[38;5;28;43mself\u001b[39;49m\u001b[38;5;241;43m.\u001b[39;49m\u001b[43mname\u001b[49m\u001b[43m)\u001b[49m\n\u001b[1;32m   1324\u001b[0m \u001b[38;5;28;01mfor\u001b[39;00m temp_arg \u001b[38;5;129;01min\u001b[39;00m temp_args:\n\u001b[1;32m   1325\u001b[0m     temp_arg\u001b[38;5;241m.\u001b[39m_detach()\n",
      "File \u001b[0;32m~/workspace_working_Repo/ML/envname/lib/python3.8/site-packages/pyspark/sql/utils.py:196\u001b[0m, in \u001b[0;36mcapture_sql_exception.<locals>.deco\u001b[0;34m(*a, **kw)\u001b[0m\n\u001b[1;32m    192\u001b[0m converted \u001b[38;5;241m=\u001b[39m convert_exception(e\u001b[38;5;241m.\u001b[39mjava_exception)\n\u001b[1;32m    193\u001b[0m \u001b[38;5;28;01mif\u001b[39;00m \u001b[38;5;129;01mnot\u001b[39;00m \u001b[38;5;28misinstance\u001b[39m(converted, UnknownException):\n\u001b[1;32m    194\u001b[0m     \u001b[38;5;66;03m# Hide where the exception came from that shows a non-Pythonic\u001b[39;00m\n\u001b[1;32m    195\u001b[0m     \u001b[38;5;66;03m# JVM exception message.\u001b[39;00m\n\u001b[0;32m--> 196\u001b[0m     \u001b[38;5;28;01mraise\u001b[39;00m converted \u001b[38;5;28;01mfrom\u001b[39;00m \u001b[38;5;28mNone\u001b[39m\n\u001b[1;32m    197\u001b[0m \u001b[38;5;28;01melse\u001b[39;00m:\n\u001b[1;32m    198\u001b[0m     \u001b[38;5;28;01mraise\u001b[39;00m\n",
      "\u001b[0;31mAnalysisException\u001b[0m: Reference 'DEPARTMENT_ID' is ambiguous, could be: DEPARTMENT_ID, DEPARTMENT_ID."
     ]
    }
   ],
   "source": [
    "empDf.join(df2, empDf.DEPARTMENT_ID == df2.DEPARTMENT_ID, \"inner\").select(\"EMPLOYEE_ID\", \"DEPARTMENT_ID\", \"DEPARTMENT_NAME\").show()"
   ]
  },
  {
   "cell_type": "code",
   "execution_count": 84,
   "id": "390a95fa",
   "metadata": {},
   "outputs": [
    {
     "name": "stdout",
     "output_type": "stream",
     "text": [
      "+-----------+-------------+---------------+\n",
      "|EMPLOYEE_ID|DEPARTMENT_ID|DEPARTMENT_NAME|\n",
      "+-----------+-------------+---------------+\n",
      "|        200|           10| Administration|\n",
      "|        202|           20|      Marketing|\n",
      "|        201|           20|      Marketing|\n",
      "|        119|           30|     Purchasing|\n",
      "|        118|           30|     Purchasing|\n",
      "|        117|           30|     Purchasing|\n",
      "|        116|           30|     Purchasing|\n",
      "|        115|           30|     Purchasing|\n",
      "|        114|           30|     Purchasing|\n",
      "|        203|           40|Human Resources|\n",
      "|        140|           50|       Shipping|\n",
      "|        139|           50|       Shipping|\n",
      "|        138|           50|       Shipping|\n",
      "|        137|           50|       Shipping|\n",
      "|        136|           50|       Shipping|\n",
      "|        135|           50|       Shipping|\n",
      "|        134|           50|       Shipping|\n",
      "|        133|           50|       Shipping|\n",
      "|        132|           50|       Shipping|\n",
      "|        131|           50|       Shipping|\n",
      "+-----------+-------------+---------------+\n",
      "only showing top 20 rows\n",
      "\n"
     ]
    }
   ],
   "source": [
    "empDf.join(df2, empDf.DEPARTMENT_ID == df2.DEPARTMENT_ID, \"inner\").select(empDf.EMPLOYEE_ID, empDf.DEPARTMENT_ID, df2.DEPARTMENT_NAME).show()"
   ]
  },
  {
   "cell_type": "code",
   "execution_count": 86,
   "id": "6b94b76d",
   "metadata": {},
   "outputs": [
    {
     "name": "stdout",
     "output_type": "stream",
     "text": [
      "+-----------+-------------+----------------+\n",
      "|EMPLOYEE_ID|DEPARTMENT_ID| DEPARTMENT_NAME|\n",
      "+-----------+-------------+----------------+\n",
      "|        198|           50|        Shipping|\n",
      "|        199|           50|        Shipping|\n",
      "|        200|           10|  Administration|\n",
      "|        201|           20|       Marketing|\n",
      "|        202|           20|       Marketing|\n",
      "|        203|           40| Human Resources|\n",
      "|        204|           70|Public Relations|\n",
      "|        205|          110|      Accounting|\n",
      "|        206|          110|      Accounting|\n",
      "|        100|           90|       Executive|\n",
      "|        101|           90|       Executive|\n",
      "|        102|           90|       Executive|\n",
      "|        103|           60|              IT|\n",
      "|        104|           60|              IT|\n",
      "|        105|           60|              IT|\n",
      "|        106|           60|              IT|\n",
      "|        107|           60|              IT|\n",
      "|        108|          100|         Finance|\n",
      "|        109|          100|         Finance|\n",
      "|        110|          100|         Finance|\n",
      "|        111|          100|         Finance|\n",
      "|        112|          100|         Finance|\n",
      "|        113|          100|         Finance|\n",
      "|        114|           30|      Purchasing|\n",
      "|        115|           30|      Purchasing|\n",
      "|        116|           30|      Purchasing|\n",
      "|        117|           30|      Purchasing|\n",
      "|        118|           30|      Purchasing|\n",
      "|        119|           30|      Purchasing|\n",
      "|        120|           50|        Shipping|\n",
      "|        121|           50|        Shipping|\n",
      "|        122|           50|        Shipping|\n",
      "|        123|           50|        Shipping|\n",
      "|        124|           50|        Shipping|\n",
      "|        125|           50|        Shipping|\n",
      "|        126|           50|        Shipping|\n",
      "|        127|           50|        Shipping|\n",
      "|        128|           50|        Shipping|\n",
      "|        129|           50|        Shipping|\n",
      "|        130|           50|        Shipping|\n",
      "|        131|           50|        Shipping|\n",
      "|        132|           50|        Shipping|\n",
      "|        133|           50|        Shipping|\n",
      "|        134|           50|        Shipping|\n",
      "|        135|           50|        Shipping|\n",
      "|        136|           50|        Shipping|\n",
      "|        137|           50|        Shipping|\n",
      "|        138|           50|        Shipping|\n",
      "|        139|           50|        Shipping|\n",
      "|        140|           50|        Shipping|\n",
      "+-----------+-------------+----------------+\n",
      "\n"
     ]
    }
   ],
   "source": [
    "empDf.join(df2, empDf.DEPARTMENT_ID == df2.DEPARTMENT_ID, \"left\").select(empDf.EMPLOYEE_ID, empDf.DEPARTMENT_ID, df2.DEPARTMENT_NAME).show(100)"
   ]
  },
  {
   "cell_type": "code",
   "execution_count": 87,
   "id": "b039a82d",
   "metadata": {},
   "outputs": [
    {
     "name": "stdout",
     "output_type": "stream",
     "text": [
      "+-----------+-------------+--------------------+\n",
      "|EMPLOYEE_ID|DEPARTMENT_ID|     DEPARTMENT_NAME|\n",
      "+-----------+-------------+--------------------+\n",
      "|        200|           10|      Administration|\n",
      "|        202|           20|           Marketing|\n",
      "|        201|           20|           Marketing|\n",
      "|        119|           30|          Purchasing|\n",
      "|        118|           30|          Purchasing|\n",
      "|        117|           30|          Purchasing|\n",
      "|        116|           30|          Purchasing|\n",
      "|        115|           30|          Purchasing|\n",
      "|        114|           30|          Purchasing|\n",
      "|        203|           40|     Human Resources|\n",
      "|        140|           50|            Shipping|\n",
      "|        139|           50|            Shipping|\n",
      "|        138|           50|            Shipping|\n",
      "|        137|           50|            Shipping|\n",
      "|        136|           50|            Shipping|\n",
      "|        135|           50|            Shipping|\n",
      "|        134|           50|            Shipping|\n",
      "|        133|           50|            Shipping|\n",
      "|        132|           50|            Shipping|\n",
      "|        131|           50|            Shipping|\n",
      "|        130|           50|            Shipping|\n",
      "|        129|           50|            Shipping|\n",
      "|        128|           50|            Shipping|\n",
      "|        127|           50|            Shipping|\n",
      "|        126|           50|            Shipping|\n",
      "|        125|           50|            Shipping|\n",
      "|        124|           50|            Shipping|\n",
      "|        123|           50|            Shipping|\n",
      "|        122|           50|            Shipping|\n",
      "|        121|           50|            Shipping|\n",
      "|        120|           50|            Shipping|\n",
      "|        199|           50|            Shipping|\n",
      "|        198|           50|            Shipping|\n",
      "|        107|           60|                  IT|\n",
      "|        106|           60|                  IT|\n",
      "|        105|           60|                  IT|\n",
      "|        104|           60|                  IT|\n",
      "|        103|           60|                  IT|\n",
      "|        204|           70|    Public Relations|\n",
      "|       null|         null|               Sales|\n",
      "|        102|           90|           Executive|\n",
      "|        101|           90|           Executive|\n",
      "|        100|           90|           Executive|\n",
      "|        113|          100|             Finance|\n",
      "|        112|          100|             Finance|\n",
      "|        111|          100|             Finance|\n",
      "|        110|          100|             Finance|\n",
      "|        109|          100|             Finance|\n",
      "|        108|          100|             Finance|\n",
      "|        206|          110|          Accounting|\n",
      "|        205|          110|          Accounting|\n",
      "|       null|         null|            Treasury|\n",
      "|       null|         null|       Corporate Tax|\n",
      "|       null|         null|  Control And Credit|\n",
      "|       null|         null|Shareholder Services|\n",
      "|       null|         null|            Benefits|\n",
      "|       null|         null|       Manufacturing|\n",
      "|       null|         null|        Construction|\n",
      "|       null|         null|         Contracting|\n",
      "|       null|         null|          Operations|\n",
      "|       null|         null|          IT Support|\n",
      "|       null|         null|                 NOC|\n",
      "|       null|         null|         IT Helpdesk|\n",
      "|       null|         null|    Government Sales|\n",
      "|       null|         null|        Retail Sales|\n",
      "|       null|         null|          Recruiting|\n",
      "|       null|         null|             Payroll|\n",
      "+-----------+-------------+--------------------+\n",
      "\n"
     ]
    }
   ],
   "source": [
    "empDf.join(df2, empDf.DEPARTMENT_ID == df2.DEPARTMENT_ID, \"right\").select(empDf.EMPLOYEE_ID, empDf.DEPARTMENT_ID, df2.DEPARTMENT_NAME).show(100)"
   ]
  },
  {
   "cell_type": "code",
   "execution_count": 88,
   "id": "ab038cfe",
   "metadata": {},
   "outputs": [
    {
     "name": "stdout",
     "output_type": "stream",
     "text": [
      "+-----------+-------------+--------------------+\n",
      "|EMPLOYEE_ID|DEPARTMENT_ID|     DEPARTMENT_NAME|\n",
      "+-----------+-------------+--------------------+\n",
      "|        200|           10|      Administration|\n",
      "|        201|           20|           Marketing|\n",
      "|        202|           20|           Marketing|\n",
      "|        114|           30|          Purchasing|\n",
      "|        115|           30|          Purchasing|\n",
      "|        116|           30|          Purchasing|\n",
      "|        117|           30|          Purchasing|\n",
      "|        118|           30|          Purchasing|\n",
      "|        119|           30|          Purchasing|\n",
      "|        203|           40|     Human Resources|\n",
      "|        198|           50|            Shipping|\n",
      "|        199|           50|            Shipping|\n",
      "|        120|           50|            Shipping|\n",
      "|        121|           50|            Shipping|\n",
      "|        122|           50|            Shipping|\n",
      "|        123|           50|            Shipping|\n",
      "|        124|           50|            Shipping|\n",
      "|        125|           50|            Shipping|\n",
      "|        126|           50|            Shipping|\n",
      "|        127|           50|            Shipping|\n",
      "|        128|           50|            Shipping|\n",
      "|        129|           50|            Shipping|\n",
      "|        130|           50|            Shipping|\n",
      "|        131|           50|            Shipping|\n",
      "|        132|           50|            Shipping|\n",
      "|        133|           50|            Shipping|\n",
      "|        134|           50|            Shipping|\n",
      "|        135|           50|            Shipping|\n",
      "|        136|           50|            Shipping|\n",
      "|        137|           50|            Shipping|\n",
      "|        138|           50|            Shipping|\n",
      "|        139|           50|            Shipping|\n",
      "|        140|           50|            Shipping|\n",
      "|        103|           60|                  IT|\n",
      "|        104|           60|                  IT|\n",
      "|        105|           60|                  IT|\n",
      "|        106|           60|                  IT|\n",
      "|        107|           60|                  IT|\n",
      "|        204|           70|    Public Relations|\n",
      "|       null|         null|               Sales|\n",
      "|        100|           90|           Executive|\n",
      "|        101|           90|           Executive|\n",
      "|        102|           90|           Executive|\n",
      "|        108|          100|             Finance|\n",
      "|        109|          100|             Finance|\n",
      "|        110|          100|             Finance|\n",
      "|        111|          100|             Finance|\n",
      "|        112|          100|             Finance|\n",
      "|        113|          100|             Finance|\n",
      "|        205|          110|          Accounting|\n",
      "|        206|          110|          Accounting|\n",
      "|       null|         null|            Treasury|\n",
      "|       null|         null|       Corporate Tax|\n",
      "|       null|         null|  Control And Credit|\n",
      "|       null|         null|Shareholder Services|\n",
      "|       null|         null|            Benefits|\n",
      "|       null|         null|       Manufacturing|\n",
      "|       null|         null|        Construction|\n",
      "|       null|         null|         Contracting|\n",
      "|       null|         null|          Operations|\n",
      "|       null|         null|          IT Support|\n",
      "|       null|         null|                 NOC|\n",
      "|       null|         null|         IT Helpdesk|\n",
      "|       null|         null|    Government Sales|\n",
      "|       null|         null|        Retail Sales|\n",
      "|       null|         null|          Recruiting|\n",
      "|       null|         null|             Payroll|\n",
      "+-----------+-------------+--------------------+\n",
      "\n"
     ]
    }
   ],
   "source": [
    "empDf.join(df2, empDf.DEPARTMENT_ID == df2.DEPARTMENT_ID, \"fullouter\").select(empDf.EMPLOYEE_ID, empDf.DEPARTMENT_ID, df2.DEPARTMENT_NAME).show(100)"
   ]
  },
  {
   "cell_type": "code",
   "execution_count": 90,
   "id": "e2aa0137",
   "metadata": {},
   "outputs": [
    {
     "name": "stdout",
     "output_type": "stream",
     "text": [
      "+-------------+--------------------+----------+-----------+\n",
      "|DEPARTMENT_ID|     DEPARTMENT_NAME|MANAGER_ID|LOCATION_ID|\n",
      "+-------------+--------------------+----------+-----------+\n",
      "|           10|      Administration|       200|       1700|\n",
      "|           20|           Marketing|       201|       1800|\n",
      "|           30|          Purchasing|       114|       1700|\n",
      "|           40|     Human Resources|       203|       2400|\n",
      "|           50|            Shipping|       121|       1500|\n",
      "|           60|                  IT|       103|       1400|\n",
      "|           70|    Public Relations|       204|       2700|\n",
      "|           80|               Sales|       145|       2500|\n",
      "|           90|           Executive|       100|       1700|\n",
      "|          100|             Finance|       108|       1700|\n",
      "|          110|          Accounting|       205|       1700|\n",
      "|          120|            Treasury|        - |       1700|\n",
      "|          130|       Corporate Tax|        - |       1700|\n",
      "|          140|  Control And Credit|        - |       1700|\n",
      "|          150|Shareholder Services|        - |       1700|\n",
      "|          160|            Benefits|        - |       1700|\n",
      "|          170|       Manufacturing|        - |       1700|\n",
      "|          180|        Construction|        - |       1700|\n",
      "|          190|         Contracting|        - |       1700|\n",
      "|          200|          Operations|        - |       1700|\n",
      "+-------------+--------------------+----------+-----------+\n",
      "only showing top 20 rows\n",
      "\n"
     ]
    }
   ],
   "source": [
    "df2.show()"
   ]
  },
  {
   "cell_type": "code",
   "execution_count": 91,
   "id": "8975d074",
   "metadata": {},
   "outputs": [
    {
     "name": "stdout",
     "output_type": "stream",
     "text": [
      "+-----------+----------+---------+--------+------------+---------+----------+------+--------------+----------+-------------+\n",
      "|EMPLOYEE_ID|FIRST_NAME|LAST_NAME|   EMAIL|PHONE_NUMBER|HIRE_DATE|    JOB_ID|SALARY|COMMISSION_PCT|MANAGER_ID|DEPARTMENT_ID|\n",
      "+-----------+----------+---------+--------+------------+---------+----------+------+--------------+----------+-------------+\n",
      "|        198|    Donald| OConnell|DOCONNEL|650.507.9833|21-JUN-07|  SH_CLERK|  2600|            - |       124|           50|\n",
      "|        199|   Douglas|    Grant|  DGRANT|650.507.9844|13-JAN-08|  SH_CLERK|  2600|            - |       124|           50|\n",
      "|        200|  Jennifer|   Whalen| JWHALEN|515.123.4444|17-SEP-03|   AD_ASST|  4400|            - |       101|           10|\n",
      "|        201|   Michael|Hartstein|MHARTSTE|515.123.5555|17-FEB-04|    MK_MAN| 13000|            - |       100|           20|\n",
      "|        202|       Pat|      Fay|    PFAY|603.123.6666|17-AUG-05|    MK_REP|  6000|            - |       201|           20|\n",
      "|        203|     Susan|   Mavris| SMAVRIS|515.123.7777|07-JUN-02|    HR_REP|  6500|            - |       101|           40|\n",
      "|        204|   Hermann|     Baer|   HBAER|515.123.8888|07-JUN-02|    PR_REP| 10000|            - |       101|           70|\n",
      "|        205|   Shelley|  Higgins|SHIGGINS|515.123.8080|07-JUN-02|    AC_MGR| 12008|            - |       101|          110|\n",
      "|        206|   William|    Gietz|  WGIETZ|515.123.8181|07-JUN-02|AC_ACCOUNT|  8300|            - |       205|          110|\n",
      "|        100|    Steven|     King|   SKING|515.123.4567|17-JUN-03|   AD_PRES| 24000|            - |        - |           90|\n",
      "|        101|     Neena|  Kochhar|NKOCHHAR|515.123.4568|21-SEP-05|     AD_VP| 17000|            - |       100|           90|\n",
      "|        102|       Lex|  De Haan| LDEHAAN|515.123.4569|13-JAN-01|     AD_VP| 17000|            - |       100|           90|\n",
      "|        103| Alexander|   Hunold| AHUNOLD|590.423.4567|03-JAN-06|   IT_PROG|  9000|            - |       102|           60|\n",
      "|        104|     Bruce|    Ernst|  BERNST|590.423.4568|21-MAY-07|   IT_PROG|  6000|            - |       103|           60|\n",
      "|        105|     David|   Austin| DAUSTIN|590.423.4569|25-JUN-05|   IT_PROG|  4800|            - |       103|           60|\n",
      "|        106|     Valli|Pataballa|VPATABAL|590.423.4560|05-FEB-06|   IT_PROG|  4800|            - |       103|           60|\n",
      "|        107|     Diana|  Lorentz|DLORENTZ|590.423.5567|07-FEB-07|   IT_PROG|  4200|            - |       103|           60|\n",
      "|        108|     Nancy|Greenberg|NGREENBE|515.124.4569|17-AUG-02|    FI_MGR| 12008|            - |       101|          100|\n",
      "|        109|    Daniel|   Faviet| DFAVIET|515.124.4169|16-AUG-02|FI_ACCOUNT|  9000|            - |       108|          100|\n",
      "|        110|      John|     Chen|   JCHEN|515.124.4269|28-SEP-05|FI_ACCOUNT|  8200|            - |       108|          100|\n",
      "+-----------+----------+---------+--------+------------+---------+----------+------+--------------+----------+-------------+\n",
      "only showing top 20 rows\n",
      "\n"
     ]
    }
   ],
   "source": [
    "empDf.show()"
   ]
  },
  {
   "cell_type": "code",
   "execution_count": 94,
   "id": "d04b0d30",
   "metadata": {},
   "outputs": [
    {
     "name": "stdout",
     "output_type": "stream",
     "text": [
      "+-------------+--------------------+----------+-----------+\n",
      "|DEPARTMENT_ID|     DEPARTMENT_NAME|MANAGER_ID|LOCATION_ID|\n",
      "+-------------+--------------------+----------+-----------+\n",
      "|           10|      Administration|       200|       1700|\n",
      "|           20|           Marketing|       201|       1800|\n",
      "|           30|          Purchasing|       114|       1700|\n",
      "|           40|     Human Resources|       203|       2400|\n",
      "|           50|            Shipping|       121|       1500|\n",
      "|           60|                  IT|       103|       1400|\n",
      "|           70|    Public Relations|       204|       2700|\n",
      "|           80|               Sales|       145|       2500|\n",
      "|           90|           Executive|       100|       1700|\n",
      "|          100|             Finance|       108|       1700|\n",
      "|          110|          Accounting|       205|       1700|\n",
      "|          120|            Treasury|        - |       1700|\n",
      "|          130|       Corporate Tax|        - |       1700|\n",
      "|          140|  Control And Credit|        - |       1700|\n",
      "|          150|Shareholder Services|        - |       1700|\n",
      "|          160|            Benefits|        - |       1700|\n",
      "|          170|       Manufacturing|        - |       1700|\n",
      "|          180|        Construction|        - |       1700|\n",
      "|          190|         Contracting|        - |       1700|\n",
      "|          200|          Operations|        - |       1700|\n",
      "+-------------+--------------------+----------+-----------+\n",
      "only showing top 20 rows\n",
      "\n"
     ]
    }
   ],
   "source": [
    "df2.filter(df2.MANAGER_ID != \"-\").show()"
   ]
  },
  {
   "cell_type": "code",
   "execution_count": 95,
   "id": "94eee52e",
   "metadata": {},
   "outputs": [
    {
     "name": "stdout",
     "output_type": "stream",
     "text": [
      "+----------+----------+---------+\n",
      "|manager_id|first_name|last_name|\n",
      "+----------+----------+---------+\n",
      "|       201|   Michael|Hartstein|\n",
      "|       205|   Shelley|  Higgins|\n",
      "|       100|    Steven|     King|\n",
      "|       100|    Steven|     King|\n",
      "|       100|    Steven|     King|\n",
      "|       100|    Steven|     King|\n",
      "|       100|    Steven|     King|\n",
      "|       100|    Steven|     King|\n",
      "|       100|    Steven|     King|\n",
      "|       100|    Steven|     King|\n",
      "|       100|    Steven|     King|\n",
      "|       101|     Neena|  Kochhar|\n",
      "|       101|     Neena|  Kochhar|\n",
      "|       101|     Neena|  Kochhar|\n",
      "|       101|     Neena|  Kochhar|\n",
      "|       101|     Neena|  Kochhar|\n",
      "|       102|       Lex|  De Haan|\n",
      "|       103| Alexander|   Hunold|\n",
      "|       103| Alexander|   Hunold|\n",
      "|       103| Alexander|   Hunold|\n",
      "|       103| Alexander|   Hunold|\n",
      "|       108|     Nancy|Greenberg|\n",
      "|       108|     Nancy|Greenberg|\n",
      "|       108|     Nancy|Greenberg|\n",
      "|       108|     Nancy|Greenberg|\n",
      "|       108|     Nancy|Greenberg|\n",
      "|       114|       Den| Raphaely|\n",
      "|       114|       Den| Raphaely|\n",
      "|       114|       Den| Raphaely|\n",
      "|       114|       Den| Raphaely|\n",
      "|       114|       Den| Raphaely|\n",
      "|       120|   Matthew|    Weiss|\n",
      "|       120|   Matthew|    Weiss|\n",
      "|       120|   Matthew|    Weiss|\n",
      "|       120|   Matthew|    Weiss|\n",
      "|       121|      Adam|    Fripp|\n",
      "|       121|      Adam|    Fripp|\n",
      "|       121|      Adam|    Fripp|\n",
      "|       121|      Adam|    Fripp|\n",
      "|       122|     Payam| Kaufling|\n",
      "|       122|     Payam| Kaufling|\n",
      "|       122|     Payam| Kaufling|\n",
      "|       122|     Payam| Kaufling|\n",
      "|       123|    Shanta|  Vollman|\n",
      "|       123|    Shanta|  Vollman|\n",
      "|       123|    Shanta|  Vollman|\n",
      "|       123|    Shanta|  Vollman|\n",
      "|       124|     Kevin|  Mourgos|\n",
      "|       124|     Kevin|  Mourgos|\n",
      "+----------+----------+---------+\n",
      "\n"
     ]
    }
   ],
   "source": [
    "empDf.alias(\"emp1\").join(empDf.alias(\"emp2\") , col(\"emp1.manager_id\") == col(\"emp2.employee_id\"), \"inner\").select(col(\"emp1.manager_id\"), col(\"emp2.first_name\"), col(\"emp2.last_name\")).show(100)"
   ]
  },
  {
   "cell_type": "code",
   "execution_count": 96,
   "id": "b26490ee",
   "metadata": {},
   "outputs": [
    {
     "name": "stdout",
     "output_type": "stream",
     "text": [
      "+-----------+----------+---------+\n",
      "|employee_id|first_name|last_name|\n",
      "+-----------+----------+---------+\n",
      "|        202|   Michael|Hartstein|\n",
      "|        206|   Shelley|  Higgins|\n",
      "|        124|    Steven|     King|\n",
      "|        123|    Steven|     King|\n",
      "|        122|    Steven|     King|\n",
      "|        121|    Steven|     King|\n",
      "|        120|    Steven|     King|\n",
      "|        114|    Steven|     King|\n",
      "|        102|    Steven|     King|\n",
      "|        101|    Steven|     King|\n",
      "|        201|    Steven|     King|\n",
      "|        108|     Neena|  Kochhar|\n",
      "|        205|     Neena|  Kochhar|\n",
      "|        204|     Neena|  Kochhar|\n",
      "|        203|     Neena|  Kochhar|\n",
      "|        200|     Neena|  Kochhar|\n",
      "|        103|       Lex|  De Haan|\n",
      "|        107| Alexander|   Hunold|\n",
      "|        106| Alexander|   Hunold|\n",
      "|        105| Alexander|   Hunold|\n",
      "|        104| Alexander|   Hunold|\n",
      "|        113|     Nancy|Greenberg|\n",
      "|        112|     Nancy|Greenberg|\n",
      "|        111|     Nancy|Greenberg|\n",
      "|        110|     Nancy|Greenberg|\n",
      "|        109|     Nancy|Greenberg|\n",
      "|        119|       Den| Raphaely|\n",
      "|        118|       Den| Raphaely|\n",
      "|        117|       Den| Raphaely|\n",
      "|        116|       Den| Raphaely|\n",
      "|        115|       Den| Raphaely|\n",
      "|        128|   Matthew|    Weiss|\n",
      "|        127|   Matthew|    Weiss|\n",
      "|        126|   Matthew|    Weiss|\n",
      "|        125|   Matthew|    Weiss|\n",
      "|        132|      Adam|    Fripp|\n",
      "|        131|      Adam|    Fripp|\n",
      "|        130|      Adam|    Fripp|\n",
      "|        129|      Adam|    Fripp|\n",
      "|        136|     Payam| Kaufling|\n",
      "|        135|     Payam| Kaufling|\n",
      "|        134|     Payam| Kaufling|\n",
      "|        133|     Payam| Kaufling|\n",
      "|        140|    Shanta|  Vollman|\n",
      "|        139|    Shanta|  Vollman|\n",
      "|        138|    Shanta|  Vollman|\n",
      "|        137|    Shanta|  Vollman|\n",
      "|        199|     Kevin|  Mourgos|\n",
      "|        198|     Kevin|  Mourgos|\n",
      "+-----------+----------+---------+\n",
      "\n"
     ]
    }
   ],
   "source": [
    "empDf.alias(\"emp1\").join(empDf.alias(\"emp2\") , col(\"emp1.manager_id\") == col(\"emp2.employee_id\"), \"inner\").select(col(\"emp1.employee_id\"), col(\"emp2.first_name\"), col(\"emp2.last_name\")).show(100)"
   ]
  },
  {
   "cell_type": "code",
   "execution_count": 97,
   "id": "77932249",
   "metadata": {},
   "outputs": [
    {
     "ename": "TypeError",
     "evalue": "'Column' object is not callable",
     "output_type": "error",
     "traceback": [
      "\u001b[0;31m---------------------------------------------------------------------------\u001b[0m",
      "\u001b[0;31mTypeError\u001b[0m                                 Traceback (most recent call last)",
      "Input \u001b[0;32mIn [97]\u001b[0m, in \u001b[0;36m<cell line: 1>\u001b[0;34m()\u001b[0m\n\u001b[0;32m----> 1\u001b[0m empDf\u001b[38;5;241m.\u001b[39malias(\u001b[38;5;124m\"\u001b[39m\u001b[38;5;124memp1\u001b[39m\u001b[38;5;124m\"\u001b[39m)\u001b[38;5;241m.\u001b[39mselect(\u001b[43mcol\u001b[49m\u001b[43m(\u001b[49m\u001b[38;5;124;43m\"\u001b[39;49m\u001b[38;5;124;43memp1.manager_id\u001b[39;49m\u001b[38;5;124;43m\"\u001b[39;49m\u001b[43m)\u001b[49m\u001b[38;5;241;43m.\u001b[39;49m\u001b[43mdistinct\u001b[49m\u001b[43m(\u001b[49m\u001b[43m)\u001b[49m)\u001b[38;5;241m.\u001b[39mjoin(empDf\u001b[38;5;241m.\u001b[39malias(\u001b[38;5;124m\"\u001b[39m\u001b[38;5;124memp2\u001b[39m\u001b[38;5;124m\"\u001b[39m) , col(\u001b[38;5;124m\"\u001b[39m\u001b[38;5;124memp1.manager_id\u001b[39m\u001b[38;5;124m\"\u001b[39m) \u001b[38;5;241m==\u001b[39m col(\u001b[38;5;124m\"\u001b[39m\u001b[38;5;124memp2.employee_id\u001b[39m\u001b[38;5;124m\"\u001b[39m), \u001b[38;5;124m\"\u001b[39m\u001b[38;5;124minner\u001b[39m\u001b[38;5;124m\"\u001b[39m)\u001b[38;5;241m.\u001b[39mselect(col(\u001b[38;5;124m\"\u001b[39m\u001b[38;5;124memp1.employee_id\u001b[39m\u001b[38;5;124m\"\u001b[39m), col(\u001b[38;5;124m\"\u001b[39m\u001b[38;5;124memp2.first_name\u001b[39m\u001b[38;5;124m\"\u001b[39m), col(\u001b[38;5;124m\"\u001b[39m\u001b[38;5;124memp2.last_name\u001b[39m\u001b[38;5;124m\"\u001b[39m))\u001b[38;5;241m.\u001b[39mshow(\u001b[38;5;241m100\u001b[39m)\n",
      "\u001b[0;31mTypeError\u001b[0m: 'Column' object is not callable"
     ]
    }
   ],
   "source": [
    "empDf.alias(\"emp1\").select(col(\"emp1.manager_id\").distinct()).join(empDf.alias(\"emp2\") , col(\"emp1.manager_id\") == col(\"emp2.employee_id\"), \"inner\").select(col(\"emp1.employee_id\"), col(\"emp2.first_name\"), col(\"emp2.last_name\")).show(100)"
   ]
  },
  {
   "cell_type": "code",
   "execution_count": 98,
   "id": "b3bcd3c0",
   "metadata": {},
   "outputs": [
    {
     "name": "stdout",
     "output_type": "stream",
     "text": [
      "+----------+----------+---------+\n",
      "|manager_id|first_name|last_name|\n",
      "+----------+----------+---------+\n",
      "|       201|   Michael|Hartstein|\n",
      "|       205|   Shelley|  Higgins|\n",
      "|       100|    Steven|     King|\n",
      "|       100|    Steven|     King|\n",
      "|       100|    Steven|     King|\n",
      "|       100|    Steven|     King|\n",
      "|       100|    Steven|     King|\n",
      "|       100|    Steven|     King|\n",
      "|       100|    Steven|     King|\n",
      "|       100|    Steven|     King|\n",
      "|       100|    Steven|     King|\n",
      "|       101|     Neena|  Kochhar|\n",
      "|       101|     Neena|  Kochhar|\n",
      "|       101|     Neena|  Kochhar|\n",
      "|       101|     Neena|  Kochhar|\n",
      "|       101|     Neena|  Kochhar|\n",
      "|       102|       Lex|  De Haan|\n",
      "|       103| Alexander|   Hunold|\n",
      "|       103| Alexander|   Hunold|\n",
      "|       103| Alexander|   Hunold|\n",
      "|       103| Alexander|   Hunold|\n",
      "|       108|     Nancy|Greenberg|\n",
      "|       108|     Nancy|Greenberg|\n",
      "|       108|     Nancy|Greenberg|\n",
      "|       108|     Nancy|Greenberg|\n",
      "|       108|     Nancy|Greenberg|\n",
      "|       114|       Den| Raphaely|\n",
      "|       114|       Den| Raphaely|\n",
      "|       114|       Den| Raphaely|\n",
      "|       114|       Den| Raphaely|\n",
      "|       114|       Den| Raphaely|\n",
      "|       120|   Matthew|    Weiss|\n",
      "|       120|   Matthew|    Weiss|\n",
      "|       120|   Matthew|    Weiss|\n",
      "|       120|   Matthew|    Weiss|\n",
      "|       121|      Adam|    Fripp|\n",
      "|       121|      Adam|    Fripp|\n",
      "|       121|      Adam|    Fripp|\n",
      "|       121|      Adam|    Fripp|\n",
      "|       122|     Payam| Kaufling|\n",
      "|       122|     Payam| Kaufling|\n",
      "|       122|     Payam| Kaufling|\n",
      "|       122|     Payam| Kaufling|\n",
      "|       123|    Shanta|  Vollman|\n",
      "|       123|    Shanta|  Vollman|\n",
      "|       123|    Shanta|  Vollman|\n",
      "|       123|    Shanta|  Vollman|\n",
      "|       124|     Kevin|  Mourgos|\n",
      "|       124|     Kevin|  Mourgos|\n",
      "+----------+----------+---------+\n",
      "\n"
     ]
    }
   ],
   "source": [
    "empDf.alias(\"emp1\").join(empDf.alias(\"emp2\") , col(\"emp1.manager_id\") == col(\"emp2.employee_id\"), \"inner\").select(col(\"emp1.manager_id\"), col(\"emp2.first_name\"), col(\"emp2.last_name\")).show(100)"
   ]
  },
  {
   "cell_type": "code",
   "execution_count": 99,
   "id": "79343bcf",
   "metadata": {},
   "outputs": [
    {
     "name": "stdout",
     "output_type": "stream",
     "text": [
      "+----------+----------+---------+\n",
      "|manager_id|first_name|last_name|\n",
      "+----------+----------+---------+\n",
      "|       122|     Payam| Kaufling|\n",
      "|       101|     Neena|  Kochhar|\n",
      "|       100|    Steven|     King|\n",
      "|       205|   Shelley|  Higgins|\n",
      "|       114|       Den| Raphaely|\n",
      "|       103| Alexander|   Hunold|\n",
      "|       124|     Kevin|  Mourgos|\n",
      "|       120|   Matthew|    Weiss|\n",
      "|       123|    Shanta|  Vollman|\n",
      "|       121|      Adam|    Fripp|\n",
      "|       108|     Nancy|Greenberg|\n",
      "|       102|       Lex|  De Haan|\n",
      "|       201|   Michael|Hartstein|\n",
      "+----------+----------+---------+\n",
      "\n"
     ]
    }
   ],
   "source": [
    "empDf.alias(\"emp1\").join(empDf.alias(\"emp2\") , col(\"emp1.manager_id\") == col(\"emp2.employee_id\"), \"inner\").select(col(\"emp1.manager_id\"), col(\"emp2.first_name\"), col(\"emp2.last_name\")).dropDuplicates().show(100)"
   ]
  },
  {
   "cell_type": "code",
   "execution_count": 101,
   "id": "9f4b77ee",
   "metadata": {},
   "outputs": [
    {
     "name": "stdout",
     "output_type": "stream",
     "text": [
      "+-----------+-------------+---------------+\n",
      "|EMPLOYEE_ID|DEPARTMENT_ID|DEPARTMENT_NAME|\n",
      "+-----------+-------------+---------------+\n",
      "|        200|           10| Administration|\n",
      "|        119|           30|     Purchasing|\n",
      "|        118|           30|     Purchasing|\n",
      "|        117|           30|     Purchasing|\n",
      "|        116|           30|     Purchasing|\n",
      "|        115|           30|     Purchasing|\n",
      "|        114|           30|     Purchasing|\n",
      "|        102|           90|      Executive|\n",
      "|        101|           90|      Executive|\n",
      "|        100|           90|      Executive|\n",
      "|        113|          100|        Finance|\n",
      "|        112|          100|        Finance|\n",
      "|        111|          100|        Finance|\n",
      "|        110|          100|        Finance|\n",
      "|        109|          100|        Finance|\n",
      "|        108|          100|        Finance|\n",
      "|        206|          110|     Accounting|\n",
      "|        205|          110|     Accounting|\n",
      "+-----------+-------------+---------------+\n",
      "\n"
     ]
    }
   ],
   "source": [
    "empDf.join(df2, (empDf.DEPARTMENT_ID == df2.DEPARTMENT_ID) & (df2.LOCATION_ID == 1700), \"inner\").select(empDf.EMPLOYEE_ID, empDf.DEPARTMENT_ID, df2.DEPARTMENT_NAME).show()"
   ]
  },
  {
   "cell_type": "code",
   "execution_count": 103,
   "id": "550cd7c8",
   "metadata": {},
   "outputs": [
    {
     "name": "stdout",
     "output_type": "stream",
     "text": [
      "root\n",
      " |-- LOCATION_ID: integer (nullable = true)\n",
      " |-- LOCATION_NAME: string (nullable = true)\n",
      "\n"
     ]
    }
   ],
   "source": [
    "from pyspark.sql.types import StructType,StructField, StringType, IntegerType\n",
    "location_data = [(1700, \"INDIA\"), (1800, \"USA\")]\n",
    "schema = StructType([ StructField(\"LOCATION_ID\",IntegerType(),True), StructField(\"LOCATION_NAME\",StringType(),True) ])\n",
    "locDf = spark.createDataFrame(data=location_data,schema=schema)\n",
    "locDf.printSchema()"
   ]
  },
  {
   "cell_type": "code",
   "execution_count": 104,
   "id": "e46c894a",
   "metadata": {},
   "outputs": [
    {
     "name": "stdout",
     "output_type": "stream",
     "text": [
      "+-----------+-------------+\n",
      "|LOCATION_ID|LOCATION_NAME|\n",
      "+-----------+-------------+\n",
      "|       1700|        INDIA|\n",
      "|       1800|          USA|\n",
      "+-----------+-------------+\n",
      "\n"
     ]
    }
   ],
   "source": [
    "locDf.show()"
   ]
  },
  {
   "cell_type": "code",
   "execution_count": 106,
   "id": "803ef879",
   "metadata": {},
   "outputs": [
    {
     "name": "stdout",
     "output_type": "stream",
     "text": [
      "+-----------+-------------+---------------+-------------+\n",
      "|EMPLOYEE_ID|DEPARTMENT_ID|DEPARTMENT_NAME|LOCATION_NAME|\n",
      "+-----------+-------------+---------------+-------------+\n",
      "|        205|          110|     Accounting|        INDIA|\n",
      "|        206|          110|     Accounting|        INDIA|\n",
      "|        108|          100|        Finance|        INDIA|\n",
      "|        109|          100|        Finance|        INDIA|\n",
      "|        110|          100|        Finance|        INDIA|\n",
      "|        111|          100|        Finance|        INDIA|\n",
      "|        112|          100|        Finance|        INDIA|\n",
      "|        113|          100|        Finance|        INDIA|\n",
      "|        100|           90|      Executive|        INDIA|\n",
      "|        101|           90|      Executive|        INDIA|\n",
      "|        102|           90|      Executive|        INDIA|\n",
      "|        114|           30|     Purchasing|        INDIA|\n",
      "|        115|           30|     Purchasing|        INDIA|\n",
      "|        116|           30|     Purchasing|        INDIA|\n",
      "|        117|           30|     Purchasing|        INDIA|\n",
      "|        118|           30|     Purchasing|        INDIA|\n",
      "|        119|           30|     Purchasing|        INDIA|\n",
      "|        200|           10| Administration|        INDIA|\n",
      "+-----------+-------------+---------------+-------------+\n",
      "\n"
     ]
    }
   ],
   "source": [
    "empDf.join(df2, (empDf.DEPARTMENT_ID == df2.DEPARTMENT_ID) & (df2.LOCATION_ID == 1700), \"inner\").join(locDf, df2.LOCATION_ID == locDf.LOCATION_ID, \"inner\").select(empDf.EMPLOYEE_ID, empDf.DEPARTMENT_ID, df2.DEPARTMENT_NAME, locDf.LOCATION_NAME).show()"
   ]
  },
  {
   "cell_type": "code",
   "execution_count": 107,
   "id": "decefbfa",
   "metadata": {},
   "outputs": [
    {
     "name": "stdout",
     "output_type": "stream",
     "text": [
      "HELLO\n",
      "+-----------+----------+---------+--------------------+-------------------+\n",
      "|EMPLOYEE_ID|FIRST_NAME|LAST_NAME|<lambda>(FIRST_NAME)|<lambda>(LAST_NAME)|\n",
      "+-----------+----------+---------+--------------------+-------------------+\n",
      "|        198|    Donald| OConnell|              DONALD|           OCONNELL|\n",
      "|        199|   Douglas|    Grant|             DOUGLAS|              GRANT|\n",
      "|        200|  Jennifer|   Whalen|            JENNIFER|             WHALEN|\n",
      "|        201|   Michael|Hartstein|             MICHAEL|          HARTSTEIN|\n",
      "|        202|       Pat|      Fay|                 PAT|                FAY|\n",
      "|        203|     Susan|   Mavris|               SUSAN|             MAVRIS|\n",
      "|        204|   Hermann|     Baer|             HERMANN|               BAER|\n",
      "|        205|   Shelley|  Higgins|             SHELLEY|            HIGGINS|\n",
      "|        206|   William|    Gietz|             WILLIAM|              GIETZ|\n",
      "|        100|    Steven|     King|              STEVEN|               KING|\n",
      "|        101|     Neena|  Kochhar|               NEENA|            KOCHHAR|\n",
      "|        102|       Lex|  De Haan|                 LEX|            DE HAAN|\n",
      "|        103| Alexander|   Hunold|           ALEXANDER|             HUNOLD|\n",
      "|        104|     Bruce|    Ernst|               BRUCE|              ERNST|\n",
      "|        105|     David|   Austin|               DAVID|             AUSTIN|\n",
      "|        106|     Valli|Pataballa|               VALLI|          PATABALLA|\n",
      "|        107|     Diana|  Lorentz|               DIANA|            LORENTZ|\n",
      "|        108|     Nancy|Greenberg|               NANCY|          GREENBERG|\n",
      "|        109|    Daniel|   Faviet|              DANIEL|             FAVIET|\n",
      "|        110|      John|     Chen|                JOHN|               CHEN|\n",
      "+-----------+----------+---------+--------------------+-------------------+\n",
      "only showing top 20 rows\n",
      "\n"
     ]
    }
   ],
   "source": [
    "def upperCase(in_str):\n",
    "    out_str = in_str.upper()\n",
    "    return out_str\n",
    "\n",
    "print(upperCase(\"hello\"))\n",
    "upperCaseUDF = udf(lambda z : upperCase(z) , StringType())\n",
    "empDf.select(col(\"EMPLOYEE_ID\") , col(\"FIRST_NAME\"), col(\"LAST_NAME\"), upperCaseUDF(col(\"FIRST_NAME\")), upperCaseUDF(col(\"LAST_NAME\"))).show()"
   ]
  },
  {
   "cell_type": "code",
   "execution_count": 108,
   "id": "805ef18c",
   "metadata": {},
   "outputs": [],
   "source": [
    "@udf(returnType=StringType())\n",
    "def upperCaseNew(in_str):\n",
    "    out_str = in_str.upper()\n",
    "    return out_str"
   ]
  },
  {
   "cell_type": "code",
   "execution_count": 109,
   "id": "1b79001f",
   "metadata": {},
   "outputs": [
    {
     "name": "stdout",
     "output_type": "stream",
     "text": [
      "+-----------+----------+---------+------------------------+-----------------------+\n",
      "|EMPLOYEE_ID|FIRST_NAME|LAST_NAME|upperCaseNew(FIRST_NAME)|upperCaseNew(LAST_NAME)|\n",
      "+-----------+----------+---------+------------------------+-----------------------+\n",
      "|        198|    Donald| OConnell|                  DONALD|               OCONNELL|\n",
      "|        199|   Douglas|    Grant|                 DOUGLAS|                  GRANT|\n",
      "|        200|  Jennifer|   Whalen|                JENNIFER|                 WHALEN|\n",
      "|        201|   Michael|Hartstein|                 MICHAEL|              HARTSTEIN|\n",
      "|        202|       Pat|      Fay|                     PAT|                    FAY|\n",
      "|        203|     Susan|   Mavris|                   SUSAN|                 MAVRIS|\n",
      "|        204|   Hermann|     Baer|                 HERMANN|                   BAER|\n",
      "|        205|   Shelley|  Higgins|                 SHELLEY|                HIGGINS|\n",
      "|        206|   William|    Gietz|                 WILLIAM|                  GIETZ|\n",
      "|        100|    Steven|     King|                  STEVEN|                   KING|\n",
      "|        101|     Neena|  Kochhar|                   NEENA|                KOCHHAR|\n",
      "|        102|       Lex|  De Haan|                     LEX|                DE HAAN|\n",
      "|        103| Alexander|   Hunold|               ALEXANDER|                 HUNOLD|\n",
      "|        104|     Bruce|    Ernst|                   BRUCE|                  ERNST|\n",
      "|        105|     David|   Austin|                   DAVID|                 AUSTIN|\n",
      "|        106|     Valli|Pataballa|                   VALLI|              PATABALLA|\n",
      "|        107|     Diana|  Lorentz|                   DIANA|                LORENTZ|\n",
      "|        108|     Nancy|Greenberg|                   NANCY|              GREENBERG|\n",
      "|        109|    Daniel|   Faviet|                  DANIEL|                 FAVIET|\n",
      "|        110|      John|     Chen|                    JOHN|                   CHEN|\n",
      "+-----------+----------+---------+------------------------+-----------------------+\n",
      "only showing top 20 rows\n",
      "\n"
     ]
    }
   ],
   "source": [
    "empDf.select(col(\"EMPLOYEE_ID\") , col(\"FIRST_NAME\"), col(\"LAST_NAME\"), upperCaseNew(col(\"FIRST_NAME\")), upperCaseNew(col(\"LAST_NAME\"))).show()"
   ]
  },
  {
   "cell_type": "code",
   "execution_count": 110,
   "id": "15b4e011",
   "metadata": {},
   "outputs": [
    {
     "name": "stdout",
     "output_type": "stream",
     "text": [
      "+-------------+------+-----------+\n",
      "|DEPARTMENT_ID|SALARY|salary_rank|\n",
      "+-------------+------+-----------+\n",
      "|           10|  4400|          1|\n",
      "|           20|  6000|          1|\n",
      "|           20| 13000|          2|\n",
      "|           30|  2500|          1|\n",
      "|           30|  2600|          2|\n",
      "|           30|  2800|          3|\n",
      "|           30|  2900|          4|\n",
      "|           30|  3100|          5|\n",
      "|           30| 11000|          6|\n",
      "|           40|  6500|          1|\n",
      "|           50|  2100|          1|\n",
      "|           50|  2200|          2|\n",
      "|           50|  2200|          2|\n",
      "|           50|  2400|          4|\n",
      "|           50|  2400|          4|\n",
      "|           50|  2500|          6|\n",
      "|           50|  2500|          6|\n",
      "|           50|  2600|          8|\n",
      "|           50|  2600|          8|\n",
      "|           50|  2700|         10|\n",
      "|           50|  2700|         10|\n",
      "|           50|  2800|         12|\n",
      "|           50|  2900|         13|\n",
      "|           50|  3200|         14|\n",
      "|           50|  3200|         14|\n",
      "|           50|  3300|         16|\n",
      "|           50|  3300|         16|\n",
      "|           50|  3600|         18|\n",
      "|           50|  5800|         19|\n",
      "|           50|  6500|         20|\n",
      "|           50|  7900|         21|\n",
      "|           50|  8000|         22|\n",
      "|           50|  8200|         23|\n",
      "|           60|  4200|          1|\n",
      "|           60|  4800|          2|\n",
      "|           60|  4800|          2|\n",
      "|           60|  6000|          4|\n",
      "|           60|  9000|          5|\n",
      "|           70| 10000|          1|\n",
      "|           90| 17000|          1|\n",
      "|           90| 17000|          1|\n",
      "|           90| 24000|          3|\n",
      "|          100|  6900|          1|\n",
      "|          100|  7700|          2|\n",
      "|          100|  7800|          3|\n",
      "|          100|  8200|          4|\n",
      "|          100|  9000|          5|\n",
      "|          100| 12008|          6|\n",
      "|          110|  8300|          1|\n",
      "|          110| 12008|          2|\n",
      "+-------------+------+-----------+\n",
      "\n"
     ]
    }
   ],
   "source": [
    "from pyspark.sql.window import Window\n",
    "windowSpec = Window.partitionBy(\"DEPARTMENT_ID\").orderBy(\"SALARY\")\n",
    "empDf.withColumn(\"salary_rank\", rank().over(windowSpec)).select(\"DEPARTMENT_ID\",\"SALARY\",\"salary_rank\").show(100)"
   ]
  },
  {
   "cell_type": "code",
   "execution_count": 111,
   "id": "997ed36b",
   "metadata": {},
   "outputs": [
    {
     "name": "stdout",
     "output_type": "stream",
     "text": [
      "+-------------+------+-----------+\n",
      "|DEPARTMENT_ID|SALARY|salary_rank|\n",
      "+-------------+------+-----------+\n",
      "|           10|  4400|          1|\n",
      "|           20| 13000|          1|\n",
      "|           20|  6000|          2|\n",
      "|           30| 11000|          1|\n",
      "|           30|  3100|          2|\n",
      "|           30|  2900|          3|\n",
      "|           30|  2800|          4|\n",
      "|           30|  2600|          5|\n",
      "|           30|  2500|          6|\n",
      "|           40|  6500|          1|\n",
      "|           50|  8200|          1|\n",
      "|           50|  8000|          2|\n",
      "|           50|  7900|          3|\n",
      "|           50|  6500|          4|\n",
      "|           50|  5800|          5|\n",
      "|           50|  3600|          6|\n",
      "|           50|  3300|          7|\n",
      "|           50|  3300|          7|\n",
      "|           50|  3200|          9|\n",
      "|           50|  3200|          9|\n",
      "|           50|  2900|         11|\n",
      "|           50|  2800|         12|\n",
      "|           50|  2700|         13|\n",
      "|           50|  2700|         13|\n",
      "|           50|  2600|         15|\n",
      "|           50|  2600|         15|\n",
      "|           50|  2500|         17|\n",
      "|           50|  2500|         17|\n",
      "|           50|  2400|         19|\n",
      "|           50|  2400|         19|\n",
      "|           50|  2200|         21|\n",
      "|           50|  2200|         21|\n",
      "|           50|  2100|         23|\n",
      "|           60|  9000|          1|\n",
      "|           60|  6000|          2|\n",
      "|           60|  4800|          3|\n",
      "|           60|  4800|          3|\n",
      "|           60|  4200|          5|\n",
      "|           70| 10000|          1|\n",
      "|           90| 24000|          1|\n",
      "|           90| 17000|          2|\n",
      "|           90| 17000|          2|\n",
      "|          100| 12008|          1|\n",
      "|          100|  9000|          2|\n",
      "|          100|  8200|          3|\n",
      "|          100|  7800|          4|\n",
      "|          100|  7700|          5|\n",
      "|          100|  6900|          6|\n",
      "|          110| 12008|          1|\n",
      "|          110|  8300|          2|\n",
      "+-------------+------+-----------+\n",
      "\n"
     ]
    }
   ],
   "source": [
    "windowSpec = Window.partitionBy(\"DEPARTMENT_ID\").orderBy(col(\"SALARY\").desc())\n",
    "empDf.withColumn(\"salary_rank\", rank().over(windowSpec)).select(\"DEPARTMENT_ID\",\"SALARY\",\"salary_rank\").show(100)"
   ]
  },
  {
   "cell_type": "code",
   "execution_count": 112,
   "id": "1e92ec8a",
   "metadata": {},
   "outputs": [
    {
     "name": "stdout",
     "output_type": "stream",
     "text": [
      "+-------------+------+-----+\n",
      "|DEPARTMENT_ID|SALARY|  SUM|\n",
      "+-------------+------+-----+\n",
      "|           10|  4400| 4400|\n",
      "|           20| 13000|13000|\n",
      "|           20|  6000|19000|\n",
      "|           30| 11000|11000|\n",
      "|           30|  3100|14100|\n",
      "|           30|  2900|17000|\n",
      "|           30|  2800|19800|\n",
      "|           30|  2600|22400|\n",
      "|           30|  2500|24900|\n",
      "|           40|  6500| 6500|\n",
      "|           50|  8200| 8200|\n",
      "|           50|  8000|16200|\n",
      "|           50|  7900|24100|\n",
      "|           50|  6500|30600|\n",
      "|           50|  5800|36400|\n",
      "|           50|  3600|40000|\n",
      "|           50|  3300|46600|\n",
      "|           50|  3300|46600|\n",
      "|           50|  3200|53000|\n",
      "|           50|  3200|53000|\n",
      "|           50|  2900|55900|\n",
      "|           50|  2800|58700|\n",
      "|           50|  2700|64100|\n",
      "|           50|  2700|64100|\n",
      "|           50|  2600|69300|\n",
      "|           50|  2600|69300|\n",
      "|           50|  2500|74300|\n",
      "|           50|  2500|74300|\n",
      "|           50|  2400|79100|\n",
      "|           50|  2400|79100|\n",
      "|           50|  2200|83500|\n",
      "|           50|  2200|83500|\n",
      "|           50|  2100|85600|\n",
      "|           60|  9000| 9000|\n",
      "|           60|  6000|15000|\n",
      "|           60|  4800|24600|\n",
      "|           60|  4800|24600|\n",
      "|           60|  4200|28800|\n",
      "|           70| 10000|10000|\n",
      "|           90| 24000|24000|\n",
      "|           90| 17000|58000|\n",
      "|           90| 17000|58000|\n",
      "|          100| 12008|12008|\n",
      "|          100|  9000|21008|\n",
      "|          100|  8200|29208|\n",
      "|          100|  7800|37008|\n",
      "|          100|  7700|44708|\n",
      "|          100|  6900|51608|\n",
      "|          110| 12008|12008|\n",
      "|          110|  8300|20308|\n",
      "+-------------+------+-----+\n",
      "\n"
     ]
    }
   ],
   "source": [
    "windowSpec = Window.partitionBy(\"DEPARTMENT_ID\").orderBy(col(\"SALARY\").desc())\n",
    "empDf.withColumn(\"SUM\", sum(\"SALARY\").over(windowSpec)).select(\"DEPARTMENT_ID\",\"SALARY\",\"SUM\").show(100)"
   ]
  },
  {
   "cell_type": "code",
   "execution_count": 113,
   "id": "16a4c826",
   "metadata": {},
   "outputs": [
    {
     "name": "stdout",
     "output_type": "stream",
     "text": [
      "+-------------+------+-----+\n",
      "|DEPARTMENT_ID|SALARY|  SUM|\n",
      "+-------------+------+-----+\n",
      "|           10|  4400| 4400|\n",
      "|           20| 13000|19000|\n",
      "|           20|  6000|19000|\n",
      "|           30| 11000|24900|\n",
      "|           30|  3100|24900|\n",
      "|           30|  2900|24900|\n",
      "|           30|  2800|24900|\n",
      "|           30|  2600|24900|\n",
      "|           30|  2500|24900|\n",
      "|           40|  6500| 6500|\n",
      "|           50|  2600|85600|\n",
      "|           50|  2600|85600|\n",
      "|           50|  8000|85600|\n",
      "|           50|  8200|85600|\n",
      "|           50|  7900|85600|\n",
      "|           50|  6500|85600|\n",
      "|           50|  5800|85600|\n",
      "|           50|  3200|85600|\n",
      "|           50|  2700|85600|\n",
      "|           50|  2400|85600|\n",
      "|           50|  2200|85600|\n",
      "|           50|  3300|85600|\n",
      "|           50|  2800|85600|\n",
      "|           50|  2500|85600|\n",
      "|           50|  2100|85600|\n",
      "|           50|  3300|85600|\n",
      "|           50|  2900|85600|\n",
      "|           50|  2400|85600|\n",
      "|           50|  2200|85600|\n",
      "|           50|  3600|85600|\n",
      "|           50|  3200|85600|\n",
      "|           50|  2700|85600|\n",
      "|           50|  2500|85600|\n",
      "|           60|  9000|28800|\n",
      "|           60|  6000|28800|\n",
      "|           60|  4800|28800|\n",
      "|           60|  4800|28800|\n",
      "|           60|  4200|28800|\n",
      "|           70| 10000|10000|\n",
      "|           90| 24000|58000|\n",
      "|           90| 17000|58000|\n",
      "|           90| 17000|58000|\n",
      "|          100| 12008|51608|\n",
      "|          100|  9000|51608|\n",
      "|          100|  8200|51608|\n",
      "|          100|  7700|51608|\n",
      "|          100|  7800|51608|\n",
      "|          100|  6900|51608|\n",
      "|          110| 12008|20308|\n",
      "|          110|  8300|20308|\n",
      "+-------------+------+-----+\n",
      "\n"
     ]
    }
   ],
   "source": [
    "windowSpec = Window.partitionBy(\"DEPARTMENT_ID\")\n",
    "empDf.withColumn(\"SUM\", sum(\"SALARY\").over(windowSpec)).select(\"DEPARTMENT_ID\",\"SALARY\",\"SUM\").show(100)"
   ]
  },
  {
   "cell_type": "code",
   "execution_count": 115,
   "id": "bf9aea32",
   "metadata": {},
   "outputs": [
    {
     "name": "stdout",
     "output_type": "stream",
     "text": [
      "+-----------+-------------+----------------+\n",
      "|EMPLOYEE_ID|DEPARTMENT_ID| DEPARTMENT_NAME|\n",
      "+-----------+-------------+----------------+\n",
      "|        198|           50|        Shipping|\n",
      "|        199|           50|        Shipping|\n",
      "|        200|           10|  Administration|\n",
      "|        201|           20|       Marketing|\n",
      "|        202|           20|       Marketing|\n",
      "|        203|           40| Human Resources|\n",
      "|        204|           70|Public Relations|\n",
      "|        205|          110|      Accounting|\n",
      "|        206|          110|      Accounting|\n",
      "|        100|           90|       Executive|\n",
      "|        101|           90|       Executive|\n",
      "|        102|           90|       Executive|\n",
      "|        103|           60|              IT|\n",
      "|        104|           60|              IT|\n",
      "|        105|           60|              IT|\n",
      "|        106|           60|              IT|\n",
      "|        107|           60|              IT|\n",
      "|        108|          100|         Finance|\n",
      "|        109|          100|         Finance|\n",
      "|        110|          100|         Finance|\n",
      "|        111|          100|         Finance|\n",
      "|        112|          100|         Finance|\n",
      "|        113|          100|         Finance|\n",
      "|        114|           30|      Purchasing|\n",
      "|        115|           30|      Purchasing|\n",
      "|        116|           30|      Purchasing|\n",
      "|        117|           30|      Purchasing|\n",
      "|        118|           30|      Purchasing|\n",
      "|        119|           30|      Purchasing|\n",
      "|        120|           50|        Shipping|\n",
      "|        121|           50|        Shipping|\n",
      "|        122|           50|        Shipping|\n",
      "|        123|           50|        Shipping|\n",
      "|        124|           50|        Shipping|\n",
      "|        125|           50|        Shipping|\n",
      "|        126|           50|        Shipping|\n",
      "|        127|           50|        Shipping|\n",
      "|        128|           50|        Shipping|\n",
      "|        129|           50|        Shipping|\n",
      "|        130|           50|        Shipping|\n",
      "|        131|           50|        Shipping|\n",
      "|        132|           50|        Shipping|\n",
      "|        133|           50|        Shipping|\n",
      "|        134|           50|        Shipping|\n",
      "|        135|           50|        Shipping|\n",
      "|        136|           50|        Shipping|\n",
      "|        137|           50|        Shipping|\n",
      "|        138|           50|        Shipping|\n",
      "|        139|           50|        Shipping|\n",
      "|        140|           50|        Shipping|\n",
      "+-----------+-------------+----------------+\n",
      "\n"
     ]
    }
   ],
   "source": [
    "from pyspark.sql.functions import *\n",
    "spark.conf.set(\"spark.sql.autoBroadcastJoinThreshold\", 104857600)\n",
    "empDf.join(broadcast(df2), empDf.DEPARTMENT_ID == df2.DEPARTMENT_ID, \"inner\").select(empDf.EMPLOYEE_ID, empDf.DEPARTMENT_ID, df2.DEPARTMENT_NAME).show(100)"
   ]
  },
  {
   "cell_type": "code",
   "execution_count": 116,
   "id": "db7c638d",
   "metadata": {},
   "outputs": [
    {
     "ename": "NameError",
     "evalue": "name 'resultDf' is not defined",
     "output_type": "error",
     "traceback": [
      "\u001b[0;31m---------------------------------------------------------------------------\u001b[0m",
      "\u001b[0;31mNameError\u001b[0m                                 Traceback (most recent call last)",
      "Input \u001b[0;32mIn [116]\u001b[0m, in \u001b[0;36m<cell line: 1>\u001b[0;34m()\u001b[0m\n\u001b[0;32m----> 1\u001b[0m \u001b[43mresultDf\u001b[49m\u001b[38;5;241m.\u001b[39mwrite\u001b[38;5;241m.\u001b[39mmode(\u001b[38;5;124m\"\u001b[39m\u001b[38;5;124moverwrite\u001b[39m\u001b[38;5;124m\"\u001b[39m)\u001b[38;5;241m.\u001b[39moption(\u001b[38;5;124m\"\u001b[39m\u001b[38;5;124mheader\u001b[39m\u001b[38;5;124m\"\u001b[39m,\u001b[38;5;28;01mTrue\u001b[39;00m)\u001b[38;5;241m.\u001b[39msave(\u001b[38;5;124m\"\u001b[39m\u001b[38;5;124m/output/result\u001b[39m\u001b[38;5;124m\"\u001b[39m)\n\u001b[1;32m      2\u001b[0m resultDf\u001b[38;5;241m.\u001b[39mwrite\u001b[38;5;241m.\u001b[39mmode(\u001b[38;5;124m\"\u001b[39m\u001b[38;5;124moverwrite\u001b[39m\u001b[38;5;124m\"\u001b[39m)\u001b[38;5;241m.\u001b[39moption(\u001b[38;5;124m\"\u001b[39m\u001b[38;5;124mheader\u001b[39m\u001b[38;5;124m\"\u001b[39m,\u001b[38;5;28;01mTrue\u001b[39;00m)\u001b[38;5;241m.\u001b[39mformat(\u001b[38;5;124m\"\u001b[39m\u001b[38;5;124mcsv\u001b[39m\u001b[38;5;124m\"\u001b[39m)\u001b[38;5;241m.\u001b[39msave(\u001b[38;5;124m\"\u001b[39m\u001b[38;5;124m/output/result\u001b[39m\u001b[38;5;124m\"\u001b[39m)\n\u001b[1;32m      3\u001b[0m resultDf\u001b[38;5;241m.\u001b[39mwrite\u001b[38;5;241m.\u001b[39mmode(\u001b[38;5;124m\"\u001b[39m\u001b[38;5;124mappend\u001b[39m\u001b[38;5;124m\"\u001b[39m)\u001b[38;5;241m.\u001b[39moption(\u001b[38;5;124m\"\u001b[39m\u001b[38;5;124mheader\u001b[39m\u001b[38;5;124m\"\u001b[39m,\u001b[38;5;28;01mTrue\u001b[39;00m)\u001b[38;5;241m.\u001b[39mformat(\u001b[38;5;124m\"\u001b[39m\u001b[38;5;124mcsv\u001b[39m\u001b[38;5;124m\"\u001b[39m)\u001b[38;5;241m.\u001b[39msave(\u001b[38;5;124m\"\u001b[39m\u001b[38;5;124m/output/result\u001b[39m\u001b[38;5;124m\"\u001b[39m)\n",
      "\u001b[0;31mNameError\u001b[0m: name 'resultDf' is not defined"
     ]
    }
   ],
   "source": [
    "resultDf.write.mode(\"overwrite\").option(\"header\",True).save(\"/output/result\")\n",
    "resultDf.write.mode(\"overwrite\").option(\"header\",True).format(\"csv\").save(\"/output/result\")\n",
    "resultDf.write.mode(\"append\").option(\"header\",True).format(\"csv\").save(\"/output/result\")\n",
    "resultDf.write.mode(\"overwrite\").partitionBy(\"DEPARTMENT_NAME\").option(\"header\",True).format(\"csv\").save(\"/output/result\")"
   ]
  },
  {
   "cell_type": "code",
   "execution_count": 117,
   "id": "7ec5ebae",
   "metadata": {},
   "outputs": [
    {
     "data": {
      "text/plain": [
       "1"
      ]
     },
     "execution_count": 117,
     "metadata": {},
     "output_type": "execute_result"
    }
   ],
   "source": [
    "empDf.rdd.getNumPartitions()"
   ]
  },
  {
   "cell_type": "code",
   "execution_count": 119,
   "id": "bb7be1ef",
   "metadata": {},
   "outputs": [
    {
     "data": {
      "text/plain": [
       "1"
      ]
     },
     "execution_count": 119,
     "metadata": {},
     "output_type": "execute_result"
    }
   ],
   "source": [
    "df2.rdd.getNumPartitions()"
   ]
  },
  {
   "cell_type": "code",
   "execution_count": 120,
   "id": "643a743c",
   "metadata": {},
   "outputs": [
    {
     "ename": "NameError",
     "evalue": "name 'resultDf' is not defined",
     "output_type": "error",
     "traceback": [
      "\u001b[0;31m---------------------------------------------------------------------------\u001b[0m",
      "\u001b[0;31mNameError\u001b[0m                                 Traceback (most recent call last)",
      "Input \u001b[0;32mIn [120]\u001b[0m, in \u001b[0;36m<cell line: 1>\u001b[0;34m()\u001b[0m\n\u001b[0;32m----> 1\u001b[0m \u001b[43mresultDf\u001b[49m\u001b[38;5;241m.\u001b[39mrdd\u001b[38;5;241m.\u001b[39mgetNumPartitions()\n",
      "\u001b[0;31mNameError\u001b[0m: name 'resultDf' is not defined"
     ]
    }
   ],
   "source": [
    "resultDf.rdd.getNumPartitions()"
   ]
  },
  {
   "cell_type": "code",
   "execution_count": 121,
   "id": "694ca6f5",
   "metadata": {},
   "outputs": [
    {
     "ename": "NameError",
     "evalue": "name 'resultDf' is not defined",
     "output_type": "error",
     "traceback": [
      "\u001b[0;31m---------------------------------------------------------------------------\u001b[0m",
      "\u001b[0;31mNameError\u001b[0m                                 Traceback (most recent call last)",
      "Input \u001b[0;32mIn [121]\u001b[0m, in \u001b[0;36m<cell line: 1>\u001b[0;34m()\u001b[0m\n\u001b[0;32m----> 1\u001b[0m \u001b[43mresultDf\u001b[49m\u001b[38;5;241m.\u001b[39mrepartition(\u001b[38;5;241m10\u001b[39m)\n",
      "\u001b[0;31mNameError\u001b[0m: name 'resultDf' is not defined"
     ]
    }
   ],
   "source": [
    "resultDf.repartition(10)"
   ]
  },
  {
   "cell_type": "code",
   "execution_count": null,
   "id": "603ea87f",
   "metadata": {},
   "outputs": [],
   "source": [
    "resultDf.rdd.getNumPartitions()"
   ]
  },
  {
   "cell_type": "code",
   "execution_count": null,
   "id": "45f9e3e4",
   "metadata": {},
   "outputs": [],
   "source": [
    "newDf = resultDf.repartition(10)\n",
    "newDf.rdd.getNumPartitions()"
   ]
  },
  {
   "cell_type": "code",
   "execution_count": null,
   "id": "194ca53f",
   "metadata": {},
   "outputs": [],
   "source": [
    "df1 = newDf.repartition(2)\n",
    "df1.rdd.getNumPartitions()"
   ]
  },
  {
   "cell_type": "code",
   "execution_count": 122,
   "id": "4968cac1",
   "metadata": {},
   "outputs": [
    {
     "ename": "NameError",
     "evalue": "name 'newDf' is not defined",
     "output_type": "error",
     "traceback": [
      "\u001b[0;31m---------------------------------------------------------------------------\u001b[0m",
      "\u001b[0;31mNameError\u001b[0m                                 Traceback (most recent call last)",
      "Input \u001b[0;32mIn [122]\u001b[0m, in \u001b[0;36m<cell line: 1>\u001b[0;34m()\u001b[0m\n\u001b[0;32m----> 1\u001b[0m \u001b[43mnewDf\u001b[49m\u001b[38;5;241m.\u001b[39mrdd\u001b[38;5;241m.\u001b[39mgetNumPartitions()\n\u001b[1;32m      2\u001b[0m df2 \u001b[38;5;241m=\u001b[39m newDf\u001b[38;5;241m.\u001b[39mcoalesce(\u001b[38;5;241m20\u001b[39m)\n\u001b[1;32m      3\u001b[0m df2\u001b[38;5;241m.\u001b[39mrdd\u001b[38;5;241m.\u001b[39mgetNumPartitions()\n",
      "\u001b[0;31mNameError\u001b[0m: name 'newDf' is not defined"
     ]
    }
   ],
   "source": [
    "newDf.rdd.getNumPartitions()\n",
    "df2 = newDf.coalesce(20)\n",
    "df2.rdd.getNumPartitions()"
   ]
  },
  {
   "cell_type": "code",
   "execution_count": 123,
   "id": "b63c70b1",
   "metadata": {},
   "outputs": [
    {
     "ename": "NameError",
     "evalue": "name 'newDf' is not defined",
     "output_type": "error",
     "traceback": [
      "\u001b[0;31m---------------------------------------------------------------------------\u001b[0m",
      "\u001b[0;31mNameError\u001b[0m                                 Traceback (most recent call last)",
      "Input \u001b[0;32mIn [123]\u001b[0m, in \u001b[0;36m<cell line: 1>\u001b[0;34m()\u001b[0m\n\u001b[0;32m----> 1\u001b[0m df3 \u001b[38;5;241m=\u001b[39m \u001b[43mnewDf\u001b[49m\u001b[38;5;241m.\u001b[39mcoalesce(\u001b[38;5;241m5\u001b[39m)\n",
      "\u001b[0;31mNameError\u001b[0m: name 'newDf' is not defined"
     ]
    }
   ],
   "source": [
    "df3 = newDf.coalesce(5)"
   ]
  },
  {
   "cell_type": "code",
   "execution_count": 124,
   "id": "a3c0f901",
   "metadata": {},
   "outputs": [
    {
     "ename": "NameError",
     "evalue": "name 'df3' is not defined",
     "output_type": "error",
     "traceback": [
      "\u001b[0;31m---------------------------------------------------------------------------\u001b[0m",
      "\u001b[0;31mNameError\u001b[0m                                 Traceback (most recent call last)",
      "Input \u001b[0;32mIn [124]\u001b[0m, in \u001b[0;36m<cell line: 1>\u001b[0;34m()\u001b[0m\n\u001b[0;32m----> 1\u001b[0m \u001b[43mdf3\u001b[49m\u001b[38;5;241m.\u001b[39mrdd\u001b[38;5;241m.\u001b[39mgetNumPartitions()\n",
      "\u001b[0;31mNameError\u001b[0m: name 'df3' is not defined"
     ]
    }
   ],
   "source": [
    "df3.rdd.getNumPartitions()"
   ]
  },
  {
   "cell_type": "code",
   "execution_count": 125,
   "id": "97cb403a",
   "metadata": {},
   "outputs": [
    {
     "ename": "NameError",
     "evalue": "name 'resultDf' is not defined",
     "output_type": "error",
     "traceback": [
      "\u001b[0;31m---------------------------------------------------------------------------\u001b[0m",
      "\u001b[0;31mNameError\u001b[0m                                 Traceback (most recent call last)",
      "Input \u001b[0;32mIn [125]\u001b[0m, in \u001b[0;36m<cell line: 1>\u001b[0;34m()\u001b[0m\n\u001b[0;32m----> 1\u001b[0m \u001b[43mresultDf\u001b[49m\u001b[38;5;241m.\u001b[39mcoalesce(\u001b[38;5;241m1\u001b[39m)\u001b[38;5;241m.\u001b[39mwrite\u001b[38;5;241m.\u001b[39mmode(\u001b[38;5;124m\"\u001b[39m\u001b[38;5;124moverwrite\u001b[39m\u001b[38;5;124m\"\u001b[39m)\u001b[38;5;241m.\u001b[39moption(\u001b[38;5;124m\"\u001b[39m\u001b[38;5;124mheader\u001b[39m\u001b[38;5;124m\"\u001b[39m,\u001b[38;5;28;01mTrue\u001b[39;00m)\u001b[38;5;241m.\u001b[39mformat(\u001b[38;5;124m\"\u001b[39m\u001b[38;5;124mcsv\u001b[39m\u001b[38;5;124m\"\u001b[39m)\u001b[38;5;241m.\u001b[39msave(\u001b[38;5;124m\"\u001b[39m\u001b[38;5;124m/output/result\u001b[39m\u001b[38;5;124m\"\u001b[39m)\n",
      "\u001b[0;31mNameError\u001b[0m: name 'resultDf' is not defined"
     ]
    }
   ],
   "source": [
    "resultDf.coalesce(1).write.mode(\"overwrite\").option(\"header\",True).format(\"csv\").save(\"/output/result\")"
   ]
  },
  {
   "cell_type": "code",
   "execution_count": 126,
   "id": "851f80ba",
   "metadata": {},
   "outputs": [
    {
     "ename": "AnalysisException",
     "evalue": "Path does not exist: file:/input_data/jsonexample.json",
     "output_type": "error",
     "traceback": [
      "\u001b[0;31m---------------------------------------------------------------------------\u001b[0m",
      "\u001b[0;31mAnalysisException\u001b[0m                         Traceback (most recent call last)",
      "Input \u001b[0;32mIn [126]\u001b[0m, in \u001b[0;36m<cell line: 1>\u001b[0;34m()\u001b[0m\n\u001b[0;32m----> 1\u001b[0m jsonDf \u001b[38;5;241m=\u001b[39m \u001b[43mspark\u001b[49m\u001b[38;5;241;43m.\u001b[39;49m\u001b[43mread\u001b[49m\u001b[38;5;241;43m.\u001b[39;49m\u001b[43mjson\u001b[49m\u001b[43m(\u001b[49m\u001b[38;5;124;43m\"\u001b[39;49m\u001b[38;5;124;43m/input_data/jsonexample.json\u001b[39;49m\u001b[38;5;124;43m\"\u001b[39;49m\u001b[43m)\u001b[49m\n\u001b[1;32m      2\u001b[0m jsonDf\u001b[38;5;241m.\u001b[39mshow()\n",
      "File \u001b[0;32m~/workspace_working_Repo/ML/envname/lib/python3.8/site-packages/pyspark/sql/readwriter.py:284\u001b[0m, in \u001b[0;36mDataFrameReader.json\u001b[0;34m(self, path, schema, primitivesAsString, prefersDecimal, allowComments, allowUnquotedFieldNames, allowSingleQuotes, allowNumericLeadingZero, allowBackslashEscapingAnyCharacter, mode, columnNameOfCorruptRecord, dateFormat, timestampFormat, multiLine, allowUnquotedControlChars, lineSep, samplingRatio, dropFieldIfAllNull, encoding, locale, pathGlobFilter, recursiveFileLookup, modifiedBefore, modifiedAfter, allowNonNumericNumbers)\u001b[0m\n\u001b[1;32m    282\u001b[0m \u001b[38;5;28;01mif\u001b[39;00m \u001b[38;5;28mtype\u001b[39m(path) \u001b[38;5;241m==\u001b[39m \u001b[38;5;28mlist\u001b[39m:\n\u001b[1;32m    283\u001b[0m     \u001b[38;5;28;01massert\u001b[39;00m \u001b[38;5;28mself\u001b[39m\u001b[38;5;241m.\u001b[39m_spark\u001b[38;5;241m.\u001b[39m_sc\u001b[38;5;241m.\u001b[39m_jvm \u001b[38;5;129;01mis\u001b[39;00m \u001b[38;5;129;01mnot\u001b[39;00m \u001b[38;5;28;01mNone\u001b[39;00m\n\u001b[0;32m--> 284\u001b[0m     \u001b[38;5;28;01mreturn\u001b[39;00m \u001b[38;5;28mself\u001b[39m\u001b[38;5;241m.\u001b[39m_df(\u001b[38;5;28;43mself\u001b[39;49m\u001b[38;5;241;43m.\u001b[39;49m\u001b[43m_jreader\u001b[49m\u001b[38;5;241;43m.\u001b[39;49m\u001b[43mjson\u001b[49m\u001b[43m(\u001b[49m\u001b[38;5;28;43mself\u001b[39;49m\u001b[38;5;241;43m.\u001b[39;49m\u001b[43m_spark\u001b[49m\u001b[38;5;241;43m.\u001b[39;49m\u001b[43m_sc\u001b[49m\u001b[38;5;241;43m.\u001b[39;49m\u001b[43m_jvm\u001b[49m\u001b[38;5;241;43m.\u001b[39;49m\u001b[43mPythonUtils\u001b[49m\u001b[38;5;241;43m.\u001b[39;49m\u001b[43mtoSeq\u001b[49m\u001b[43m(\u001b[49m\u001b[43mpath\u001b[49m\u001b[43m)\u001b[49m\u001b[43m)\u001b[49m)\n\u001b[1;32m    285\u001b[0m \u001b[38;5;28;01melif\u001b[39;00m \u001b[38;5;28misinstance\u001b[39m(path, RDD):\n\u001b[1;32m    287\u001b[0m     \u001b[38;5;28;01mdef\u001b[39;00m \u001b[38;5;21mfunc\u001b[39m(iterator: Iterable) \u001b[38;5;241m-\u001b[39m\u001b[38;5;241m>\u001b[39m Iterable:\n",
      "File \u001b[0;32m~/workspace_working_Repo/ML/envname/lib/python3.8/site-packages/py4j/java_gateway.py:1321\u001b[0m, in \u001b[0;36mJavaMember.__call__\u001b[0;34m(self, *args)\u001b[0m\n\u001b[1;32m   1315\u001b[0m command \u001b[38;5;241m=\u001b[39m proto\u001b[38;5;241m.\u001b[39mCALL_COMMAND_NAME \u001b[38;5;241m+\u001b[39m\\\n\u001b[1;32m   1316\u001b[0m     \u001b[38;5;28mself\u001b[39m\u001b[38;5;241m.\u001b[39mcommand_header \u001b[38;5;241m+\u001b[39m\\\n\u001b[1;32m   1317\u001b[0m     args_command \u001b[38;5;241m+\u001b[39m\\\n\u001b[1;32m   1318\u001b[0m     proto\u001b[38;5;241m.\u001b[39mEND_COMMAND_PART\n\u001b[1;32m   1320\u001b[0m answer \u001b[38;5;241m=\u001b[39m \u001b[38;5;28mself\u001b[39m\u001b[38;5;241m.\u001b[39mgateway_client\u001b[38;5;241m.\u001b[39msend_command(command)\n\u001b[0;32m-> 1321\u001b[0m return_value \u001b[38;5;241m=\u001b[39m \u001b[43mget_return_value\u001b[49m\u001b[43m(\u001b[49m\n\u001b[1;32m   1322\u001b[0m \u001b[43m    \u001b[49m\u001b[43manswer\u001b[49m\u001b[43m,\u001b[49m\u001b[43m \u001b[49m\u001b[38;5;28;43mself\u001b[39;49m\u001b[38;5;241;43m.\u001b[39;49m\u001b[43mgateway_client\u001b[49m\u001b[43m,\u001b[49m\u001b[43m \u001b[49m\u001b[38;5;28;43mself\u001b[39;49m\u001b[38;5;241;43m.\u001b[39;49m\u001b[43mtarget_id\u001b[49m\u001b[43m,\u001b[49m\u001b[43m \u001b[49m\u001b[38;5;28;43mself\u001b[39;49m\u001b[38;5;241;43m.\u001b[39;49m\u001b[43mname\u001b[49m\u001b[43m)\u001b[49m\n\u001b[1;32m   1324\u001b[0m \u001b[38;5;28;01mfor\u001b[39;00m temp_arg \u001b[38;5;129;01min\u001b[39;00m temp_args:\n\u001b[1;32m   1325\u001b[0m     temp_arg\u001b[38;5;241m.\u001b[39m_detach()\n",
      "File \u001b[0;32m~/workspace_working_Repo/ML/envname/lib/python3.8/site-packages/pyspark/sql/utils.py:196\u001b[0m, in \u001b[0;36mcapture_sql_exception.<locals>.deco\u001b[0;34m(*a, **kw)\u001b[0m\n\u001b[1;32m    192\u001b[0m converted \u001b[38;5;241m=\u001b[39m convert_exception(e\u001b[38;5;241m.\u001b[39mjava_exception)\n\u001b[1;32m    193\u001b[0m \u001b[38;5;28;01mif\u001b[39;00m \u001b[38;5;129;01mnot\u001b[39;00m \u001b[38;5;28misinstance\u001b[39m(converted, UnknownException):\n\u001b[1;32m    194\u001b[0m     \u001b[38;5;66;03m# Hide where the exception came from that shows a non-Pythonic\u001b[39;00m\n\u001b[1;32m    195\u001b[0m     \u001b[38;5;66;03m# JVM exception message.\u001b[39;00m\n\u001b[0;32m--> 196\u001b[0m     \u001b[38;5;28;01mraise\u001b[39;00m converted \u001b[38;5;28;01mfrom\u001b[39;00m \u001b[38;5;28mNone\u001b[39m\n\u001b[1;32m    197\u001b[0m \u001b[38;5;28;01melse\u001b[39;00m:\n\u001b[1;32m    198\u001b[0m     \u001b[38;5;28;01mraise\u001b[39;00m\n",
      "\u001b[0;31mAnalysisException\u001b[0m: Path does not exist: file:/input_data/jsonexample.json"
     ]
    }
   ],
   "source": [
    "jsonDf = spark.read.json(\"/input_data/jsonexample.json\")\n",
    "jsonDf.show()"
   ]
  },
  {
   "cell_type": "code",
   "execution_count": 127,
   "id": "6c7a0e2f",
   "metadata": {},
   "outputs": [
    {
     "ename": "NameError",
     "evalue": "name 'jsonDf' is not defined",
     "output_type": "error",
     "traceback": [
      "\u001b[0;31m---------------------------------------------------------------------------\u001b[0m",
      "\u001b[0;31mNameError\u001b[0m                                 Traceback (most recent call last)",
      "Input \u001b[0;32mIn [127]\u001b[0m, in \u001b[0;36m<cell line: 1>\u001b[0;34m()\u001b[0m\n\u001b[0;32m----> 1\u001b[0m \u001b[43mjsonDf\u001b[49m\u001b[38;5;241m.\u001b[39mprintSchema()\n",
      "\u001b[0;31mNameError\u001b[0m: name 'jsonDf' is not defined"
     ]
    }
   ],
   "source": [
    "jsonDf.printSchema()"
   ]
  },
  {
   "cell_type": "code",
   "execution_count": 128,
   "id": "5fb04626",
   "metadata": {},
   "outputs": [
    {
     "ename": "NameError",
     "evalue": "name 'jsonDf' is not defined",
     "output_type": "error",
     "traceback": [
      "\u001b[0;31m---------------------------------------------------------------------------\u001b[0m",
      "\u001b[0;31mNameError\u001b[0m                                 Traceback (most recent call last)",
      "Input \u001b[0;32mIn [128]\u001b[0m, in \u001b[0;36m<cell line: 1>\u001b[0;34m()\u001b[0m\n\u001b[0;32m----> 1\u001b[0m \u001b[43mjsonDf\u001b[49m\u001b[38;5;241m.\u001b[39mselect(jsonDf\u001b[38;5;241m.\u001b[39mText1, jsonDf\u001b[38;5;241m.\u001b[39mArray1)\u001b[38;5;241m.\u001b[39mshow()\n",
      "\u001b[0;31mNameError\u001b[0m: name 'jsonDf' is not defined"
     ]
    }
   ],
   "source": [
    "jsonDf.select(jsonDf.Text1, jsonDf.Array1).show()"
   ]
  },
  {
   "cell_type": "code",
   "execution_count": 129,
   "id": "fce9eea8",
   "metadata": {},
   "outputs": [
    {
     "ename": "NameError",
     "evalue": "name 'jsonDf' is not defined",
     "output_type": "error",
     "traceback": [
      "\u001b[0;31m---------------------------------------------------------------------------\u001b[0m",
      "\u001b[0;31mNameError\u001b[0m                                 Traceback (most recent call last)",
      "Input \u001b[0;32mIn [129]\u001b[0m, in \u001b[0;36m<cell line: 1>\u001b[0;34m()\u001b[0m\n\u001b[0;32m----> 1\u001b[0m \u001b[43mjsonDf\u001b[49m\u001b[38;5;241m.\u001b[39mselect(jsonDf\u001b[38;5;241m.\u001b[39mText1, jsonDf\u001b[38;5;241m.\u001b[39mArray1[\u001b[38;5;241m2\u001b[39m])\u001b[38;5;241m.\u001b[39mshow()\n",
      "\u001b[0;31mNameError\u001b[0m: name 'jsonDf' is not defined"
     ]
    }
   ],
   "source": [
    "jsonDf.select(jsonDf.Text1, jsonDf.Array1[2]).show()"
   ]
  },
  {
   "cell_type": "code",
   "execution_count": 130,
   "id": "dcabdcf6",
   "metadata": {},
   "outputs": [
    {
     "ename": "NameError",
     "evalue": "name 'jsonDf' is not defined",
     "output_type": "error",
     "traceback": [
      "\u001b[0;31m---------------------------------------------------------------------------\u001b[0m",
      "\u001b[0;31mNameError\u001b[0m                                 Traceback (most recent call last)",
      "Input \u001b[0;32mIn [130]\u001b[0m, in \u001b[0;36m<cell line: 1>\u001b[0;34m()\u001b[0m\n\u001b[0;32m----> 1\u001b[0m \u001b[43mjsonDf\u001b[49m\u001b[38;5;241m.\u001b[39mselect(jsonDf\u001b[38;5;241m.\u001b[39mText1, explode(jsonDf\u001b[38;5;241m.\u001b[39mArray1))\u001b[38;5;241m.\u001b[39mshow()\n",
      "\u001b[0;31mNameError\u001b[0m: name 'jsonDf' is not defined"
     ]
    }
   ],
   "source": [
    "jsonDf.select(jsonDf.Text1, explode(jsonDf.Array1)).show()"
   ]
  },
  {
   "cell_type": "code",
   "execution_count": null,
   "id": "3d43ad97",
   "metadata": {},
   "outputs": [],
   "source": []
  }
 ],
 "metadata": {
  "kernelspec": {
   "display_name": "Python 3 (ipykernel)",
   "language": "python",
   "name": "python3"
  },
  "language_info": {
   "codemirror_mode": {
    "name": "ipython",
    "version": 3
   },
   "file_extension": ".py",
   "mimetype": "text/x-python",
   "name": "python",
   "nbconvert_exporter": "python",
   "pygments_lexer": "ipython3",
   "version": "3.8.10"
  }
 },
 "nbformat": 4,
 "nbformat_minor": 5
}
