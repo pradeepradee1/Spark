{
 "cells": [
  {
   "cell_type": "code",
   "execution_count": 1,
   "id": "d76e98a1",
   "metadata": {},
   "outputs": [],
   "source": [
    "from pyspark.sql import SparkSession\n",
    "from pyspark.sql.types import StructType,StructField,StringType,IntegerType"
   ]
  },
  {
   "cell_type": "code",
   "execution_count": 2,
   "id": "6533da35",
   "metadata": {},
   "outputs": [
    {
     "name": "stdout",
     "output_type": "stream",
     "text": [
      "23/04/06 12:35:31 WARN Utils: Your hostname, ZSCHN01LP0253L resolves to a loopback address: 127.0.1.1; using 192.168.1.5 instead (on interface wlp0s20f3)\n",
      "23/04/06 12:35:31 WARN Utils: Set SPARK_LOCAL_IP if you need to bind to another address\n"
     ]
    },
    {
     "name": "stderr",
     "output_type": "stream",
     "text": [
      "Setting default log level to \"WARN\".\n",
      "To adjust logging level use sc.setLogLevel(newLevel). For SparkR, use setLogLevel(newLevel).\n"
     ]
    },
    {
     "name": "stdout",
     "output_type": "stream",
     "text": [
      "23/04/06 12:35:31 WARN NativeCodeLoader: Unable to load native-hadoop library for your platform... using builtin-java classes where applicable\n"
     ]
    },
    {
     "data": {
      "text/html": [
       "\n",
       "            <div>\n",
       "                <p><b>SparkSession - in-memory</b></p>\n",
       "                \n",
       "        <div>\n",
       "            <p><b>SparkContext</b></p>\n",
       "\n",
       "            <p><a href=\"http://192.168.1.5:4040\">Spark UI</a></p>\n",
       "\n",
       "            <dl>\n",
       "              <dt>Version</dt>\n",
       "                <dd><code>v3.3.2</code></dd>\n",
       "              <dt>Master</dt>\n",
       "                <dd><code>local[*]</code></dd>\n",
       "              <dt>AppName</dt>\n",
       "                <dd><code>Demo</code></dd>\n",
       "            </dl>\n",
       "        </div>\n",
       "        \n",
       "            </div>\n",
       "        "
      ],
      "text/plain": [
       "<pyspark.sql.session.SparkSession at 0x7fa2200de7c0>"
      ]
     },
     "execution_count": 2,
     "metadata": {},
     "output_type": "execute_result"
    }
   ],
   "source": [
    "spark = SparkSession.builder.master(\"local[*]\").appName(\"Demo\").getOrCreate()\n",
    "spark"
   ]
  },
  {
   "cell_type": "code",
   "execution_count": 3,
   "id": "528b9f4f",
   "metadata": {},
   "outputs": [
    {
     "name": "stderr",
     "output_type": "stream",
     "text": [
      "\r",
      "[Stage 0:>                                                          (0 + 1) / 1]\r",
      "\r",
      "                                                                                \r"
     ]
    },
    {
     "name": "stdout",
     "output_type": "stream",
     "text": [
      "+------------+----+-----+-------+\n",
      "|      Array1|Num1|Text1|  Text2|\n",
      "+------------+----+-----+-------+\n",
      "|   [7, 8, 9]| 5.0|Hello|GoodBye|\n",
      "|[70, 88, 91]| 6.5| This|   That|\n",
      "|   [1, 2, 3]| 2.0|  Yes|     No|\n",
      "+------------+----+-----+-------+\n",
      "\n"
     ]
    }
   ],
   "source": [
    "jsonDf = spark.read.json(\"../../Spark-main/jsonexample.json\")\n",
    "jsonDf.show()"
   ]
  },
  {
   "cell_type": "code",
   "execution_count": 4,
   "id": "c653e091",
   "metadata": {},
   "outputs": [
    {
     "name": "stdout",
     "output_type": "stream",
     "text": [
      "root\n",
      " |-- Array1: array (nullable = true)\n",
      " |    |-- element: long (containsNull = true)\n",
      " |-- Num1: double (nullable = true)\n",
      " |-- Text1: string (nullable = true)\n",
      " |-- Text2: string (nullable = true)\n",
      "\n"
     ]
    }
   ],
   "source": [
    "jsonDf.printSchema()"
   ]
  },
  {
   "cell_type": "code",
   "execution_count": 5,
   "id": "f2fdb42f",
   "metadata": {},
   "outputs": [
    {
     "name": "stdout",
     "output_type": "stream",
     "text": [
      "+-----+------------+\n",
      "|Text1|      Array1|\n",
      "+-----+------------+\n",
      "|Hello|   [7, 8, 9]|\n",
      "| This|[70, 88, 91]|\n",
      "|  Yes|   [1, 2, 3]|\n",
      "+-----+------------+\n",
      "\n"
     ]
    }
   ],
   "source": [
    "jsonDf.select(jsonDf.Text1, jsonDf.Array1).show()"
   ]
  },
  {
   "cell_type": "code",
   "execution_count": 6,
   "id": "3957cc27",
   "metadata": {},
   "outputs": [
    {
     "name": "stdout",
     "output_type": "stream",
     "text": [
      "+-----+---------+\n",
      "|Text1|Array1[2]|\n",
      "+-----+---------+\n",
      "|Hello|        9|\n",
      "| This|       91|\n",
      "|  Yes|        3|\n",
      "+-----+---------+\n",
      "\n"
     ]
    }
   ],
   "source": [
    "jsonDf.select(jsonDf.Text1, jsonDf.Array1[2]).show()"
   ]
  },
  {
   "cell_type": "code",
   "execution_count": 10,
   "id": "7237fd18",
   "metadata": {},
   "outputs": [
    {
     "name": "stdout",
     "output_type": "stream",
     "text": [
      "+-----+---+\n",
      "|Text1|col|\n",
      "+-----+---+\n",
      "|Hello|  7|\n",
      "|Hello|  8|\n",
      "|Hello|  9|\n",
      "| This| 70|\n",
      "| This| 88|\n",
      "| This| 91|\n",
      "|  Yes|  1|\n",
      "|  Yes|  2|\n",
      "|  Yes|  3|\n",
      "+-----+---+\n",
      "\n"
     ]
    }
   ],
   "source": [
    "from pyspark.sql.functions import explode\n",
    "jsonDf.select(jsonDf.Text1, explode(jsonDf.Array1)).show()"
   ]
  },
  {
   "cell_type": "code",
   "execution_count": null,
   "id": "8352a492",
   "metadata": {},
   "outputs": [],
   "source": []
  }
 ],
 "metadata": {
  "kernelspec": {
   "display_name": "Python 3 (ipykernel)",
   "language": "python",
   "name": "python3"
  },
  "language_info": {
   "codemirror_mode": {
    "name": "ipython",
    "version": 3
   },
   "file_extension": ".py",
   "mimetype": "text/x-python",
   "name": "python",
   "nbconvert_exporter": "python",
   "pygments_lexer": "ipython3",
   "version": "3.8.10"
  }
 },
 "nbformat": 4,
 "nbformat_minor": 5
}
