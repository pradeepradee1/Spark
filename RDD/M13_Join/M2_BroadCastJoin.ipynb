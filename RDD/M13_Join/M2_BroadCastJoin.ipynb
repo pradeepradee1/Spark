{
 "cells": [
  {
   "cell_type": "code",
   "execution_count": 1,
   "id": "8a12ffb9",
   "metadata": {},
   "outputs": [],
   "source": [
    "from pyspark.sql import SparkSession\n",
    "from pyspark.sql.types import StructType,StructField,StringType,IntegerType"
   ]
  },
  {
   "cell_type": "code",
   "execution_count": 2,
   "id": "0fd60c8b",
   "metadata": {},
   "outputs": [
    {
     "name": "stdout",
     "output_type": "stream",
     "text": [
      "23/04/04 20:36:52 WARN Utils: Your hostname, ZSCHN01LP0253L resolves to a loopback address: 127.0.1.1; using 192.168.1.5 instead (on interface wlp0s20f3)\n",
      "23/04/04 20:36:52 WARN Utils: Set SPARK_LOCAL_IP if you need to bind to another address\n"
     ]
    },
    {
     "name": "stderr",
     "output_type": "stream",
     "text": [
      "Setting default log level to \"WARN\".\n",
      "To adjust logging level use sc.setLogLevel(newLevel). For SparkR, use setLogLevel(newLevel).\n"
     ]
    },
    {
     "name": "stdout",
     "output_type": "stream",
     "text": [
      "23/04/04 20:36:53 WARN NativeCodeLoader: Unable to load native-hadoop library for your platform... using builtin-java classes where applicable\n",
      "23/04/04 20:36:53 WARN Utils: Service 'SparkUI' could not bind on port 4040. Attempting port 4041.\n",
      "23/04/04 20:36:53 WARN Utils: Service 'SparkUI' could not bind on port 4041. Attempting port 4042.\n",
      "23/04/04 20:36:53 WARN Utils: Service 'SparkUI' could not bind on port 4042. Attempting port 4043.\n"
     ]
    },
    {
     "data": {
      "text/html": [
       "\n",
       "            <div>\n",
       "                <p><b>SparkSession - in-memory</b></p>\n",
       "                \n",
       "        <div>\n",
       "            <p><b>SparkContext</b></p>\n",
       "\n",
       "            <p><a href=\"http://192.168.1.5:4043\">Spark UI</a></p>\n",
       "\n",
       "            <dl>\n",
       "              <dt>Version</dt>\n",
       "                <dd><code>v3.3.2</code></dd>\n",
       "              <dt>Master</dt>\n",
       "                <dd><code>local[*]</code></dd>\n",
       "              <dt>AppName</dt>\n",
       "                <dd><code>Demo</code></dd>\n",
       "            </dl>\n",
       "        </div>\n",
       "        \n",
       "            </div>\n",
       "        "
      ],
      "text/plain": [
       "<pyspark.sql.session.SparkSession at 0x7f9fa0089790>"
      ]
     },
     "execution_count": 2,
     "metadata": {},
     "output_type": "execute_result"
    }
   ],
   "source": [
    "spark = SparkSession.builder.master(\"local[*]\").appName(\"Demo\").getOrCreate()\n",
    "spark"
   ]
  },
  {
   "cell_type": "code",
   "execution_count": 4,
   "id": "9f407746",
   "metadata": {},
   "outputs": [
    {
     "name": "stdout",
     "output_type": "stream",
     "text": [
      "+-----------+----------+---------+--------+------------+---------+--------+------+--------------+----------+-------------+\n",
      "|EMPLOYEE_ID|FIRST_NAME|LAST_NAME|   EMAIL|PHONE_NUMBER|HIRE_DATE|  JOB_ID|SALARY|COMMISSION_PCT|MANAGER_ID|DEPARTMENT_ID|\n",
      "+-----------+----------+---------+--------+------------+---------+--------+------+--------------+----------+-------------+\n",
      "|        198|    Donald| OConnell|DOCONNEL|650.507.9833|21-JUN-07|SH_CLERK|  2600|            - |       124|           50|\n",
      "+-----------+----------+---------+--------+------------+---------+--------+------+--------------+----------+-------------+\n",
      "only showing top 1 row\n",
      "\n"
     ]
    }
   ],
   "source": [
    "empDf = spark.read.option(\"header\",True).option(\"infrechema\",True).csv(\"../../Spark-main/employees.csv\")\n",
    "empDf.show(1)"
   ]
  },
  {
   "cell_type": "code",
   "execution_count": 5,
   "id": "4d2e739f",
   "metadata": {},
   "outputs": [
    {
     "name": "stdout",
     "output_type": "stream",
     "text": [
      "+-------------+---------------+----------+-----------+\n",
      "|DEPARTMENT_ID|DEPARTMENT_NAME|MANAGER_ID|LOCATION_ID|\n",
      "+-------------+---------------+----------+-----------+\n",
      "|           10| Administration|       200|       1700|\n",
      "+-------------+---------------+----------+-----------+\n",
      "only showing top 1 row\n",
      "\n"
     ]
    }
   ],
   "source": [
    "deptDf = spark.read.option(\"header\",True).option(\"infrechema\",True).csv(\"../../Spark-main/departments.csv\")\n",
    "deptDf.show(1)"
   ]
  },
  {
   "cell_type": "code",
   "execution_count": 6,
   "id": "5f83ede2",
   "metadata": {},
   "outputs": [],
   "source": [
    "from pyspark.sql.functions import *"
   ]
  },
  {
   "cell_type": "code",
   "execution_count": 9,
   "id": "b72fffc8",
   "metadata": {},
   "outputs": [],
   "source": [
    "spark.conf.set(\"spark.sql.autoBroadcastJoinThreshold\", 104857600)\n",
    "#The Value is in Bytes\n",
    "\n",
    "#Note : We can diasable the Braodcast Join\n",
    "#spark.conf.set(\"spark.sql.autoBroadcastJoinThreshold\", -1) #Disable"
   ]
  },
  {
   "cell_type": "code",
   "execution_count": 8,
   "id": "d26a30de",
   "metadata": {},
   "outputs": [
    {
     "name": "stdout",
     "output_type": "stream",
     "text": [
      "+-----------+-------------+----------------+\n",
      "|EMPLOYEE_ID|DEPARTMENT_ID| DEPARTMENT_NAME|\n",
      "+-----------+-------------+----------------+\n",
      "|        198|           50|        Shipping|\n",
      "|        199|           50|        Shipping|\n",
      "|        200|           10|  Administration|\n",
      "|        201|           20|       Marketing|\n",
      "|        202|           20|       Marketing|\n",
      "|        203|           40| Human Resources|\n",
      "|        204|           70|Public Relations|\n",
      "|        205|          110|      Accounting|\n",
      "|        206|          110|      Accounting|\n",
      "|        100|           90|       Executive|\n",
      "|        101|           90|       Executive|\n",
      "|        102|           90|       Executive|\n",
      "|        103|           60|              IT|\n",
      "|        104|           60|              IT|\n",
      "|        105|           60|              IT|\n",
      "|        106|           60|              IT|\n",
      "|        107|           60|              IT|\n",
      "|        108|          100|         Finance|\n",
      "|        109|          100|         Finance|\n",
      "|        110|          100|         Finance|\n",
      "|        111|          100|         Finance|\n",
      "|        112|          100|         Finance|\n",
      "|        113|          100|         Finance|\n",
      "|        114|           30|      Purchasing|\n",
      "|        115|           30|      Purchasing|\n",
      "|        116|           30|      Purchasing|\n",
      "|        117|           30|      Purchasing|\n",
      "|        118|           30|      Purchasing|\n",
      "|        119|           30|      Purchasing|\n",
      "|        120|           50|        Shipping|\n",
      "|        121|           50|        Shipping|\n",
      "|        122|           50|        Shipping|\n",
      "|        123|           50|        Shipping|\n",
      "|        124|           50|        Shipping|\n",
      "|        125|           50|        Shipping|\n",
      "|        126|           50|        Shipping|\n",
      "|        127|           50|        Shipping|\n",
      "|        128|           50|        Shipping|\n",
      "|        129|           50|        Shipping|\n",
      "|        130|           50|        Shipping|\n",
      "|        131|           50|        Shipping|\n",
      "|        132|           50|        Shipping|\n",
      "|        133|           50|        Shipping|\n",
      "|        134|           50|        Shipping|\n",
      "|        135|           50|        Shipping|\n",
      "|        136|           50|        Shipping|\n",
      "|        137|           50|        Shipping|\n",
      "|        138|           50|        Shipping|\n",
      "|        139|           50|        Shipping|\n",
      "|        140|           50|        Shipping|\n",
      "+-----------+-------------+----------------+\n",
      "\n"
     ]
    }
   ],
   "source": [
    "empDf.join(broadcast(deptDf), empDf.DEPARTMENT_ID == deptDf.DEPARTMENT_ID, \"inner\").select(empDf.EMPLOYEE_ID, empDf.DEPARTMENT_ID, deptDf.DEPARTMENT_NAME).show(100)"
   ]
  },
  {
   "cell_type": "code",
   "execution_count": null,
   "id": "e11019bf",
   "metadata": {},
   "outputs": [],
   "source": []
  }
 ],
 "metadata": {
  "kernelspec": {
   "display_name": "Python 3 (ipykernel)",
   "language": "python",
   "name": "python3"
  },
  "language_info": {
   "codemirror_mode": {
    "name": "ipython",
    "version": 3
   },
   "file_extension": ".py",
   "mimetype": "text/x-python",
   "name": "python",
   "nbconvert_exporter": "python",
   "pygments_lexer": "ipython3",
   "version": "3.8.10"
  }
 },
 "nbformat": 4,
 "nbformat_minor": 5
}
