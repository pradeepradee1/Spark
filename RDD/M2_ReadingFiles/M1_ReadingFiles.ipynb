{
 "cells": [
  {
   "cell_type": "code",
   "execution_count": 1,
   "metadata": {},
   "outputs": [],
   "source": [
    "from pyspark.sql import SparkSession\n",
    "from pyspark.sql.types import StructType,StructField,StringType,IntegerType"
   ]
  },
  {
   "cell_type": "code",
   "execution_count": 2,
   "metadata": {},
   "outputs": [
    {
     "name": "stdout",
     "output_type": "stream",
     "text": [
      "23/03/30 21:42:25 WARN Utils: Your hostname, ZSCHN01LP0253L resolves to a loopback address: 127.0.1.1; using 192.168.1.5 instead (on interface wlp0s20f3)\n",
      "23/03/30 21:42:25 WARN Utils: Set SPARK_LOCAL_IP if you need to bind to another address\n"
     ]
    },
    {
     "name": "stderr",
     "output_type": "stream",
     "text": [
      "Setting default log level to \"WARN\".\n",
      "To adjust logging level use sc.setLogLevel(newLevel). For SparkR, use setLogLevel(newLevel).\n"
     ]
    },
    {
     "name": "stdout",
     "output_type": "stream",
     "text": [
      "23/03/30 21:42:26 WARN NativeCodeLoader: Unable to load native-hadoop library for your platform... using builtin-java classes where applicable\n",
      "23/03/30 21:42:27 WARN Utils: Service 'SparkUI' could not bind on port 4040. Attempting port 4041.\n",
      "23/03/30 21:42:27 WARN Utils: Service 'SparkUI' could not bind on port 4041. Attempting port 4042.\n",
      "23/03/30 21:42:27 WARN Utils: Service 'SparkUI' could not bind on port 4042. Attempting port 4043.\n"
     ]
    },
    {
     "data": {
      "text/html": [
       "\n",
       "            <div>\n",
       "                <p><b>SparkSession - in-memory</b></p>\n",
       "                \n",
       "        <div>\n",
       "            <p><b>SparkContext</b></p>\n",
       "\n",
       "            <p><a href=\"http://192.168.1.5:4043\">Spark UI</a></p>\n",
       "\n",
       "            <dl>\n",
       "              <dt>Version</dt>\n",
       "                <dd><code>v3.3.2</code></dd>\n",
       "              <dt>Master</dt>\n",
       "                <dd><code>local[*]</code></dd>\n",
       "              <dt>AppName</dt>\n",
       "                <dd><code>demo</code></dd>\n",
       "            </dl>\n",
       "        </div>\n",
       "        \n",
       "            </div>\n",
       "        "
      ],
      "text/plain": [
       "<pyspark.sql.session.SparkSession at 0x7f6de7f626d0>"
      ]
     },
     "execution_count": 2,
     "metadata": {},
     "output_type": "execute_result"
    }
   ],
   "source": [
    "#Creating Spark Session (It will executed in the Local Not in the Master Node)\n",
    "spark=SparkSession.builder.master(\"local[*]\").appName(\"demo\").getOrCreate()\n",
    "spark"
   ]
  },
  {
   "cell_type": "code",
   "execution_count": 3,
   "metadata": {},
   "outputs": [
    {
     "name": "stdout",
     "output_type": "stream",
     "text": [
      "root\n",
      " |-- DEPARTMENT_ID: string (nullable = true)\n",
      " |-- DEPARTMENT_NAME: string (nullable = true)\n",
      " |-- MANAGER_ID: string (nullable = true)\n",
      " |-- LOCATION_ID: string (nullable = true)\n",
      "\n"
     ]
    }
   ],
   "source": [
    "# Read data from HDFS path\n",
    "df2 = spark.read.option(\"header\",True).option(\"delimiter\",\",\").csv(\"../../Spark-main/departments.csv\")\n",
    "# df2 = spark.read.option(\"header\",True).option(\"inferSchema\",True).csv(\"../Spark-main/departments.csv\")\n",
    "df2.printSchema()"
   ]
  },
  {
   "cell_type": "code",
   "execution_count": 4,
   "metadata": {},
   "outputs": [
    {
     "name": "stdout",
     "output_type": "stream",
     "text": [
      "root\n",
      " |-- DEPARTMENT_ID: integer (nullable = true)\n",
      " |-- DEPARTMENT_NAME: string (nullable = true)\n",
      " |-- MANAGER_ID: string (nullable = true)\n",
      " |-- LOCATION_ID: integer (nullable = true)\n",
      "\n"
     ]
    }
   ],
   "source": [
    "df2 = spark.read.option(\"header\",True).option(\"delimiter\",\",\").option(\"inferSchema\",True).csv(\"../../Spark-main/departments.csv\")\n",
    "# df2 = spark.read.option(\"header\",True).option(\"inferSchema\",True).csv(\"../Spark-main/departments.csv\")\n",
    "df2.printSchema()"
   ]
  },
  {
   "cell_type": "code",
   "execution_count": 5,
   "metadata": {},
   "outputs": [],
   "source": [
    "# HDFS is in different locations \n",
    "# df2 = spark.read.option(\"header\",True).option(\"inferSchema\",True).csv(\"hdfs://namenode:8888/Spark-main/departments.csv\")"
   ]
  },
  {
   "cell_type": "code",
   "execution_count": 6,
   "metadata": {},
   "outputs": [
    {
     "name": "stdout",
     "output_type": "stream",
     "text": [
      "+-------------+--------------------+----------+-----------+\n",
      "|DEPARTMENT_ID|     DEPARTMENT_NAME|MANAGER_ID|LOCATION_ID|\n",
      "+-------------+--------------------+----------+-----------+\n",
      "|           10|      Administration|       200|       1700|\n",
      "|           20|           Marketing|       201|       1800|\n",
      "|           30|          Purchasing|       114|       1700|\n",
      "|           40|     Human Resources|       203|       2400|\n",
      "|           50|            Shipping|       121|       1500|\n",
      "|           60|                  IT|       103|       1400|\n",
      "|           70|    Public Relations|       204|       2700|\n",
      "|           80|               Sales|       145|       2500|\n",
      "|           90|           Executive|       100|       1700|\n",
      "|          100|             Finance|       108|       1700|\n",
      "|          110|          Accounting|       205|       1700|\n",
      "|          120|            Treasury|        - |       1700|\n",
      "|          130|       Corporate Tax|        - |       1700|\n",
      "|          140|  Control And Credit|        - |       1700|\n",
      "|          150|Shareholder Services|        - |       1700|\n",
      "|          160|            Benefits|        - |       1700|\n",
      "|          170|       Manufacturing|        - |       1700|\n",
      "|          180|        Construction|        - |       1700|\n",
      "|          190|         Contracting|        - |       1700|\n",
      "|          200|          Operations|        - |       1700|\n",
      "+-------------+--------------------+----------+-----------+\n",
      "only showing top 20 rows\n",
      "\n"
     ]
    }
   ],
   "source": [
    "df2.show(truncate=True)"
   ]
  },
  {
   "cell_type": "code",
   "execution_count": null,
   "metadata": {},
   "outputs": [],
   "source": []
  },
  {
   "cell_type": "code",
   "execution_count": null,
   "metadata": {},
   "outputs": [],
   "source": []
  }
 ],
 "metadata": {
  "kernelspec": {
   "display_name": "Python 3",
   "language": "python",
   "name": "python3"
  },
  "language_info": {
   "codemirror_mode": {
    "name": "ipython",
    "version": 3
   },
   "file_extension": ".py",
   "mimetype": "text/x-python",
   "name": "python",
   "nbconvert_exporter": "python",
   "pygments_lexer": "ipython3",
   "version": "3.8.3"
  }
 },
 "nbformat": 4,
 "nbformat_minor": 5
}
