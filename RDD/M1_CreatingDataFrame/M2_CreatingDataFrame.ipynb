{
 "cells": [
  {
   "cell_type": "code",
   "execution_count": 1,
   "metadata": {},
   "outputs": [],
   "source": [
    "from pyspark.sql import SparkSession\n",
    "from pyspark.sql.types import StructType,StructField,StringType,IntegerType\n",
    "\n",
    "#Note :\n",
    "#        Variables are PascalCase For ex : (StructType)\n",
    "#        Methods are camelCase For ex : (printSchema)"
   ]
  },
  {
   "cell_type": "code",
   "execution_count": 2,
   "metadata": {},
   "outputs": [
    {
     "name": "stdout",
     "output_type": "stream",
     "text": [
      "23/07/02 08:28:28 WARN Utils: Your hostname, ZSCHN01LP0253L resolves to a loopback address: 127.0.1.1; using 192.168.1.6 instead (on interface wlp0s20f3)\n",
      "23/07/02 08:28:28 WARN Utils: Set SPARK_LOCAL_IP if you need to bind to another address\n"
     ]
    },
    {
     "name": "stderr",
     "output_type": "stream",
     "text": [
      "Setting default log level to \"WARN\".\n",
      "To adjust logging level use sc.setLogLevel(newLevel). For SparkR, use setLogLevel(newLevel).\n"
     ]
    },
    {
     "name": "stdout",
     "output_type": "stream",
     "text": [
      "23/07/02 08:28:28 WARN NativeCodeLoader: Unable to load native-hadoop library for your platform... using builtin-java classes where applicable\n",
      "23/07/02 08:28:29 WARN Utils: Service 'SparkUI' could not bind on port 4040. Attempting port 4041.\n"
     ]
    },
    {
     "data": {
      "text/html": [
       "\n",
       "            <div>\n",
       "                <p><b>SparkSession - in-memory</b></p>\n",
       "                \n",
       "        <div>\n",
       "            <p><b>SparkContext</b></p>\n",
       "\n",
       "            <p><a href=\"http://192.168.1.6:4041\">Spark UI</a></p>\n",
       "\n",
       "            <dl>\n",
       "              <dt>Version</dt>\n",
       "                <dd><code>v3.3.2</code></dd>\n",
       "              <dt>Master</dt>\n",
       "                <dd><code>local[*]</code></dd>\n",
       "              <dt>AppName</dt>\n",
       "                <dd><code>demo</code></dd>\n",
       "            </dl>\n",
       "        </div>\n",
       "        \n",
       "            </div>\n",
       "        "
      ],
      "text/plain": [
       "<pyspark.sql.session.SparkSession at 0x7f86bc1832e0>"
      ]
     },
     "execution_count": 2,
     "metadata": {},
     "output_type": "execute_result"
    }
   ],
   "source": [
    "#Creating Spark Session (It will executed in the Local, Not in the Master Node)\n",
    "spark=SparkSession.builder.master(\"local[*]\").appName(\"demo\").getOrCreate()\n",
    "spark"
   ]
  },
  {
   "cell_type": "code",
   "execution_count": 3,
   "metadata": {},
   "outputs": [
    {
     "data": {
      "text/plain": [
       "DataFrame[firstname: string, middlename: string, lastname: string, id: int, gender: string]"
      ]
     },
     "execution_count": 3,
     "metadata": {},
     "output_type": "execute_result"
    }
   ],
   "source": [
    "person_list = [(\"Berry\",\"\",\"Allen\",1,\"M\"),\n",
    "        (\"Oliver\",\"Queen\",\"\",2,\"M\"),\n",
    "        (\"Robert\",\"\",\"Williams\",3,\"M\"),\n",
    "        (\"Tony\",\"\",\"Stark\",4,\"F\"),\n",
    "        (\"Rajiv\",\"Mary\",\"Kumar\",5,\"F\")\n",
    "]\n",
    "#Creating The Schema For the Dataset\n",
    "schema = StructType([ \\\n",
    "        StructField(\"firstname\",StringType(),True), \\\n",
    "        StructField(\"middlename\",StringType(),True), \\\n",
    "        StructField(\"lastname\",StringType(),True), \\\n",
    "        StructField(\"id\", IntegerType(), True),\\\n",
    "        StructField(\"gender\", StringType(), True)])\n",
    "#Creating Spark DataFrame\n",
    "df = spark.createDataFrame(data=person_list,schema=schema)\n",
    "df"
   ]
  },
  {
   "cell_type": "code",
   "execution_count": 4,
   "metadata": {},
   "outputs": [
    {
     "name": "stderr",
     "output_type": "stream",
     "text": [
      "\r",
      "[Stage 0:>                                                          (0 + 1) / 1]\r",
      "\r",
      "                                                                                \r"
     ]
    },
    {
     "name": "stdout",
     "output_type": "stream",
     "text": [
      "+---------+----------+--------+---+------+\n",
      "|firstname|middlename|lastname| id|gender|\n",
      "+---------+----------+--------+---+------+\n",
      "|    Berry|          |   Allen|  1|     M|\n",
      "|   Oliver|     Queen|        |  2|     M|\n",
      "|   Robert|          |Williams|  3|     M|\n",
      "|     Tony|          |   Stark|  4|     F|\n",
      "|    Rajiv|      Mary|   Kumar|  5|     F|\n",
      "+---------+----------+--------+---+------+\n",
      "\n"
     ]
    }
   ],
   "source": [
    "#Action\n",
    "df.show()"
   ]
  },
  {
   "cell_type": "code",
   "execution_count": 5,
   "metadata": {},
   "outputs": [
    {
     "name": "stdout",
     "output_type": "stream",
     "text": [
      "+---------+----------+--------+---+------+\n",
      "|firstname|middlename|lastname|id |gender|\n",
      "+---------+----------+--------+---+------+\n",
      "|Berry    |          |Allen   |1  |M     |\n",
      "|Oliver   |Queen     |        |2  |M     |\n",
      "|Robert   |          |Williams|3  |M     |\n",
      "|Tony     |          |Stark   |4  |F     |\n",
      "|Rajiv    |Mary      |Kumar   |5  |F     |\n",
      "+---------+----------+--------+---+------+\n",
      "\n"
     ]
    }
   ],
   "source": [
    "df.show(truncate=False)"
   ]
  },
  {
   "cell_type": "code",
   "execution_count": 6,
   "metadata": {},
   "outputs": [
    {
     "name": "stdout",
     "output_type": "stream",
     "text": [
      "root\n",
      " |-- firstname: string (nullable = true)\n",
      " |-- middlename: string (nullable = true)\n",
      " |-- lastname: string (nullable = true)\n",
      " |-- id: integer (nullable = true)\n",
      " |-- gender: string (nullable = true)\n",
      "\n"
     ]
    }
   ],
   "source": [
    "df.printSchema()"
   ]
  },
  {
   "cell_type": "code",
   "execution_count": 7,
   "metadata": {},
   "outputs": [
    {
     "name": "stdout",
     "output_type": "stream",
     "text": [
      "Rows=  5\n",
      "Columns=  5\n"
     ]
    }
   ],
   "source": [
    "print(\"Rows= \",df.count())\n",
    "print(\"Columns= \",len(df.columns))"
   ]
  },
  {
   "cell_type": "code",
   "execution_count": null,
   "metadata": {},
   "outputs": [],
   "source": []
  },
  {
   "cell_type": "code",
   "execution_count": null,
   "metadata": {},
   "outputs": [],
   "source": []
  }
 ],
 "metadata": {
  "kernelspec": {
   "display_name": "Python 3",
   "language": "python",
   "name": "python3"
  },
  "language_info": {
   "codemirror_mode": {
    "name": "ipython",
    "version": 3
   },
   "file_extension": ".py",
   "mimetype": "text/x-python",
   "name": "python",
   "nbconvert_exporter": "python",
   "pygments_lexer": "ipython3",
   "version": "3.8.3"
  }
 },
 "nbformat": 4,
 "nbformat_minor": 5
}
