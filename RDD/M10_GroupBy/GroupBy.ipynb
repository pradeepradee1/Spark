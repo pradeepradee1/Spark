{
 "cells": [
  {
   "cell_type": "code",
   "execution_count": 1,
   "id": "7742e005",
   "metadata": {},
   "outputs": [],
   "source": [
    "from pyspark.sql import SparkSession\n",
    "from pyspark.sql.types import StructType,StructField,StringType,IntegerType"
   ]
  },
  {
   "cell_type": "code",
   "execution_count": 2,
   "id": "2f54f4e4",
   "metadata": {},
   "outputs": [
    {
     "name": "stdout",
     "output_type": "stream",
     "text": [
      "23/03/23 16:18:54 WARN Utils: Your hostname, ZSCHN01LP0253L resolves to a loopback address: 127.0.1.1; using 192.168.229.237 instead (on interface wlp0s20f3)\n",
      "23/03/23 16:18:54 WARN Utils: Set SPARK_LOCAL_IP if you need to bind to another address\n"
     ]
    },
    {
     "name": "stderr",
     "output_type": "stream",
     "text": [
      "Setting default log level to \"WARN\".\n",
      "To adjust logging level use sc.setLogLevel(newLevel). For SparkR, use setLogLevel(newLevel).\n"
     ]
    },
    {
     "name": "stdout",
     "output_type": "stream",
     "text": [
      "23/03/23 16:18:55 WARN NativeCodeLoader: Unable to load native-hadoop library for your platform... using builtin-java classes where applicable\n",
      "23/03/23 16:18:55 WARN Utils: Service 'SparkUI' could not bind on port 4040. Attempting port 4041.\n",
      "23/03/23 16:18:55 WARN Utils: Service 'SparkUI' could not bind on port 4041. Attempting port 4042.\n",
      "23/03/23 16:18:55 WARN Utils: Service 'SparkUI' could not bind on port 4042. Attempting port 4043.\n",
      "23/03/23 16:18:55 WARN Utils: Service 'SparkUI' could not bind on port 4043. Attempting port 4044.\n",
      "23/03/23 16:18:55 WARN Utils: Service 'SparkUI' could not bind on port 4044. Attempting port 4045.\n",
      "23/03/23 16:18:55 WARN Utils: Service 'SparkUI' could not bind on port 4045. Attempting port 4046.\n",
      "23/03/23 16:18:55 WARN Utils: Service 'SparkUI' could not bind on port 4046. Attempting port 4047.\n",
      "23/03/23 16:18:55 WARN Utils: Service 'SparkUI' could not bind on port 4047. Attempting port 4048.\n",
      "23/03/23 16:18:55 WARN Utils: Service 'SparkUI' could not bind on port 4048. Attempting port 4049.\n",
      "23/03/23 16:18:55 WARN Utils: Service 'SparkUI' could not bind on port 4049. Attempting port 4050.\n",
      "23/03/23 16:18:55 WARN Utils: Service 'SparkUI' could not bind on port 4050. Attempting port 4051.\n",
      "23/03/23 16:18:55 WARN Utils: Service 'SparkUI' could not bind on port 4051. Attempting port 4052.\n"
     ]
    },
    {
     "data": {
      "text/html": [
       "\n",
       "            <div>\n",
       "                <p><b>SparkSession - in-memory</b></p>\n",
       "                \n",
       "        <div>\n",
       "            <p><b>SparkContext</b></p>\n",
       "\n",
       "            <p><a href=\"http://192.168.229.237:4052\">Spark UI</a></p>\n",
       "\n",
       "            <dl>\n",
       "              <dt>Version</dt>\n",
       "                <dd><code>v3.3.2</code></dd>\n",
       "              <dt>Master</dt>\n",
       "                <dd><code>local[*]</code></dd>\n",
       "              <dt>AppName</dt>\n",
       "                <dd><code>demo</code></dd>\n",
       "            </dl>\n",
       "        </div>\n",
       "        \n",
       "            </div>\n",
       "        "
      ],
      "text/plain": [
       "<pyspark.sql.session.SparkSession at 0x7f2008244880>"
      ]
     },
     "execution_count": 2,
     "metadata": {},
     "output_type": "execute_result"
    }
   ],
   "source": [
    "#Creating Spark Session (It will executed in the Local Not in the Master Node)\n",
    "spark=SparkSession.builder.master(\"local[*]\").appName(\"demo\").getOrCreate()\n",
    "spark"
   ]
  },
  {
   "cell_type": "code",
   "execution_count": 3,
   "id": "ebb1d892",
   "metadata": {},
   "outputs": [
    {
     "name": "stdout",
     "output_type": "stream",
     "text": [
      "root\n",
      " |-- EMPLOYEE_ID: integer (nullable = true)\n",
      " |-- FIRST_NAME: string (nullable = true)\n",
      " |-- LAST_NAME: string (nullable = true)\n",
      " |-- EMAIL: string (nullable = true)\n",
      " |-- PHONE_NUMBER: string (nullable = true)\n",
      " |-- HIRE_DATE: string (nullable = true)\n",
      " |-- JOB_ID: string (nullable = true)\n",
      " |-- SALARY: integer (nullable = true)\n",
      " |-- COMMISSION_PCT: string (nullable = true)\n",
      " |-- MANAGER_ID: string (nullable = true)\n",
      " |-- DEPARTMENT_ID: integer (nullable = true)\n",
      "\n"
     ]
    }
   ],
   "source": [
    "empDf = spark.read.option(\"header\",True).option(\"inferSchema\",True).csv(\"../Spark-main/employees.csv\")\n",
    "empDf.printSchema()"
   ]
  },
  {
   "cell_type": "code",
   "execution_count": 4,
   "id": "20f8a369",
   "metadata": {},
   "outputs": [],
   "source": [
    "from pyspark.sql.functions import *"
   ]
  },
  {
   "cell_type": "markdown",
   "id": "cc5d851f",
   "metadata": {},
   "source": [
    "### Group By"
   ]
  },
  {
   "cell_type": "code",
   "execution_count": 5,
   "id": "36b5b3ed",
   "metadata": {},
   "outputs": [
    {
     "name": "stdout",
     "output_type": "stream",
     "text": [
      "+-------------+-----------+\n",
      "|DEPARTMENT_ID|sum(SALARY)|\n",
      "+-------------+-----------+\n",
      "|           20|      19000|\n",
      "|           40|       6500|\n",
      "|          100|      51608|\n",
      "|           10|       4400|\n",
      "|           50|      85600|\n",
      "|           70|      10000|\n",
      "|           90|      58000|\n",
      "|           60|      28800|\n",
      "|          110|      20308|\n",
      "|           30|      24900|\n",
      "+-------------+-----------+\n",
      "\n"
     ]
    }
   ],
   "source": [
    "empDf.groupBy(\"DEPARTMENT_ID\").sum(\"SALARY\").show(100)"
   ]
  },
  {
   "cell_type": "code",
   "execution_count": 6,
   "id": "6420ef8c",
   "metadata": {},
   "outputs": [
    {
     "name": "stdout",
     "output_type": "stream",
     "text": [
      "+-------------+-----------+\n",
      "|DEPARTMENT_ID|max(SALARY)|\n",
      "+-------------+-----------+\n",
      "|           20|      13000|\n",
      "|           40|       6500|\n",
      "|          100|      12008|\n",
      "|           10|       4400|\n",
      "|           50|       8200|\n",
      "|           70|      10000|\n",
      "|           90|      24000|\n",
      "|           60|       9000|\n",
      "|          110|      12008|\n",
      "|           30|      11000|\n",
      "+-------------+-----------+\n",
      "\n"
     ]
    }
   ],
   "source": [
    "empDf.groupBy(\"DEPARTMENT_ID\").max(\"SALARY\").show(100)"
   ]
  },
  {
   "cell_type": "code",
   "execution_count": 7,
   "id": "0aeef8a5",
   "metadata": {},
   "outputs": [
    {
     "name": "stdout",
     "output_type": "stream",
     "text": [
      "+-------------+-----------+\n",
      "|DEPARTMENT_ID|min(SALARY)|\n",
      "+-------------+-----------+\n",
      "|           20|       6000|\n",
      "|           40|       6500|\n",
      "|          100|       6900|\n",
      "|           10|       4400|\n",
      "|           50|       2100|\n",
      "|           70|      10000|\n",
      "|           90|      17000|\n",
      "|           60|       4200|\n",
      "|          110|       8300|\n",
      "|           30|       2500|\n",
      "+-------------+-----------+\n",
      "\n"
     ]
    }
   ],
   "source": [
    "empDf.groupBy(\"DEPARTMENT_ID\").min(\"SALARY\").show(100)"
   ]
  },
  {
   "cell_type": "code",
   "execution_count": 8,
   "id": "d65088ec",
   "metadata": {},
   "outputs": [
    {
     "name": "stdout",
     "output_type": "stream",
     "text": [
      "+-------------+----------+-----------+\n",
      "|DEPARTMENT_ID|    JOB_ID|sum(SALARY)|\n",
      "+-------------+----------+-----------+\n",
      "|           90|   AD_PRES|      24000|\n",
      "|           30|    PU_MAN|      11000|\n",
      "|           70|    PR_REP|      10000|\n",
      "|           50|    ST_MAN|      36400|\n",
      "|           40|    HR_REP|       6500|\n",
      "|           60|   IT_PROG|      28800|\n",
      "|           10|   AD_ASST|       4400|\n",
      "|           30|  PU_CLERK|      13900|\n",
      "|           50|  ST_CLERK|      44000|\n",
      "|           20|    MK_REP|       6000|\n",
      "|           50|  SH_CLERK|       5200|\n",
      "|           90|     AD_VP|      34000|\n",
      "|          100|FI_ACCOUNT|      39600|\n",
      "|          110|    AC_MGR|      12008|\n",
      "|          110|AC_ACCOUNT|       8300|\n",
      "|           20|    MK_MAN|      13000|\n",
      "|          100|    FI_MGR|      12008|\n",
      "+-------------+----------+-----------+\n",
      "\n"
     ]
    }
   ],
   "source": [
    "empDf.groupBy(\"DEPARTMENT_ID\",\"JOB_ID\").sum(\"SALARY\").show(100)"
   ]
  },
  {
   "cell_type": "code",
   "execution_count": 9,
   "id": "5919dd72",
   "metadata": {},
   "outputs": [
    {
     "name": "stdout",
     "output_type": "stream",
     "text": [
      "root\n",
      " |-- EMPLOYEE_ID: integer (nullable = true)\n",
      " |-- FIRST_NAME: string (nullable = true)\n",
      " |-- LAST_NAME: string (nullable = true)\n",
      " |-- EMAIL: string (nullable = true)\n",
      " |-- PHONE_NUMBER: string (nullable = true)\n",
      " |-- HIRE_DATE: string (nullable = true)\n",
      " |-- JOB_ID: string (nullable = true)\n",
      " |-- SALARY: integer (nullable = true)\n",
      " |-- COMMISSION_PCT: string (nullable = true)\n",
      " |-- MANAGER_ID: string (nullable = true)\n",
      " |-- DEPARTMENT_ID: integer (nullable = true)\n",
      "\n"
     ]
    }
   ],
   "source": [
    "empDf.printSchema()"
   ]
  },
  {
   "cell_type": "code",
   "execution_count": 10,
   "id": "4a7815b3",
   "metadata": {},
   "outputs": [
    {
     "name": "stdout",
     "output_type": "stream",
     "text": [
      "+-------------+----------+-----------+----------------+\n",
      "|DEPARTMENT_ID|    JOB_ID|sum(SALARY)|sum(EMPLOYEE_ID)|\n",
      "+-------------+----------+-----------+----------------+\n",
      "|           90|   AD_PRES|      24000|             100|\n",
      "|           30|    PU_MAN|      11000|             114|\n",
      "|           70|    PR_REP|      10000|             204|\n",
      "|           50|    ST_MAN|      36400|             610|\n",
      "|           40|    HR_REP|       6500|             203|\n",
      "|           60|   IT_PROG|      28800|             525|\n",
      "|           10|   AD_ASST|       4400|             200|\n",
      "|           30|  PU_CLERK|      13900|             585|\n",
      "|           50|  ST_CLERK|      44000|            2120|\n",
      "|           20|    MK_REP|       6000|             202|\n",
      "|           50|  SH_CLERK|       5200|             397|\n",
      "|           90|     AD_VP|      34000|             203|\n",
      "|          100|FI_ACCOUNT|      39600|             555|\n",
      "|          110|    AC_MGR|      12008|             205|\n",
      "|          110|AC_ACCOUNT|       8300|             206|\n",
      "|           20|    MK_MAN|      13000|             201|\n",
      "|          100|    FI_MGR|      12008|             108|\n",
      "+-------------+----------+-----------+----------------+\n",
      "\n"
     ]
    }
   ],
   "source": [
    "empDf.groupBy(\"DEPARTMENT_ID\",\"JOB_ID\").sum(\"SALARY\", \"EMPLOYEE_ID\").show(100)"
   ]
  },
  {
   "cell_type": "code",
   "execution_count": 11,
   "id": "46eb23ba",
   "metadata": {},
   "outputs": [
    {
     "name": "stdout",
     "output_type": "stream",
     "text": [
      "+-------------+----------+----------+----------+------------------+\n",
      "|DEPARTMENT_ID|SUM_SALARY|MAX_SALARY|MIN_SALARY|        AVG_SALARY|\n",
      "+-------------+----------+----------+----------+------------------+\n",
      "|           20|     19000|     13000|      6000|            9500.0|\n",
      "|           40|      6500|      6500|      6500|            6500.0|\n",
      "|          100|     51608|     12008|      6900| 8601.333333333334|\n",
      "|           10|      4400|      4400|      4400|            4400.0|\n",
      "|           50|     85600|      8200|      2100|3721.7391304347825|\n",
      "|           70|     10000|     10000|     10000|           10000.0|\n",
      "|           90|     58000|     24000|     17000|19333.333333333332|\n",
      "|           60|     28800|      9000|      4200|            5760.0|\n",
      "|          110|     20308|     12008|      8300|           10154.0|\n",
      "|           30|     24900|     11000|      2500|            4150.0|\n",
      "+-------------+----------+----------+----------+------------------+\n",
      "\n"
     ]
    }
   ],
   "source": [
    "empDf.groupBy(\"DEPARTMENT_ID\").agg(sum(\"SALARY\").alias(\"SUM_SALARY\") , max(\"SALARY\").alias(\"MAX_SALARY\"), min(\"SALARY\").alias(\"MIN_SALARY\") , avg(\"SALARY\").alias(\"AVG_SALARY\")).show()"
   ]
  },
  {
   "cell_type": "code",
   "execution_count": 12,
   "id": "71f74167",
   "metadata": {},
   "outputs": [
    {
     "name": "stdout",
     "output_type": "stream",
     "text": [
      "+-------------+----------+----------+----------+------------------+\n",
      "|DEPARTMENT_ID|SUM_SALARY|MAX_SALARY|MIN_SALARY|        AVG_SALARY|\n",
      "+-------------+----------+----------+----------+------------------+\n",
      "|           20|     19000|     13000|      6000|            9500.0|\n",
      "|          100|     51608|     12008|      6900| 8601.333333333334|\n",
      "|           70|     10000|     10000|     10000|           10000.0|\n",
      "|           90|     58000|     24000|     17000|19333.333333333332|\n",
      "|          110|     20308|     12008|      8300|           10154.0|\n",
      "|           30|     24900|     11000|      2500|            4150.0|\n",
      "+-------------+----------+----------+----------+------------------+\n",
      "\n"
     ]
    }
   ],
   "source": [
    "empDf.groupBy(\"DEPARTMENT_ID\").agg(sum(\"SALARY\").alias(\"SUM_SALARY\") , max(\"SALARY\").alias(\"MAX_SALARY\"), min(\"SALARY\").alias(\"MIN_SALARY\") , avg(\"SALARY\").alias(\"AVG_SALARY\")).where(col(\"MAX_SALARY\") >= 10000).show()"
   ]
  },
  {
   "cell_type": "code",
   "execution_count": null,
   "id": "6287739d",
   "metadata": {},
   "outputs": [],
   "source": []
  }
 ],
 "metadata": {
  "kernelspec": {
   "display_name": "Python 3 (ipykernel)",
   "language": "python",
   "name": "python3"
  },
  "language_info": {
   "codemirror_mode": {
    "name": "ipython",
    "version": 3
   },
   "file_extension": ".py",
   "mimetype": "text/x-python",
   "name": "python",
   "nbconvert_exporter": "python",
   "pygments_lexer": "ipython3",
   "version": "3.8.10"
  }
 },
 "nbformat": 4,
 "nbformat_minor": 5
}
