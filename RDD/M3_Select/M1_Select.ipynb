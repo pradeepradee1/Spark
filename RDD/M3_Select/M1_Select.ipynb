{
 "cells": [
  {
   "cell_type": "code",
   "execution_count": 2,
   "id": "ab300e3b",
   "metadata": {},
   "outputs": [],
   "source": [
    "from pyspark.sql import SparkSession\n",
    "from pyspark.sql.types import StructType,StructField,StringType,IntegerType"
   ]
  },
  {
   "cell_type": "code",
   "execution_count": 3,
   "id": "98f48bd9",
   "metadata": {},
   "outputs": [
    {
     "name": "stdout",
     "output_type": "stream",
     "text": [
      "23/04/03 17:04:06 WARN Utils: Your hostname, ZSCHN01LP0253L resolves to a loopback address: 127.0.1.1; using 172.17.0.1 instead (on interface docker0)\n",
      "23/04/03 17:04:06 WARN Utils: Set SPARK_LOCAL_IP if you need to bind to another address\n"
     ]
    },
    {
     "name": "stderr",
     "output_type": "stream",
     "text": [
      "Setting default log level to \"WARN\".\n",
      "To adjust logging level use sc.setLogLevel(newLevel). For SparkR, use setLogLevel(newLevel).\n"
     ]
    },
    {
     "name": "stdout",
     "output_type": "stream",
     "text": [
      "23/04/03 17:04:07 WARN NativeCodeLoader: Unable to load native-hadoop library for your platform... using builtin-java classes where applicable\n",
      "23/04/03 17:04:07 WARN Utils: Service 'SparkUI' could not bind on port 4040. Attempting port 4041.\n",
      "23/04/03 17:04:07 WARN Utils: Service 'SparkUI' could not bind on port 4041. Attempting port 4042.\n"
     ]
    },
    {
     "data": {
      "text/html": [
       "\n",
       "            <div>\n",
       "                <p><b>SparkSession - in-memory</b></p>\n",
       "                \n",
       "        <div>\n",
       "            <p><b>SparkContext</b></p>\n",
       "\n",
       "            <p><a href=\"http://172.17.0.1:4042\">Spark UI</a></p>\n",
       "\n",
       "            <dl>\n",
       "              <dt>Version</dt>\n",
       "                <dd><code>v3.3.2</code></dd>\n",
       "              <dt>Master</dt>\n",
       "                <dd><code>local[*]</code></dd>\n",
       "              <dt>AppName</dt>\n",
       "                <dd><code>demo</code></dd>\n",
       "            </dl>\n",
       "        </div>\n",
       "        \n",
       "            </div>\n",
       "        "
      ],
      "text/plain": [
       "<pyspark.sql.session.SparkSession at 0x7f05bbb8f790>"
      ]
     },
     "execution_count": 3,
     "metadata": {},
     "output_type": "execute_result"
    }
   ],
   "source": [
    "#Creating Spark Session (It will executed in the Local Not in the Master Node)\n",
    "spark=SparkSession.builder.master(\"local[*]\").appName(\"demo\").getOrCreate()\n",
    "spark"
   ]
  },
  {
   "cell_type": "code",
   "execution_count": 4,
   "id": "4756fb2c",
   "metadata": {},
   "outputs": [
    {
     "name": "stdout",
     "output_type": "stream",
     "text": [
      "root\n",
      " |-- EMPLOYEE_ID: integer (nullable = true)\n",
      " |-- FIRST_NAME: string (nullable = true)\n",
      " |-- LAST_NAME: string (nullable = true)\n",
      " |-- EMAIL: string (nullable = true)\n",
      " |-- PHONE_NUMBER: string (nullable = true)\n",
      " |-- HIRE_DATE: string (nullable = true)\n",
      " |-- JOB_ID: string (nullable = true)\n",
      " |-- SALARY: integer (nullable = true)\n",
      " |-- COMMISSION_PCT: string (nullable = true)\n",
      " |-- MANAGER_ID: string (nullable = true)\n",
      " |-- DEPARTMENT_ID: integer (nullable = true)\n",
      "\n"
     ]
    }
   ],
   "source": [
    "empDf = spark.read.option(\"header\",True).option(\"inferSchema\",True).csv(\"../../Spark-main/employees.csv\")\n",
    "empDf.printSchema()"
   ]
  },
  {
   "cell_type": "code",
   "execution_count": 5,
   "id": "5503d928",
   "metadata": {},
   "outputs": [
    {
     "name": "stdout",
     "output_type": "stream",
     "text": [
      "+-----------+----------+---------+--------+------------+---------+----------+------+--------------+----------+-------------+\n",
      "|EMPLOYEE_ID|FIRST_NAME|LAST_NAME|   EMAIL|PHONE_NUMBER|HIRE_DATE|    JOB_ID|SALARY|COMMISSION_PCT|MANAGER_ID|DEPARTMENT_ID|\n",
      "+-----------+----------+---------+--------+------------+---------+----------+------+--------------+----------+-------------+\n",
      "|        198|    Donald| OConnell|DOCONNEL|650.507.9833|21-JUN-07|  SH_CLERK|  2600|            - |       124|           50|\n",
      "|        199|   Douglas|    Grant|  DGRANT|650.507.9844|13-JAN-08|  SH_CLERK|  2600|            - |       124|           50|\n",
      "|        200|  Jennifer|   Whalen| JWHALEN|515.123.4444|17-SEP-03|   AD_ASST|  4400|            - |       101|           10|\n",
      "|        201|   Michael|Hartstein|MHARTSTE|515.123.5555|17-FEB-04|    MK_MAN| 13000|            - |       100|           20|\n",
      "|        202|       Pat|      Fay|    PFAY|603.123.6666|17-AUG-05|    MK_REP|  6000|            - |       201|           20|\n",
      "|        203|     Susan|   Mavris| SMAVRIS|515.123.7777|07-JUN-02|    HR_REP|  6500|            - |       101|           40|\n",
      "|        204|   Hermann|     Baer|   HBAER|515.123.8888|07-JUN-02|    PR_REP| 10000|            - |       101|           70|\n",
      "|        205|   Shelley|  Higgins|SHIGGINS|515.123.8080|07-JUN-02|    AC_MGR| 12008|            - |       101|          110|\n",
      "|        206|   William|    Gietz|  WGIETZ|515.123.8181|07-JUN-02|AC_ACCOUNT|  8300|            - |       205|          110|\n",
      "|        100|    Steven|     King|   SKING|515.123.4567|17-JUN-03|   AD_PRES| 24000|            - |        - |           90|\n",
      "|        101|     Neena|  Kochhar|NKOCHHAR|515.123.4568|21-SEP-05|     AD_VP| 17000|            - |       100|           90|\n",
      "|        102|       Lex|  De Haan| LDEHAAN|515.123.4569|13-JAN-01|     AD_VP| 17000|            - |       100|           90|\n",
      "|        103| Alexander|   Hunold| AHUNOLD|590.423.4567|03-JAN-06|   IT_PROG|  9000|            - |       102|           60|\n",
      "|        104|     Bruce|    Ernst|  BERNST|590.423.4568|21-MAY-07|   IT_PROG|  6000|            - |       103|           60|\n",
      "|        105|     David|   Austin| DAUSTIN|590.423.4569|25-JUN-05|   IT_PROG|  4800|            - |       103|           60|\n",
      "|        106|     Valli|Pataballa|VPATABAL|590.423.4560|05-FEB-06|   IT_PROG|  4800|            - |       103|           60|\n",
      "|        107|     Diana|  Lorentz|DLORENTZ|590.423.5567|07-FEB-07|   IT_PROG|  4200|            - |       103|           60|\n",
      "|        108|     Nancy|Greenberg|NGREENBE|515.124.4569|17-AUG-02|    FI_MGR| 12008|            - |       101|          100|\n",
      "|        109|    Daniel|   Faviet| DFAVIET|515.124.4169|16-AUG-02|FI_ACCOUNT|  9000|            - |       108|          100|\n",
      "|        110|      John|     Chen|   JCHEN|515.124.4269|28-SEP-05|FI_ACCOUNT|  8200|            - |       108|          100|\n",
      "+-----------+----------+---------+--------+------------+---------+----------+------+--------------+----------+-------------+\n",
      "only showing top 20 rows\n",
      "\n"
     ]
    }
   ],
   "source": [
    "# Avoid Schema Conflict\n",
    "empDf.show()"
   ]
  },
  {
   "cell_type": "code",
   "execution_count": 6,
   "id": "9b18d528",
   "metadata": {},
   "outputs": [
    {
     "name": "stdout",
     "output_type": "stream",
     "text": [
      "+-----------+----------+---------+--------+------------+---------+----------+------+--------------+----------+-------------+\n",
      "|EMPLOYEE_ID|FIRST_NAME|LAST_NAME|   EMAIL|PHONE_NUMBER|HIRE_DATE|    JOB_ID|SALARY|COMMISSION_PCT|MANAGER_ID|DEPARTMENT_ID|\n",
      "+-----------+----------+---------+--------+------------+---------+----------+------+--------------+----------+-------------+\n",
      "|        198|    Donald| OConnell|DOCONNEL|650.507.9833|21-JUN-07|  SH_CLERK|  2600|            - |       124|           50|\n",
      "|        199|   Douglas|    Grant|  DGRANT|650.507.9844|13-JAN-08|  SH_CLERK|  2600|            - |       124|           50|\n",
      "|        200|  Jennifer|   Whalen| JWHALEN|515.123.4444|17-SEP-03|   AD_ASST|  4400|            - |       101|           10|\n",
      "|        201|   Michael|Hartstein|MHARTSTE|515.123.5555|17-FEB-04|    MK_MAN| 13000|            - |       100|           20|\n",
      "|        202|       Pat|      Fay|    PFAY|603.123.6666|17-AUG-05|    MK_REP|  6000|            - |       201|           20|\n",
      "|        203|     Susan|   Mavris| SMAVRIS|515.123.7777|07-JUN-02|    HR_REP|  6500|            - |       101|           40|\n",
      "|        204|   Hermann|     Baer|   HBAER|515.123.8888|07-JUN-02|    PR_REP| 10000|            - |       101|           70|\n",
      "|        205|   Shelley|  Higgins|SHIGGINS|515.123.8080|07-JUN-02|    AC_MGR| 12008|            - |       101|          110|\n",
      "|        206|   William|    Gietz|  WGIETZ|515.123.8181|07-JUN-02|AC_ACCOUNT|  8300|            - |       205|          110|\n",
      "|        100|    Steven|     King|   SKING|515.123.4567|17-JUN-03|   AD_PRES| 24000|            - |        - |           90|\n",
      "|        101|     Neena|  Kochhar|NKOCHHAR|515.123.4568|21-SEP-05|     AD_VP| 17000|            - |       100|           90|\n",
      "|        102|       Lex|  De Haan| LDEHAAN|515.123.4569|13-JAN-01|     AD_VP| 17000|            - |       100|           90|\n",
      "|        103| Alexander|   Hunold| AHUNOLD|590.423.4567|03-JAN-06|   IT_PROG|  9000|            - |       102|           60|\n",
      "|        104|     Bruce|    Ernst|  BERNST|590.423.4568|21-MAY-07|   IT_PROG|  6000|            - |       103|           60|\n",
      "|        105|     David|   Austin| DAUSTIN|590.423.4569|25-JUN-05|   IT_PROG|  4800|            - |       103|           60|\n",
      "|        106|     Valli|Pataballa|VPATABAL|590.423.4560|05-FEB-06|   IT_PROG|  4800|            - |       103|           60|\n",
      "|        107|     Diana|  Lorentz|DLORENTZ|590.423.5567|07-FEB-07|   IT_PROG|  4200|            - |       103|           60|\n",
      "|        108|     Nancy|Greenberg|NGREENBE|515.124.4569|17-AUG-02|    FI_MGR| 12008|            - |       101|          100|\n",
      "|        109|    Daniel|   Faviet| DFAVIET|515.124.4169|16-AUG-02|FI_ACCOUNT|  9000|            - |       108|          100|\n",
      "|        110|      John|     Chen|   JCHEN|515.124.4269|28-SEP-05|FI_ACCOUNT|  8200|            - |       108|          100|\n",
      "+-----------+----------+---------+--------+------------+---------+----------+------+--------------+----------+-------------+\n",
      "only showing top 20 rows\n",
      "\n"
     ]
    }
   ],
   "source": [
    "tmpdf=empDf.select(\"*\")\n",
    "tmpdf.show()"
   ]
  },
  {
   "cell_type": "code",
   "execution_count": 7,
   "id": "f1718683",
   "metadata": {},
   "outputs": [
    {
     "name": "stdout",
     "output_type": "stream",
     "text": [
      "+-----------+----------+\n",
      "|EMPLOYEE_ID|FIRST_NAME|\n",
      "+-----------+----------+\n",
      "|        198|    Donald|\n",
      "|        199|   Douglas|\n",
      "|        200|  Jennifer|\n",
      "|        201|   Michael|\n",
      "|        202|       Pat|\n",
      "|        203|     Susan|\n",
      "|        204|   Hermann|\n",
      "|        205|   Shelley|\n",
      "|        206|   William|\n",
      "|        100|    Steven|\n",
      "|        101|     Neena|\n",
      "|        102|       Lex|\n",
      "|        103| Alexander|\n",
      "|        104|     Bruce|\n",
      "|        105|     David|\n",
      "|        106|     Valli|\n",
      "|        107|     Diana|\n",
      "|        108|     Nancy|\n",
      "|        109|    Daniel|\n",
      "|        110|      John|\n",
      "+-----------+----------+\n",
      "only showing top 20 rows\n",
      "\n"
     ]
    }
   ],
   "source": [
    "empDf.select(\"EMPLOYEE_ID\",\"FIRST_NAME\").show()"
   ]
  },
  {
   "cell_type": "code",
   "execution_count": 8,
   "id": "08982e16",
   "metadata": {},
   "outputs": [
    {
     "name": "stdout",
     "output_type": "stream",
     "text": [
      "+-----------+----------+\n",
      "|EMPLOYEE_ID|FIRST_NAME|\n",
      "+-----------+----------+\n",
      "|        198|    Donald|\n",
      "|        199|   Douglas|\n",
      "|        200|  Jennifer|\n",
      "|        201|   Michael|\n",
      "|        202|       Pat|\n",
      "|        203|     Susan|\n",
      "|        204|   Hermann|\n",
      "|        205|   Shelley|\n",
      "|        206|   William|\n",
      "|        100|    Steven|\n",
      "|        101|     Neena|\n",
      "|        102|       Lex|\n",
      "|        103| Alexander|\n",
      "|        104|     Bruce|\n",
      "|        105|     David|\n",
      "|        106|     Valli|\n",
      "|        107|     Diana|\n",
      "|        108|     Nancy|\n",
      "|        109|    Daniel|\n",
      "|        110|      John|\n",
      "+-----------+----------+\n",
      "only showing top 20 rows\n",
      "\n"
     ]
    }
   ],
   "source": [
    "empDf.select(empDf.EMPLOYEE_ID,empDf.FIRST_NAME).show()"
   ]
  },
  {
   "cell_type": "code",
   "execution_count": 9,
   "id": "8b1b6329",
   "metadata": {},
   "outputs": [
    {
     "name": "stdout",
     "output_type": "stream",
     "text": [
      "+-----------+----------+\n",
      "|EMPLOYEE_ID|FIRST_NAME|\n",
      "+-----------+----------+\n",
      "|        198|    Donald|\n",
      "|        199|   Douglas|\n",
      "|        200|  Jennifer|\n",
      "|        201|   Michael|\n",
      "|        202|       Pat|\n",
      "|        203|     Susan|\n",
      "|        204|   Hermann|\n",
      "|        205|   Shelley|\n",
      "|        206|   William|\n",
      "|        100|    Steven|\n",
      "|        101|     Neena|\n",
      "|        102|       Lex|\n",
      "|        103| Alexander|\n",
      "|        104|     Bruce|\n",
      "|        105|     David|\n",
      "|        106|     Valli|\n",
      "|        107|     Diana|\n",
      "|        108|     Nancy|\n",
      "|        109|    Daniel|\n",
      "|        110|      John|\n",
      "+-----------+----------+\n",
      "only showing top 20 rows\n",
      "\n"
     ]
    }
   ],
   "source": [
    "empDf.select(empDf[\"EMPLOYEE_ID\"],empDf[\"FIRST_NAME\"]).show()"
   ]
  },
  {
   "cell_type": "code",
   "execution_count": 10,
   "id": "b132091f",
   "metadata": {},
   "outputs": [
    {
     "name": "stdout",
     "output_type": "stream",
     "text": [
      "+-----------+----------+\n",
      "|EMPLOYEE_ID|FIRST_NAME|\n",
      "+-----------+----------+\n",
      "|        198|    Donald|\n",
      "|        199|   Douglas|\n",
      "|        200|  Jennifer|\n",
      "|        201|   Michael|\n",
      "|        202|       Pat|\n",
      "|        203|     Susan|\n",
      "|        204|   Hermann|\n",
      "|        205|   Shelley|\n",
      "|        206|   William|\n",
      "|        100|    Steven|\n",
      "|        101|     Neena|\n",
      "|        102|       Lex|\n",
      "|        103| Alexander|\n",
      "|        104|     Bruce|\n",
      "|        105|     David|\n",
      "|        106|     Valli|\n",
      "|        107|     Diana|\n",
      "|        108|     Nancy|\n",
      "|        109|    Daniel|\n",
      "|        110|      John|\n",
      "+-----------+----------+\n",
      "only showing top 20 rows\n",
      "\n"
     ]
    }
   ],
   "source": [
    "from pyspark.sql.functions import col\n",
    "empDf.select(col(\"EMPLOYEE_ID\"),col(\"FIRST_NAME\")).show()"
   ]
  },
  {
   "cell_type": "code",
   "execution_count": 11,
   "id": "a560d959",
   "metadata": {},
   "outputs": [
    {
     "name": "stdout",
     "output_type": "stream",
     "text": [
      "+----+---------+\n",
      "|E_Id|   F_Name|\n",
      "+----+---------+\n",
      "| 198|   Donald|\n",
      "| 199|  Douglas|\n",
      "| 200| Jennifer|\n",
      "| 201|  Michael|\n",
      "| 202|      Pat|\n",
      "| 203|    Susan|\n",
      "| 204|  Hermann|\n",
      "| 205|  Shelley|\n",
      "| 206|  William|\n",
      "| 100|   Steven|\n",
      "| 101|    Neena|\n",
      "| 102|      Lex|\n",
      "| 103|Alexander|\n",
      "| 104|    Bruce|\n",
      "| 105|    David|\n",
      "| 106|    Valli|\n",
      "| 107|    Diana|\n",
      "| 108|    Nancy|\n",
      "| 109|   Daniel|\n",
      "| 110|     John|\n",
      "+----+---------+\n",
      "only showing top 20 rows\n",
      "\n"
     ]
    }
   ],
   "source": [
    "empDf.select(col(\"EMPLOYEE_ID\").alias(\"E_Id\"),col(\"FIRST_NAME\").alias(\"F_Name\")).show()"
   ]
  },
  {
   "cell_type": "markdown",
   "id": "9aab8ca2",
   "metadata": {},
   "source": [
    "### Note : withColumn(\"NewColumnsName\",col(\"oldColumnsName\")+1000).show()"
   ]
  },
  {
   "cell_type": "code",
   "execution_count": 12,
   "id": "104db023",
   "metadata": {},
   "outputs": [
    {
     "ename": "AnalysisException",
     "evalue": "Column 'SALARY' does not exist. Did you mean one of the following? [FIRST_NAME, EMPLOYEE_ID];\n'Project [EMPLOYEE_ID#17, FIRST_NAME#18, ('SALARY + 1000) AS NEW_SALARY#232]\n+- Project [EMPLOYEE_ID#17, FIRST_NAME#18]\n   +- Relation [EMPLOYEE_ID#17,FIRST_NAME#18,LAST_NAME#19,EMAIL#20,PHONE_NUMBER#21,HIRE_DATE#22,JOB_ID#23,SALARY#24,COMMISSION_PCT#25,MANAGER_ID#26,DEPARTMENT_ID#27] csv\n",
     "output_type": "error",
     "traceback": [
      "\u001b[0;31m---------------------------------------------------------------------------\u001b[0m",
      "\u001b[0;31mAnalysisException\u001b[0m                         Traceback (most recent call last)",
      "Input \u001b[0;32mIn [12]\u001b[0m, in \u001b[0;36m<cell line: 1>\u001b[0;34m()\u001b[0m\n\u001b[0;32m----> 1\u001b[0m \u001b[43mempDf\u001b[49m\u001b[38;5;241;43m.\u001b[39;49m\u001b[43mselect\u001b[49m\u001b[43m(\u001b[49m\u001b[38;5;124;43m\"\u001b[39;49m\u001b[38;5;124;43mEMPLOYEE_ID\u001b[39;49m\u001b[38;5;124;43m\"\u001b[39;49m\u001b[43m,\u001b[49m\u001b[38;5;124;43m\"\u001b[39;49m\u001b[38;5;124;43mFIRST_NAME\u001b[39;49m\u001b[38;5;124;43m\"\u001b[39;49m\u001b[43m)\u001b[49m\u001b[38;5;241;43m.\u001b[39;49m\u001b[43mwithColumn\u001b[49m\u001b[43m(\u001b[49m\u001b[38;5;124;43m\"\u001b[39;49m\u001b[38;5;124;43mNEW_SALARY\u001b[39;49m\u001b[38;5;124;43m\"\u001b[39;49m\u001b[43m,\u001b[49m\u001b[43mcol\u001b[49m\u001b[43m(\u001b[49m\u001b[38;5;124;43m\"\u001b[39;49m\u001b[38;5;124;43mSALARY\u001b[39;49m\u001b[38;5;124;43m\"\u001b[39;49m\u001b[43m)\u001b[49m\u001b[43m \u001b[49m\u001b[38;5;241;43m+\u001b[39;49m\u001b[43m \u001b[49m\u001b[38;5;241;43m1000\u001b[39;49m\u001b[43m)\u001b[49m\u001b[38;5;241m.\u001b[39mshow()\n",
      "File \u001b[0;32m~/workspace_working_Repo/ML/envname/lib/python3.8/site-packages/pyspark/sql/dataframe.py:3036\u001b[0m, in \u001b[0;36mDataFrame.withColumn\u001b[0;34m(self, colName, col)\u001b[0m\n\u001b[1;32m   3034\u001b[0m \u001b[38;5;28;01mif\u001b[39;00m \u001b[38;5;129;01mnot\u001b[39;00m \u001b[38;5;28misinstance\u001b[39m(col, Column):\n\u001b[1;32m   3035\u001b[0m     \u001b[38;5;28;01mraise\u001b[39;00m \u001b[38;5;167;01mTypeError\u001b[39;00m(\u001b[38;5;124m\"\u001b[39m\u001b[38;5;124mcol should be Column\u001b[39m\u001b[38;5;124m\"\u001b[39m)\n\u001b[0;32m-> 3036\u001b[0m \u001b[38;5;28;01mreturn\u001b[39;00m DataFrame(\u001b[38;5;28;43mself\u001b[39;49m\u001b[38;5;241;43m.\u001b[39;49m\u001b[43m_jdf\u001b[49m\u001b[38;5;241;43m.\u001b[39;49m\u001b[43mwithColumn\u001b[49m\u001b[43m(\u001b[49m\u001b[43mcolName\u001b[49m\u001b[43m,\u001b[49m\u001b[43m \u001b[49m\u001b[43mcol\u001b[49m\u001b[38;5;241;43m.\u001b[39;49m\u001b[43m_jc\u001b[49m\u001b[43m)\u001b[49m, \u001b[38;5;28mself\u001b[39m\u001b[38;5;241m.\u001b[39msparkSession)\n",
      "File \u001b[0;32m~/workspace_working_Repo/ML/envname/lib/python3.8/site-packages/py4j/java_gateway.py:1321\u001b[0m, in \u001b[0;36mJavaMember.__call__\u001b[0;34m(self, *args)\u001b[0m\n\u001b[1;32m   1315\u001b[0m command \u001b[38;5;241m=\u001b[39m proto\u001b[38;5;241m.\u001b[39mCALL_COMMAND_NAME \u001b[38;5;241m+\u001b[39m\\\n\u001b[1;32m   1316\u001b[0m     \u001b[38;5;28mself\u001b[39m\u001b[38;5;241m.\u001b[39mcommand_header \u001b[38;5;241m+\u001b[39m\\\n\u001b[1;32m   1317\u001b[0m     args_command \u001b[38;5;241m+\u001b[39m\\\n\u001b[1;32m   1318\u001b[0m     proto\u001b[38;5;241m.\u001b[39mEND_COMMAND_PART\n\u001b[1;32m   1320\u001b[0m answer \u001b[38;5;241m=\u001b[39m \u001b[38;5;28mself\u001b[39m\u001b[38;5;241m.\u001b[39mgateway_client\u001b[38;5;241m.\u001b[39msend_command(command)\n\u001b[0;32m-> 1321\u001b[0m return_value \u001b[38;5;241m=\u001b[39m \u001b[43mget_return_value\u001b[49m\u001b[43m(\u001b[49m\n\u001b[1;32m   1322\u001b[0m \u001b[43m    \u001b[49m\u001b[43manswer\u001b[49m\u001b[43m,\u001b[49m\u001b[43m \u001b[49m\u001b[38;5;28;43mself\u001b[39;49m\u001b[38;5;241;43m.\u001b[39;49m\u001b[43mgateway_client\u001b[49m\u001b[43m,\u001b[49m\u001b[43m \u001b[49m\u001b[38;5;28;43mself\u001b[39;49m\u001b[38;5;241;43m.\u001b[39;49m\u001b[43mtarget_id\u001b[49m\u001b[43m,\u001b[49m\u001b[43m \u001b[49m\u001b[38;5;28;43mself\u001b[39;49m\u001b[38;5;241;43m.\u001b[39;49m\u001b[43mname\u001b[49m\u001b[43m)\u001b[49m\n\u001b[1;32m   1324\u001b[0m \u001b[38;5;28;01mfor\u001b[39;00m temp_arg \u001b[38;5;129;01min\u001b[39;00m temp_args:\n\u001b[1;32m   1325\u001b[0m     temp_arg\u001b[38;5;241m.\u001b[39m_detach()\n",
      "File \u001b[0;32m~/workspace_working_Repo/ML/envname/lib/python3.8/site-packages/pyspark/sql/utils.py:196\u001b[0m, in \u001b[0;36mcapture_sql_exception.<locals>.deco\u001b[0;34m(*a, **kw)\u001b[0m\n\u001b[1;32m    192\u001b[0m converted \u001b[38;5;241m=\u001b[39m convert_exception(e\u001b[38;5;241m.\u001b[39mjava_exception)\n\u001b[1;32m    193\u001b[0m \u001b[38;5;28;01mif\u001b[39;00m \u001b[38;5;129;01mnot\u001b[39;00m \u001b[38;5;28misinstance\u001b[39m(converted, UnknownException):\n\u001b[1;32m    194\u001b[0m     \u001b[38;5;66;03m# Hide where the exception came from that shows a non-Pythonic\u001b[39;00m\n\u001b[1;32m    195\u001b[0m     \u001b[38;5;66;03m# JVM exception message.\u001b[39;00m\n\u001b[0;32m--> 196\u001b[0m     \u001b[38;5;28;01mraise\u001b[39;00m converted \u001b[38;5;28;01mfrom\u001b[39;00m \u001b[38;5;28mNone\u001b[39m\n\u001b[1;32m    197\u001b[0m \u001b[38;5;28;01melse\u001b[39;00m:\n\u001b[1;32m    198\u001b[0m     \u001b[38;5;28;01mraise\u001b[39;00m\n",
      "\u001b[0;31mAnalysisException\u001b[0m: Column 'SALARY' does not exist. Did you mean one of the following? [FIRST_NAME, EMPLOYEE_ID];\n'Project [EMPLOYEE_ID#17, FIRST_NAME#18, ('SALARY + 1000) AS NEW_SALARY#232]\n+- Project [EMPLOYEE_ID#17, FIRST_NAME#18]\n   +- Relation [EMPLOYEE_ID#17,FIRST_NAME#18,LAST_NAME#19,EMAIL#20,PHONE_NUMBER#21,HIRE_DATE#22,JOB_ID#23,SALARY#24,COMMISSION_PCT#25,MANAGER_ID#26,DEPARTMENT_ID#27] csv\n"
     ]
    }
   ],
   "source": [
    "\n",
    "empDf.select(\"EMPLOYEE_ID\",\"FIRST_NAME\").withColumn(\"NEW_SALARY\",col(\"SALARY\") + 1000).show()"
   ]
  },
  {
   "cell_type": "code",
   "execution_count": 13,
   "id": "569e3579",
   "metadata": {},
   "outputs": [
    {
     "name": "stdout",
     "output_type": "stream",
     "text": [
      "+-----------+----------+------+----------+\n",
      "|EMPLOYEE_ID|FIRST_NAME|SALARY|NEW_SALARY|\n",
      "+-----------+----------+------+----------+\n",
      "|        198|    Donald|  2600|      3600|\n",
      "|        199|   Douglas|  2600|      3600|\n",
      "|        200|  Jennifer|  4400|      5400|\n",
      "|        201|   Michael| 13000|     14000|\n",
      "|        202|       Pat|  6000|      7000|\n",
      "|        203|     Susan|  6500|      7500|\n",
      "|        204|   Hermann| 10000|     11000|\n",
      "|        205|   Shelley| 12008|     13008|\n",
      "|        206|   William|  8300|      9300|\n",
      "|        100|    Steven| 24000|     25000|\n",
      "|        101|     Neena| 17000|     18000|\n",
      "|        102|       Lex| 17000|     18000|\n",
      "|        103| Alexander|  9000|     10000|\n",
      "|        104|     Bruce|  6000|      7000|\n",
      "|        105|     David|  4800|      5800|\n",
      "|        106|     Valli|  4800|      5800|\n",
      "|        107|     Diana|  4200|      5200|\n",
      "|        108|     Nancy| 12008|     13008|\n",
      "|        109|    Daniel|  9000|     10000|\n",
      "|        110|      John|  8200|      9200|\n",
      "+-----------+----------+------+----------+\n",
      "only showing top 20 rows\n",
      "\n"
     ]
    }
   ],
   "source": [
    "# empDf.select(\"EMPLOYEE_ID\",\"FIRST_NAME\").withColumn(\"NEW_SALARY\",col(\"SALARY\") + 1000).show()\n",
    "empDf.select(\"EMPLOYEE_ID\",\"FIRST_NAME\",\"SALARY\").withColumn(\"NEW_SALARY\",col(\"SALARY\") + 1000).show()"
   ]
  },
  {
   "cell_type": "code",
   "execution_count": 14,
   "id": "37d7faf7",
   "metadata": {},
   "outputs": [
    {
     "name": "stdout",
     "output_type": "stream",
     "text": [
      "+-----------+----------+----------+\n",
      "|EMPLOYEE_ID|FIRST_NAME|NEW_SALARY|\n",
      "+-----------+----------+----------+\n",
      "|        198|    Donald|      3600|\n",
      "|        199|   Douglas|      3600|\n",
      "|        200|  Jennifer|      5400|\n",
      "|        201|   Michael|     14000|\n",
      "|        202|       Pat|      7000|\n",
      "|        203|     Susan|      7500|\n",
      "|        204|   Hermann|     11000|\n",
      "|        205|   Shelley|     13008|\n",
      "|        206|   William|      9300|\n",
      "|        100|    Steven|     25000|\n",
      "|        101|     Neena|     18000|\n",
      "|        102|       Lex|     18000|\n",
      "|        103| Alexander|     10000|\n",
      "|        104|     Bruce|      7000|\n",
      "|        105|     David|      5800|\n",
      "|        106|     Valli|      5800|\n",
      "|        107|     Diana|      5200|\n",
      "|        108|     Nancy|     13008|\n",
      "|        109|    Daniel|     10000|\n",
      "|        110|      John|      9200|\n",
      "+-----------+----------+----------+\n",
      "only showing top 20 rows\n",
      "\n"
     ]
    }
   ],
   "source": [
    "empDf.withColumn(\"NEW_SALARY\",col(\"SALARY\") + 1000).select(\"EMPLOYEE_ID\",\"FIRST_NAME\",\"NEW_SALARY\").show()"
   ]
  },
  {
   "cell_type": "code",
   "execution_count": 15,
   "id": "852ef2f2",
   "metadata": {},
   "outputs": [
    {
     "name": "stdout",
     "output_type": "stream",
     "text": [
      "+-----------+----------+------+\n",
      "|EMPLOYEE_ID|FIRST_NAME|SALARY|\n",
      "+-----------+----------+------+\n",
      "|        198|    Donald|  1600|\n",
      "|        199|   Douglas|  1600|\n",
      "|        200|  Jennifer|  3400|\n",
      "|        201|   Michael| 12000|\n",
      "|        202|       Pat|  5000|\n",
      "|        203|     Susan|  5500|\n",
      "|        204|   Hermann|  9000|\n",
      "|        205|   Shelley| 11008|\n",
      "|        206|   William|  7300|\n",
      "|        100|    Steven| 23000|\n",
      "|        101|     Neena| 16000|\n",
      "|        102|       Lex| 16000|\n",
      "|        103| Alexander|  8000|\n",
      "|        104|     Bruce|  5000|\n",
      "|        105|     David|  3800|\n",
      "|        106|     Valli|  3800|\n",
      "|        107|     Diana|  3200|\n",
      "|        108|     Nancy| 11008|\n",
      "|        109|    Daniel|  8000|\n",
      "|        110|      John|  7200|\n",
      "+-----------+----------+------+\n",
      "only showing top 20 rows\n",
      "\n"
     ]
    }
   ],
   "source": [
    "empDf.withColumn(\"SALARY\",col(\"SALARY\") - 1000).select(\"EMPLOYEE_ID\",\"FIRST_NAME\",\"SALARY\").show()"
   ]
  },
  {
   "cell_type": "code",
   "execution_count": null,
   "id": "546dd407",
   "metadata": {},
   "outputs": [],
   "source": []
  }
 ],
 "metadata": {
  "kernelspec": {
   "display_name": "Python 3 (ipykernel)",
   "language": "python",
   "name": "python3"
  },
  "language_info": {
   "codemirror_mode": {
    "name": "ipython",
    "version": 3
   },
   "file_extension": ".py",
   "mimetype": "text/x-python",
   "name": "python",
   "nbconvert_exporter": "python",
   "pygments_lexer": "ipython3",
   "version": "3.8.10"
  }
 },
 "nbformat": 4,
 "nbformat_minor": 5
}
