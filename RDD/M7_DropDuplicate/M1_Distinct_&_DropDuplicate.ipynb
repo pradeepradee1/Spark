{
 "cells": [
  {
   "cell_type": "code",
   "execution_count": 1,
   "id": "d9840525",
   "metadata": {},
   "outputs": [],
   "source": [
    "from pyspark.sql import SparkSession\n",
    "from pyspark.sql.types import StructType,StructField,StringType,IntegerType"
   ]
  },
  {
   "cell_type": "code",
   "execution_count": 2,
   "id": "87ffaa55",
   "metadata": {},
   "outputs": [
    {
     "name": "stdout",
     "output_type": "stream",
     "text": [
      "23/03/23 14:20:01 WARN Utils: Your hostname, ZSCHN01LP0253L resolves to a loopback address: 127.0.1.1; using 192.168.229.237 instead (on interface wlp0s20f3)\n",
      "23/03/23 14:20:01 WARN Utils: Set SPARK_LOCAL_IP if you need to bind to another address\n"
     ]
    },
    {
     "name": "stderr",
     "output_type": "stream",
     "text": [
      "Setting default log level to \"WARN\".\n",
      "To adjust logging level use sc.setLogLevel(newLevel). For SparkR, use setLogLevel(newLevel).\n"
     ]
    },
    {
     "name": "stdout",
     "output_type": "stream",
     "text": [
      "23/03/23 14:20:02 WARN NativeCodeLoader: Unable to load native-hadoop library for your platform... using builtin-java classes where applicable\n",
      "23/03/23 14:20:02 WARN Utils: Service 'SparkUI' could not bind on port 4040. Attempting port 4041.\n",
      "23/03/23 14:20:02 WARN Utils: Service 'SparkUI' could not bind on port 4041. Attempting port 4042.\n",
      "23/03/23 14:20:02 WARN Utils: Service 'SparkUI' could not bind on port 4042. Attempting port 4043.\n",
      "23/03/23 14:20:02 WARN Utils: Service 'SparkUI' could not bind on port 4043. Attempting port 4044.\n",
      "23/03/23 14:20:02 WARN Utils: Service 'SparkUI' could not bind on port 4044. Attempting port 4045.\n",
      "23/03/23 14:20:02 WARN Utils: Service 'SparkUI' could not bind on port 4045. Attempting port 4046.\n",
      "23/03/23 14:20:02 WARN Utils: Service 'SparkUI' could not bind on port 4046. Attempting port 4047.\n",
      "23/03/23 14:20:02 WARN Utils: Service 'SparkUI' could not bind on port 4047. Attempting port 4048.\n",
      "23/03/23 14:20:02 WARN Utils: Service 'SparkUI' could not bind on port 4048. Attempting port 4049.\n",
      "23/03/23 14:20:02 WARN Utils: Service 'SparkUI' could not bind on port 4049. Attempting port 4050.\n"
     ]
    },
    {
     "data": {
      "text/html": [
       "\n",
       "            <div>\n",
       "                <p><b>SparkSession - in-memory</b></p>\n",
       "                \n",
       "        <div>\n",
       "            <p><b>SparkContext</b></p>\n",
       "\n",
       "            <p><a href=\"http://192.168.229.237:4050\">Spark UI</a></p>\n",
       "\n",
       "            <dl>\n",
       "              <dt>Version</dt>\n",
       "                <dd><code>v3.3.2</code></dd>\n",
       "              <dt>Master</dt>\n",
       "                <dd><code>local[*]</code></dd>\n",
       "              <dt>AppName</dt>\n",
       "                <dd><code>demo</code></dd>\n",
       "            </dl>\n",
       "        </div>\n",
       "        \n",
       "            </div>\n",
       "        "
      ],
      "text/plain": [
       "<pyspark.sql.session.SparkSession at 0x7f5f9c1f47c0>"
      ]
     },
     "execution_count": 2,
     "metadata": {},
     "output_type": "execute_result"
    }
   ],
   "source": [
    "#Creating Spark Session (It will executed in the Local Not in the Master Node)\n",
    "spark=SparkSession.builder.master(\"local[*]\").appName(\"demo\").getOrCreate()\n",
    "spark"
   ]
  },
  {
   "cell_type": "code",
   "execution_count": 3,
   "id": "e0c4c15a",
   "metadata": {},
   "outputs": [
    {
     "name": "stdout",
     "output_type": "stream",
     "text": [
      "root\n",
      " |-- EMPLOYEE_ID: integer (nullable = true)\n",
      " |-- FIRST_NAME: string (nullable = true)\n",
      " |-- LAST_NAME: string (nullable = true)\n",
      " |-- EMAIL: string (nullable = true)\n",
      " |-- PHONE_NUMBER: string (nullable = true)\n",
      " |-- HIRE_DATE: string (nullable = true)\n",
      " |-- JOB_ID: string (nullable = true)\n",
      " |-- SALARY: integer (nullable = true)\n",
      " |-- COMMISSION_PCT: string (nullable = true)\n",
      " |-- MANAGER_ID: string (nullable = true)\n",
      " |-- DEPARTMENT_ID: integer (nullable = true)\n",
      "\n"
     ]
    }
   ],
   "source": [
    "empDf = spark.read.option(\"header\",True).option(\"inferSchema\",True).csv(\"../Spark-main/employees.csv\")\n",
    "empDf.printSchema()"
   ]
  },
  {
   "cell_type": "code",
   "execution_count": 4,
   "id": "0532f3fd",
   "metadata": {},
   "outputs": [
    {
     "name": "stdout",
     "output_type": "stream",
     "text": [
      "+-----------+----------+---------+--------+------------+---------+----------+------+--------------+----------+-------------+\n",
      "|EMPLOYEE_ID|FIRST_NAME|LAST_NAME|   EMAIL|PHONE_NUMBER|HIRE_DATE|    JOB_ID|SALARY|COMMISSION_PCT|MANAGER_ID|DEPARTMENT_ID|\n",
      "+-----------+----------+---------+--------+------------+---------+----------+------+--------------+----------+-------------+\n",
      "|        120|   Matthew|    Weiss|  MWEISS|650.123.1234|18-JUL-04|    ST_MAN|  8000|            - |       100|           50|\n",
      "|        118|       Guy|   Himuro| GHIMURO|515.127.4565|15-NOV-06|  PU_CLERK|  2600|            - |       114|           30|\n",
      "|        110|      John|     Chen|   JCHEN|515.124.4269|28-SEP-05|FI_ACCOUNT|  8200|            - |       108|          100|\n",
      "|        123|    Shanta|  Vollman|SVOLLMAN|650.123.4234|10-OCT-05|    ST_MAN|  6500|            - |       100|           50|\n",
      "|        124|     Kevin|  Mourgos|KMOURGOS|650.123.5234|16-NOV-07|    ST_MAN|  5800|            - |       100|           50|\n",
      "|        137|    Renske|   Ladwig| RLADWIG|650.121.1234|14-JUL-03|  ST_CLERK|  3600|            - |       123|           50|\n",
      "|        132|        TJ|    Olson| TJOLSON|650.124.8234|10-APR-07|  ST_CLERK|  2100|            - |       121|           50|\n",
      "|        113|      Luis|     Popp|   LPOPP|515.124.4567|07-DEC-07|FI_ACCOUNT|  6900|            - |       108|          100|\n",
      "|        139|      John|      Seo|    JSEO|650.121.2019|12-FEB-06|  ST_CLERK|  2700|            - |       123|           50|\n",
      "|        201|   Michael|Hartstein|MHARTSTE|515.123.5555|17-FEB-04|    MK_MAN| 13000|            - |       100|           20|\n",
      "|        107|     Diana|  Lorentz|DLORENTZ|590.423.5567|07-FEB-07|   IT_PROG|  4200|            - |       103|           60|\n",
      "|        135|        Ki|      Gee|    KGEE|650.127.1734|12-DEC-07|  ST_CLERK|  2400|            - |       122|           50|\n",
      "|        104|     Bruce|    Ernst|  BERNST|590.423.4568|21-MAY-07|   IT_PROG|  6000|            - |       103|           60|\n",
      "|        103| Alexander|   Hunold| AHUNOLD|590.423.4567|03-JAN-06|   IT_PROG|  9000|            - |       102|           60|\n",
      "|        108|     Nancy|Greenberg|NGREENBE|515.124.4569|17-AUG-02|    FI_MGR| 12008|            - |       101|          100|\n",
      "|        121|      Adam|    Fripp|  AFRIPP|650.123.2234|10-APR-05|    ST_MAN|  8200|            - |       100|           50|\n",
      "|        100|    Steven|     King|   SKING|515.123.4567|17-JUN-03|   AD_PRES| 24000|            - |        - |           90|\n",
      "|        117|     Sigal|   Tobias| STOBIAS|515.127.4564|24-JUL-05|  PU_CLERK|  2800|            - |       114|           30|\n",
      "|        130|     Mozhe| Atkinson|MATKINSO|650.124.6234|30-OCT-05|  ST_CLERK|  2800|            - |       121|           50|\n",
      "|        134|   Michael|   Rogers| MROGERS|650.127.1834|26-AUG-06|  ST_CLERK|  2900|            - |       122|           50|\n",
      "+-----------+----------+---------+--------+------------+---------+----------+------+--------------+----------+-------------+\n",
      "only showing top 20 rows\n",
      "\n"
     ]
    }
   ],
   "source": [
    "#Note : In distinct we can't pass parameter\n",
    "empDf.distinct().show()"
   ]
  },
  {
   "cell_type": "code",
   "execution_count": 5,
   "id": "acc9b386",
   "metadata": {
    "scrolled": false
   },
   "outputs": [
    {
     "name": "stdout",
     "output_type": "stream",
     "text": [
      "+-----------+-----------+-----------+--------+------------+---------+----------+------+--------------+----------+-------------+\n",
      "|EMPLOYEE_ID| FIRST_NAME|  LAST_NAME|   EMAIL|PHONE_NUMBER|HIRE_DATE|    JOB_ID|SALARY|COMMISSION_PCT|MANAGER_ID|DEPARTMENT_ID|\n",
      "+-----------+-----------+-----------+--------+------------+---------+----------+------+--------------+----------+-------------+\n",
      "|        120|    Matthew|      Weiss|  MWEISS|650.123.1234|18-JUL-04|    ST_MAN|  8000|            - |       100|           50|\n",
      "|        118|        Guy|     Himuro| GHIMURO|515.127.4565|15-NOV-06|  PU_CLERK|  2600|            - |       114|           30|\n",
      "|        110|       John|       Chen|   JCHEN|515.124.4269|28-SEP-05|FI_ACCOUNT|  8200|            - |       108|          100|\n",
      "|        123|     Shanta|    Vollman|SVOLLMAN|650.123.4234|10-OCT-05|    ST_MAN|  6500|            - |       100|           50|\n",
      "|        124|      Kevin|    Mourgos|KMOURGOS|650.123.5234|16-NOV-07|    ST_MAN|  5800|            - |       100|           50|\n",
      "|        137|     Renske|     Ladwig| RLADWIG|650.121.1234|14-JUL-03|  ST_CLERK|  3600|            - |       123|           50|\n",
      "|        132|         TJ|      Olson| TJOLSON|650.124.8234|10-APR-07|  ST_CLERK|  2100|            - |       121|           50|\n",
      "|        113|       Luis|       Popp|   LPOPP|515.124.4567|07-DEC-07|FI_ACCOUNT|  6900|            - |       108|          100|\n",
      "|        139|       John|        Seo|    JSEO|650.121.2019|12-FEB-06|  ST_CLERK|  2700|            - |       123|           50|\n",
      "|        201|    Michael|  Hartstein|MHARTSTE|515.123.5555|17-FEB-04|    MK_MAN| 13000|            - |       100|           20|\n",
      "|        107|      Diana|    Lorentz|DLORENTZ|590.423.5567|07-FEB-07|   IT_PROG|  4200|            - |       103|           60|\n",
      "|        135|         Ki|        Gee|    KGEE|650.127.1734|12-DEC-07|  ST_CLERK|  2400|            - |       122|           50|\n",
      "|        104|      Bruce|      Ernst|  BERNST|590.423.4568|21-MAY-07|   IT_PROG|  6000|            - |       103|           60|\n",
      "|        103|  Alexander|     Hunold| AHUNOLD|590.423.4567|03-JAN-06|   IT_PROG|  9000|            - |       102|           60|\n",
      "|        108|      Nancy|  Greenberg|NGREENBE|515.124.4569|17-AUG-02|    FI_MGR| 12008|            - |       101|          100|\n",
      "|        121|       Adam|      Fripp|  AFRIPP|650.123.2234|10-APR-05|    ST_MAN|  8200|            - |       100|           50|\n",
      "|        100|     Steven|       King|   SKING|515.123.4567|17-JUN-03|   AD_PRES| 24000|            - |        - |           90|\n",
      "|        117|      Sigal|     Tobias| STOBIAS|515.127.4564|24-JUL-05|  PU_CLERK|  2800|            - |       114|           30|\n",
      "|        130|      Mozhe|   Atkinson|MATKINSO|650.124.6234|30-OCT-05|  ST_CLERK|  2800|            - |       121|           50|\n",
      "|        134|    Michael|     Rogers| MROGERS|650.127.1834|26-AUG-06|  ST_CLERK|  2900|            - |       122|           50|\n",
      "|        133|      Jason|     Mallin| JMALLIN|650.127.1934|14-JUN-04|  ST_CLERK|  3300|            - |       122|           50|\n",
      "|        138|    Stephen|     Stiles| SSTILES|650.121.2034|26-OCT-05|  ST_CLERK|  3200|            - |       123|           50|\n",
      "|        105|      David|     Austin| DAUSTIN|590.423.4569|25-JUN-05|   IT_PROG|  4800|            - |       103|           60|\n",
      "|        111|     Ismael|    Sciarra|ISCIARRA|515.124.4369|30-SEP-05|FI_ACCOUNT|  7700|            - |       108|          100|\n",
      "|        116|     Shelli|      Baida|  SBAIDA|515.127.4563|24-DEC-05|  PU_CLERK|  2900|            - |       114|           30|\n",
      "|        204|    Hermann|       Baer|   HBAER|515.123.8888|07-JUN-02|    PR_REP| 10000|            - |       101|           70|\n",
      "|        115|  Alexander|       Khoo|   AKHOO|515.127.4562|18-MAY-03|  PU_CLERK|  3100|            - |       114|           30|\n",
      "|        102|        Lex|    De Haan| LDEHAAN|515.123.4569|13-JAN-01|     AD_VP| 17000|            - |       100|           90|\n",
      "|        114|        Den|   Raphaely|DRAPHEAL|515.127.4561|07-DEC-02|    PU_MAN| 11000|            - |       100|           30|\n",
      "|        206|    William|      Gietz|  WGIETZ|515.123.8181|07-JUN-02|AC_ACCOUNT|  8300|            - |       205|          110|\n",
      "|        205|    Shelley|    Higgins|SHIGGINS|515.123.8080|07-JUN-02|    AC_MGR| 12008|            - |       101|          110|\n",
      "|        119|      Karen| Colmenares|KCOLMENA|515.127.4566|10-AUG-07|  PU_CLERK|  2500|            - |       114|           30|\n",
      "|        106|      Valli|  Pataballa|VPATABAL|590.423.4560|05-FEB-06|   IT_PROG|  4800|            - |       103|           60|\n",
      "|        126|      Irene|Mikkilineni|IMIKKILI|650.124.1224|28-SEP-06|  ST_CLERK|  2700|            - |       120|           50|\n",
      "|        140|     Joshua|      Patel|  JPATEL|650.121.1834|06-APR-06|  ST_CLERK|  2500|            - |       123|           50|\n",
      "|        125|      Julia|      Nayer|  JNAYER|650.124.1214|16-JUL-05|  ST_CLERK|  3200|            - |       120|           50|\n",
      "|        136|      Hazel| Philtanker|HPHILTAN|650.127.1634|06-FEB-08|  ST_CLERK|  2200|            - |       122|           50|\n",
      "|        129|      Laura|     Bissot| LBISSOT|650.124.5234|20-AUG-05|  ST_CLERK|  3300|            - |       121|           50|\n",
      "|        203|      Susan|     Mavris| SMAVRIS|515.123.7777|07-JUN-02|    HR_REP|  6500|            - |       101|           40|\n",
      "|        198|     Donald|   OConnell|DOCONNEL|650.507.9833|21-JUN-07|  SH_CLERK|  2600|            - |       124|           50|\n",
      "|        202|        Pat|        Fay|    PFAY|603.123.6666|17-AUG-05|    MK_REP|  6000|            - |       201|           20|\n",
      "|        200|   Jennifer|     Whalen| JWHALEN|515.123.4444|17-SEP-03|   AD_ASST|  4400|            - |       101|           10|\n",
      "|        109|     Daniel|     Faviet| DFAVIET|515.124.4169|16-AUG-02|FI_ACCOUNT|  9000|            - |       108|          100|\n",
      "|        101|      Neena|    Kochhar|NKOCHHAR|515.123.4568|21-SEP-05|     AD_VP| 17000|            - |       100|           90|\n",
      "|        122|      Payam|   Kaufling|PKAUFLIN|650.123.3234|01-MAY-03|    ST_MAN|  7900|            - |       100|           50|\n",
      "|        199|    Douglas|      Grant|  DGRANT|650.507.9844|13-JAN-08|  SH_CLERK|  2600|            - |       124|           50|\n",
      "|        127|      James|     Landry| JLANDRY|650.124.1334|14-JAN-07|  ST_CLERK|  2400|            - |       120|           50|\n",
      "|        128|     Steven|     Markle| SMARKLE|650.124.1434|08-MAR-08|  ST_CLERK|  2200|            - |       120|           50|\n",
      "|        112|Jose Manuel|      Urman| JMURMAN|515.124.4469|07-MAR-06|FI_ACCOUNT|  7800|            - |       108|          100|\n",
      "|        131|      James|     Marlow| JAMRLOW|650.124.7234|16-FEB-05|  ST_CLERK|  2500|            - |       121|           50|\n",
      "+-----------+-----------+-----------+--------+------------+---------+----------+------+--------------+----------+-------------+\n",
      "\n"
     ]
    }
   ],
   "source": [
    "empDf.distinct().show(100)"
   ]
  },
  {
   "cell_type": "markdown",
   "id": "eab46e00",
   "metadata": {},
   "source": [
    "### DropDuplicate"
   ]
  },
  {
   "cell_type": "code",
   "execution_count": 6,
   "id": "7eaf9a9f",
   "metadata": {
    "scrolled": false
   },
   "outputs": [
    {
     "name": "stdout",
     "output_type": "stream",
     "text": [
      "+-----------+-----------+-----------+--------+------------+---------+----------+------+--------------+----------+-------------+\n",
      "|EMPLOYEE_ID| FIRST_NAME|  LAST_NAME|   EMAIL|PHONE_NUMBER|HIRE_DATE|    JOB_ID|SALARY|COMMISSION_PCT|MANAGER_ID|DEPARTMENT_ID|\n",
      "+-----------+-----------+-----------+--------+------------+---------+----------+------+--------------+----------+-------------+\n",
      "|        120|    Matthew|      Weiss|  MWEISS|650.123.1234|18-JUL-04|    ST_MAN|  8000|            - |       100|           50|\n",
      "|        118|        Guy|     Himuro| GHIMURO|515.127.4565|15-NOV-06|  PU_CLERK|  2600|            - |       114|           30|\n",
      "|        110|       John|       Chen|   JCHEN|515.124.4269|28-SEP-05|FI_ACCOUNT|  8200|            - |       108|          100|\n",
      "|        123|     Shanta|    Vollman|SVOLLMAN|650.123.4234|10-OCT-05|    ST_MAN|  6500|            - |       100|           50|\n",
      "|        124|      Kevin|    Mourgos|KMOURGOS|650.123.5234|16-NOV-07|    ST_MAN|  5800|            - |       100|           50|\n",
      "|        137|     Renske|     Ladwig| RLADWIG|650.121.1234|14-JUL-03|  ST_CLERK|  3600|            - |       123|           50|\n",
      "|        132|         TJ|      Olson| TJOLSON|650.124.8234|10-APR-07|  ST_CLERK|  2100|            - |       121|           50|\n",
      "|        113|       Luis|       Popp|   LPOPP|515.124.4567|07-DEC-07|FI_ACCOUNT|  6900|            - |       108|          100|\n",
      "|        139|       John|        Seo|    JSEO|650.121.2019|12-FEB-06|  ST_CLERK|  2700|            - |       123|           50|\n",
      "|        201|    Michael|  Hartstein|MHARTSTE|515.123.5555|17-FEB-04|    MK_MAN| 13000|            - |       100|           20|\n",
      "|        107|      Diana|    Lorentz|DLORENTZ|590.423.5567|07-FEB-07|   IT_PROG|  4200|            - |       103|           60|\n",
      "|        135|         Ki|        Gee|    KGEE|650.127.1734|12-DEC-07|  ST_CLERK|  2400|            - |       122|           50|\n",
      "|        104|      Bruce|      Ernst|  BERNST|590.423.4568|21-MAY-07|   IT_PROG|  6000|            - |       103|           60|\n",
      "|        103|  Alexander|     Hunold| AHUNOLD|590.423.4567|03-JAN-06|   IT_PROG|  9000|            - |       102|           60|\n",
      "|        108|      Nancy|  Greenberg|NGREENBE|515.124.4569|17-AUG-02|    FI_MGR| 12008|            - |       101|          100|\n",
      "|        121|       Adam|      Fripp|  AFRIPP|650.123.2234|10-APR-05|    ST_MAN|  8200|            - |       100|           50|\n",
      "|        100|     Steven|       King|   SKING|515.123.4567|17-JUN-03|   AD_PRES| 24000|            - |        - |           90|\n",
      "|        117|      Sigal|     Tobias| STOBIAS|515.127.4564|24-JUL-05|  PU_CLERK|  2800|            - |       114|           30|\n",
      "|        130|      Mozhe|   Atkinson|MATKINSO|650.124.6234|30-OCT-05|  ST_CLERK|  2800|            - |       121|           50|\n",
      "|        134|    Michael|     Rogers| MROGERS|650.127.1834|26-AUG-06|  ST_CLERK|  2900|            - |       122|           50|\n",
      "|        133|      Jason|     Mallin| JMALLIN|650.127.1934|14-JUN-04|  ST_CLERK|  3300|            - |       122|           50|\n",
      "|        138|    Stephen|     Stiles| SSTILES|650.121.2034|26-OCT-05|  ST_CLERK|  3200|            - |       123|           50|\n",
      "|        105|      David|     Austin| DAUSTIN|590.423.4569|25-JUN-05|   IT_PROG|  4800|            - |       103|           60|\n",
      "|        111|     Ismael|    Sciarra|ISCIARRA|515.124.4369|30-SEP-05|FI_ACCOUNT|  7700|            - |       108|          100|\n",
      "|        116|     Shelli|      Baida|  SBAIDA|515.127.4563|24-DEC-05|  PU_CLERK|  2900|            - |       114|           30|\n",
      "|        204|    Hermann|       Baer|   HBAER|515.123.8888|07-JUN-02|    PR_REP| 10000|            - |       101|           70|\n",
      "|        115|  Alexander|       Khoo|   AKHOO|515.127.4562|18-MAY-03|  PU_CLERK|  3100|            - |       114|           30|\n",
      "|        102|        Lex|    De Haan| LDEHAAN|515.123.4569|13-JAN-01|     AD_VP| 17000|            - |       100|           90|\n",
      "|        114|        Den|   Raphaely|DRAPHEAL|515.127.4561|07-DEC-02|    PU_MAN| 11000|            - |       100|           30|\n",
      "|        206|    William|      Gietz|  WGIETZ|515.123.8181|07-JUN-02|AC_ACCOUNT|  8300|            - |       205|          110|\n",
      "|        205|    Shelley|    Higgins|SHIGGINS|515.123.8080|07-JUN-02|    AC_MGR| 12008|            - |       101|          110|\n",
      "|        119|      Karen| Colmenares|KCOLMENA|515.127.4566|10-AUG-07|  PU_CLERK|  2500|            - |       114|           30|\n",
      "|        106|      Valli|  Pataballa|VPATABAL|590.423.4560|05-FEB-06|   IT_PROG|  4800|            - |       103|           60|\n",
      "|        126|      Irene|Mikkilineni|IMIKKILI|650.124.1224|28-SEP-06|  ST_CLERK|  2700|            - |       120|           50|\n",
      "|        140|     Joshua|      Patel|  JPATEL|650.121.1834|06-APR-06|  ST_CLERK|  2500|            - |       123|           50|\n",
      "|        125|      Julia|      Nayer|  JNAYER|650.124.1214|16-JUL-05|  ST_CLERK|  3200|            - |       120|           50|\n",
      "|        136|      Hazel| Philtanker|HPHILTAN|650.127.1634|06-FEB-08|  ST_CLERK|  2200|            - |       122|           50|\n",
      "|        129|      Laura|     Bissot| LBISSOT|650.124.5234|20-AUG-05|  ST_CLERK|  3300|            - |       121|           50|\n",
      "|        203|      Susan|     Mavris| SMAVRIS|515.123.7777|07-JUN-02|    HR_REP|  6500|            - |       101|           40|\n",
      "|        198|     Donald|   OConnell|DOCONNEL|650.507.9833|21-JUN-07|  SH_CLERK|  2600|            - |       124|           50|\n",
      "|        202|        Pat|        Fay|    PFAY|603.123.6666|17-AUG-05|    MK_REP|  6000|            - |       201|           20|\n",
      "|        200|   Jennifer|     Whalen| JWHALEN|515.123.4444|17-SEP-03|   AD_ASST|  4400|            - |       101|           10|\n",
      "|        109|     Daniel|     Faviet| DFAVIET|515.124.4169|16-AUG-02|FI_ACCOUNT|  9000|            - |       108|          100|\n",
      "|        101|      Neena|    Kochhar|NKOCHHAR|515.123.4568|21-SEP-05|     AD_VP| 17000|            - |       100|           90|\n",
      "|        122|      Payam|   Kaufling|PKAUFLIN|650.123.3234|01-MAY-03|    ST_MAN|  7900|            - |       100|           50|\n",
      "|        199|    Douglas|      Grant|  DGRANT|650.507.9844|13-JAN-08|  SH_CLERK|  2600|            - |       124|           50|\n",
      "|        127|      James|     Landry| JLANDRY|650.124.1334|14-JAN-07|  ST_CLERK|  2400|            - |       120|           50|\n",
      "|        128|     Steven|     Markle| SMARKLE|650.124.1434|08-MAR-08|  ST_CLERK|  2200|            - |       120|           50|\n",
      "|        112|Jose Manuel|      Urman| JMURMAN|515.124.4469|07-MAR-06|FI_ACCOUNT|  7800|            - |       108|          100|\n",
      "|        131|      James|     Marlow| JAMRLOW|650.124.7234|16-FEB-05|  ST_CLERK|  2500|            - |       121|           50|\n",
      "+-----------+-----------+-----------+--------+------------+---------+----------+------+--------------+----------+-------------+\n",
      "\n"
     ]
    }
   ],
   "source": [
    "empDf.dropDuplicates().show(100)"
   ]
  },
  {
   "cell_type": "code",
   "execution_count": 7,
   "id": "f892f854",
   "metadata": {
    "scrolled": false
   },
   "outputs": [
    {
     "name": "stdout",
     "output_type": "stream",
     "text": [
      "+-----------+-----------+-----------+--------+------------+---------+----------+------+--------------+----------+-------------+\n",
      "|EMPLOYEE_ID| FIRST_NAME|  LAST_NAME|   EMAIL|PHONE_NUMBER|HIRE_DATE|    JOB_ID|SALARY|COMMISSION_PCT|MANAGER_ID|DEPARTMENT_ID|\n",
      "+-----------+-----------+-----------+--------+------------+---------+----------+------+--------------+----------+-------------+\n",
      "|        200|   Jennifer|     Whalen| JWHALEN|515.123.4444|17-SEP-03|   AD_ASST|  4400|            - |       101|           10|\n",
      "|        202|        Pat|        Fay|    PFAY|603.123.6666|17-AUG-05|    MK_REP|  6000|            - |       201|           20|\n",
      "|        201|    Michael|  Hartstein|MHARTSTE|515.123.5555|17-FEB-04|    MK_MAN| 13000|            - |       100|           20|\n",
      "|        114|        Den|   Raphaely|DRAPHEAL|515.127.4561|07-DEC-02|    PU_MAN| 11000|            - |       100|           30|\n",
      "|        119|      Karen| Colmenares|KCOLMENA|515.127.4566|10-AUG-07|  PU_CLERK|  2500|            - |       114|           30|\n",
      "|        118|        Guy|     Himuro| GHIMURO|515.127.4565|15-NOV-06|  PU_CLERK|  2600|            - |       114|           30|\n",
      "|        115|  Alexander|       Khoo|   AKHOO|515.127.4562|18-MAY-03|  PU_CLERK|  3100|            - |       114|           30|\n",
      "|        116|     Shelli|      Baida|  SBAIDA|515.127.4563|24-DEC-05|  PU_CLERK|  2900|            - |       114|           30|\n",
      "|        117|      Sigal|     Tobias| STOBIAS|515.127.4564|24-JUL-05|  PU_CLERK|  2800|            - |       114|           30|\n",
      "|        203|      Susan|     Mavris| SMAVRIS|515.123.7777|07-JUN-02|    HR_REP|  6500|            - |       101|           40|\n",
      "|        122|      Payam|   Kaufling|PKAUFLIN|650.123.3234|01-MAY-03|    ST_MAN|  7900|            - |       100|           50|\n",
      "|        140|     Joshua|      Patel|  JPATEL|650.121.1834|06-APR-06|  ST_CLERK|  2500|            - |       123|           50|\n",
      "|        136|      Hazel| Philtanker|HPHILTAN|650.127.1634|06-FEB-08|  ST_CLERK|  2200|            - |       122|           50|\n",
      "|        128|     Steven|     Markle| SMARKLE|650.124.1434|08-MAR-08|  ST_CLERK|  2200|            - |       120|           50|\n",
      "|        121|       Adam|      Fripp|  AFRIPP|650.123.2234|10-APR-05|    ST_MAN|  8200|            - |       100|           50|\n",
      "|        132|         TJ|      Olson| TJOLSON|650.124.8234|10-APR-07|  ST_CLERK|  2100|            - |       121|           50|\n",
      "|        123|     Shanta|    Vollman|SVOLLMAN|650.123.4234|10-OCT-05|    ST_MAN|  6500|            - |       100|           50|\n",
      "|        135|         Ki|        Gee|    KGEE|650.127.1734|12-DEC-07|  ST_CLERK|  2400|            - |       122|           50|\n",
      "|        139|       John|        Seo|    JSEO|650.121.2019|12-FEB-06|  ST_CLERK|  2700|            - |       123|           50|\n",
      "|        199|    Douglas|      Grant|  DGRANT|650.507.9844|13-JAN-08|  SH_CLERK|  2600|            - |       124|           50|\n",
      "|        127|      James|     Landry| JLANDRY|650.124.1334|14-JAN-07|  ST_CLERK|  2400|            - |       120|           50|\n",
      "|        137|     Renske|     Ladwig| RLADWIG|650.121.1234|14-JUL-03|  ST_CLERK|  3600|            - |       123|           50|\n",
      "|        133|      Jason|     Mallin| JMALLIN|650.127.1934|14-JUN-04|  ST_CLERK|  3300|            - |       122|           50|\n",
      "|        131|      James|     Marlow| JAMRLOW|650.124.7234|16-FEB-05|  ST_CLERK|  2500|            - |       121|           50|\n",
      "|        125|      Julia|      Nayer|  JNAYER|650.124.1214|16-JUL-05|  ST_CLERK|  3200|            - |       120|           50|\n",
      "|        124|      Kevin|    Mourgos|KMOURGOS|650.123.5234|16-NOV-07|    ST_MAN|  5800|            - |       100|           50|\n",
      "|        120|    Matthew|      Weiss|  MWEISS|650.123.1234|18-JUL-04|    ST_MAN|  8000|            - |       100|           50|\n",
      "|        129|      Laura|     Bissot| LBISSOT|650.124.5234|20-AUG-05|  ST_CLERK|  3300|            - |       121|           50|\n",
      "|        198|     Donald|   OConnell|DOCONNEL|650.507.9833|21-JUN-07|  SH_CLERK|  2600|            - |       124|           50|\n",
      "|        134|    Michael|     Rogers| MROGERS|650.127.1834|26-AUG-06|  ST_CLERK|  2900|            - |       122|           50|\n",
      "|        138|    Stephen|     Stiles| SSTILES|650.121.2034|26-OCT-05|  ST_CLERK|  3200|            - |       123|           50|\n",
      "|        126|      Irene|Mikkilineni|IMIKKILI|650.124.1224|28-SEP-06|  ST_CLERK|  2700|            - |       120|           50|\n",
      "|        130|      Mozhe|   Atkinson|MATKINSO|650.124.6234|30-OCT-05|  ST_CLERK|  2800|            - |       121|           50|\n",
      "|        103|  Alexander|     Hunold| AHUNOLD|590.423.4567|03-JAN-06|   IT_PROG|  9000|            - |       102|           60|\n",
      "|        106|      Valli|  Pataballa|VPATABAL|590.423.4560|05-FEB-06|   IT_PROG|  4800|            - |       103|           60|\n",
      "|        107|      Diana|    Lorentz|DLORENTZ|590.423.5567|07-FEB-07|   IT_PROG|  4200|            - |       103|           60|\n",
      "|        104|      Bruce|      Ernst|  BERNST|590.423.4568|21-MAY-07|   IT_PROG|  6000|            - |       103|           60|\n",
      "|        105|      David|     Austin| DAUSTIN|590.423.4569|25-JUN-05|   IT_PROG|  4800|            - |       103|           60|\n",
      "|        204|    Hermann|       Baer|   HBAER|515.123.8888|07-JUN-02|    PR_REP| 10000|            - |       101|           70|\n",
      "|        102|        Lex|    De Haan| LDEHAAN|515.123.4569|13-JAN-01|     AD_VP| 17000|            - |       100|           90|\n",
      "|        100|     Steven|       King|   SKING|515.123.4567|17-JUN-03|   AD_PRES| 24000|            - |        - |           90|\n",
      "|        101|      Neena|    Kochhar|NKOCHHAR|515.123.4568|21-SEP-05|     AD_VP| 17000|            - |       100|           90|\n",
      "|        113|       Luis|       Popp|   LPOPP|515.124.4567|07-DEC-07|FI_ACCOUNT|  6900|            - |       108|          100|\n",
      "|        112|Jose Manuel|      Urman| JMURMAN|515.124.4469|07-MAR-06|FI_ACCOUNT|  7800|            - |       108|          100|\n",
      "|        109|     Daniel|     Faviet| DFAVIET|515.124.4169|16-AUG-02|FI_ACCOUNT|  9000|            - |       108|          100|\n",
      "|        108|      Nancy|  Greenberg|NGREENBE|515.124.4569|17-AUG-02|    FI_MGR| 12008|            - |       101|          100|\n",
      "|        110|       John|       Chen|   JCHEN|515.124.4269|28-SEP-05|FI_ACCOUNT|  8200|            - |       108|          100|\n",
      "|        111|     Ismael|    Sciarra|ISCIARRA|515.124.4369|30-SEP-05|FI_ACCOUNT|  7700|            - |       108|          100|\n",
      "|        205|    Shelley|    Higgins|SHIGGINS|515.123.8080|07-JUN-02|    AC_MGR| 12008|            - |       101|          110|\n",
      "+-----------+-----------+-----------+--------+------------+---------+----------+------+--------------+----------+-------------+\n",
      "\n"
     ]
    }
   ],
   "source": [
    "empDf.dropDuplicates([\"DEPARTMENT_ID\", \"HIRE_DATE\"]).show(100)"
   ]
  },
  {
   "cell_type": "code",
   "execution_count": 8,
   "id": "ddc4bf64",
   "metadata": {},
   "outputs": [
    {
     "name": "stdout",
     "output_type": "stream",
     "text": [
      "+-----------+---------+-------------+\n",
      "|EMPLOYEE_ID|HIRE_DATE|DEPARTMENT_ID|\n",
      "+-----------+---------+-------------+\n",
      "|        123|10-OCT-05|           50|\n",
      "|        101|21-SEP-05|           90|\n",
      "|        107|07-FEB-07|           60|\n",
      "|        108|17-AUG-02|          100|\n",
      "|        124|16-NOV-07|           50|\n",
      "|        102|13-JAN-01|           90|\n",
      "|        120|18-JUL-04|           50|\n",
      "|        204|07-JUN-02|           70|\n",
      "|        134|26-AUG-06|           50|\n",
      "|        201|17-FEB-04|           20|\n",
      "|        113|07-DEC-07|          100|\n",
      "|        119|10-AUG-07|           30|\n",
      "|        139|12-FEB-06|           50|\n",
      "|        202|17-AUG-05|           20|\n",
      "|        126|28-SEP-06|           50|\n",
      "|        135|12-DEC-07|           50|\n",
      "|        104|21-MAY-07|           60|\n",
      "|        106|05-FEB-06|           60|\n",
      "|        100|17-JUN-03|           90|\n",
      "|        132|10-APR-07|           50|\n",
      "|        137|14-JUL-03|           50|\n",
      "|        121|10-APR-05|           50|\n",
      "|        122|01-MAY-03|           50|\n",
      "|        131|16-FEB-05|           50|\n",
      "|        198|21-JUN-07|           50|\n",
      "|        105|25-JUN-05|           60|\n",
      "|        116|24-DEC-05|           30|\n",
      "|        111|30-SEP-05|          100|\n",
      "|        200|17-SEP-03|           10|\n",
      "|        203|07-JUN-02|           40|\n",
      "|        129|20-AUG-05|           50|\n",
      "|        140|06-APR-06|           50|\n",
      "|        130|30-OCT-05|           50|\n",
      "|        115|18-MAY-03|           30|\n",
      "|        103|03-JAN-06|           60|\n",
      "|        136|06-FEB-08|           50|\n",
      "|        138|26-OCT-05|           50|\n",
      "|        205|07-JUN-02|          110|\n",
      "|        114|07-DEC-02|           30|\n",
      "|        112|07-MAR-06|          100|\n",
      "|        125|16-JUL-05|           50|\n",
      "|        199|13-JAN-08|           50|\n",
      "|        118|15-NOV-06|           30|\n",
      "|        128|08-MAR-08|           50|\n",
      "|        109|16-AUG-02|          100|\n",
      "|        133|14-JUN-04|           50|\n",
      "|        117|24-JUL-05|           30|\n",
      "|        110|28-SEP-05|          100|\n",
      "|        127|14-JAN-07|           50|\n",
      "+-----------+---------+-------------+\n",
      "\n"
     ]
    }
   ],
   "source": [
    "empDf.dropDuplicates([\"DEPARTMENT_ID\", \"HIRE_DATE\"]).select(\"EMPLOYEE_ID\",\"HIRE_DATE\",\"DEPARTMENT_ID\").show(100)"
   ]
  },
  {
   "cell_type": "code",
   "execution_count": 9,
   "id": "5eab5298",
   "metadata": {},
   "outputs": [
    {
     "name": "stdout",
     "output_type": "stream",
     "text": [
      "+-----------+---------+-------------+\n",
      "|EMPLOYEE_ID|HIRE_DATE|DEPARTMENT_ID|\n",
      "+-----------+---------+-------------+\n",
      "|        123|10-OCT-05|           50|\n",
      "|        101|21-SEP-05|           90|\n",
      "|        107|07-FEB-07|           60|\n",
      "|        108|17-AUG-02|          100|\n",
      "|        124|16-NOV-07|           50|\n",
      "|        102|13-JAN-01|           90|\n",
      "|        120|18-JUL-04|           50|\n",
      "|        204|07-JUN-02|           70|\n",
      "|        134|26-AUG-06|           50|\n",
      "|        201|17-FEB-04|           20|\n",
      "|        113|07-DEC-07|          100|\n",
      "|        119|10-AUG-07|           30|\n",
      "|        139|12-FEB-06|           50|\n",
      "|        202|17-AUG-05|           20|\n",
      "|        126|28-SEP-06|           50|\n",
      "|        135|12-DEC-07|           50|\n",
      "|        104|21-MAY-07|           60|\n",
      "|        106|05-FEB-06|           60|\n",
      "|        100|17-JUN-03|           90|\n",
      "|        132|10-APR-07|           50|\n",
      "|        137|14-JUL-03|           50|\n",
      "|        121|10-APR-05|           50|\n",
      "|        122|01-MAY-03|           50|\n",
      "|        131|16-FEB-05|           50|\n",
      "|        198|21-JUN-07|           50|\n",
      "|        105|25-JUN-05|           60|\n",
      "|        116|24-DEC-05|           30|\n",
      "|        111|30-SEP-05|          100|\n",
      "|        200|17-SEP-03|           10|\n",
      "|        203|07-JUN-02|           40|\n",
      "|        129|20-AUG-05|           50|\n",
      "|        140|06-APR-06|           50|\n",
      "|        130|30-OCT-05|           50|\n",
      "|        115|18-MAY-03|           30|\n",
      "|        103|03-JAN-06|           60|\n",
      "|        136|06-FEB-08|           50|\n",
      "|        138|26-OCT-05|           50|\n",
      "|        205|07-JUN-02|          110|\n",
      "|        114|07-DEC-02|           30|\n",
      "|        112|07-MAR-06|          100|\n",
      "|        125|16-JUL-05|           50|\n",
      "|        199|13-JAN-08|           50|\n",
      "|        118|15-NOV-06|           30|\n",
      "|        128|08-MAR-08|           50|\n",
      "|        109|16-AUG-02|          100|\n",
      "|        133|14-JUN-04|           50|\n",
      "|        117|24-JUL-05|           30|\n",
      "|        110|28-SEP-05|          100|\n",
      "|        127|14-JAN-07|           50|\n",
      "+-----------+---------+-------------+\n",
      "\n"
     ]
    }
   ],
   "source": [
    "empDf.dropDuplicates([\"DEPARTMENT_ID\", \"HIRE_DATE\"]).select(\"EMPLOYEE_ID\",\"HIRE_DATE\",\"DEPARTMENT_ID\").show(100)"
   ]
  },
  {
   "cell_type": "code",
   "execution_count": null,
   "id": "f819a56b",
   "metadata": {},
   "outputs": [],
   "source": []
  }
 ],
 "metadata": {
  "kernelspec": {
   "display_name": "Python 3 (ipykernel)",
   "language": "python",
   "name": "python3"
  },
  "language_info": {
   "codemirror_mode": {
    "name": "ipython",
    "version": 3
   },
   "file_extension": ".py",
   "mimetype": "text/x-python",
   "name": "python",
   "nbconvert_exporter": "python",
   "pygments_lexer": "ipython3",
   "version": "3.8.10"
  }
 },
 "nbformat": 4,
 "nbformat_minor": 5
}
