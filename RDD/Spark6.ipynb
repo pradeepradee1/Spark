{
 "cells": [
  {
   "cell_type": "code",
   "execution_count": 1,
   "id": "d76e98a1",
   "metadata": {},
   "outputs": [],
   "source": [
    "from pyspark.sql import SparkSession\n",
    "from pyspark.sql.types import StructType,StructField,StringType,IntegerType"
   ]
  },
  {
   "cell_type": "code",
   "execution_count": 2,
   "id": "6533da35",
   "metadata": {},
   "outputs": [
    {
     "name": "stdout",
     "output_type": "stream",
     "text": [
      "23/04/04 21:14:08 WARN Utils: Your hostname, ZSCHN01LP0253L resolves to a loopback address: 127.0.1.1; using 192.168.1.5 instead (on interface wlp0s20f3)\n",
      "23/04/04 21:14:08 WARN Utils: Set SPARK_LOCAL_IP if you need to bind to another address\n"
     ]
    },
    {
     "name": "stderr",
     "output_type": "stream",
     "text": [
      "Setting default log level to \"WARN\".\n",
      "To adjust logging level use sc.setLogLevel(newLevel). For SparkR, use setLogLevel(newLevel).\n"
     ]
    },
    {
     "name": "stdout",
     "output_type": "stream",
     "text": [
      "23/04/04 21:14:08 WARN NativeCodeLoader: Unable to load native-hadoop library for your platform... using builtin-java classes where applicable\n",
      "23/04/04 21:14:09 WARN Utils: Service 'SparkUI' could not bind on port 4040. Attempting port 4041.\n",
      "23/04/04 21:14:09 WARN Utils: Service 'SparkUI' could not bind on port 4041. Attempting port 4042.\n",
      "23/04/04 21:14:09 WARN Utils: Service 'SparkUI' could not bind on port 4042. Attempting port 4043.\n",
      "23/04/04 21:14:09 WARN Utils: Service 'SparkUI' could not bind on port 4043. Attempting port 4044.\n",
      "23/04/04 21:14:09 WARN Utils: Service 'SparkUI' could not bind on port 4044. Attempting port 4045.\n"
     ]
    },
    {
     "data": {
      "text/html": [
       "\n",
       "            <div>\n",
       "                <p><b>SparkSession - in-memory</b></p>\n",
       "                \n",
       "        <div>\n",
       "            <p><b>SparkContext</b></p>\n",
       "\n",
       "            <p><a href=\"http://192.168.1.5:4045\">Spark UI</a></p>\n",
       "\n",
       "            <dl>\n",
       "              <dt>Version</dt>\n",
       "                <dd><code>v3.3.2</code></dd>\n",
       "              <dt>Master</dt>\n",
       "                <dd><code>local[*]</code></dd>\n",
       "              <dt>AppName</dt>\n",
       "                <dd><code>Demo</code></dd>\n",
       "            </dl>\n",
       "        </div>\n",
       "        \n",
       "            </div>\n",
       "        "
      ],
      "text/plain": [
       "<pyspark.sql.session.SparkSession at 0x7fd8108298b0>"
      ]
     },
     "execution_count": 2,
     "metadata": {},
     "output_type": "execute_result"
    }
   ],
   "source": [
    "spark = SparkSession.builder.master(\"local[*]\").appName(\"Demo\").getOrCreate()\n",
    "spark"
   ]
  },
  {
   "cell_type": "code",
   "execution_count": 3,
   "id": "77dec100",
   "metadata": {},
   "outputs": [
    {
     "name": "stdout",
     "output_type": "stream",
     "text": [
      "+-----------+----------+---------+--------+------------+---------+--------+------+--------------+----------+-------------+\n",
      "|EMPLOYEE_ID|FIRST_NAME|LAST_NAME|   EMAIL|PHONE_NUMBER|HIRE_DATE|  JOB_ID|SALARY|COMMISSION_PCT|MANAGER_ID|DEPARTMENT_ID|\n",
      "+-----------+----------+---------+--------+------------+---------+--------+------+--------------+----------+-------------+\n",
      "|        198|    Donald| OConnell|DOCONNEL|650.507.9833|21-JUN-07|SH_CLERK|  2600|            - |       124|           50|\n",
      "+-----------+----------+---------+--------+------------+---------+--------+------+--------------+----------+-------------+\n",
      "only showing top 1 row\n",
      "\n"
     ]
    }
   ],
   "source": [
    "empDf = spark.read.option(\"header\",True).option(\"infrechema\",True).csv(\"../../Spark-main/employees.csv\")\n",
    "empDf.show(1)"
   ]
  },
  {
   "cell_type": "code",
   "execution_count": 4,
   "id": "ba55da3c",
   "metadata": {},
   "outputs": [
    {
     "name": "stdout",
     "output_type": "stream",
     "text": [
      "+-------------+---------------+----------+-----------+\n",
      "|DEPARTMENT_ID|DEPARTMENT_NAME|MANAGER_ID|LOCATION_ID|\n",
      "+-------------+---------------+----------+-----------+\n",
      "|           10| Administration|       200|       1700|\n",
      "+-------------+---------------+----------+-----------+\n",
      "only showing top 1 row\n",
      "\n"
     ]
    }
   ],
   "source": [
    "deptDf = spark.read.option(\"header\",True).option(\"infrechema\",True).csv(\"../../Spark-main/departments.csv\")\n",
    "deptDf.show(1)"
   ]
  },
  {
   "cell_type": "code",
   "execution_count": 5,
   "id": "541cab45",
   "metadata": {},
   "outputs": [],
   "source": [
    "from pyspark.sql.functions import *"
   ]
  },
  {
   "cell_type": "code",
   "execution_count": 6,
   "id": "69e49754",
   "metadata": {},
   "outputs": [],
   "source": [
    "spark.conf.set(\"spark.sql.autoBroadcastJoinThreshold\", 104857600)\n",
    "#The Value is in Bytes"
   ]
  },
  {
   "cell_type": "code",
   "execution_count": 8,
   "id": "d94c015a",
   "metadata": {},
   "outputs": [
    {
     "name": "stdout",
     "output_type": "stream",
     "text": [
      "+-----------+-------------+---------------+\n",
      "|EMPLOYEE_ID|DEPARTMENT_ID|DEPARTMENT_NAME|\n",
      "+-----------+-------------+---------------+\n",
      "|        198|           50|       Shipping|\n",
      "+-----------+-------------+---------------+\n",
      "only showing top 1 row\n",
      "\n"
     ]
    }
   ],
   "source": [
    "resultDf=empDf.join(broadcast(deptDf), empDf.DEPARTMENT_ID == deptDf.DEPARTMENT_ID, \"inner\").select(empDf.EMPLOYEE_ID, empDf.DEPARTMENT_ID, deptDf.DEPARTMENT_NAME)\n",
    "resultDf.show(1)"
   ]
  },
  {
   "cell_type": "code",
   "execution_count": 9,
   "id": "fd5cd0b4",
   "metadata": {},
   "outputs": [],
   "source": [
    "resultDf.write.option(\"header\",True).csv(\"/tmp/result1\")"
   ]
  },
  {
   "cell_type": "code",
   "execution_count": 11,
   "id": "f554fd5a",
   "metadata": {},
   "outputs": [],
   "source": [
    "resultDf.write.mode(\"overwrite\").option(\"header\",True).csv(\"/tmp/result1\")"
   ]
  },
  {
   "cell_type": "code",
   "execution_count": 12,
   "id": "e1d8fc8c",
   "metadata": {},
   "outputs": [],
   "source": [
    "resultDf.write.mode(\"overwrite\").option(\"header\",True).option(\"delimiter\",\"|\").csv(\"/tmp/result1\")"
   ]
  },
  {
   "cell_type": "code",
   "execution_count": 35,
   "id": "0eb56b3c",
   "metadata": {},
   "outputs": [],
   "source": [
    "resultDf.write.mode(\"overwrite\").option(\"header\",True).format(\"csv\").save(\"/tmp/result1\")"
   ]
  },
  {
   "cell_type": "code",
   "execution_count": 36,
   "id": "67f77f0f",
   "metadata": {},
   "outputs": [],
   "source": [
    "resultDf.write.mode(\"append\").option(\"header\",True).format(\"csv\").save(\"/tmp/result1\")"
   ]
  },
  {
   "cell_type": "code",
   "execution_count": 38,
   "id": "792ae6ce",
   "metadata": {},
   "outputs": [],
   "source": [
    "resultDf.write.mode(\"overwrite\").partitionBy(\"DEPARTMENT_NAME\").option(\"header\",True).format(\"csv\").save(\"/tmp/result1\")"
   ]
  },
  {
   "cell_type": "code",
   "execution_count": null,
   "id": "aeea7bfa",
   "metadata": {},
   "outputs": [],
   "source": []
  },
  {
   "cell_type": "code",
   "execution_count": 39,
   "id": "b25aa7a5",
   "metadata": {},
   "outputs": [
    {
     "data": {
      "text/plain": [
       "1"
      ]
     },
     "execution_count": 39,
     "metadata": {},
     "output_type": "execute_result"
    }
   ],
   "source": [
    "empDf.rdd.getNumPartitions()"
   ]
  },
  {
   "cell_type": "code",
   "execution_count": 40,
   "id": "292792ca",
   "metadata": {},
   "outputs": [
    {
     "data": {
      "text/plain": [
       "1"
      ]
     },
     "execution_count": 40,
     "metadata": {},
     "output_type": "execute_result"
    }
   ],
   "source": [
    "deptDf.rdd.getNumPartitions()"
   ]
  },
  {
   "cell_type": "code",
   "execution_count": 41,
   "id": "ac83613b",
   "metadata": {},
   "outputs": [
    {
     "data": {
      "text/plain": [
       "1"
      ]
     },
     "execution_count": 41,
     "metadata": {},
     "output_type": "execute_result"
    }
   ],
   "source": [
    "resultDf.rdd.getNumPartitions()"
   ]
  },
  {
   "cell_type": "code",
   "execution_count": 42,
   "id": "fb6dd41e",
   "metadata": {},
   "outputs": [
    {
     "data": {
      "text/plain": [
       "DataFrame[EMPLOYEE_ID: string, DEPARTMENT_ID: string, DEPARTMENT_NAME: string]"
      ]
     },
     "execution_count": 42,
     "metadata": {},
     "output_type": "execute_result"
    }
   ],
   "source": [
    "resultDf.repartition(10)"
   ]
  },
  {
   "cell_type": "code",
   "execution_count": 43,
   "id": "3820bc3d",
   "metadata": {},
   "outputs": [
    {
     "data": {
      "text/plain": [
       "1"
      ]
     },
     "execution_count": 43,
     "metadata": {},
     "output_type": "execute_result"
    }
   ],
   "source": [
    "resultDf.rdd.getNumPartitions()"
   ]
  },
  {
   "cell_type": "code",
   "execution_count": 44,
   "id": "6d26ae39",
   "metadata": {},
   "outputs": [
    {
     "data": {
      "text/plain": [
       "10"
      ]
     },
     "execution_count": 44,
     "metadata": {},
     "output_type": "execute_result"
    }
   ],
   "source": [
    "newDf = resultDf.repartition(10)\n",
    "newDf.rdd.getNumPartitions()"
   ]
  },
  {
   "cell_type": "code",
   "execution_count": 45,
   "id": "287656aa",
   "metadata": {},
   "outputs": [],
   "source": [
    "df1 = newDf.repartition(2)"
   ]
  },
  {
   "cell_type": "code",
   "execution_count": 46,
   "id": "24fab1bd",
   "metadata": {},
   "outputs": [
    {
     "data": {
      "text/plain": [
       "2"
      ]
     },
     "execution_count": 46,
     "metadata": {},
     "output_type": "execute_result"
    }
   ],
   "source": [
    "df1.rdd.getNumPartitions()"
   ]
  },
  {
   "cell_type": "code",
   "execution_count": 47,
   "id": "cc5ec77b",
   "metadata": {},
   "outputs": [
    {
     "data": {
      "text/plain": [
       "10"
      ]
     },
     "execution_count": 47,
     "metadata": {},
     "output_type": "execute_result"
    }
   ],
   "source": [
    "newDf.rdd.getNumPartitions()"
   ]
  },
  {
   "cell_type": "code",
   "execution_count": 49,
   "id": "0279edb1",
   "metadata": {},
   "outputs": [
    {
     "data": {
      "text/plain": [
       "10"
      ]
     },
     "execution_count": 49,
     "metadata": {},
     "output_type": "execute_result"
    }
   ],
   "source": [
    "df2 = newDf.coalesce(20)\n",
    "df2.rdd.getNumPartitions()"
   ]
  },
  {
   "cell_type": "code",
   "execution_count": 50,
   "id": "247ddbed",
   "metadata": {},
   "outputs": [
    {
     "data": {
      "text/plain": [
       "5"
      ]
     },
     "execution_count": 50,
     "metadata": {},
     "output_type": "execute_result"
    }
   ],
   "source": [
    "df3 = newDf.coalesce(5)\n",
    "df3.rdd.getNumPartitions()"
   ]
  },
  {
   "cell_type": "code",
   "execution_count": 52,
   "id": "4a2e43d3",
   "metadata": {},
   "outputs": [],
   "source": [
    "resultDf.coalesce(1).write.mode(\"overwrite\").option(\"header\",True).format(\"csv\").save(\"/tmp/result\")"
   ]
  },
  {
   "cell_type": "code",
   "execution_count": 54,
   "id": "528b9f4f",
   "metadata": {},
   "outputs": [
    {
     "name": "stdout",
     "output_type": "stream",
     "text": [
      "+------------+----+-----+-------+\n",
      "|      Array1|Num1|Text1|  Text2|\n",
      "+------------+----+-----+-------+\n",
      "|   [7, 8, 9]| 5.0|Hello|GoodBye|\n",
      "|[70, 88, 91]| 6.5| This|   That|\n",
      "|   [1, 2, 3]| 2.0|  Yes|     No|\n",
      "+------------+----+-----+-------+\n",
      "\n"
     ]
    }
   ],
   "source": [
    "jsonDf = spark.read.json(\"Spark-main/jsonexample.json\")\n",
    "jsonDf.show()"
   ]
  },
  {
   "cell_type": "code",
   "execution_count": 55,
   "id": "c653e091",
   "metadata": {},
   "outputs": [
    {
     "name": "stdout",
     "output_type": "stream",
     "text": [
      "root\n",
      " |-- Array1: array (nullable = true)\n",
      " |    |-- element: long (containsNull = true)\n",
      " |-- Num1: double (nullable = true)\n",
      " |-- Text1: string (nullable = true)\n",
      " |-- Text2: string (nullable = true)\n",
      "\n"
     ]
    }
   ],
   "source": [
    "jsonDf.printSchema()"
   ]
  },
  {
   "cell_type": "code",
   "execution_count": 56,
   "id": "f2fdb42f",
   "metadata": {},
   "outputs": [
    {
     "name": "stdout",
     "output_type": "stream",
     "text": [
      "+-----+------------+\n",
      "|Text1|      Array1|\n",
      "+-----+------------+\n",
      "|Hello|   [7, 8, 9]|\n",
      "| This|[70, 88, 91]|\n",
      "|  Yes|   [1, 2, 3]|\n",
      "+-----+------------+\n",
      "\n"
     ]
    }
   ],
   "source": [
    "jsonDf.select(jsonDf.Text1, jsonDf.Array1).show()"
   ]
  },
  {
   "cell_type": "code",
   "execution_count": 57,
   "id": "3957cc27",
   "metadata": {},
   "outputs": [
    {
     "name": "stdout",
     "output_type": "stream",
     "text": [
      "+-----+---------+\n",
      "|Text1|Array1[2]|\n",
      "+-----+---------+\n",
      "|Hello|        9|\n",
      "| This|       91|\n",
      "|  Yes|        3|\n",
      "+-----+---------+\n",
      "\n"
     ]
    }
   ],
   "source": [
    "jsonDf.select(jsonDf.Text1, jsonDf.Array1[2]).show()"
   ]
  },
  {
   "cell_type": "code",
   "execution_count": 58,
   "id": "7237fd18",
   "metadata": {},
   "outputs": [
    {
     "name": "stdout",
     "output_type": "stream",
     "text": [
      "+-----+---+\n",
      "|Text1|col|\n",
      "+-----+---+\n",
      "|Hello|  7|\n",
      "|Hello|  8|\n",
      "|Hello|  9|\n",
      "| This| 70|\n",
      "| This| 88|\n",
      "| This| 91|\n",
      "|  Yes|  1|\n",
      "|  Yes|  2|\n",
      "|  Yes|  3|\n",
      "+-----+---+\n",
      "\n"
     ]
    }
   ],
   "source": [
    "jsonDf.select(jsonDf.Text1, explode(jsonDf.Array1)).show()"
   ]
  },
  {
   "cell_type": "code",
   "execution_count": null,
   "id": "8352a492",
   "metadata": {},
   "outputs": [],
   "source": []
  }
 ],
 "metadata": {
  "kernelspec": {
   "display_name": "Python 3 (ipykernel)",
   "language": "python",
   "name": "python3"
  },
  "language_info": {
   "codemirror_mode": {
    "name": "ipython",
    "version": 3
   },
   "file_extension": ".py",
   "mimetype": "text/x-python",
   "name": "python",
   "nbconvert_exporter": "python",
   "pygments_lexer": "ipython3",
   "version": "3.8.10"
  }
 },
 "nbformat": 4,
 "nbformat_minor": 5
}
