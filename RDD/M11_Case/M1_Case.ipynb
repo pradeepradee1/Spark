{
 "cells": [
  {
   "cell_type": "code",
   "execution_count": 2,
   "id": "7742e005",
   "metadata": {},
   "outputs": [],
   "source": [
    "from pyspark.sql import SparkSession\n",
    "from pyspark.sql.types import StructType,StructField,StringType,IntegerType"
   ]
  },
  {
   "cell_type": "code",
   "execution_count": 3,
   "id": "2f54f4e4",
   "metadata": {},
   "outputs": [
    {
     "name": "stdout",
     "output_type": "stream",
     "text": [
      "23/04/04 12:37:15 WARN Utils: Your hostname, ZSCHN01LP0253L resolves to a loopback address: 127.0.1.1; using 192.168.1.5 instead (on interface wlp0s20f3)\n",
      "23/04/04 12:37:15 WARN Utils: Set SPARK_LOCAL_IP if you need to bind to another address\n"
     ]
    },
    {
     "name": "stderr",
     "output_type": "stream",
     "text": [
      "Setting default log level to \"WARN\".\n",
      "To adjust logging level use sc.setLogLevel(newLevel). For SparkR, use setLogLevel(newLevel).\n"
     ]
    },
    {
     "name": "stdout",
     "output_type": "stream",
     "text": [
      "23/04/04 12:37:15 WARN NativeCodeLoader: Unable to load native-hadoop library for your platform... using builtin-java classes where applicable\n",
      "23/04/04 12:37:16 WARN Utils: Service 'SparkUI' could not bind on port 4040. Attempting port 4041.\n",
      "23/04/04 12:37:16 WARN Utils: Service 'SparkUI' could not bind on port 4041. Attempting port 4042.\n"
     ]
    },
    {
     "data": {
      "text/html": [
       "\n",
       "            <div>\n",
       "                <p><b>SparkSession - in-memory</b></p>\n",
       "                \n",
       "        <div>\n",
       "            <p><b>SparkContext</b></p>\n",
       "\n",
       "            <p><a href=\"http://192.168.1.5:4042\">Spark UI</a></p>\n",
       "\n",
       "            <dl>\n",
       "              <dt>Version</dt>\n",
       "                <dd><code>v3.3.2</code></dd>\n",
       "              <dt>Master</dt>\n",
       "                <dd><code>local[*]</code></dd>\n",
       "              <dt>AppName</dt>\n",
       "                <dd><code>demo</code></dd>\n",
       "            </dl>\n",
       "        </div>\n",
       "        \n",
       "            </div>\n",
       "        "
      ],
      "text/plain": [
       "<pyspark.sql.session.SparkSession at 0x7effba1590d0>"
      ]
     },
     "execution_count": 3,
     "metadata": {},
     "output_type": "execute_result"
    }
   ],
   "source": [
    "#Creating Spark Session (It will executed in the Local Not in the Master Node)\n",
    "spark=SparkSession.builder.master(\"local[*]\").appName(\"demo\").getOrCreate()\n",
    "spark"
   ]
  },
  {
   "cell_type": "code",
   "execution_count": 5,
   "id": "ebb1d892",
   "metadata": {},
   "outputs": [
    {
     "name": "stdout",
     "output_type": "stream",
     "text": [
      "root\n",
      " |-- EMPLOYEE_ID: integer (nullable = true)\n",
      " |-- FIRST_NAME: string (nullable = true)\n",
      " |-- LAST_NAME: string (nullable = true)\n",
      " |-- EMAIL: string (nullable = true)\n",
      " |-- PHONE_NUMBER: string (nullable = true)\n",
      " |-- HIRE_DATE: string (nullable = true)\n",
      " |-- JOB_ID: string (nullable = true)\n",
      " |-- SALARY: integer (nullable = true)\n",
      " |-- COMMISSION_PCT: string (nullable = true)\n",
      " |-- MANAGER_ID: string (nullable = true)\n",
      " |-- DEPARTMENT_ID: integer (nullable = true)\n",
      "\n"
     ]
    }
   ],
   "source": [
    "empDf = spark.read.option(\"header\",True).option(\"inferSchema\",True).csv(\"../../Spark-main/employees.csv\")\n",
    "empDf.printSchema()"
   ]
  },
  {
   "cell_type": "code",
   "execution_count": 6,
   "id": "20f8a369",
   "metadata": {},
   "outputs": [],
   "source": [
    "from pyspark.sql.functions import *"
   ]
  },
  {
   "cell_type": "markdown",
   "id": "cc5d851f",
   "metadata": {},
   "source": [
    "### Case"
   ]
  },
  {
   "cell_type": "code",
   "execution_count": 7,
   "id": "36b5b3ed",
   "metadata": {},
   "outputs": [
    {
     "name": "stdout",
     "output_type": "stream",
     "text": [
      "+-----------+------+---------+\n",
      "|EMPLOYEE_ID|SALARY|EMP_GRADE|\n",
      "+-----------+------+---------+\n",
      "|        198|  2600|        C|\n",
      "|        199|  2600|        C|\n",
      "|        200|  4400|        C|\n",
      "|        201| 13000|        B|\n",
      "|        202|  6000|        C|\n",
      "|        203|  6500|        C|\n",
      "|        204| 10000|        B|\n",
      "|        205| 12008|        B|\n",
      "|        206|  8300|        C|\n",
      "|        100| 24000|        A|\n",
      "|        101| 17000|        A|\n",
      "|        102| 17000|        A|\n",
      "|        103|  9000|        C|\n",
      "|        104|  6000|        C|\n",
      "|        105|  4800|        C|\n",
      "|        106|  4800|        C|\n",
      "|        107|  4200|        C|\n",
      "|        108| 12008|        B|\n",
      "|        109|  9000|        C|\n",
      "|        110|  8200|        C|\n",
      "|        111|  7700|        C|\n",
      "|        112|  7800|        C|\n",
      "|        113|  6900|        C|\n",
      "|        114| 11000|        B|\n",
      "|        115|  3100|        C|\n",
      "|        116|  2900|        C|\n",
      "|        117|  2800|        C|\n",
      "|        118|  2600|        C|\n",
      "|        119|  2500|        C|\n",
      "|        120|  8000|        C|\n",
      "|        121|  8200|        C|\n",
      "|        122|  7900|        C|\n",
      "|        123|  6500|        C|\n",
      "|        124|  5800|        C|\n",
      "|        125|  3200|        C|\n",
      "|        126|  2700|        C|\n",
      "|        127|  2400|        C|\n",
      "|        128|  2200|        C|\n",
      "|        129|  3300|        C|\n",
      "|        130|  2800|        C|\n",
      "|        131|  2500|        C|\n",
      "|        132|  2100|        C|\n",
      "|        133|  3300|        C|\n",
      "|        134|  2900|        C|\n",
      "|        135|  2400|        C|\n",
      "|        136|  2200|        C|\n",
      "|        137|  3600|        C|\n",
      "|        138|  3200|        C|\n",
      "|        139|  2700|        C|\n",
      "|        140|  2500|        C|\n",
      "+-----------+------+---------+\n",
      "\n"
     ]
    }
   ],
   "source": [
    "df = empDf.withColumn(\"EMP_GRADE\", when( col(\"SALARY\") > 15000 , \"A\").when( (col(\"SALARY\") >= 10000) & ( col(\"SALARY\") < 15000), \"B\").otherwise(\"C\"))\n",
    "df.select(\"EMPLOYEE_ID\", \"SALARY\", \"EMP_GRADE\").show(100)"
   ]
  },
  {
   "cell_type": "code",
   "execution_count": null,
   "id": "6287739d",
   "metadata": {},
   "outputs": [],
   "source": []
  }
 ],
 "metadata": {
  "kernelspec": {
   "display_name": "Python 3 (ipykernel)",
   "language": "python",
   "name": "python3"
  },
  "language_info": {
   "codemirror_mode": {
    "name": "ipython",
    "version": 3
   },
   "file_extension": ".py",
   "mimetype": "text/x-python",
   "name": "python",
   "nbconvert_exporter": "python",
   "pygments_lexer": "ipython3",
   "version": "3.8.10"
  }
 },
 "nbformat": 4,
 "nbformat_minor": 5
}
