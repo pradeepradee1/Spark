{
 "cells": [
  {
   "cell_type": "code",
   "execution_count": 10,
   "id": "44da496d",
   "metadata": {},
   "outputs": [
    {
     "name": "stdout",
     "output_type": "stream",
     "text": [
      "root\n",
      " |-- CUSTOMERID: integer (nullable = true)\n",
      " |-- ACCOUNTNO: long (nullable = true)\n",
      " |-- RATING: integer (nullable = true)\n",
      " |-- CONSTITUTION: string (nullable = true)\n",
      " |-- RISK: string (nullable = true)\n",
      " |-- ACCTTYPE: string (nullable = true)\n",
      " |-- PRODUCT: string (nullable = true)\n",
      " |-- OPENDATE: string (nullable = true)\n",
      " |-- CLOSEDATE: string (nullable = true)\n",
      " |-- EXPIRYDATE: string (nullable = true)\n",
      " |-- DIFF_DAYS: integer (nullable = true)\n",
      " |-- DIFF_MONTHS: integer (nullable = true)\n",
      " |-- STATUS: string (nullable = true)\n",
      " |-- LOCATION: string (nullable = true)\n",
      " |-- NPASTATUS: string (nullable = true)\n",
      " |-- COLLATERAL_TYPE: string (nullable = true)\n",
      " |-- CUSTOMER_SPAN_IN_DAYS: integer (nullable = true)\n",
      " |-- CUSTOMER_SPAN_IN_YEARS: integer (nullable = true)\n",
      " |-- CUSTOMER_SPAN_CATEGORY: string (nullable = true)\n",
      " |-- AGE: integer (nullable = true)\n",
      " |-- AGE_CATEGORY: string (nullable = true)\n",
      " |-- LOAN_CLOSED_IN_DAYS: integer (nullable = true)\n",
      " |-- LOAN_CLOSED_CATEGORY: string (nullable = true)\n",
      " |-- SMA_CATEGORY: string (nullable = true)\n",
      " |-- TOTAL_LOAN_ACC: integer (nullable = true)\n",
      " |-- TOTAL_ACTIVE_LOAN_ACC: integer (nullable = true)\n",
      " |-- TOTAL_CLOSED_LOAN_ACC: integer (nullable = true)\n",
      " |-- PRINCIPAL_AMOUNT: double (nullable = true)\n",
      " |-- INTEREST_RATE: double (nullable = true)\n",
      " |-- PROCESSING_FEE: integer (nullable = true)\n",
      " |-- TOTAL_ACTIVE_LOAN_AMOUNT: integer (nullable = true)\n",
      " |-- TOTAL_CLOSED_LOAN_AMOUNT: integer (nullable = true)\n",
      " |-- TOTAL_LOAN_AMOUNT_PAID: double (nullable = true)\n",
      " |-- TOTAL_BALANCE_YET_TO_PAY: double (nullable = true)\n",
      " |-- TOTAL_COLLATERAL: integer (nullable = true)\n",
      " |-- TOTAL_ACTIVE_COLLATERAL: integer (nullable = true)\n",
      " |-- TOTAL_INACTIVE_COLLATERAL: integer (nullable = true)\n",
      " |-- TOTAL_SECURITY_AMOUNT: double (nullable = true)\n",
      " |-- NO_OF_TIMES_ARREAR_INTEREST_PAID: integer (nullable = true)\n",
      " |-- TOTAL_DEBITED_ARREAR_INTEREST_AMOUNT: integer (nullable = true)\n",
      " |-- NO_OF_PART_PERIOD_INTEREST_PAID: integer (nullable = true)\n",
      " |-- TOTAL_DEBITED_PART_PERIOD_INTEREST_AMOUNT: integer (nullable = true)\n",
      " |-- HIGHESTSMADATE: string (nullable = true)\n",
      " |-- HIGHESTSMASTATUS: string (nullable = true)\n",
      " |-- NOOFTIMESSMA2_SMA0: double (nullable = true)\n",
      " |-- NOOFTIMESSMA2_SMA1: double (nullable = true)\n",
      " |-- COMBINEDSTATUSVALUE: integer (nullable = true)\n",
      " |-- JLLOANSTATUS: integer (nullable = true)\n",
      " |-- OTHERACCSMASTATUS: integer (nullable = true)\n",
      " |-- COMBINEDOTHERLOANTXNSTATUS: integer (nullable = true)\n",
      " |-- SB-M1-BALANCE-mean: double (nullable = true)\n",
      " |-- SB-M10-BALANCE-mean: double (nullable = true)\n",
      " |-- SB-M11-BALANCE-mean: double (nullable = true)\n",
      " |-- SB-M12-BALANCE-mean: double (nullable = true)\n",
      " |-- SB-M13-BALANCE-mean: double (nullable = true)\n",
      " |-- SB-M14-BALANCE-mean: double (nullable = true)\n",
      " |-- SB-M15-BALANCE-mean: double (nullable = true)\n",
      " |-- SB-M16-BALANCE-mean: double (nullable = true)\n",
      " |-- SB-M17-BALANCE-mean: double (nullable = true)\n",
      " |-- SB-M18-BALANCE-mean: double (nullable = true)\n",
      " |-- SB-M19-BALANCE-mean: double (nullable = true)\n",
      " |-- SB-M2-BALANCE-mean: double (nullable = true)\n",
      " |-- SB-M20-BALANCE-mean: double (nullable = true)\n",
      " |-- SB-M21-BALANCE-mean: double (nullable = true)\n",
      " |-- SB-M3-BALANCE-mean: double (nullable = true)\n",
      " |-- SB-M4-BALANCE-mean: double (nullable = true)\n",
      " |-- SB-M5-BALANCE-mean: double (nullable = true)\n",
      " |-- SB-M6-BALANCE-mean: double (nullable = true)\n",
      " |-- SB-M7-BALANCE-mean: double (nullable = true)\n",
      " |-- SB-M8-BALANCE-mean: double (nullable = true)\n",
      " |-- SB-M9-BALANCE-mean: double (nullable = true)\n",
      " |-- M1-BALANCE: double (nullable = true)\n",
      " |-- M10-BALANCE: double (nullable = true)\n",
      " |-- M11-BALANCE: double (nullable = true)\n",
      " |-- M12-BALANCE: double (nullable = true)\n",
      " |-- M13-BALANCE: double (nullable = true)\n",
      " |-- M14-BALANCE: double (nullable = true)\n",
      " |-- M15-BALANCE: double (nullable = true)\n",
      " |-- M16-BALANCE: double (nullable = true)\n",
      " |-- M17-BALANCE: double (nullable = true)\n",
      " |-- M18-BALANCE: double (nullable = true)\n",
      " |-- M19-BALANCE: double (nullable = true)\n",
      " |-- M2-BALANCE: double (nullable = true)\n",
      " |-- M20-BALANCE: double (nullable = true)\n",
      " |-- M21-BALANCE: double (nullable = true)\n",
      " |-- M22-BALANCE: double (nullable = true)\n",
      " |-- M23-BALANCE: double (nullable = true)\n",
      " |-- M24-BALANCE: double (nullable = true)\n",
      " |-- M3-BALANCE: double (nullable = true)\n",
      " |-- M4-BALANCE: double (nullable = true)\n",
      " |-- M5-BALANCE: double (nullable = true)\n",
      " |-- M6-BALANCE: double (nullable = true)\n",
      " |-- M7-BALANCE: double (nullable = true)\n",
      " |-- M8-BALANCE: double (nullable = true)\n",
      " |-- M9-BALANCE: double (nullable = true)\n",
      " |-- M1-CREDIT: double (nullable = true)\n",
      " |-- M10-CREDIT: double (nullable = true)\n",
      " |-- M11-CREDIT: double (nullable = true)\n",
      " |-- M12-CREDIT: double (nullable = true)\n",
      " |-- M13-CREDIT: double (nullable = true)\n",
      " |-- M14-CREDIT: double (nullable = true)\n",
      " |-- M15-CREDIT: double (nullable = true)\n",
      " |-- M16-CREDIT: double (nullable = true)\n",
      " |-- M17-CREDIT: double (nullable = true)\n",
      " |-- M18-CREDIT: double (nullable = true)\n",
      " |-- M19-CREDIT: double (nullable = true)\n",
      " |-- M2-CREDIT: double (nullable = true)\n",
      " |-- M20-CREDIT: double (nullable = true)\n",
      " |-- M21-CREDIT: double (nullable = true)\n",
      " |-- M22-CREDIT: double (nullable = true)\n",
      " |-- M23-CREDIT: double (nullable = true)\n",
      " |-- M24-CREDIT: double (nullable = true)\n",
      " |-- M3-CREDIT: double (nullable = true)\n",
      " |-- M4-CREDIT: double (nullable = true)\n",
      " |-- M5-CREDIT: double (nullable = true)\n",
      " |-- M6-CREDIT: double (nullable = true)\n",
      " |-- M7-CREDIT: double (nullable = true)\n",
      " |-- M8-CREDIT: double (nullable = true)\n",
      " |-- M9-CREDIT: double (nullable = true)\n",
      " |-- M1-DEBIT: double (nullable = true)\n",
      " |-- M10-DEBIT: double (nullable = true)\n",
      " |-- M11-DEBIT: double (nullable = true)\n",
      " |-- M12-DEBIT: double (nullable = true)\n",
      " |-- M13-DEBIT: double (nullable = true)\n",
      " |-- M14-DEBIT: double (nullable = true)\n",
      " |-- M15-DEBIT: double (nullable = true)\n",
      " |-- M16-DEBIT: double (nullable = true)\n",
      " |-- M17-DEBIT: double (nullable = true)\n",
      " |-- M18-DEBIT: double (nullable = true)\n",
      " |-- M19-DEBIT: double (nullable = true)\n",
      " |-- M2-DEBIT: double (nullable = true)\n",
      " |-- M20-DEBIT: double (nullable = true)\n",
      " |-- M21-DEBIT: double (nullable = true)\n",
      " |-- M22-DEBIT: double (nullable = true)\n",
      " |-- M23-DEBIT: double (nullable = true)\n",
      " |-- M24-DEBIT: double (nullable = true)\n",
      " |-- M3-DEBIT: double (nullable = true)\n",
      " |-- M4-DEBIT: double (nullable = true)\n",
      " |-- M5-DEBIT: double (nullable = true)\n",
      " |-- M6-DEBIT: double (nullable = true)\n",
      " |-- M7-DEBIT: double (nullable = true)\n",
      " |-- M8-DEBIT: double (nullable = true)\n",
      " |-- M9-DEBIT: double (nullable = true)\n",
      " |-- label: double (nullable = true)\n",
      "\n"
     ]
    }
   ],
   "source": [
    "from pyspark.sql import SparkSession\n",
    "spark = SparkSession.builder.appName('ml-bank').getOrCreate()\n",
    "df = spark.read.csv('/home/workspace/jupyterenv/CUB_Models_V1.1/B8/Agri_Loan/input/AgriModelInputNEW.csv', header = True, inferSchema = True)\n",
    "df.printSchema()"
   ]
  },
  {
   "cell_type": "code",
   "execution_count": 11,
   "id": "interior-general",
   "metadata": {},
   "outputs": [
    {
     "name": "stdout",
     "output_type": "stream",
     "text": [
      "Rows=  1326251\n",
      "Columns=  144\n"
     ]
    }
   ],
   "source": [
    "print(\"Rows= \",df.count())\n",
    "print(\"Columns= \",len(df.columns))"
   ]
  },
  {
   "cell_type": "code",
   "execution_count": 12,
   "id": "8c77bf9a",
   "metadata": {},
   "outputs": [
    {
     "name": "stdout",
     "output_type": "stream",
     "text": [
      "Rows=  1326251\n",
      "Columns=  135\n"
     ]
    }
   ],
   "source": [
    "df=df.drop('CUSTOMERID')\n",
    "df=df.drop('ACCOUNTNO')\n",
    "\n",
    "df=df.drop('ACCTTYPE')\n",
    "df=df.drop('STATUS')\n",
    "df=df.drop('PRODUCT')\n",
    "df=df.drop('CLOSEDATE')\n",
    "df=df.drop('OPENDATE')\n",
    "df=df.drop('EXPIRYDATE')\n",
    "df=df.drop('HIGHESTSMADATE')\n",
    "\n",
    "print(\"Rows= \",df.count())\n",
    "print(\"Columns= \",len(df.columns))"
   ]
  },
  {
   "cell_type": "code",
   "execution_count": 13,
   "id": "29e9441b",
   "metadata": {},
   "outputs": [
    {
     "name": "stdout",
     "output_type": "stream",
     "text": [
      "+------+------------+----+---------+-----------+--------+---------+---------------+---------------------+----------------------+----------------------+---+------------+-------------------+--------------------+------------+--------------+---------------------+---------------------+----------------+-------------+--------------+------------------------+------------------------+----------------------+------------------------+----------------+-----------------------+-------------------------+---------------------+--------------------------------+------------------------------------+-------------------------------+-----------------------------------------+----------------+------------------+------------------+-------------------+------------+-----------------+--------------------------+------------------+-------------------+-------------------+-------------------+-------------------+-------------------+-------------------+-------------------+-------------------+-------------------+-------------------+------------------+-------------------+-------------------+------------------+------------------+------------------+------------------+------------------+------------------+------------------+----------+-----------+-----------+-----------+-----------+-----------+-----------+-----------+-----------+-----------+-----------+----------+-----------+-----------+-----------+-----------+-----------+----------+----------+----------+----------+----------+----------+----------+---------+----------+----------+----------+----------+----------+----------+----------+----------+----------+----------+---------+----------+----------+----------+----------+----------+---------+---------+---------+---------+---------+---------+---------+--------+---------+---------+---------+---------+---------+---------+---------+---------+---------+---------+--------+---------+---------+---------+---------+---------+--------+--------+--------+--------+--------+--------+--------+-----+\n",
      "|RATING|CONSTITUTION|RISK|DIFF_DAYS|DIFF_MONTHS|LOCATION|NPASTATUS|COLLATERAL_TYPE|CUSTOMER_SPAN_IN_DAYS|CUSTOMER_SPAN_IN_YEARS|CUSTOMER_SPAN_CATEGORY|AGE|AGE_CATEGORY|LOAN_CLOSED_IN_DAYS|LOAN_CLOSED_CATEGORY|SMA_CATEGORY|TOTAL_LOAN_ACC|TOTAL_ACTIVE_LOAN_ACC|TOTAL_CLOSED_LOAN_ACC|PRINCIPAL_AMOUNT|INTEREST_RATE|PROCESSING_FEE|TOTAL_ACTIVE_LOAN_AMOUNT|TOTAL_CLOSED_LOAN_AMOUNT|TOTAL_LOAN_AMOUNT_PAID|TOTAL_BALANCE_YET_TO_PAY|TOTAL_COLLATERAL|TOTAL_ACTIVE_COLLATERAL|TOTAL_INACTIVE_COLLATERAL|TOTAL_SECURITY_AMOUNT|NO_OF_TIMES_ARREAR_INTEREST_PAID|TOTAL_DEBITED_ARREAR_INTEREST_AMOUNT|NO_OF_PART_PERIOD_INTEREST_PAID|TOTAL_DEBITED_PART_PERIOD_INTEREST_AMOUNT|HIGHESTSMASTATUS|NOOFTIMESSMA2_SMA0|NOOFTIMESSMA2_SMA1|COMBINEDSTATUSVALUE|JLLOANSTATUS|OTHERACCSMASTATUS|COMBINEDOTHERLOANTXNSTATUS|SB-M1-BALANCE-mean|SB-M10-BALANCE-mean|SB-M11-BALANCE-mean|SB-M12-BALANCE-mean|SB-M13-BALANCE-mean|SB-M14-BALANCE-mean|SB-M15-BALANCE-mean|SB-M16-BALANCE-mean|SB-M17-BALANCE-mean|SB-M18-BALANCE-mean|SB-M19-BALANCE-mean|SB-M2-BALANCE-mean|SB-M20-BALANCE-mean|SB-M21-BALANCE-mean|SB-M3-BALANCE-mean|SB-M4-BALANCE-mean|SB-M5-BALANCE-mean|SB-M6-BALANCE-mean|SB-M7-BALANCE-mean|SB-M8-BALANCE-mean|SB-M9-BALANCE-mean|M1-BALANCE|M10-BALANCE|M11-BALANCE|M12-BALANCE|M13-BALANCE|M14-BALANCE|M15-BALANCE|M16-BALANCE|M17-BALANCE|M18-BALANCE|M19-BALANCE|M2-BALANCE|M20-BALANCE|M21-BALANCE|M22-BALANCE|M23-BALANCE|M24-BALANCE|M3-BALANCE|M4-BALANCE|M5-BALANCE|M6-BALANCE|M7-BALANCE|M8-BALANCE|M9-BALANCE|M1-CREDIT|M10-CREDIT|M11-CREDIT|M12-CREDIT|M13-CREDIT|M14-CREDIT|M15-CREDIT|M16-CREDIT|M17-CREDIT|M18-CREDIT|M19-CREDIT|M2-CREDIT|M20-CREDIT|M21-CREDIT|M22-CREDIT|M23-CREDIT|M24-CREDIT|M3-CREDIT|M4-CREDIT|M5-CREDIT|M6-CREDIT|M7-CREDIT|M8-CREDIT|M9-CREDIT|M1-DEBIT|M10-DEBIT|M11-DEBIT|M12-DEBIT|M13-DEBIT|M14-DEBIT|M15-DEBIT|M16-DEBIT|M17-DEBIT|M18-DEBIT|M19-DEBIT|M2-DEBIT|M20-DEBIT|M21-DEBIT|M22-DEBIT|M23-DEBIT|M24-DEBIT|M3-DEBIT|M4-DEBIT|M5-DEBIT|M6-DEBIT|M7-DEBIT|M8-DEBIT|M9-DEBIT|label|\n",
      "+------+------------+----+---------+-----------+--------+---------+---------------+---------------------+----------------------+----------------------+---+------------+-------------------+--------------------+------------+--------------+---------------------+---------------------+----------------+-------------+--------------+------------------------+------------------------+----------------------+------------------------+----------------+-----------------------+-------------------------+---------------------+--------------------------------+------------------------------------+-------------------------------+-----------------------------------------+----------------+------------------+------------------+-------------------+------------+-----------------+--------------------------+------------------+-------------------+-------------------+-------------------+-------------------+-------------------+-------------------+-------------------+-------------------+-------------------+-------------------+------------------+-------------------+-------------------+------------------+------------------+------------------+------------------+------------------+------------------+------------------+----------+-----------+-----------+-----------+-----------+-----------+-----------+-----------+-----------+-----------+-----------+----------+-----------+-----------+-----------+-----------+-----------+----------+----------+----------+----------+----------+----------+----------+---------+----------+----------+----------+----------+----------+----------+----------+----------+----------+----------+---------+----------+----------+----------+----------+----------+---------+---------+---------+---------+---------+---------+---------+--------+---------+---------+---------+---------+---------+---------+---------+---------+---------+---------+--------+---------+---------+---------+---------+---------+--------+--------+--------+--------+--------+--------+--------+-----+\n",
      "|     0|           0|   0|        0|          0|       0|        0|              0|                    0|                     0|                     0|  0|           0|                  0|                   0|           0|             0|                    0|                    0|               0|            0|             0|                       0|                       0|                     0|                       0|               0|                      0|                        0|                    0|                               0|                                   0|                              0|                                        0|               0|                 0|                 0|                  0|           0|                0|                         0|                 0|                  0|                  0|                  0|                  0|                  0|                  0|                  0|                  0|                  0|                  0|                 0|                  0|                  0|                 0|                 0|                 0|                 0|                 0|                 0|                 0|         0|          0|          0|          0|          0|          0|          0|          0|          0|          0|          0|         0|          0|          0|          0|          0|          0|         0|         0|         0|         0|         0|         0|         0|        0|         0|         0|         0|         0|         0|         0|         0|         0|         0|         0|        0|         0|         0|         0|         0|         0|        0|        0|        0|        0|        0|        0|        0|       0|        0|        0|        0|        0|        0|        0|        0|        0|        0|        0|       0|        0|        0|        0|        0|        0|       0|       0|       0|       0|       0|       0|       0|    0|\n",
      "+------+------------+----+---------+-----------+--------+---------+---------------+---------------------+----------------------+----------------------+---+------------+-------------------+--------------------+------------+--------------+---------------------+---------------------+----------------+-------------+--------------+------------------------+------------------------+----------------------+------------------------+----------------+-----------------------+-------------------------+---------------------+--------------------------------+------------------------------------+-------------------------------+-----------------------------------------+----------------+------------------+------------------+-------------------+------------+-----------------+--------------------------+------------------+-------------------+-------------------+-------------------+-------------------+-------------------+-------------------+-------------------+-------------------+-------------------+-------------------+------------------+-------------------+-------------------+------------------+------------------+------------------+------------------+------------------+------------------+------------------+----------+-----------+-----------+-----------+-----------+-----------+-----------+-----------+-----------+-----------+-----------+----------+-----------+-----------+-----------+-----------+-----------+----------+----------+----------+----------+----------+----------+----------+---------+----------+----------+----------+----------+----------+----------+----------+----------+----------+----------+---------+----------+----------+----------+----------+----------+---------+---------+---------+---------+---------+---------+---------+--------+---------+---------+---------+---------+---------+---------+---------+---------+---------+---------+--------+---------+---------+---------+---------+---------+--------+--------+--------+--------+--------+--------+--------+-----+\n",
      "\n"
     ]
    }
   ],
   "source": [
    "'''check null values'''\n",
    "from pyspark.sql.functions import isnull, when, count, col\n",
    "df.select([count(when(isnull(c), c)).alias(c) for c in df.columns]).show()"
   ]
  },
  {
   "cell_type": "code",
   "execution_count": 14,
   "id": "e05d10c7",
   "metadata": {},
   "outputs": [
    {
     "name": "stdout",
     "output_type": "stream",
     "text": [
      "1326251 135\n",
      "['CONSTITUTION', 'RISK', 'LOCATION', 'NPASTATUS', 'COLLATERAL_TYPE', 'CUSTOMER_SPAN_CATEGORY', 'AGE_CATEGORY', 'LOAN_CLOSED_CATEGORY', 'SMA_CATEGORY', 'HIGHESTSMASTATUS']\n",
      "['RATING', 'DIFF_DAYS', 'DIFF_MONTHS', 'CUSTOMER_SPAN_IN_DAYS', 'CUSTOMER_SPAN_IN_YEARS', 'AGE', 'LOAN_CLOSED_IN_DAYS', 'TOTAL_LOAN_ACC', 'TOTAL_ACTIVE_LOAN_ACC', 'TOTAL_CLOSED_LOAN_ACC', 'PRINCIPAL_AMOUNT', 'INTEREST_RATE', 'PROCESSING_FEE', 'TOTAL_ACTIVE_LOAN_AMOUNT', 'TOTAL_CLOSED_LOAN_AMOUNT', 'TOTAL_LOAN_AMOUNT_PAID', 'TOTAL_BALANCE_YET_TO_PAY', 'TOTAL_COLLATERAL', 'TOTAL_ACTIVE_COLLATERAL', 'TOTAL_INACTIVE_COLLATERAL', 'TOTAL_SECURITY_AMOUNT', 'NO_OF_TIMES_ARREAR_INTEREST_PAID', 'TOTAL_DEBITED_ARREAR_INTEREST_AMOUNT', 'NO_OF_PART_PERIOD_INTEREST_PAID', 'TOTAL_DEBITED_PART_PERIOD_INTEREST_AMOUNT', 'NOOFTIMESSMA2_SMA0', 'NOOFTIMESSMA2_SMA1', 'COMBINEDSTATUSVALUE', 'JLLOANSTATUS', 'OTHERACCSMASTATUS', 'COMBINEDOTHERLOANTXNSTATUS', 'SB-M1-BALANCE-mean', 'SB-M10-BALANCE-mean', 'SB-M11-BALANCE-mean', 'SB-M12-BALANCE-mean', 'SB-M13-BALANCE-mean', 'SB-M14-BALANCE-mean', 'SB-M15-BALANCE-mean', 'SB-M16-BALANCE-mean', 'SB-M17-BALANCE-mean', 'SB-M18-BALANCE-mean', 'SB-M19-BALANCE-mean', 'SB-M2-BALANCE-mean', 'SB-M20-BALANCE-mean', 'SB-M21-BALANCE-mean', 'SB-M3-BALANCE-mean', 'SB-M4-BALANCE-mean', 'SB-M5-BALANCE-mean', 'SB-M6-BALANCE-mean', 'SB-M7-BALANCE-mean', 'SB-M8-BALANCE-mean', 'SB-M9-BALANCE-mean', 'M1-BALANCE', 'M10-BALANCE', 'M11-BALANCE', 'M12-BALANCE', 'M13-BALANCE', 'M14-BALANCE', 'M15-BALANCE', 'M16-BALANCE', 'M17-BALANCE', 'M18-BALANCE', 'M19-BALANCE', 'M2-BALANCE', 'M20-BALANCE', 'M21-BALANCE', 'M22-BALANCE', 'M23-BALANCE', 'M24-BALANCE', 'M3-BALANCE', 'M4-BALANCE', 'M5-BALANCE', 'M6-BALANCE', 'M7-BALANCE', 'M8-BALANCE', 'M9-BALANCE', 'M1-CREDIT', 'M10-CREDIT', 'M11-CREDIT', 'M12-CREDIT', 'M13-CREDIT', 'M14-CREDIT', 'M15-CREDIT', 'M16-CREDIT', 'M17-CREDIT', 'M18-CREDIT', 'M19-CREDIT', 'M2-CREDIT', 'M20-CREDIT', 'M21-CREDIT', 'M22-CREDIT', 'M23-CREDIT', 'M24-CREDIT', 'M3-CREDIT', 'M4-CREDIT', 'M5-CREDIT', 'M6-CREDIT', 'M7-CREDIT', 'M8-CREDIT', 'M9-CREDIT', 'M1-DEBIT', 'M10-DEBIT', 'M11-DEBIT', 'M12-DEBIT', 'M13-DEBIT', 'M14-DEBIT', 'M15-DEBIT', 'M16-DEBIT', 'M17-DEBIT', 'M18-DEBIT', 'M19-DEBIT', 'M2-DEBIT', 'M20-DEBIT', 'M21-DEBIT', 'M22-DEBIT', 'M23-DEBIT', 'M24-DEBIT', 'M3-DEBIT', 'M4-DEBIT', 'M5-DEBIT', 'M6-DEBIT', 'M7-DEBIT', 'M8-DEBIT', 'M9-DEBIT', 'label']\n"
     ]
    }
   ],
   "source": [
    "print(df.count(),len(df.columns))\n",
    "CONT_COLS_NAMES=[]\n",
    "STRING_COLS_NAMES=[]\n",
    "for i in df.dtypes:\n",
    "    if i[1] == \"string\":\n",
    "        STRING_COLS_NAMES.append(i[0])\n",
    "    else:\n",
    "        CONT_COLS_NAMES.append(i[0])\n",
    "print(STRING_COLS_NAMES)\n",
    "print(CONT_COLS_NAMES)"
   ]
  },
  {
   "cell_type": "code",
   "execution_count": 15,
   "id": "91f67d56",
   "metadata": {},
   "outputs": [],
   "source": [
    "'''label'''\n",
    "from pyspark.ml.feature import StringIndexer\n",
    "stage_1 = StringIndexer(inputCol= 'CONSTITUTION', outputCol= 'CONSTITUTION_index')\n",
    "stage_2 = StringIndexer(inputCol= 'RISK', outputCol= 'RISK_index')\n",
    "stage_3 = StringIndexer(inputCol= 'LOCATION', outputCol= 'LOCATION_index')\n",
    "stage_4 = StringIndexer(inputCol= 'NPASTATUS', outputCol= 'NPASTATUS_index')\n",
    "stage_5 = StringIndexer(inputCol= 'COLLATERAL_TYPE', outputCol= 'COLLATERAL_TYPE_index')\n",
    "stage_6 = StringIndexer(inputCol= 'CUSTOMER_SPAN_CATEGORY', outputCol= 'CUSTOMER_SPAN_CATEGORY_index')\n",
    "stage_7 = StringIndexer(inputCol= 'AGE_CATEGORY', outputCol= 'AGE_CATEGORY_index')\n",
    "stage_8 = StringIndexer(inputCol= 'LOAN_CLOSED_CATEGORY', outputCol= 'LOAN_CLOSED_CATEGORY_index')\n",
    "stage_9 = StringIndexer(inputCol= 'SMA_CATEGORY', outputCol= 'SMA_CATEGORY_index')\n",
    "stage_10 = StringIndexer(inputCol= 'HIGHESTSMASTATUS', outputCol= 'HIGHESTSMASTATUS_index')\n"
   ]
  },
  {
   "cell_type": "code",
   "execution_count": 16,
   "id": "bd2a0aaf",
   "metadata": {},
   "outputs": [
    {
     "name": "stdout",
     "output_type": "stream",
     "text": [
      "+--------------------+\n",
      "|            features|\n",
      "+--------------------+\n",
      "|(150,[0,5,9,10,11...|\n",
      "+--------------------+\n",
      "only showing top 1 row\n",
      "\n",
      "None\n"
     ]
    }
   ],
   "source": [
    "from pyspark.ml.feature import OneHotEncoder, VectorAssembler\n",
    "import os\n",
    "stage_11 = OneHotEncoder(inputCols=[\n",
    "                                stage_1.getOutputCol(),stage_2.getOutputCol(), \n",
    "                                stage_3.getOutputCol(),stage_4.getOutputCol(),\n",
    "                                stage_5.getOutputCol(),stage_6.getOutputCol(),\n",
    "                                stage_7.getOutputCol(),stage_8.getOutputCol(),\n",
    "                                stage_9.getOutputCol(),stage_10.getOutputCol(),\n",
    "    \n",
    "                                ], \n",
    "                                outputCols= [\n",
    "                                'CONSTITUTION_encoded','RISK_encoded',\n",
    "                                'LOCATION_encoded',\n",
    "                                'NPASTATUS_encoded','COLLATERAL_TYPE_encoded',\n",
    "                                'CUSTOMER_SPAN_CATEGORY_encoded','AGE_CATEGORY_encoded',\n",
    "                                'LOAN_CLOSED_CATEGORY_encoded','SMA_CATEGORY_encoded',\n",
    "                                'HIGHESTSMASTATUS_encoded'\n",
    "                                \n",
    "                                ])\n",
    "\n",
    "stage_12 = VectorAssembler(inputCols=[\n",
    "                                'CONSTITUTION_encoded','RISK_encoded',\n",
    "                                'LOCATION_encoded',\n",
    "                                'NPASTATUS_encoded','COLLATERAL_TYPE_encoded',\n",
    "                                'CUSTOMER_SPAN_CATEGORY_encoded','AGE_CATEGORY_encoded',\n",
    "                                'LOAN_CLOSED_CATEGORY_encoded','SMA_CATEGORY_encoded',\n",
    "                                'HIGHESTSMASTATUS_encoded','RATING', 'DIFF_DAYS', 'DIFF_MONTHS', 'CUSTOMER_SPAN_IN_DAYS', 'CUSTOMER_SPAN_IN_YEARS', 'AGE', 'LOAN_CLOSED_IN_DAYS', 'TOTAL_LOAN_ACC', 'TOTAL_ACTIVE_LOAN_ACC', 'TOTAL_CLOSED_LOAN_ACC', 'PRINCIPAL_AMOUNT', 'INTEREST_RATE', 'PROCESSING_FEE', 'TOTAL_ACTIVE_LOAN_AMOUNT', 'TOTAL_CLOSED_LOAN_AMOUNT', 'TOTAL_LOAN_AMOUNT_PAID', 'TOTAL_BALANCE_YET_TO_PAY', 'TOTAL_COLLATERAL', 'TOTAL_ACTIVE_COLLATERAL', 'TOTAL_INACTIVE_COLLATERAL', 'TOTAL_SECURITY_AMOUNT', 'NO_OF_TIMES_ARREAR_INTEREST_PAID', 'TOTAL_DEBITED_ARREAR_INTEREST_AMOUNT', 'NO_OF_PART_PERIOD_INTEREST_PAID', 'TOTAL_DEBITED_PART_PERIOD_INTEREST_AMOUNT', 'NOOFTIMESSMA2_SMA0', 'NOOFTIMESSMA2_SMA1', 'COMBINEDSTATUSVALUE', 'JLLOANSTATUS', 'OTHERACCSMASTATUS', 'COMBINEDOTHERLOANTXNSTATUS', 'SB-M1-BALANCE-mean', 'SB-M10-BALANCE-mean', 'SB-M11-BALANCE-mean', 'SB-M12-BALANCE-mean', 'SB-M13-BALANCE-mean', 'SB-M14-BALANCE-mean', 'SB-M15-BALANCE-mean', 'SB-M16-BALANCE-mean', 'SB-M17-BALANCE-mean', 'SB-M18-BALANCE-mean', 'SB-M19-BALANCE-mean', 'SB-M2-BALANCE-mean', 'SB-M20-BALANCE-mean', 'SB-M21-BALANCE-mean', 'SB-M3-BALANCE-mean', 'SB-M4-BALANCE-mean', 'SB-M5-BALANCE-mean', 'SB-M6-BALANCE-mean', 'SB-M7-BALANCE-mean', 'SB-M8-BALANCE-mean', 'SB-M9-BALANCE-mean', 'M1-BALANCE', 'M10-BALANCE', 'M11-BALANCE', 'M12-BALANCE', 'M13-BALANCE', 'M14-BALANCE', 'M15-BALANCE', 'M16-BALANCE', 'M17-BALANCE', 'M18-BALANCE', 'M19-BALANCE', 'M2-BALANCE', 'M20-BALANCE', 'M21-BALANCE', 'M22-BALANCE', 'M23-BALANCE', 'M24-BALANCE', 'M3-BALANCE', 'M4-BALANCE', 'M5-BALANCE', 'M6-BALANCE', 'M7-BALANCE', 'M8-BALANCE', 'M9-BALANCE', 'M1-CREDIT', 'M10-CREDIT', 'M11-CREDIT', 'M12-CREDIT', 'M13-CREDIT', 'M14-CREDIT', 'M15-CREDIT', 'M16-CREDIT', 'M17-CREDIT', 'M18-CREDIT', 'M19-CREDIT', 'M2-CREDIT', 'M20-CREDIT', 'M21-CREDIT', 'M22-CREDIT', 'M23-CREDIT', 'M24-CREDIT', 'M3-CREDIT', 'M4-CREDIT', 'M5-CREDIT', 'M6-CREDIT', 'M7-CREDIT', 'M8-CREDIT', 'M9-CREDIT', 'M1-DEBIT', 'M10-DEBIT', 'M11-DEBIT', 'M12-DEBIT', 'M13-DEBIT', 'M14-DEBIT', 'M15-DEBIT', 'M16-DEBIT', 'M17-DEBIT', 'M18-DEBIT', 'M19-DEBIT', 'M2-DEBIT', 'M20-DEBIT', 'M21-DEBIT', 'M22-DEBIT', 'M23-DEBIT', 'M24-DEBIT', 'M3-DEBIT', 'M4-DEBIT', 'M5-DEBIT', 'M6-DEBIT', 'M7-DEBIT', 'M8-DEBIT', 'M9-DEBIT'\n",
    "                                ],outputCol='features')\n",
    "\n",
    "from pyspark.ml import Pipeline\n",
    "regression_pipeline = Pipeline(stages= [stage_1, stage_2, stage_3, stage_4, stage_5,\n",
    "                                        stage_6,stage_7,stage_8,stage_9,stage_10,stage_11,stage_12])\n",
    "ppmodel = regression_pipeline.fit(df)\n",
    "ppmodel.save(os.path.join('/home/workspace/jupyterenv/CUB_Models_V1.1/B8/Agri_Loan/TrainedModel','Agri_rfencoding'))\n",
    "data = ppmodel.transform(df)\n",
    "print(data.select('features').show(1))"
   ]
  },
  {
   "cell_type": "code",
   "execution_count": null,
   "id": "e2bc83ee",
   "metadata": {},
   "outputs": [],
   "source": [
    "'''Standard Scaling'''\n",
    "from pyspark.ml.feature import StandardScaler\n",
    "standardscaler=StandardScaler().setInputCol(\"features\").setOutputCol(\"Scaled_features\")\n",
    "scalar_fit=standardscaler.fit(data)\n",
    "scalar_fit.save(os.path.join('/home/workspace/jupyterenv/CUB_Models_V1.1/B8/Agri_Loan/TrainedModel','Agri_rfscalar_fit'))\n",
    "data=scalar_fit.transform(data)\n",
    "\n",
    "data.select(\"features\",\"Scaled_features\").show(5)\n"
   ]
  },
  {
   "cell_type": "code",
   "execution_count": 19,
   "id": "f2a5bdf2",
   "metadata": {},
   "outputs": [],
   "source": [
    "train, test = data.randomSplit([0.8, 0.2], seed=12345)\n"
   ]
  },
  {
   "cell_type": "code",
   "execution_count": 21,
   "id": "bdc357df",
   "metadata": {},
   "outputs": [
    {
     "name": "stdout",
     "output_type": "stream",
     "text": [
      "+-----+----------+--------------------+\n",
      "|label|prediction|         probability|\n",
      "+-----+----------+--------------------+\n",
      "|  1.0|       1.0|[0.13692327395069...|\n",
      "|  0.0|       0.0|[0.96452403588211...|\n",
      "|  0.0|       0.0|[0.96452403588211...|\n",
      "|  0.0|       0.0|[0.96452403588211...|\n",
      "|  0.0|       0.0|[0.96452403588211...|\n",
      "|  0.0|       0.0|[0.96452403588211...|\n",
      "|  0.0|       0.0|[0.96452403588211...|\n",
      "|  1.0|       1.0|[0.34700126008732...|\n",
      "|  0.0|       0.0|[0.97755469853456...|\n",
      "|  1.0|       1.0|[0.26844842966334...|\n",
      "+-----+----------+--------------------+\n",
      "only showing top 10 rows\n",
      "\n"
     ]
    }
   ],
   "source": [
    "from pyspark.ml.classification import RandomForestClassifier\n",
    "rf = RandomForestClassifier(featuresCol = 'Scaled_features', labelCol = 'label')\n",
    "rfModel = rf.fit(train)\n",
    "rfModel.save(os.path.join('/home/workspace/jupyterenv/CUB_Models_V1.1/B8/Agri_Loan/TrainedModel','rfcmodel'))\n",
    "\n",
    "predictions = rfModel.transform(test)\n",
    "predictions.select('label', 'prediction', 'probability').show(10)"
   ]
  },
  {
   "cell_type": "code",
   "execution_count": 22,
   "id": "6707aaa2",
   "metadata": {},
   "outputs": [
    {
     "name": "stdout",
     "output_type": "stream",
     "text": [
      "+-----+----------+--------+\n",
      "|label|prediction| Score %|\n",
      "+-----+----------+--------+\n",
      "|  1.0|       1.0|86.30767|\n",
      "|  0.0|       0.0| 96.4524|\n",
      "|  0.0|       0.0| 96.4524|\n",
      "|  0.0|       0.0| 96.4524|\n",
      "|  0.0|       0.0| 96.4524|\n",
      "|  0.0|       0.0| 96.4524|\n",
      "|  0.0|       0.0| 96.4524|\n",
      "|  1.0|       1.0|65.29987|\n",
      "|  0.0|       0.0|97.75547|\n",
      "|  1.0|       1.0|73.15516|\n",
      "+-----+----------+--------+\n",
      "only showing top 10 rows\n",
      "\n"
     ]
    }
   ],
   "source": [
    "\n",
    "import numpy as np\n",
    "from pyspark.sql.functions import udf\n",
    "from pyspark.sql.types import FloatType\n",
    "find_max = udf(lambda x: float(np.max(np.abs(x))*100), FloatType())\n",
    "predictions.select('label', 'prediction',find_max(\"probability\").alias(\"Score %\")).show(10)"
   ]
  },
  {
   "cell_type": "code",
   "execution_count": 24,
   "id": "recognized-share",
   "metadata": {},
   "outputs": [],
   "source": [
    "prdt=predictions.select('label', 'prediction',find_max(\"probability\").alias(\"Score %\"))\n",
    "prdt.toPandas().to_csv('/home/workspace/jupyterenv/CUB_Models_V1.1/B8/Agri_Loan/output/LoanClassRating.csv')\n"
   ]
  },
  {
   "cell_type": "code",
   "execution_count": 25,
   "id": "b1450d7f",
   "metadata": {},
   "outputs": [
    {
     "name": "stdout",
     "output_type": "stream",
     "text": [
      "265113 157\n",
      "+-----+----------+\n",
      "|label|prediction|\n",
      "+-----+----------+\n",
      "|  1.0|       1.0|\n",
      "|  0.0|       0.0|\n",
      "|  0.0|       0.0|\n",
      "|  0.0|       0.0|\n",
      "|  0.0|       0.0|\n",
      "|  0.0|       0.0|\n",
      "|  0.0|       0.0|\n",
      "|  1.0|       1.0|\n",
      "|  0.0|       0.0|\n",
      "|  1.0|       1.0|\n",
      "|  1.0|       1.0|\n",
      "|  0.0|       0.0|\n",
      "|  0.0|       0.0|\n",
      "|  0.0|       0.0|\n",
      "|  1.0|       1.0|\n",
      "|  1.0|       1.0|\n",
      "|  1.0|       1.0|\n",
      "|  1.0|       1.0|\n",
      "|  1.0|       1.0|\n",
      "|  0.0|       0.0|\n",
      "+-----+----------+\n",
      "only showing top 20 rows\n",
      "\n",
      "        label  prediction\n",
      "0         1.0         1.0\n",
      "1         0.0         0.0\n",
      "2         0.0         0.0\n",
      "3         0.0         0.0\n",
      "4         0.0         0.0\n",
      "...       ...         ...\n",
      "265108    0.0         0.0\n",
      "265109    0.0         0.0\n",
      "265110    0.0         0.0\n",
      "265111    0.0         0.0\n",
      "265112    0.0         0.0\n",
      "\n",
      "[265113 rows x 2 columns]\n"
     ]
    }
   ],
   "source": [
    "'''model_testing'''\n",
    "\n",
    "print(test.count(),len(test.columns))\n",
    "predictions.select('label', 'prediction').show()\n",
    "\n",
    "a=predictions.select('label', 'prediction').toPandas()\n",
    "print(a)\n",
    "a.to_csv(\"/home/workspace/jupyterenv/CUB_Models_V1.1/B8/Agri_Loan/output/RANFOR_test.csv\")"
   ]
  },
  {
   "cell_type": "code",
   "execution_count": 26,
   "id": "50b2ed7b",
   "metadata": {},
   "outputs": [
    {
     "name": "stdout",
     "output_type": "stream",
     "text": [
      "Test Accuracy =  0.9883709965184657\n"
     ]
    }
   ],
   "source": [
    "from pyspark.ml.evaluation import MulticlassClassificationEvaluator\n",
    "evaluator = MulticlassClassificationEvaluator(\n",
    "    labelCol='label', \n",
    "    predictionCol='prediction', \n",
    "    metricName='accuracy')\n",
    "accuracy = evaluator.evaluate(predictions)\n",
    "print('Test Accuracy = ', accuracy)"
   ]
  },
  {
   "cell_type": "code",
   "execution_count": 27,
   "id": "94288269",
   "metadata": {},
   "outputs": [
    {
     "name": "stdout",
     "output_type": "stream",
     "text": [
      "1061138 157\n",
      "+-----+----------+\n",
      "|label|prediction|\n",
      "+-----+----------+\n",
      "|  0.0|       0.0|\n",
      "|  0.0|       0.0|\n",
      "|  0.0|       0.0|\n",
      "|  0.0|       0.0|\n",
      "|  0.0|       0.0|\n",
      "|  1.0|       1.0|\n",
      "|  0.0|       0.0|\n",
      "|  1.0|       1.0|\n",
      "|  0.0|       0.0|\n",
      "|  0.0|       0.0|\n",
      "|  1.0|       1.0|\n",
      "|  1.0|       1.0|\n",
      "|  1.0|       1.0|\n",
      "|  0.0|       0.0|\n",
      "|  0.0|       0.0|\n",
      "|  1.0|       1.0|\n",
      "|  0.0|       0.0|\n",
      "|  0.0|       0.0|\n",
      "|  0.0|       0.0|\n",
      "|  0.0|       0.0|\n",
      "+-----+----------+\n",
      "only showing top 20 rows\n",
      "\n",
      "         label  prediction\n",
      "0          0.0         0.0\n",
      "1          0.0         0.0\n",
      "2          0.0         0.0\n",
      "3          0.0         0.0\n",
      "4          0.0         0.0\n",
      "...        ...         ...\n",
      "1061133    0.0         0.0\n",
      "1061134    0.0         0.0\n",
      "1061135    0.0         0.0\n",
      "1061136    0.0         0.0\n",
      "1061137    0.0         0.0\n",
      "\n",
      "[1061138 rows x 2 columns]\n"
     ]
    }
   ],
   "source": [
    "'''bias'''\n",
    "predictions = rfModel.transform(train)\n",
    "print(train.count(),len(train.columns))\n",
    "\n",
    "predictions.select('label', 'prediction').show()\n",
    "\n",
    "a=predictions.select('label', 'prediction').toPandas()\n",
    "print(a)\n",
    "a.to_csv(\"/home/workspace/jupyterenv/CUB_Models_V1.1/B8/Agri_Loan/output/RANFOR_Train.csv\")"
   ]
  },
  {
   "cell_type": "code",
   "execution_count": 28,
   "id": "027afd5f",
   "metadata": {},
   "outputs": [
    {
     "name": "stdout",
     "output_type": "stream",
     "text": [
      "Train Accuracy =  0.9883021812431559\n"
     ]
    }
   ],
   "source": [
    "from pyspark.ml.evaluation import MulticlassClassificationEvaluator\n",
    "evaluator = MulticlassClassificationEvaluator(\n",
    "    labelCol='label', \n",
    "    predictionCol='prediction', \n",
    "    metricName='accuracy')\n",
    "accuracy = evaluator.evaluate(predictions)\n",
    "print('Train Accuracy = ', accuracy)"
   ]
  },
  {
   "cell_type": "code",
   "execution_count": 29,
   "id": "b6dae8d2",
   "metadata": {},
   "outputs": [
    {
     "name": "stdout",
     "output_type": "stream",
     "text": [
      "(150,[7,23,24,25,26,29,30,31,33,43,45,51,52,53,54,55,56,57,58,59,60,61,62,63,64,65,66,67,68,69,70,71,72,73,74,75,76,77,83,84,87,92,95,98,100,101,108,117,122,129,133,136,139,141,142,143,145,149],[5.689720284317364e-05,0.010749237290240826,0.010488047465726914,0.0018600935133311937,0.0002950552442574844,5.8720600154645985e-05,0.0003349872892097552,1.551182782490298e-05,7.48846260717104e-05,4.013896564992295e-05,0.0001701291831258764,0.00018885002387050584,0.00043267625584186034,0.23339867933217304,0.002649511525941612,0.004671758973552998,0.25068477277120504,0.007295635238580056,0.037334936247223435,0.017540102919821172,0.02614192133034034,0.017113436392619037,0.019881487920685986,0.005936507710297547,0.02514797743743951,0.03162153078186315,0.03217787429053652,0.03267250864099414,0.006960162855522599,0.006129545973784588,0.007629310026561342,0.011538129089626831,0.026274000534546343,0.013578873424687143,0.016777078934898132,0.028988536947343872,0.040390936644637505,0.009276027304243378,0.0011892120943775772,0.007174940375448269,2.6257774877058548e-05,1.5564231814376623e-06,0.0059902005861448265,1.739835670245222e-05,0.0008963805914262073,0.009028097970126754,7.107952917097188e-06,1.0205681104899973e-05,1.0416901337515875e-05,0.0007293261466363614,1.6253356465733302e-06,4.390252888844663e-05,0.010324255234567434,0.0013250676718660538,0.0006364428712729776,0.015592146509409687,0.0011746360367008767,0.009244350220093404])\n"
     ]
    },
    {
     "data": {
      "text/html": [
       "<div>\n",
       "<style scoped>\n",
       "    .dataframe tbody tr th:only-of-type {\n",
       "        vertical-align: middle;\n",
       "    }\n",
       "\n",
       "    .dataframe tbody tr th {\n",
       "        vertical-align: top;\n",
       "    }\n",
       "\n",
       "    .dataframe thead th {\n",
       "        text-align: right;\n",
       "    }\n",
       "</style>\n",
       "<table border=\"1\" class=\"dataframe\">\n",
       "  <thead>\n",
       "    <tr style=\"text-align: right;\">\n",
       "      <th></th>\n",
       "      <th>idx</th>\n",
       "      <th>name</th>\n",
       "      <th>score</th>\n",
       "    </tr>\n",
       "  </thead>\n",
       "  <tbody>\n",
       "    <tr>\n",
       "      <th>30</th>\n",
       "      <td>56</td>\n",
       "      <td>COMBINEDOTHERLOANTXNSTATUS</td>\n",
       "      <td>0.250685</td>\n",
       "    </tr>\n",
       "    <tr>\n",
       "      <th>27</th>\n",
       "      <td>53</td>\n",
       "      <td>COMBINEDSTATUSVALUE</td>\n",
       "      <td>0.233399</td>\n",
       "    </tr>\n",
       "    <tr>\n",
       "      <th>50</th>\n",
       "      <td>76</td>\n",
       "      <td>SB-M8-BALANCE-mean</td>\n",
       "      <td>0.040391</td>\n",
       "    </tr>\n",
       "    <tr>\n",
       "      <th>32</th>\n",
       "      <td>58</td>\n",
       "      <td>SB-M10-BALANCE-mean</td>\n",
       "      <td>0.037335</td>\n",
       "    </tr>\n",
       "    <tr>\n",
       "      <th>41</th>\n",
       "      <td>67</td>\n",
       "      <td>SB-M19-BALANCE-mean</td>\n",
       "      <td>0.032673</td>\n",
       "    </tr>\n",
       "    <tr>\n",
       "      <th>40</th>\n",
       "      <td>66</td>\n",
       "      <td>SB-M18-BALANCE-mean</td>\n",
       "      <td>0.032178</td>\n",
       "    </tr>\n",
       "    <tr>\n",
       "      <th>39</th>\n",
       "      <td>65</td>\n",
       "      <td>SB-M17-BALANCE-mean</td>\n",
       "      <td>0.031622</td>\n",
       "    </tr>\n",
       "    <tr>\n",
       "      <th>49</th>\n",
       "      <td>75</td>\n",
       "      <td>SB-M7-BALANCE-mean</td>\n",
       "      <td>0.028989</td>\n",
       "    </tr>\n",
       "    <tr>\n",
       "      <th>46</th>\n",
       "      <td>72</td>\n",
       "      <td>SB-M4-BALANCE-mean</td>\n",
       "      <td>0.026274</td>\n",
       "    </tr>\n",
       "    <tr>\n",
       "      <th>34</th>\n",
       "      <td>60</td>\n",
       "      <td>SB-M12-BALANCE-mean</td>\n",
       "      <td>0.026142</td>\n",
       "    </tr>\n",
       "  </tbody>\n",
       "</table>\n",
       "</div>"
      ],
      "text/plain": [
       "    idx                        name     score\n",
       "30   56  COMBINEDOTHERLOANTXNSTATUS  0.250685\n",
       "27   53         COMBINEDSTATUSVALUE  0.233399\n",
       "50   76          SB-M8-BALANCE-mean  0.040391\n",
       "32   58         SB-M10-BALANCE-mean  0.037335\n",
       "41   67         SB-M19-BALANCE-mean  0.032673\n",
       "40   66         SB-M18-BALANCE-mean  0.032178\n",
       "39   65         SB-M17-BALANCE-mean  0.031622\n",
       "49   75          SB-M7-BALANCE-mean  0.028989\n",
       "46   72          SB-M4-BALANCE-mean  0.026274\n",
       "34   60         SB-M12-BALANCE-mean  0.026142"
      ]
     },
     "execution_count": 29,
     "metadata": {},
     "output_type": "execute_result"
    }
   ],
   "source": [
    "'''Feature_Importance'''\n",
    "print(rfModel.featureImportances)\n",
    "import pandas as pd\n",
    "\n",
    "def ExtractFeatureImp(featureImp, dataset, featuresCol):\n",
    "    list_extract = []\n",
    "    for i in dataset.schema[featuresCol].metadata[\"ml_attr\"][\"attrs\"]:\n",
    "        list_extract = list_extract + dataset.schema[featuresCol].metadata[\"ml_attr\"][\"attrs\"][i]\n",
    "    varlist = pd.DataFrame(list_extract)\n",
    "    varlist['score'] = varlist['idx'].apply(lambda x: featureImp[x])\n",
    "    return(varlist.sort_values('score', ascending = False))\n",
    "\n",
    "ExtractFeatureImp(rfModel.featureImportances, train, \"features\").head(10)"
   ]
  },
  {
   "cell_type": "code",
   "execution_count": 34,
   "id": "generic-deposit",
   "metadata": {},
   "outputs": [
    {
     "name": "stdout",
     "output_type": "stream",
     "text": [
      "confusion matrix\n",
      "[[734979.   4597.]\n",
      " [  7816. 313746.]]\n"
     ]
    }
   ],
   "source": [
    "'''confusion matrix'''\n",
    "import pyspark.sql.functions as F\n",
    "from pyspark.mllib.evaluation import MulticlassMetrics\n",
    "from pyspark.sql.types import FloatType\n",
    "pred_and_labels = predictions.select(['prediction','label']).withColumn('label',F.col('label').cast(FloatType())).orderBy('prediction')\n",
    "pred_and_labels=pred_and_labels.select(['prediction','label'])\n",
    "metrics=MulticlassMetrics(pred_and_labels.rdd.map(tuple))\n",
    "print('confusion matrix')\n",
    "print(metrics.confusionMatrix().toArray())"
   ]
  },
  {
   "cell_type": "code",
   "execution_count": null,
   "id": "amended-armor",
   "metadata": {},
   "outputs": [],
   "source": []
  }
 ],
 "metadata": {
  "kernelspec": {
   "display_name": "Python 3 (ipykernel)",
   "language": "python",
   "name": "python3"
  },
  "language_info": {
   "codemirror_mode": {
    "name": "ipython",
    "version": 3
   },
   "file_extension": ".py",
   "mimetype": "text/x-python",
   "name": "python",
   "nbconvert_exporter": "python",
   "pygments_lexer": "ipython3",
   "version": "3.8.10"
  },
  "toc": {
   "base_numbering": 1,
   "nav_menu": {},
   "number_sections": true,
   "sideBar": true,
   "skip_h1_title": false,
   "title_cell": "Table of Contents",
   "title_sidebar": "Contents",
   "toc_cell": false,
   "toc_position": {},
   "toc_section_display": true,
   "toc_window_display": false
  }
 },
 "nbformat": 4,
 "nbformat_minor": 5
}
