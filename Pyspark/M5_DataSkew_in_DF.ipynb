{
  "nbformat": 4,
  "nbformat_minor": 0,
  "metadata": {
    "colab": {
      "provenance": []
    },
    "kernelspec": {
      "name": "python3",
      "display_name": "Python 3"
    },
    "language_info": {
      "name": "python"
    }
  },
  "cells": [
    {
      "cell_type": "code",
      "execution_count": 20,
      "metadata": {
        "colab": {
          "base_uri": "https://localhost:8080/"
        },
        "id": "2ntVhbhGdj25",
        "outputId": "263b9fef-1c03-4f4a-d823-c8ff762c5c93"
      },
      "outputs": [
        {
          "output_type": "stream",
          "name": "stdout",
          "text": [
            "Requirement already satisfied: pyspark in /usr/local/lib/python3.10/dist-packages (3.5.3)\n",
            "Requirement already satisfied: py4j==0.10.9.7 in /usr/local/lib/python3.10/dist-packages (from pyspark) (0.10.9.7)\n"
          ]
        }
      ],
      "source": [
        "!pip install pyspark\n",
        "!pip install -q findspark\n",
        "import findspark\n",
        "findspark.init()"
      ]
    },
    {
      "cell_type": "code",
      "source": [
        "from pyspark.sql import SparkSession\n",
        "spark = SparkSession.builder.master(\"local[*]\").appName(\"SkewinDF\").getOrCreate()\n",
        "spark"
      ],
      "metadata": {
        "colab": {
          "base_uri": "https://localhost:8080/",
          "height": 219
        },
        "id": "GMLLHV7-dmCg",
        "outputId": "3e4b3bea-437d-4ca2-89be-45c8729db5fc"
      },
      "execution_count": 21,
      "outputs": [
        {
          "output_type": "execute_result",
          "data": {
            "text/plain": [
              "<pyspark.sql.session.SparkSession at 0x7a4524195c60>"
            ],
            "text/html": [
              "\n",
              "            <div>\n",
              "                <p><b>SparkSession - in-memory</b></p>\n",
              "                \n",
              "        <div>\n",
              "            <p><b>SparkContext</b></p>\n",
              "\n",
              "            <p><a href=\"http://5cb722345885:4040\">Spark UI</a></p>\n",
              "\n",
              "            <dl>\n",
              "              <dt>Version</dt>\n",
              "                <dd><code>v3.5.3</code></dd>\n",
              "              <dt>Master</dt>\n",
              "                <dd><code>local[*]</code></dd>\n",
              "              <dt>AppName</dt>\n",
              "                <dd><code>SkewinDF</code></dd>\n",
              "            </dl>\n",
              "        </div>\n",
              "        \n",
              "            </div>\n",
              "        "
            ]
          },
          "metadata": {},
          "execution_count": 21
        }
      ]
    },
    {
      "cell_type": "code",
      "source": [],
      "metadata": {
        "id": "9-UMPcwEdmW9"
      },
      "execution_count": 21,
      "outputs": []
    },
    {
      "cell_type": "markdown",
      "source": [
        "Loading Data Skew"
      ],
      "metadata": {
        "id": "K5iuLbmUeHzs"
      }
    },
    {
      "cell_type": "code",
      "source": [
        "import numpy as np\n",
        "import pandas as pd\n",
        "import random\n",
        "\n",
        "key_1=[101] * 1\n",
        "key_2=[201] * 8\n",
        "key_3=[301] * 3\n",
        "key_4=[401] * 2\n",
        "print(key_1)\n",
        "\n",
        "OrderID = key_1 + key_2 + key_3 + key_4\n",
        "\n",
        "random.shuffle(OrderID)\n",
        "\n",
        "Qty_1 = list(np.random.randint(low=1,high=100,size=len(key_1)))\n",
        "Qty_2 = list(np.random.randint(low=1,high=200,size=len(key_2)))\n",
        "Qty_3 = list(np.random.randint(low=1,high=1000,size=len(key_3)))\n",
        "Qty_4 = list(np.random.randint(low=1,high=50,size=len(key_4)))\n",
        "Qty = Qty_1 + Qty_2 + Qty_3 + Qty_4\n",
        "\n",
        "Sales_1 = list(np.random.randint(low=10, high=100,size=len(key_1)))\n",
        "Sales_2 = list(np.random.randint(low=50, high=3400,size=len(key_2)))\n",
        "Sales_3 = list(np.random.randint(low=12, high=2000,size=len(key_3)))\n",
        "Sales_4 = list(np.random.randint(low=40,high=1000,size=len(key_4)))\n",
        "Sales = Sales_1 + Sales_2 + Sales_3 + Sales_4\n",
        "\n",
        "Discount = list(np.random.randint(low=0,high=2,size=len(OrderID)))\n",
        "data1=list(zip(OrderID,Qty,Sales,Discount))\n",
        "\n",
        "#Create the Pandas DF\n",
        "data_skew=pd.DataFrame(data1,columns=['OrderID','Qty','Sales','Discount'])\n",
        "\n",
        "data2=[[1,101,'pencil',4.99],\n",
        "       [2,101,'book',9.5],\n",
        "       [3,101,'scissors',14],\n",
        "       [4,301,'glue',7],\n",
        "       [5,201,'marker',8.49],\n",
        "       [6,301,'label',2],\n",
        "       [7,201,'calculator',3.99],\n",
        "       [8,501,'eraser',1.55],\n",
        "       ]\n",
        "data_small = pd.DataFrame(data2,columns=[\"ProductID\",\"OrderID\",\"Product\",\"Price\"])\n",
        "data_small"
      ],
      "metadata": {
        "id": "1Hqtb3mGeNNB",
        "colab": {
          "base_uri": "https://localhost:8080/",
          "height": 317
        },
        "outputId": "ec777229-8315-40da-f21a-aa52872b011b"
      },
      "execution_count": 22,
      "outputs": [
        {
          "output_type": "stream",
          "name": "stdout",
          "text": [
            "[101]\n"
          ]
        },
        {
          "output_type": "execute_result",
          "data": {
            "text/plain": [
              "   ProductID  OrderID     Product  Price\n",
              "0          1      101      pencil   4.99\n",
              "1          2      101        book   9.50\n",
              "2          3      101    scissors  14.00\n",
              "3          4      301        glue   7.00\n",
              "4          5      201      marker   8.49\n",
              "5          6      301       label   2.00\n",
              "6          7      201  calculator   3.99\n",
              "7          8      501      eraser   1.55"
            ],
            "text/html": [
              "\n",
              "  <div id=\"df-88c563b4-52a0-476d-ae09-46cc15a292e9\" class=\"colab-df-container\">\n",
              "    <div>\n",
              "<style scoped>\n",
              "    .dataframe tbody tr th:only-of-type {\n",
              "        vertical-align: middle;\n",
              "    }\n",
              "\n",
              "    .dataframe tbody tr th {\n",
              "        vertical-align: top;\n",
              "    }\n",
              "\n",
              "    .dataframe thead th {\n",
              "        text-align: right;\n",
              "    }\n",
              "</style>\n",
              "<table border=\"1\" class=\"dataframe\">\n",
              "  <thead>\n",
              "    <tr style=\"text-align: right;\">\n",
              "      <th></th>\n",
              "      <th>ProductID</th>\n",
              "      <th>OrderID</th>\n",
              "      <th>Product</th>\n",
              "      <th>Price</th>\n",
              "    </tr>\n",
              "  </thead>\n",
              "  <tbody>\n",
              "    <tr>\n",
              "      <th>0</th>\n",
              "      <td>1</td>\n",
              "      <td>101</td>\n",
              "      <td>pencil</td>\n",
              "      <td>4.99</td>\n",
              "    </tr>\n",
              "    <tr>\n",
              "      <th>1</th>\n",
              "      <td>2</td>\n",
              "      <td>101</td>\n",
              "      <td>book</td>\n",
              "      <td>9.50</td>\n",
              "    </tr>\n",
              "    <tr>\n",
              "      <th>2</th>\n",
              "      <td>3</td>\n",
              "      <td>101</td>\n",
              "      <td>scissors</td>\n",
              "      <td>14.00</td>\n",
              "    </tr>\n",
              "    <tr>\n",
              "      <th>3</th>\n",
              "      <td>4</td>\n",
              "      <td>301</td>\n",
              "      <td>glue</td>\n",
              "      <td>7.00</td>\n",
              "    </tr>\n",
              "    <tr>\n",
              "      <th>4</th>\n",
              "      <td>5</td>\n",
              "      <td>201</td>\n",
              "      <td>marker</td>\n",
              "      <td>8.49</td>\n",
              "    </tr>\n",
              "    <tr>\n",
              "      <th>5</th>\n",
              "      <td>6</td>\n",
              "      <td>301</td>\n",
              "      <td>label</td>\n",
              "      <td>2.00</td>\n",
              "    </tr>\n",
              "    <tr>\n",
              "      <th>6</th>\n",
              "      <td>7</td>\n",
              "      <td>201</td>\n",
              "      <td>calculator</td>\n",
              "      <td>3.99</td>\n",
              "    </tr>\n",
              "    <tr>\n",
              "      <th>7</th>\n",
              "      <td>8</td>\n",
              "      <td>501</td>\n",
              "      <td>eraser</td>\n",
              "      <td>1.55</td>\n",
              "    </tr>\n",
              "  </tbody>\n",
              "</table>\n",
              "</div>\n",
              "    <div class=\"colab-df-buttons\">\n",
              "\n",
              "  <div class=\"colab-df-container\">\n",
              "    <button class=\"colab-df-convert\" onclick=\"convertToInteractive('df-88c563b4-52a0-476d-ae09-46cc15a292e9')\"\n",
              "            title=\"Convert this dataframe to an interactive table.\"\n",
              "            style=\"display:none;\">\n",
              "\n",
              "  <svg xmlns=\"http://www.w3.org/2000/svg\" height=\"24px\" viewBox=\"0 -960 960 960\">\n",
              "    <path d=\"M120-120v-720h720v720H120Zm60-500h600v-160H180v160Zm220 220h160v-160H400v160Zm0 220h160v-160H400v160ZM180-400h160v-160H180v160Zm440 0h160v-160H620v160ZM180-180h160v-160H180v160Zm440 0h160v-160H620v160Z\"/>\n",
              "  </svg>\n",
              "    </button>\n",
              "\n",
              "  <style>\n",
              "    .colab-df-container {\n",
              "      display:flex;\n",
              "      gap: 12px;\n",
              "    }\n",
              "\n",
              "    .colab-df-convert {\n",
              "      background-color: #E8F0FE;\n",
              "      border: none;\n",
              "      border-radius: 50%;\n",
              "      cursor: pointer;\n",
              "      display: none;\n",
              "      fill: #1967D2;\n",
              "      height: 32px;\n",
              "      padding: 0 0 0 0;\n",
              "      width: 32px;\n",
              "    }\n",
              "\n",
              "    .colab-df-convert:hover {\n",
              "      background-color: #E2EBFA;\n",
              "      box-shadow: 0px 1px 2px rgba(60, 64, 67, 0.3), 0px 1px 3px 1px rgba(60, 64, 67, 0.15);\n",
              "      fill: #174EA6;\n",
              "    }\n",
              "\n",
              "    .colab-df-buttons div {\n",
              "      margin-bottom: 4px;\n",
              "    }\n",
              "\n",
              "    [theme=dark] .colab-df-convert {\n",
              "      background-color: #3B4455;\n",
              "      fill: #D2E3FC;\n",
              "    }\n",
              "\n",
              "    [theme=dark] .colab-df-convert:hover {\n",
              "      background-color: #434B5C;\n",
              "      box-shadow: 0px 1px 3px 1px rgba(0, 0, 0, 0.15);\n",
              "      filter: drop-shadow(0px 1px 2px rgba(0, 0, 0, 0.3));\n",
              "      fill: #FFFFFF;\n",
              "    }\n",
              "  </style>\n",
              "\n",
              "    <script>\n",
              "      const buttonEl =\n",
              "        document.querySelector('#df-88c563b4-52a0-476d-ae09-46cc15a292e9 button.colab-df-convert');\n",
              "      buttonEl.style.display =\n",
              "        google.colab.kernel.accessAllowed ? 'block' : 'none';\n",
              "\n",
              "      async function convertToInteractive(key) {\n",
              "        const element = document.querySelector('#df-88c563b4-52a0-476d-ae09-46cc15a292e9');\n",
              "        const dataTable =\n",
              "          await google.colab.kernel.invokeFunction('convertToInteractive',\n",
              "                                                    [key], {});\n",
              "        if (!dataTable) return;\n",
              "\n",
              "        const docLinkHtml = 'Like what you see? Visit the ' +\n",
              "          '<a target=\"_blank\" href=https://colab.research.google.com/notebooks/data_table.ipynb>data table notebook</a>'\n",
              "          + ' to learn more about interactive tables.';\n",
              "        element.innerHTML = '';\n",
              "        dataTable['output_type'] = 'display_data';\n",
              "        await google.colab.output.renderOutput(dataTable, element);\n",
              "        const docLink = document.createElement('div');\n",
              "        docLink.innerHTML = docLinkHtml;\n",
              "        element.appendChild(docLink);\n",
              "      }\n",
              "    </script>\n",
              "  </div>\n",
              "\n",
              "\n",
              "<div id=\"df-329a4cc3-d838-4b43-9f43-4cad16ac3edd\">\n",
              "  <button class=\"colab-df-quickchart\" onclick=\"quickchart('df-329a4cc3-d838-4b43-9f43-4cad16ac3edd')\"\n",
              "            title=\"Suggest charts\"\n",
              "            style=\"display:none;\">\n",
              "\n",
              "<svg xmlns=\"http://www.w3.org/2000/svg\" height=\"24px\"viewBox=\"0 0 24 24\"\n",
              "     width=\"24px\">\n",
              "    <g>\n",
              "        <path d=\"M19 3H5c-1.1 0-2 .9-2 2v14c0 1.1.9 2 2 2h14c1.1 0 2-.9 2-2V5c0-1.1-.9-2-2-2zM9 17H7v-7h2v7zm4 0h-2V7h2v10zm4 0h-2v-4h2v4z\"/>\n",
              "    </g>\n",
              "</svg>\n",
              "  </button>\n",
              "\n",
              "<style>\n",
              "  .colab-df-quickchart {\n",
              "      --bg-color: #E8F0FE;\n",
              "      --fill-color: #1967D2;\n",
              "      --hover-bg-color: #E2EBFA;\n",
              "      --hover-fill-color: #174EA6;\n",
              "      --disabled-fill-color: #AAA;\n",
              "      --disabled-bg-color: #DDD;\n",
              "  }\n",
              "\n",
              "  [theme=dark] .colab-df-quickchart {\n",
              "      --bg-color: #3B4455;\n",
              "      --fill-color: #D2E3FC;\n",
              "      --hover-bg-color: #434B5C;\n",
              "      --hover-fill-color: #FFFFFF;\n",
              "      --disabled-bg-color: #3B4455;\n",
              "      --disabled-fill-color: #666;\n",
              "  }\n",
              "\n",
              "  .colab-df-quickchart {\n",
              "    background-color: var(--bg-color);\n",
              "    border: none;\n",
              "    border-radius: 50%;\n",
              "    cursor: pointer;\n",
              "    display: none;\n",
              "    fill: var(--fill-color);\n",
              "    height: 32px;\n",
              "    padding: 0;\n",
              "    width: 32px;\n",
              "  }\n",
              "\n",
              "  .colab-df-quickchart:hover {\n",
              "    background-color: var(--hover-bg-color);\n",
              "    box-shadow: 0 1px 2px rgba(60, 64, 67, 0.3), 0 1px 3px 1px rgba(60, 64, 67, 0.15);\n",
              "    fill: var(--button-hover-fill-color);\n",
              "  }\n",
              "\n",
              "  .colab-df-quickchart-complete:disabled,\n",
              "  .colab-df-quickchart-complete:disabled:hover {\n",
              "    background-color: var(--disabled-bg-color);\n",
              "    fill: var(--disabled-fill-color);\n",
              "    box-shadow: none;\n",
              "  }\n",
              "\n",
              "  .colab-df-spinner {\n",
              "    border: 2px solid var(--fill-color);\n",
              "    border-color: transparent;\n",
              "    border-bottom-color: var(--fill-color);\n",
              "    animation:\n",
              "      spin 1s steps(1) infinite;\n",
              "  }\n",
              "\n",
              "  @keyframes spin {\n",
              "    0% {\n",
              "      border-color: transparent;\n",
              "      border-bottom-color: var(--fill-color);\n",
              "      border-left-color: var(--fill-color);\n",
              "    }\n",
              "    20% {\n",
              "      border-color: transparent;\n",
              "      border-left-color: var(--fill-color);\n",
              "      border-top-color: var(--fill-color);\n",
              "    }\n",
              "    30% {\n",
              "      border-color: transparent;\n",
              "      border-left-color: var(--fill-color);\n",
              "      border-top-color: var(--fill-color);\n",
              "      border-right-color: var(--fill-color);\n",
              "    }\n",
              "    40% {\n",
              "      border-color: transparent;\n",
              "      border-right-color: var(--fill-color);\n",
              "      border-top-color: var(--fill-color);\n",
              "    }\n",
              "    60% {\n",
              "      border-color: transparent;\n",
              "      border-right-color: var(--fill-color);\n",
              "    }\n",
              "    80% {\n",
              "      border-color: transparent;\n",
              "      border-right-color: var(--fill-color);\n",
              "      border-bottom-color: var(--fill-color);\n",
              "    }\n",
              "    90% {\n",
              "      border-color: transparent;\n",
              "      border-bottom-color: var(--fill-color);\n",
              "    }\n",
              "  }\n",
              "</style>\n",
              "\n",
              "  <script>\n",
              "    async function quickchart(key) {\n",
              "      const quickchartButtonEl =\n",
              "        document.querySelector('#' + key + ' button');\n",
              "      quickchartButtonEl.disabled = true;  // To prevent multiple clicks.\n",
              "      quickchartButtonEl.classList.add('colab-df-spinner');\n",
              "      try {\n",
              "        const charts = await google.colab.kernel.invokeFunction(\n",
              "            'suggestCharts', [key], {});\n",
              "      } catch (error) {\n",
              "        console.error('Error during call to suggestCharts:', error);\n",
              "      }\n",
              "      quickchartButtonEl.classList.remove('colab-df-spinner');\n",
              "      quickchartButtonEl.classList.add('colab-df-quickchart-complete');\n",
              "    }\n",
              "    (() => {\n",
              "      let quickchartButtonEl =\n",
              "        document.querySelector('#df-329a4cc3-d838-4b43-9f43-4cad16ac3edd button');\n",
              "      quickchartButtonEl.style.display =\n",
              "        google.colab.kernel.accessAllowed ? 'block' : 'none';\n",
              "    })();\n",
              "  </script>\n",
              "</div>\n",
              "\n",
              "  <div id=\"id_b4a6f73e-91ef-411b-9189-0ad70b4f8ab2\">\n",
              "    <style>\n",
              "      .colab-df-generate {\n",
              "        background-color: #E8F0FE;\n",
              "        border: none;\n",
              "        border-radius: 50%;\n",
              "        cursor: pointer;\n",
              "        display: none;\n",
              "        fill: #1967D2;\n",
              "        height: 32px;\n",
              "        padding: 0 0 0 0;\n",
              "        width: 32px;\n",
              "      }\n",
              "\n",
              "      .colab-df-generate:hover {\n",
              "        background-color: #E2EBFA;\n",
              "        box-shadow: 0px 1px 2px rgba(60, 64, 67, 0.3), 0px 1px 3px 1px rgba(60, 64, 67, 0.15);\n",
              "        fill: #174EA6;\n",
              "      }\n",
              "\n",
              "      [theme=dark] .colab-df-generate {\n",
              "        background-color: #3B4455;\n",
              "        fill: #D2E3FC;\n",
              "      }\n",
              "\n",
              "      [theme=dark] .colab-df-generate:hover {\n",
              "        background-color: #434B5C;\n",
              "        box-shadow: 0px 1px 3px 1px rgba(0, 0, 0, 0.15);\n",
              "        filter: drop-shadow(0px 1px 2px rgba(0, 0, 0, 0.3));\n",
              "        fill: #FFFFFF;\n",
              "      }\n",
              "    </style>\n",
              "    <button class=\"colab-df-generate\" onclick=\"generateWithVariable('data_small')\"\n",
              "            title=\"Generate code using this dataframe.\"\n",
              "            style=\"display:none;\">\n",
              "\n",
              "  <svg xmlns=\"http://www.w3.org/2000/svg\" height=\"24px\"viewBox=\"0 0 24 24\"\n",
              "       width=\"24px\">\n",
              "    <path d=\"M7,19H8.4L18.45,9,17,7.55,7,17.6ZM5,21V16.75L18.45,3.32a2,2,0,0,1,2.83,0l1.4,1.43a1.91,1.91,0,0,1,.58,1.4,1.91,1.91,0,0,1-.58,1.4L9.25,21ZM18.45,9,17,7.55Zm-12,3A5.31,5.31,0,0,0,4.9,8.1,5.31,5.31,0,0,0,1,6.5,5.31,5.31,0,0,0,4.9,4.9,5.31,5.31,0,0,0,6.5,1,5.31,5.31,0,0,0,8.1,4.9,5.31,5.31,0,0,0,12,6.5,5.46,5.46,0,0,0,6.5,12Z\"/>\n",
              "  </svg>\n",
              "    </button>\n",
              "    <script>\n",
              "      (() => {\n",
              "      const buttonEl =\n",
              "        document.querySelector('#id_b4a6f73e-91ef-411b-9189-0ad70b4f8ab2 button.colab-df-generate');\n",
              "      buttonEl.style.display =\n",
              "        google.colab.kernel.accessAllowed ? 'block' : 'none';\n",
              "\n",
              "      buttonEl.onclick = () => {\n",
              "        google.colab.notebook.generateWithVariable('data_small');\n",
              "      }\n",
              "      })();\n",
              "    </script>\n",
              "  </div>\n",
              "\n",
              "    </div>\n",
              "  </div>\n"
            ],
            "application/vnd.google.colaboratory.intrinsic+json": {
              "type": "dataframe",
              "variable_name": "data_small",
              "summary": "{\n  \"name\": \"data_small\",\n  \"rows\": 8,\n  \"fields\": [\n    {\n      \"column\": \"ProductID\",\n      \"properties\": {\n        \"dtype\": \"number\",\n        \"std\": 2,\n        \"min\": 1,\n        \"max\": 8,\n        \"num_unique_values\": 8,\n        \"samples\": [\n          2,\n          6,\n          1\n        ],\n        \"semantic_type\": \"\",\n        \"description\": \"\"\n      }\n    },\n    {\n      \"column\": \"OrderID\",\n      \"properties\": {\n        \"dtype\": \"number\",\n        \"std\": 138,\n        \"min\": 101,\n        \"max\": 501,\n        \"num_unique_values\": 4,\n        \"samples\": [\n          301,\n          501,\n          101\n        ],\n        \"semantic_type\": \"\",\n        \"description\": \"\"\n      }\n    },\n    {\n      \"column\": \"Product\",\n      \"properties\": {\n        \"dtype\": \"string\",\n        \"num_unique_values\": 8,\n        \"samples\": [\n          \"book\",\n          \"label\",\n          \"pencil\"\n        ],\n        \"semantic_type\": \"\",\n        \"description\": \"\"\n      }\n    },\n    {\n      \"column\": \"Price\",\n      \"properties\": {\n        \"dtype\": \"number\",\n        \"std\": 4.187805425961704,\n        \"min\": 1.55,\n        \"max\": 14.0,\n        \"num_unique_values\": 8,\n        \"samples\": [\n          9.5,\n          2.0,\n          4.99\n        ],\n        \"semantic_type\": \"\",\n        \"description\": \"\"\n      }\n    }\n  ]\n}"
            }
          },
          "metadata": {},
          "execution_count": 22
        }
      ]
    },
    {
      "cell_type": "code",
      "source": [
        "#Create DF From Pandas\n",
        "spark.conf.set(\"spark.sql.execution.arrow.enabled\",\"true\")\n",
        "df_skew = spark.createDataFrame(data_skew)\n",
        "df_skew.printSchema()\n",
        "df_skew.show()\n",
        "df_skew.rdd.getNumPartitions()"
      ],
      "metadata": {
        "colab": {
          "base_uri": "https://localhost:8080/"
        },
        "id": "OYJA00b5Utw1",
        "outputId": "fb6e4981-28cf-49a3-a572-a7d14fef9f7a"
      },
      "execution_count": 23,
      "outputs": [
        {
          "output_type": "stream",
          "name": "stdout",
          "text": [
            "root\n",
            " |-- OrderID: long (nullable = true)\n",
            " |-- Qty: long (nullable = true)\n",
            " |-- Sales: long (nullable = true)\n",
            " |-- Discount: long (nullable = true)\n",
            "\n",
            "+-------+---+-----+--------+\n",
            "|OrderID|Qty|Sales|Discount|\n",
            "+-------+---+-----+--------+\n",
            "|    201| 66|   70|       1|\n",
            "|    301|137| 2025|       1|\n",
            "|    201|147| 3056|       0|\n",
            "|    101|187| 1691|       0|\n",
            "|    201|198|  548|       1|\n",
            "|    201| 81| 3309|       0|\n",
            "|    201|193|   56|       0|\n",
            "|    201| 91| 3350|       0|\n",
            "|    301|128| 2929|       0|\n",
            "|    201|930| 1408|       1|\n",
            "|    401| 25|  818|       1|\n",
            "|    201|121| 1164|       1|\n",
            "|    301| 42|  505|       1|\n",
            "|    401| 37|  755|       1|\n",
            "+-------+---+-----+--------+\n",
            "\n"
          ]
        },
        {
          "output_type": "execute_result",
          "data": {
            "text/plain": [
              "2"
            ]
          },
          "metadata": {},
          "execution_count": 23
        }
      ]
    },
    {
      "cell_type": "code",
      "source": [
        "df_small=spark.createDataFrame(data_small)\n",
        "df_small.printSchema()\n",
        "df_small.show()\n",
        "df_small.rdd.getNumPartitions()"
      ],
      "metadata": {
        "colab": {
          "base_uri": "https://localhost:8080/"
        },
        "id": "6-cEsK9rW89Y",
        "outputId": "d0059582-ce80-488f-c1db-d32d0c23eb8e"
      },
      "execution_count": 24,
      "outputs": [
        {
          "output_type": "stream",
          "name": "stdout",
          "text": [
            "root\n",
            " |-- ProductID: long (nullable = true)\n",
            " |-- OrderID: long (nullable = true)\n",
            " |-- Product: string (nullable = true)\n",
            " |-- Price: double (nullable = true)\n",
            "\n",
            "+---------+-------+----------+-----+\n",
            "|ProductID|OrderID|   Product|Price|\n",
            "+---------+-------+----------+-----+\n",
            "|        1|    101|    pencil| 4.99|\n",
            "|        2|    101|      book|  9.5|\n",
            "|        3|    101|  scissors| 14.0|\n",
            "|        4|    301|      glue|  7.0|\n",
            "|        5|    201|    marker| 8.49|\n",
            "|        6|    301|     label|  2.0|\n",
            "|        7|    201|calculator| 3.99|\n",
            "|        8|    501|    eraser| 1.55|\n",
            "+---------+-------+----------+-----+\n",
            "\n"
          ]
        },
        {
          "output_type": "execute_result",
          "data": {
            "text/plain": [
              "2"
            ]
          },
          "metadata": {},
          "execution_count": 24
        }
      ]
    },
    {
      "cell_type": "code",
      "source": [],
      "metadata": {
        "id": "d1aPsCaJXTDz"
      },
      "execution_count": 24,
      "outputs": []
    },
    {
      "cell_type": "markdown",
      "source": [
        "# Run a shuffle join with small sized data"
      ],
      "metadata": {
        "id": "BYwP42nEXw0B"
      }
    },
    {
      "cell_type": "code",
      "source": [
        "joined_df = df_skew.join(df_small,df_skew.OrderID==df_small.OrderID,how=\"inner\")\n",
        "joined_df.show()"
      ],
      "metadata": {
        "colab": {
          "base_uri": "https://localhost:8080/"
        },
        "id": "1tMdFW1JX2rS",
        "outputId": "7462dddd-fd00-4fcf-a761-e0e5b2461b96"
      },
      "execution_count": 25,
      "outputs": [
        {
          "output_type": "stream",
          "name": "stdout",
          "text": [
            "+-------+---+-----+--------+---------+-------+----------+-----+\n",
            "|OrderID|Qty|Sales|Discount|ProductID|OrderID|   Product|Price|\n",
            "+-------+---+-----+--------+---------+-------+----------+-----+\n",
            "|    201| 66|   70|       1|        7|    201|calculator| 3.99|\n",
            "|    201| 66|   70|       1|        5|    201|    marker| 8.49|\n",
            "|    301|137| 2025|       1|        6|    301|     label|  2.0|\n",
            "|    301|137| 2025|       1|        4|    301|      glue|  7.0|\n",
            "|    201|147| 3056|       0|        7|    201|calculator| 3.99|\n",
            "|    201|147| 3056|       0|        5|    201|    marker| 8.49|\n",
            "|    101|187| 1691|       0|        3|    101|  scissors| 14.0|\n",
            "|    101|187| 1691|       0|        2|    101|      book|  9.5|\n",
            "|    101|187| 1691|       0|        1|    101|    pencil| 4.99|\n",
            "|    201|198|  548|       1|        7|    201|calculator| 3.99|\n",
            "|    201|198|  548|       1|        5|    201|    marker| 8.49|\n",
            "|    201| 81| 3309|       0|        7|    201|calculator| 3.99|\n",
            "|    201| 81| 3309|       0|        5|    201|    marker| 8.49|\n",
            "|    201|193|   56|       0|        7|    201|calculator| 3.99|\n",
            "|    201|193|   56|       0|        5|    201|    marker| 8.49|\n",
            "|    201| 91| 3350|       0|        7|    201|calculator| 3.99|\n",
            "|    201| 91| 3350|       0|        5|    201|    marker| 8.49|\n",
            "|    301|128| 2929|       0|        6|    301|     label|  2.0|\n",
            "|    301|128| 2929|       0|        4|    301|      glue|  7.0|\n",
            "|    201|930| 1408|       1|        7|    201|calculator| 3.99|\n",
            "+-------+---+-----+--------+---------+-------+----------+-----+\n",
            "only showing top 20 rows\n",
            "\n"
          ]
        }
      ]
    },
    {
      "cell_type": "code",
      "source": [
        "# df increases the partition number to 200 automatically when spark performs data shuffling(join,aggregation)\n",
        "print(joined_df.rdd.getNumPartitions())\n",
        "joined_df.rdd.glom().collect()"
      ],
      "metadata": {
        "colab": {
          "base_uri": "https://localhost:8080/"
        },
        "id": "WuahSp4NYJz0",
        "outputId": "c8ac67a0-a2ae-4ae5-ecae-7beb21fc70fc"
      },
      "execution_count": 26,
      "outputs": [
        {
          "output_type": "stream",
          "name": "stdout",
          "text": [
            "2\n"
          ]
        },
        {
          "output_type": "execute_result",
          "data": {
            "text/plain": [
              "[[Row(OrderID=201, Qty=66, Sales=70, Discount=1, ProductID=7, OrderID=201, Product='calculator', Price=3.99),\n",
              "  Row(OrderID=201, Qty=66, Sales=70, Discount=1, ProductID=5, OrderID=201, Product='marker', Price=8.49),\n",
              "  Row(OrderID=301, Qty=137, Sales=2025, Discount=1, ProductID=6, OrderID=301, Product='label', Price=2.0),\n",
              "  Row(OrderID=301, Qty=137, Sales=2025, Discount=1, ProductID=4, OrderID=301, Product='glue', Price=7.0),\n",
              "  Row(OrderID=201, Qty=147, Sales=3056, Discount=0, ProductID=7, OrderID=201, Product='calculator', Price=3.99),\n",
              "  Row(OrderID=201, Qty=147, Sales=3056, Discount=0, ProductID=5, OrderID=201, Product='marker', Price=8.49),\n",
              "  Row(OrderID=101, Qty=187, Sales=1691, Discount=0, ProductID=3, OrderID=101, Product='scissors', Price=14.0),\n",
              "  Row(OrderID=101, Qty=187, Sales=1691, Discount=0, ProductID=2, OrderID=101, Product='book', Price=9.5),\n",
              "  Row(OrderID=101, Qty=187, Sales=1691, Discount=0, ProductID=1, OrderID=101, Product='pencil', Price=4.99),\n",
              "  Row(OrderID=201, Qty=198, Sales=548, Discount=1, ProductID=7, OrderID=201, Product='calculator', Price=3.99),\n",
              "  Row(OrderID=201, Qty=198, Sales=548, Discount=1, ProductID=5, OrderID=201, Product='marker', Price=8.49),\n",
              "  Row(OrderID=201, Qty=81, Sales=3309, Discount=0, ProductID=7, OrderID=201, Product='calculator', Price=3.99),\n",
              "  Row(OrderID=201, Qty=81, Sales=3309, Discount=0, ProductID=5, OrderID=201, Product='marker', Price=8.49),\n",
              "  Row(OrderID=201, Qty=193, Sales=56, Discount=0, ProductID=7, OrderID=201, Product='calculator', Price=3.99),\n",
              "  Row(OrderID=201, Qty=193, Sales=56, Discount=0, ProductID=5, OrderID=201, Product='marker', Price=8.49)],\n",
              " [Row(OrderID=201, Qty=91, Sales=3350, Discount=0, ProductID=7, OrderID=201, Product='calculator', Price=3.99),\n",
              "  Row(OrderID=201, Qty=91, Sales=3350, Discount=0, ProductID=5, OrderID=201, Product='marker', Price=8.49),\n",
              "  Row(OrderID=301, Qty=128, Sales=2929, Discount=0, ProductID=6, OrderID=301, Product='label', Price=2.0),\n",
              "  Row(OrderID=301, Qty=128, Sales=2929, Discount=0, ProductID=4, OrderID=301, Product='glue', Price=7.0),\n",
              "  Row(OrderID=201, Qty=930, Sales=1408, Discount=1, ProductID=7, OrderID=201, Product='calculator', Price=3.99),\n",
              "  Row(OrderID=201, Qty=930, Sales=1408, Discount=1, ProductID=5, OrderID=201, Product='marker', Price=8.49),\n",
              "  Row(OrderID=201, Qty=121, Sales=1164, Discount=1, ProductID=7, OrderID=201, Product='calculator', Price=3.99),\n",
              "  Row(OrderID=201, Qty=121, Sales=1164, Discount=1, ProductID=5, OrderID=201, Product='marker', Price=8.49),\n",
              "  Row(OrderID=301, Qty=42, Sales=505, Discount=1, ProductID=6, OrderID=301, Product='label', Price=2.0),\n",
              "  Row(OrderID=301, Qty=42, Sales=505, Discount=1, ProductID=4, OrderID=301, Product='glue', Price=7.0)]]"
            ]
          },
          "metadata": {},
          "execution_count": 26
        }
      ]
    },
    {
      "cell_type": "code",
      "source": [
        "spark.conf.set(\"spark.sql.shuffle.partitions\",8)\n",
        "\n",
        "# run_join()\n",
        "\n",
        "joined_df = df_skew.join(df_small,df_skew.OrderID==df_small.OrderID,how=\"inner\")\n",
        "joined_df.show\n",
        "\n",
        "print(joined_df.rdd.getNumPartitions())\n",
        "joined_df.rdd.glom().collect()"
      ],
      "metadata": {
        "colab": {
          "base_uri": "https://localhost:8080/"
        },
        "id": "wW1bGagLYmAI",
        "outputId": "89d55a29-1057-4867-d7ad-b856e5e4439d"
      },
      "execution_count": 27,
      "outputs": [
        {
          "output_type": "stream",
          "name": "stdout",
          "text": [
            "2\n"
          ]
        },
        {
          "output_type": "execute_result",
          "data": {
            "text/plain": [
              "[[Row(OrderID=201, Qty=66, Sales=70, Discount=1, ProductID=7, OrderID=201, Product='calculator', Price=3.99),\n",
              "  Row(OrderID=201, Qty=66, Sales=70, Discount=1, ProductID=5, OrderID=201, Product='marker', Price=8.49),\n",
              "  Row(OrderID=301, Qty=137, Sales=2025, Discount=1, ProductID=6, OrderID=301, Product='label', Price=2.0),\n",
              "  Row(OrderID=301, Qty=137, Sales=2025, Discount=1, ProductID=4, OrderID=301, Product='glue', Price=7.0),\n",
              "  Row(OrderID=201, Qty=147, Sales=3056, Discount=0, ProductID=7, OrderID=201, Product='calculator', Price=3.99),\n",
              "  Row(OrderID=201, Qty=147, Sales=3056, Discount=0, ProductID=5, OrderID=201, Product='marker', Price=8.49),\n",
              "  Row(OrderID=101, Qty=187, Sales=1691, Discount=0, ProductID=3, OrderID=101, Product='scissors', Price=14.0),\n",
              "  Row(OrderID=101, Qty=187, Sales=1691, Discount=0, ProductID=2, OrderID=101, Product='book', Price=9.5),\n",
              "  Row(OrderID=101, Qty=187, Sales=1691, Discount=0, ProductID=1, OrderID=101, Product='pencil', Price=4.99),\n",
              "  Row(OrderID=201, Qty=198, Sales=548, Discount=1, ProductID=7, OrderID=201, Product='calculator', Price=3.99),\n",
              "  Row(OrderID=201, Qty=198, Sales=548, Discount=1, ProductID=5, OrderID=201, Product='marker', Price=8.49),\n",
              "  Row(OrderID=201, Qty=81, Sales=3309, Discount=0, ProductID=7, OrderID=201, Product='calculator', Price=3.99),\n",
              "  Row(OrderID=201, Qty=81, Sales=3309, Discount=0, ProductID=5, OrderID=201, Product='marker', Price=8.49),\n",
              "  Row(OrderID=201, Qty=193, Sales=56, Discount=0, ProductID=7, OrderID=201, Product='calculator', Price=3.99),\n",
              "  Row(OrderID=201, Qty=193, Sales=56, Discount=0, ProductID=5, OrderID=201, Product='marker', Price=8.49)],\n",
              " [Row(OrderID=201, Qty=91, Sales=3350, Discount=0, ProductID=7, OrderID=201, Product='calculator', Price=3.99),\n",
              "  Row(OrderID=201, Qty=91, Sales=3350, Discount=0, ProductID=5, OrderID=201, Product='marker', Price=8.49),\n",
              "  Row(OrderID=301, Qty=128, Sales=2929, Discount=0, ProductID=6, OrderID=301, Product='label', Price=2.0),\n",
              "  Row(OrderID=301, Qty=128, Sales=2929, Discount=0, ProductID=4, OrderID=301, Product='glue', Price=7.0),\n",
              "  Row(OrderID=201, Qty=930, Sales=1408, Discount=1, ProductID=7, OrderID=201, Product='calculator', Price=3.99),\n",
              "  Row(OrderID=201, Qty=930, Sales=1408, Discount=1, ProductID=5, OrderID=201, Product='marker', Price=8.49),\n",
              "  Row(OrderID=201, Qty=121, Sales=1164, Discount=1, ProductID=7, OrderID=201, Product='calculator', Price=3.99),\n",
              "  Row(OrderID=201, Qty=121, Sales=1164, Discount=1, ProductID=5, OrderID=201, Product='marker', Price=8.49),\n",
              "  Row(OrderID=301, Qty=42, Sales=505, Discount=1, ProductID=6, OrderID=301, Product='label', Price=2.0),\n",
              "  Row(OrderID=301, Qty=42, Sales=505, Discount=1, ProductID=4, OrderID=301, Product='glue', Price=7.0)]]"
            ]
          },
          "metadata": {},
          "execution_count": 27
        }
      ]
    },
    {
      "cell_type": "code",
      "source": [
        "#Perform a join() and descriptive statistics on a skewd data\n",
        "from pyspark.sql.functions import *\n",
        "\n",
        "groups=df_skew.join(df_small,df_skew.OrderID==df_small.OrderID,how=\"inner\")\n",
        "\n",
        "summary=groups.select(mean(groups.Sales).alias('Avg_sales'),\n",
        "                      stddev(groups.Sales).alias('STD_sales'),\n",
        "                      min(groups.Sales).alias('Min_sales'),\n",
        "                      max(groups.Sales).alias('max_sales'))\n",
        "summary.show()"
      ],
      "metadata": {
        "colab": {
          "base_uri": "https://localhost:8080/"
        },
        "id": "VLw6TS-WZeOR",
        "outputId": "f3f141be-a83e-4043-db2b-06c5be6643fc"
      },
      "execution_count": 28,
      "outputs": [
        {
          "output_type": "stream",
          "name": "stdout",
          "text": [
            "+---------+------------------+---------+---------+\n",
            "|Avg_sales|         STD_sales|Min_sales|max_sales|\n",
            "+---------+------------------+---------+---------+\n",
            "|  1676.52|1198.8445173026678|       56|     3350|\n",
            "+---------+------------------+---------+---------+\n",
            "\n"
          ]
        }
      ]
    },
    {
      "cell_type": "code",
      "source": [],
      "metadata": {
        "id": "VbEDIvECaiS6"
      },
      "execution_count": 28,
      "outputs": []
    },
    {
      "cell_type": "markdown",
      "source": [
        "#Mitigate a skewness : SALTING"
      ],
      "metadata": {
        "id": "FKZbquszalYF"
      }
    },
    {
      "cell_type": "code",
      "source": [
        "from pyspark.sql.functions import *\n",
        "\n",
        "#Adding random values [0 2]\n",
        "df_skew_salting = df_skew.withColumn(\"_salt_\",round(rand()*2))\n",
        "df_small_salting = df_small.withColumn(\"_salt_\",round(rand()*2))\n",
        "\n",
        "df_skew_salting.show()\n",
        "df_small_salting.show()"
      ],
      "metadata": {
        "colab": {
          "base_uri": "https://localhost:8080/"
        },
        "id": "4Ol4ZqiHapKG",
        "outputId": "3be1d47f-532f-4431-e2b4-5cf7bca79b62"
      },
      "execution_count": 29,
      "outputs": [
        {
          "output_type": "stream",
          "name": "stdout",
          "text": [
            "+-------+---+-----+--------+------+\n",
            "|OrderID|Qty|Sales|Discount|_salt_|\n",
            "+-------+---+-----+--------+------+\n",
            "|    201| 66|   70|       1|   2.0|\n",
            "|    301|137| 2025|       1|   2.0|\n",
            "|    201|147| 3056|       0|   1.0|\n",
            "|    101|187| 1691|       0|   2.0|\n",
            "|    201|198|  548|       1|   2.0|\n",
            "|    201| 81| 3309|       0|   1.0|\n",
            "|    201|193|   56|       0|   0.0|\n",
            "|    201| 91| 3350|       0|   0.0|\n",
            "|    301|128| 2929|       0|   0.0|\n",
            "|    201|930| 1408|       1|   1.0|\n",
            "|    401| 25|  818|       1|   1.0|\n",
            "|    201|121| 1164|       1|   0.0|\n",
            "|    301| 42|  505|       1|   1.0|\n",
            "|    401| 37|  755|       1|   0.0|\n",
            "+-------+---+-----+--------+------+\n",
            "\n",
            "+---------+-------+----------+-----+------+\n",
            "|ProductID|OrderID|   Product|Price|_salt_|\n",
            "+---------+-------+----------+-----+------+\n",
            "|        1|    101|    pencil| 4.99|   2.0|\n",
            "|        2|    101|      book|  9.5|   1.0|\n",
            "|        3|    101|  scissors| 14.0|   2.0|\n",
            "|        4|    301|      glue|  7.0|   1.0|\n",
            "|        5|    201|    marker| 8.49|   1.0|\n",
            "|        6|    301|     label|  2.0|   1.0|\n",
            "|        7|    201|calculator| 3.99|   0.0|\n",
            "|        8|    501|    eraser| 1.55|   1.0|\n",
            "+---------+-------+----------+-----+------+\n",
            "\n"
          ]
        }
      ]
    },
    {
      "cell_type": "code",
      "source": [
        "#Rpartition using __salt__:\n",
        "\n",
        "df_skew_salting=df_skew_salting.repartition(3,\"_salt_\")\n",
        "df_small_salting=df_small_salting.repartition(3,\"_salt_\")\n",
        "\n",
        "print(df_skew_salting.rdd.glom().collect())"
      ],
      "metadata": {
        "colab": {
          "base_uri": "https://localhost:8080/"
        },
        "id": "4PLrk8lwbc4g",
        "outputId": "9b17b3fe-de2a-4889-ae8d-463e61d2080b"
      },
      "execution_count": 30,
      "outputs": [
        {
          "output_type": "stream",
          "name": "stdout",
          "text": [
            "[[Row(OrderID=201, Qty=66, Sales=70, Discount=1, _salt_=2.0), Row(OrderID=301, Qty=137, Sales=2025, Discount=1, _salt_=2.0), Row(OrderID=101, Qty=187, Sales=1691, Discount=0, _salt_=2.0), Row(OrderID=201, Qty=198, Sales=548, Discount=1, _salt_=2.0)], [Row(OrderID=201, Qty=193, Sales=56, Discount=0, _salt_=0.0), Row(OrderID=201, Qty=91, Sales=3350, Discount=0, _salt_=0.0), Row(OrderID=301, Qty=128, Sales=2929, Discount=0, _salt_=0.0), Row(OrderID=201, Qty=121, Sales=1164, Discount=1, _salt_=0.0), Row(OrderID=401, Qty=37, Sales=755, Discount=1, _salt_=0.0)], [Row(OrderID=201, Qty=147, Sales=3056, Discount=0, _salt_=1.0), Row(OrderID=201, Qty=81, Sales=3309, Discount=0, _salt_=1.0), Row(OrderID=201, Qty=930, Sales=1408, Discount=1, _salt_=1.0), Row(OrderID=401, Qty=25, Sales=818, Discount=1, _salt_=1.0), Row(OrderID=301, Qty=42, Sales=505, Discount=1, _salt_=1.0)]]\n"
          ]
        }
      ]
    },
    {
      "cell_type": "code",
      "source": [
        "print(df_small_salting.rdd.glom().collect())"
      ],
      "metadata": {
        "colab": {
          "base_uri": "https://localhost:8080/"
        },
        "id": "imuD-bUUb51b",
        "outputId": "64c21446-791b-495a-ccde-351776fca178"
      },
      "execution_count": 31,
      "outputs": [
        {
          "output_type": "stream",
          "name": "stdout",
          "text": [
            "[[Row(ProductID=1, OrderID=101, Product='pencil', Price=4.99, _salt_=2.0), Row(ProductID=3, OrderID=101, Product='scissors', Price=14.0, _salt_=2.0)], [Row(ProductID=7, OrderID=201, Product='calculator', Price=3.99, _salt_=0.0)], [Row(ProductID=2, OrderID=101, Product='book', Price=9.5, _salt_=1.0), Row(ProductID=4, OrderID=301, Product='glue', Price=7.0, _salt_=1.0), Row(ProductID=5, OrderID=201, Product='marker', Price=8.49, _salt_=1.0), Row(ProductID=6, OrderID=301, Product='label', Price=2.0, _salt_=1.0), Row(ProductID=8, OrderID=501, Product='eraser', Price=1.55, _salt_=1.0)]]\n"
          ]
        }
      ]
    },
    {
      "cell_type": "code",
      "source": [
        "# apply join ()\n",
        "\n",
        "df_skew_salting.drop(\"_salt_\")\n",
        "df_small_salting.drop(\"_salt_\")\n",
        "\n",
        "groups=df_skew.join(df_small_salting,df_skew_salting.OrderID==df_small_salting.OrderID,how=\"inner\")\n",
        "\n",
        "summary=groups.select(mean(groups.Sales).alias('Avg_sales'),\n",
        "                      stddev(groups.Sales).alias('STD_sales'),\n",
        "                      min(groups.Sales).alias('Min_sales'),\n",
        "                      max(groups.Sales).alias('max_sales'))\n",
        "summary.show()"
      ],
      "metadata": {
        "colab": {
          "base_uri": "https://localhost:8080/"
        },
        "id": "K8fn_5gmb--d",
        "outputId": "6c8e289e-e199-43f9-ce6a-878a3698c2d1"
      },
      "execution_count": 32,
      "outputs": [
        {
          "output_type": "stream",
          "name": "stdout",
          "text": [
            "+---------+------------------+---------+---------+\n",
            "|Avg_sales|         STD_sales|Min_sales|max_sales|\n",
            "+---------+------------------+---------+---------+\n",
            "|  1676.52|1198.8445173026678|       56|     3350|\n",
            "+---------+------------------+---------+---------+\n",
            "\n"
          ]
        }
      ]
    },
    {
      "cell_type": "code",
      "source": [],
      "metadata": {
        "id": "dFHWLSMWco1w"
      },
      "execution_count": 32,
      "outputs": []
    },
    {
      "cell_type": "markdown",
      "source": [
        "# Run a shuffle join() to see how the skew effects computation resources\n",
        "\n"
      ],
      "metadata": {
        "id": "rVzcivk9dBf7"
      }
    },
    {
      "cell_type": "code",
      "source": [
        "#Perform a join() and descriptive statistics on a skewd data\n",
        "from pyspark.sql.functions import *\n",
        "\n",
        "spark.conf.set(\"spark.sql.shuffle.partitions\",8)\n",
        "\n",
        "groups=df_skew.join(df_small,df_skew.OrderID==df_small.OrderID,how=\"inner\")\n",
        "\n",
        "summary=groups.select(mean(groups.Sales).alias('Avg_sales'),\n",
        "                      stddev(groups.Sales).alias('STD_sales'),\n",
        "                      min(groups.Sales).alias('Min_sales'),\n",
        "                      max(groups.Sales).alias('max_sales'))\n",
        "summary.show()"
      ],
      "metadata": {
        "colab": {
          "base_uri": "https://localhost:8080/"
        },
        "id": "ThAIYIM0dMVQ",
        "outputId": "ac32ea43-d6d4-450e-9ff1-0d4774e48d00"
      },
      "execution_count": 33,
      "outputs": [
        {
          "output_type": "stream",
          "name": "stdout",
          "text": [
            "+---------+------------------+---------+---------+\n",
            "|Avg_sales|         STD_sales|Min_sales|max_sales|\n",
            "+---------+------------------+---------+---------+\n",
            "|  1676.52|1198.8445173026678|       56|     3350|\n",
            "+---------+------------------+---------+---------+\n",
            "\n"
          ]
        }
      ]
    },
    {
      "cell_type": "markdown",
      "source": [
        "#Mitigating data skewness : salting\n",
        "\n"
      ],
      "metadata": {
        "id": "E1YxSz05eMZV"
      }
    },
    {
      "cell_type": "code",
      "source": [
        "from pyspark.sql.functions import *\n",
        "\n",
        "spark.conf.set(\"spark.sql.shuffle.partitions\",8)\n",
        "\n",
        "from pyspark.sql.functions import *\n",
        "\n",
        "#Adding random values [0 7]\n",
        "df_skew_salting = df_skew.withColumn(\"_salt_\",round(rand()*7))\n",
        "df_small_salting = df_small.withColumn(\"_salt_\",round(rand()*7))\n",
        "\n",
        "#Repartition using _salt__\n",
        "df_skew_salting = df_skew_salting.repartition(8,\"_salt_\")\n",
        "df_small_salting = df_small_salting.repartition(8,\"_salt_\")\n",
        "\n",
        "# drop salting\n",
        "df_skew_salting.drop(\"_salt_\")\n",
        "df_small_salting.drop(\"_salt_\")\n",
        "\n",
        "#apply Join\n",
        "groups = df_skew_salting.join(df_small_salting,df_skew_salting.OrderID==df_small_salting.OrderID,how=\"inner\")\n",
        "\n",
        "summary=groups.select(mean(groups.Sales).alias(\"Avg(sales)\"),\n",
        "                      stddev(groups.Sales).alias(\"STD(sales)\"),\n",
        "                      min(groups.Sales).alias(\"MIN(sales)\"),\n",
        "                      max(groups.Sales).alias(\"MAX(sales)\"),\n",
        ")\n",
        "summary.show()"
      ],
      "metadata": {
        "colab": {
          "base_uri": "https://localhost:8080/"
        },
        "id": "xImUBB5qd12P",
        "outputId": "ead0a739-0556-4de7-e918-871970bc8696"
      },
      "execution_count": 34,
      "outputs": [
        {
          "output_type": "stream",
          "name": "stdout",
          "text": [
            "+----------+------------------+----------+----------+\n",
            "|Avg(sales)|        STD(sales)|MIN(sales)|MAX(sales)|\n",
            "+----------+------------------+----------+----------+\n",
            "|   1676.52|1198.8445173026678|        56|      3350|\n",
            "+----------+------------------+----------+----------+\n",
            "\n"
          ]
        }
      ]
    },
    {
      "cell_type": "code",
      "source": [],
      "metadata": {
        "id": "3xbbYOqJfCfU"
      },
      "execution_count": 34,
      "outputs": []
    },
    {
      "cell_type": "markdown",
      "source": [
        "# Mitigate data skewness : Broadcast hash join"
      ],
      "metadata": {
        "id": "lsCxtaugPy6w"
      }
    },
    {
      "cell_type": "code",
      "source": [
        "from pyspark.sql.functions import *\n",
        "\n",
        "groups_brd = df_skew.join(broadcast(df_small), df_skew.OrderID == df_small.OrderID,how='inner')\n",
        "\n",
        "summary=groups_brd.select(mean(groups.Sales).alias(\"Avg(sales)\"),\n",
        "                      stddev(groups.Sales).alias(\"STD(sales)\"),\n",
        "                      min(groups.Sales).alias(\"MIN(sales)\"),\n",
        "                      max(groups.Sales).alias(\"MAX(sales)\"),\n",
        ")\n",
        "summary.show()\n"
      ],
      "metadata": {
        "colab": {
          "base_uri": "https://localhost:8080/"
        },
        "id": "_745U9rjP7dz",
        "outputId": "c98bea50-162a-40b4-94f2-8d346e0cf12b"
      },
      "execution_count": 35,
      "outputs": [
        {
          "output_type": "stream",
          "name": "stdout",
          "text": [
            "+----------+------------------+----------+----------+\n",
            "|Avg(sales)|        STD(sales)|MIN(sales)|MAX(sales)|\n",
            "+----------+------------------+----------+----------+\n",
            "|   1676.52|1198.8445173026678|        56|      3350|\n",
            "+----------+------------------+----------+----------+\n",
            "\n"
          ]
        }
      ]
    },
    {
      "cell_type": "code",
      "source": [],
      "metadata": {
        "id": "vBNt5NpjQo9M"
      },
      "execution_count": 35,
      "outputs": []
    },
    {
      "cell_type": "markdown",
      "source": [
        "# Mitigate data skewness : AQE (spark V3.x)"
      ],
      "metadata": {
        "id": "Od4S-y5iqq45"
      }
    },
    {
      "cell_type": "code",
      "source": [
        "spark.conf.set(\"spark.sql.adaptive.enabled\",True)\n",
        "spark.conf.set(\"spark.sql.adaptive.skewJoin.enabled\",True)\n",
        "spark.conf.set(\"spark.sql.adaptive.skewjoin.skewPatittionThresholdInBytes\",\"256mb\")\n"
      ],
      "metadata": {
        "id": "i1pdTtFwq0-u"
      },
      "execution_count": 36,
      "outputs": []
    },
    {
      "cell_type": "code",
      "source": [],
      "metadata": {
        "id": "T84WeGX0rNiM"
      },
      "execution_count": null,
      "outputs": []
    }
  ]
}