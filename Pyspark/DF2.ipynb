{
 "cells": [
  {
   "cell_type": "code",
   "execution_count": 1,
   "metadata": {},
   "outputs": [],
   "source": [
    "! pip3 install -q findspark\n",
    "import findspark\n",
    "findspark.init()"
   ]
  },
  {
   "cell_type": "code",
   "execution_count": 2,
   "metadata": {},
   "outputs": [],
   "source": [
    "import pyspark\n",
    "from pyspark.sql import SparkSession"
   ]
  },
  {
   "cell_type": "code",
   "execution_count": 3,
   "metadata": {},
   "outputs": [
    {
     "data": {
      "text/html": [
       "\n",
       "            <div>\n",
       "                <p><b>SparkSession - in-memory</b></p>\n",
       "                \n",
       "        <div>\n",
       "            <p><b>SparkContext</b></p>\n",
       "\n",
       "            <p><a href=\"http://192.168.65.132:4041\">Spark UI</a></p>\n",
       "\n",
       "            <dl>\n",
       "              <dt>Version</dt>\n",
       "                <dd><code>v3.0.0</code></dd>\n",
       "              <dt>Master</dt>\n",
       "                <dd><code>local[*]</code></dd>\n",
       "              <dt>AppName</dt>\n",
       "                <dd><code>clustername</code></dd>\n",
       "            </dl>\n",
       "        </div>\n",
       "        \n",
       "            </div>\n",
       "        "
      ],
      "text/plain": [
       "<pyspark.sql.session.SparkSession at 0x7f9ad47e3b50>"
      ]
     },
     "execution_count": 3,
     "metadata": {},
     "output_type": "execute_result"
    }
   ],
   "source": [
    "spark=SparkSession.builder.master(\"local[*]\").appName(\"clustername\").getOrCreate()\n",
    "spark"
   ]
  },
  {
   "cell_type": "code",
   "execution_count": 4,
   "metadata": {},
   "outputs": [
    {
     "name": "stdout",
     "output_type": "stream",
     "text": [
      "+---+-----------------+---+--------------------+-----------+--------------------+-------+---------+--------------+--------------------+------+-----+-------+------------+----------+-------+-------+------------+---------+--------+-----+---------+---------+------------------+---------+-----------+----------+--------------+-----------+----------------+-------------+-------+------------+----------+-------+---------+-----------+---------+-------------+----------+--------------+------------+-------+---------------+--------+------+-------+----+----+----+----+----+-----+----+----+----+----+----+----+----+----+----+----+-------------------+----+----+----+----+----+----+----+----+----+----+----+\n",
      "|_c0|             Name|Age|               Photo|Nationality|                Flag|Overall|Potential|          Club|           Club Logo| Value| Wage|Special|Acceleration|Aggression|Agility|Balance|Ball control|Composure|Crossing|Curve|Dribbling|Finishing|Free kick accuracy|GK diving|GK handling|GK kicking|GK positioning|GK reflexes|Heading accuracy|Interceptions|Jumping|Long passing|Long shots|Marking|Penalties|Positioning|Reactions|Short passing|Shot power|Sliding tackle|Sprint speed|Stamina|Standing tackle|Strength|Vision|Volleys| CAM|  CB| CDM|  CF|  CM|   ID| LAM|  LB| LCB| LCM| LDM|  LF|  LM|  LS|  LW| LWB|Preferred Positions| RAM|  RB| RCB| RCM| RDM|  RF|  RM|  RS|  RW| RWB|  ST|\n",
      "+---+-----------------+---+--------------------+-----------+--------------------+-------+---------+--------------+--------------------+------+-----+-------+------------+----------+-------+-------+------------+---------+--------+-----+---------+---------+------------------+---------+-----------+----------+--------------+-----------+----------------+-------------+-------+------------+----------+-------+---------+-----------+---------+-------------+----------+--------------+------------+-------+---------------+--------+------+-------+----+----+----+----+----+-----+----+----+----+----+----+----+----+----+----+----+-------------------+----+----+----+----+----+----+----+----+----+----+----+\n",
      "|  0|Cristiano Ronaldo| 32|https://cdn.sofif...|   Portugal|https://cdn.sofif...|     94|       94|Real Madrid CF|https://cdn.sofif...|€95.5M|€565K|   2228|          89|        63|     89|     63|          93|       95|      85|   81|       91|       94|                76|        7|         11|        15|            14|         11|              88|           29|     95|          77|        92|     22|       85|         95|       96|           83|        94|            23|          91|     92|             31|      80|    85|     88|89.0|53.0|62.0|91.0|82.0|20801|89.0|61.0|53.0|82.0|62.0|91.0|89.0|92.0|91.0|66.0|             ST LW |89.0|61.0|53.0|82.0|62.0|91.0|89.0|92.0|91.0|66.0|92.0|\n",
      "+---+-----------------+---+--------------------+-----------+--------------------+-------+---------+--------------+--------------------+------+-----+-------+------------+----------+-------+-------+------------+---------+--------+-----+---------+---------+------------------+---------+-----------+----------+--------------+-----------+----------------+-------------+-------+------------+----------+-------+---------+-----------+---------+-------------+----------+--------------+------------+-------+---------------+--------+------+-------+----+----+----+----+----+-----+----+----+----+----+----+----+----+----+----+----+-------------------+----+----+----+----+----+----+----+----+----+----+----+\n",
      "only showing top 1 row\n",
      "\n"
     ]
    }
   ],
   "source": [
    "df=spark.read.format(\"csv\").load(\"CompleteDataset.csv\",inferSchema=True,header=True)\n",
    "df.show(1)"
   ]
  },
  {
   "cell_type": "code",
   "execution_count": 5,
   "metadata": {},
   "outputs": [
    {
     "name": "stdout",
     "output_type": "stream",
     "text": [
      "2\n"
     ]
    }
   ],
   "source": [
    "# How many partitions ?\n",
    "print(df.rdd.getNumPartitions())\n",
    "# Note\n",
    "# Here we need to convert to RDD from data frame to get the num of partitions"
   ]
  },
  {
   "cell_type": "code",
   "execution_count": 6,
   "metadata": {},
   "outputs": [
    {
     "data": {
      "text/plain": [
       "4"
      ]
     },
     "execution_count": 6,
     "metadata": {},
     "output_type": "execute_result"
    }
   ],
   "source": [
    "# Increases or Dcreases the partition in DF\n",
    "df2 = df.repartition(4)\n",
    "df2.rdd.getNumPartitions()"
   ]
  },
  {
   "cell_type": "code",
   "execution_count": 7,
   "metadata": {},
   "outputs": [],
   "source": [
    "#Show Df\n",
    "# df2.show(1)"
   ]
  },
  {
   "cell_type": "code",
   "execution_count": 8,
   "metadata": {},
   "outputs": [
    {
     "name": "stdout",
     "output_type": "stream",
     "text": [
      "+----+---------------+---+--------------------+-----------+--------------------+-------+---------+--------------------+--------------------+------+-----+-------+------------+----------+-------+-------+------------+---------+--------+-----+---------+---------+------------------+---------+-----------+----------+--------------+-----------+----------------+-------------+-------+------------+----------+-------+---------+-----------+---------+-------------+----------+--------------+------------+-------+---------------+--------+------+-------+----+----+----+----+----+------+----+----+----+----+----+----+----+----+----+----+-------------------+----+----+----+----+----+----+----+----+----+----+----+\n",
      "| _c0|           Name|Age|               Photo|Nationality|                Flag|Overall|Potential|                Club|           Club Logo| Value| Wage|Special|Acceleration|Aggression|Agility|Balance|Ball control|Composure|Crossing|Curve|Dribbling|Finishing|Free kick accuracy|GK diving|GK handling|GK kicking|GK positioning|GK reflexes|Heading accuracy|Interceptions|Jumping|Long passing|Long shots|Marking|Penalties|Positioning|Reactions|Short passing|Shot power|Sliding tackle|Sprint speed|Stamina|Standing tackle|Strength|Vision|Volleys| CAM|  CB| CDM|  CF|  CM|    ID| LAM|  LB| LCB| LCM| LDM|  LF|  LM|  LS|  LW| LWB|Preferred Positions| RAM|  RB| RCB| RCM| RDM|  RF|  RM|  RS|  RW| RWB|  ST|\n",
      "+----+---------------+---+--------------------+-----------+--------------------+-------+---------+--------------------+--------------------+------+-----+-------+------------+----------+-------+-------+------------+---------+--------+-----+---------+---------+------------------+---------+-----------+----------+--------------+-----------+----------------+-------------+-------+------------+----------+-------+---------+-----------+---------+-------------+----------+--------------+------------+-------+---------------+--------+------+-------+----+----+----+----+----+------+----+----+----+----+----+----+----+----+----+----+-------------------+----+----+----+----+----+----+----+----+----+----+----+\n",
      "| 677|     A. Samedov| 32|https://cdn.sofif...|     Russia|https://cdn.sofif...|     79|       79|      Spartak Moscow|https://cdn.sofif...|  €10M| €74K|   2043|          81|        73|     78|     73|          78|       74|      80|   86|       74|       74|                79|        8|          8|         8|            11|         12|              59|           42|     64|          69|        75|     52|       81|         77|       78|           80|        73|            47|          80|     82|             52|      68|    80|     61|77.0|59.0|65.0|77.0|74.0|147621|77.0|65.0|59.0|74.0|65.0|77.0|78.0|74.0|78.0|67.0|                RM |77.0|65.0|59.0|74.0|65.0|77.0|78.0|74.0|78.0|67.0|74.0|\n",
      "| 226|    A. Florenzi| 26|https://cdn.sofif...|      Italy|https://cdn.sofif...|     82|       84|                Roma|https://cdn.sofif...|  €22M| €73K|   2265|          86|        79|     87|     84|          84|       79|      77|   73|       79|       76|                79|        9|          8|        10|            11|         10|              70|           77|     74|          75|        82|     73|       76|         82|       79|           82|        82|            78|          84|     90|             79|      68|    75|     87|80.0|76.0|79.0|80.0|80.0|203551|80.0|80.0|76.0|80.0|79.0|80.0|81.0|79.0|81.0|80.0|          CM RW RB |80.0|80.0|76.0|80.0|79.0|80.0|81.0|79.0|81.0|80.0|79.0|\n",
      "|6642|   Javi Jiménez| 21|https://cdn.sofif...|      Spain|https://cdn.sofif...|     69|       81|Gimnàstic de Tarr...|https://cdn.sofif...| €1.6M|  €5K|   1758|          88|        72|     81|     71|          75|       70|      64|   63|       71|       32|                44|       12|          7|        10|            16|         12|              57|           61|     57|          63|        33|     65|       37|         69|       62|           68|        30|            63|          85|     72|             67|      63|    59|     29|65.0|65.0|66.0|63.0|65.0|228600|65.0|68.0|65.0|65.0|66.0|63.0|68.0|57.0|66.0|68.0|         LWB LM LB |65.0|68.0|65.0|65.0|66.0|63.0|68.0|57.0|66.0|68.0|57.0|\n",
      "|8873|Cristian Rivero| 19|https://cdn.sofif...|      Spain|https://cdn.sofif...|     66|       78|         Valencia CF|https://cdn.sofif...| €875K|  €2K|    918|          20|        27|     38|     37|          17|       31|      14|   11|        8|        7|                14|       71|         60|        62|            62|         68|              10|           12|     65|          23|         8|      7|       18|          4|       62|           22|        16|            11|          29|     20|             10|      54|    22|      9|null|null|null|null|null|241179|null|null|null|null|null|null|null|null|null|null|                GK |null|null|null|null|null|null|null|null|null|null|null|\n",
      "|4854|    A. Trondsen| 22|https://cdn.sofif...|     Norway|https://cdn.sofif...|     70|       79|        Rosenborg BK|https://cdn.sofif...| €2.7M|  €5K|   1932|          79|        75|     81|     76|          66|       64|      71|   68|       66|       48|                68|        9|         14|         7|             7|         15|              50|           69|     57|          70|        70|     61|       60|         62|       68|           71|        73|            63|          77|     87|             64|      65|    70|     45|68.0|64.0|69.0|66.0|69.0|210688|68.0|69.0|64.0|69.0|69.0|66.0|69.0|62.0|67.0|70.0|                CM |68.0|69.0|64.0|69.0|69.0|66.0|69.0|62.0|67.0|70.0|62.0|\n",
      "|4253|      M. Rangel| 26|https://cdn.sofif...|   Colombia|https://cdn.sofif...|     71|       74|        Kasimpaşa SK|https://cdn.sofif...|   €3M|  €4K|   1719|          62|        54|     71|     60|          64|       67|      45|   60|       64|       75|                62|        8|          8|         8|            13|         15|              75|           32|     75|          43|        68|     24|       65|         73|       65|           57|        73|            23|          66|     74|             25|      80|    53|     79|63.0|46.0|46.0|66.0|57.0|214350|63.0|46.0|46.0|57.0|46.0|66.0|61.0|70.0|63.0|48.0|                ST |63.0|46.0|46.0|57.0|46.0|66.0|61.0|70.0|63.0|48.0|70.0|\n",
      "|1492|Adrián González| 29|https://cdn.sofif...|      Spain|https://cdn.sofif...|     76|       76|           Málaga CF|https://cdn.sofif...| €7.5M| €28K|   1994|          61|        70|     68|     66|          81|       67|      74|   81|       76|       77|                69|        6|         15|        12|             6|          7|              70|           68|     66|          74|        70|     59|       80|         73|       78|           77|        58|            64|          63|     71|             66|      63|    74|     51|75.0|67.0|71.0|74.0|75.0|178616|75.0|69.0|67.0|75.0|71.0|74.0|74.0|72.0|74.0|70.0|        LM CDM CAM |75.0|69.0|67.0|75.0|71.0|74.0|74.0|72.0|74.0|70.0|72.0|\n",
      "| 398|    Alex Telles| 24|https://cdn.sofif...|     Brazil|https://cdn.sofif...|     80|       84|            FC Porto|https://cdn.sofif...|  €16M| €15K|   2159|          82|        78|     78|     70|          78|       76|    85+1|   85|       79|     52+2|                77|       13|          8|        12|            11|         14|              67|           76|     81|        81+1|        67|     75|       63|         73|       80|           76|        75|            76|          84|     89|             77|      64|    67|     66|74.0|75.0|77.0|73.0|76.0|212462|74.0|79.0|75.0|76.0|77.0|73.0|77.0|71.0|75.0|80.0|                LB |74.0|79.0|75.0|76.0|77.0|73.0|77.0|71.0|75.0|80.0|71.0|\n",
      "|5616|     D. Álvarez| 38|https://cdn.sofif...|     Mexico|https://cdn.sofif...|     70|       70|     Tigres U.A.N.L.|https://cdn.sofif...| €600K| €29K|   1827|          69|        80|     81|     89|          80|       62|      74|   72|       80|       61|                59|        6|         16|        11|            10|         14|              51|           42|     73|          57|        65|     38|       66|         60|       68|           68|        69|            41|          71|     38|             41|      55|    66|     56|70.0|52.0|55.0|69.0|64.0|156375|70.0|54.0|52.0|64.0|55.0|69.0|69.0|65.0|71.0|57.0|                LM |70.0|54.0|52.0|64.0|55.0|69.0|69.0|65.0|71.0|57.0|65.0|\n",
      "| 119|     M. Benatia| 30|https://cdn.sofif...|    Morocco|https://cdn.sofif...|     84|       84|            Juventus|https://cdn.sofif...|  €23M|€145K|   1764|          72|        82|     59|     51|          65|       78|      45|   34|       64|       45|                27|        7|          4|         8|             7|         11|              80|           84|     82|          65|        24|     86|       41|         38|       78|           65|        59|            84|          76|     68|             86|      89|    47|     31|58.0|82.0|75.0|58.0|62.0|177509|58.0|75.0|82.0|62.0|75.0|58.0|60.0|60.0|58.0|72.0|                CB |58.0|75.0|82.0|62.0|75.0|58.0|60.0|60.0|58.0|72.0|60.0|\n",
      "|2357|      V. Bessat| 31|https://cdn.sofif...|     France|https://cdn.sofif...|     74|       74|             SM Caen|https://cdn.sofif...| €4.9M| €23K|   1956|          75|        62|     76|     74|          75|       71|      79|   54|       75|       58|                57|        6|         16|        10|            12|          9|              53|           46|     73|          75|        71|     71|       58|         70|       76|           75|        67|            69|          72|     64|             72|      70|    74|     62|73.0|66.0|68.0|71.0|72.0|184706|73.0|69.0|66.0|72.0|68.0|71.0|73.0|68.0|73.0|70.0|             LB LM |73.0|69.0|66.0|72.0|68.0|71.0|73.0|68.0|73.0|70.0|68.0|\n",
      "|2684|      K. Laifis| 24|https://cdn.sofif...|     Cyprus|https://cdn.sofif...|     73|       78|   Standard de Liège|https://cdn.sofif...| €4.5M| €13K|   1942|          65|        72|     62|     57|          68|       71|      61|   62|       68|       56|                59|       15|          8|        13|            13|         10|              75|           73|     67|          74|        68|     72|       54|         65|       66|           71|        74|            73|          68|     75|             73|      72|    67|     66|67.0|72.0|72.0|67.0|70.0|234774|67.0|70.0|72.0|70.0|72.0|67.0|67.0|67.0|66.0|70.0|          LM LB CB |67.0|70.0|72.0|70.0|72.0|67.0|67.0|67.0|66.0|70.0|67.0|\n",
      "|2634| S. Palitsevich| 27|https://cdn.sofif...|    Belarus|https://cdn.sofif...|     73|       73|   Gençlerbirliği SK|https://cdn.sofif...| €3.4M| €17K|   1659|          62|        70|     62|     58|          58|       60|      36|   52|       44|       24|                68|       14|          7|        14|             8|          6|              76|           72|     72|          68|        43|     70|       52|         30|       68|           66|        46|            68|          67|     69|             75|      78|    37|     19|51.0|72.0|68.0|48.0|57.0|187655|51.0|66.0|72.0|57.0|68.0|48.0|51.0|49.0|48.0|63.0|                CB |51.0|66.0|72.0|57.0|68.0|48.0|51.0|49.0|48.0|63.0|49.0|\n",
      "|4491|  D. Bottinelli| 30|https://cdn.sofif...|  Argentina|https://cdn.sofif...|     71|       71|  CD America de Cali|https://cdn.sofif...| €2.2M|  €2K|   1804|          54|        54|     78|     76|          77|       64|      71|   75|       67|       57|                78|       15|         12|        14|            14|          6|              39|           58|     58|          69|        75|     25|       76|         65|       56|           72|        76|            22|          59|     74|             30|      67|    80|     55|70.0|45.0|57.0|67.0|68.0|165784|70.0|51.0|45.0|68.0|57.0|67.0|68.0|62.0|67.0|56.0|     CDM LM CM CAM |70.0|51.0|45.0|68.0|57.0|67.0|68.0|62.0|67.0|56.0|62.0|\n",
      "|7161|     W. Francis| 26|https://cdn.sofif...| Costa Rica|https://cdn.sofif...|     68|       69|    Columbus Crew SC|https://cdn.sofif...| €850K|  €5K|   1815|          74|        67|     72|     71|          57|       62|      64|   69|       63|       40|                60|        7|          7|        12|            13|         13|              48|           66|     74|          57|        52|     63|       52|         59|       64|           63|        61|            67|          78|     79|             69|      60|    61|     53|60.0|64.0|64.0|59.0|61.0|221050|60.0|67.0|64.0|61.0|64.0|59.0|63.0|57.0|61.0|67.0|            LWB LB |60.0|67.0|64.0|61.0|64.0|59.0|63.0|57.0|61.0|67.0|57.0|\n",
      "|7575|       V. Ulloa| 25|https://cdn.sofif...|     Mexico|https://cdn.sofif...|     68|       70|           FC Dallas|https://cdn.sofif...| €925K|  €5K|   1817|          57|        73|     67|     74|          66|       63|      44|   66|       61|       50|                57|       10|         14|        13|            10|         15|              67|         67-1|     72|          64|        60|     63|       53|         46|       66|         75+4|        79|            59|          54|     80|             63|      69|    61|     42|62.0|66.0|67.0|61.0|65.0|200671|62.0|63.0|66.0|65.0|67.0|61.0|60.0|61.0|59.0|63.0|            CM CDM |62.0|63.0|66.0|65.0|67.0|61.0|60.0|61.0|59.0|63.0|61.0|\n",
      "| 715|   R. Battaglia| 25|https://cdn.sofif...|  Argentina|https://cdn.sofif...|     78|       80|         Sporting CP|https://cdn.sofif...|€12.5M| €18K|   2073|          65|        83|     67|     67|          76|       77|      58|   65|       77|       65|                64|        7|          7|         7|             9|          9|              68|           83|     74|          73|        81|     73|       57|         73|       78|           77|        80|            75|          67|     91|             81|      82|    70|     64|74.0|77.0|78.0|74.0|77.0|219576|74.0|75.0|77.0|77.0|78.0|74.0|73.0|73.0|72.0|76.0|            CDM CM |74.0|75.0|77.0|77.0|78.0|74.0|73.0|73.0|72.0|76.0|73.0|\n",
      "|6501|   C. Rigamonti| 30|https://cdn.sofif...|  Argentina|https://cdn.sofif...|     69|       69|     Vélez Sarsfield|https://cdn.sofif...| €675K|  €6K|   1120|          43|        23|     37|     48|          24|       35|      14|   16|       16|       14|                21|       67|         64|        62|            74|         69|              17|           20|     59|          21|        17|     20|       20|         12|       66|           30|        24|            16|          44|     30|             15|      69|    32|     16|null|null|null|null|null|215250|null|null|null|null|null|null|null|null|null|null|                GK |null|null|null|null|null|null|null|null|null|null|null|\n",
      "|7996| Wilsson Rosito| 33|https://cdn.sofif...|     Brazil|https://cdn.sofif...|     67|       67|Associação Chapec...|https://cdn.sofif...| €475K| €10K|   1726|          78|        44|     81|     77|          72|       62|      73|   77|       71|       45|                75|        9|          8|         7|             9|          7|              55|           44|     56|          76|        61|     31|       67|         67|       59|           66|        72|            22|          67|     62|             22|      61|    58|     47|66.0|43.0|52.0|65.0|63.0|230471|66.0|50.0|43.0|63.0|52.0|65.0|67.0|62.0|66.0|54.0|            LM CAM |66.0|50.0|43.0|63.0|52.0|65.0|67.0|62.0|66.0|54.0|62.0|\n",
      "|9432|      C. Cadden| 20|https://cdn.sofif...|   Scotland|https://cdn.sofif...|     66|       74|          Motherwell|https://cdn.sofif...| €950K|  €2K|   1701|          75|        61|     77|     70|          63|       62|      68|   44|       66|       48|                44|       13|         13|        12|             8|         10|              56|           44|     58|          61|        55|     42|       40|         60|       57|           66|        67|            45|          76|     77|             50|      74|    61|     40|63.0|54.0|57.0|62.0|61.0|222109|63.0|58.0|54.0|61.0|57.0|62.0|65.0|60.0|64.0|59.0|             CM RM |63.0|58.0|54.0|61.0|57.0|62.0|65.0|60.0|64.0|59.0|60.0|\n",
      "+----+---------------+---+--------------------+-----------+--------------------+-------+---------+--------------------+--------------------+------+-----+-------+------------+----------+-------+-------+------------+---------+--------+-----+---------+---------+------------------+---------+-----------+----------+--------------+-----------+----------------+-------------+-------+------------+----------+-------+---------+-----------+---------+-------------+----------+--------------+------------+-------+---------------+--------+------+-------+----+----+----+----+----+------+----+----+----+----+----+----+----+----+----+----+-------------------+----+----+----+----+----+----+----+----+----+----+----+\n",
      "only showing top 20 rows\n",
      "\n"
     ]
    }
   ],
   "source": [
    "# Rename Columns and \n",
    "df2.withColumnRenamed(\"_c0\",\"Id\") \\\n",
    "    .withColumnRenamed(\"Ball Control\",\"Ball_Control\")\n",
    "df2.show()"
   ]
  },
  {
   "cell_type": "markdown",
   "metadata": {},
   "source": [
    "### Transformation"
   ]
  },
  {
   "cell_type": "markdown",
   "metadata": {},
   "source": [
    "### Advanced DF Operations : Spark SQL and UDF"
   ]
  },
  {
   "cell_type": "markdown",
   "metadata": {},
   "source": [
    "### Spark SQL"
   ]
  },
  {
   "cell_type": "code",
   "execution_count": 9,
   "metadata": {},
   "outputs": [],
   "source": [
    "df2.createOrReplaceTempView(\"df_football\")"
   ]
  },
  {
   "cell_type": "code",
   "execution_count": 10,
   "metadata": {},
   "outputs": [
    {
     "name": "stdout",
     "output_type": "stream",
     "text": [
      "+---+-----+\n",
      "|Age|Count|\n",
      "+---+-----+\n",
      "| 17|    1|\n",
      "| 18|   13|\n",
      "| 19|   41|\n",
      "| 20|  105|\n",
      "| 21|  160|\n",
      "| 22|  246|\n",
      "| 23|  296|\n",
      "| 24|  369|\n",
      "| 25|  486|\n",
      "| 26|  418|\n",
      "| 27|  444|\n",
      "| 28|  395|\n",
      "| 29|  474|\n",
      "| 30|  359|\n",
      "| 31|  272|\n",
      "| 32|  206|\n",
      "| 33|  283|\n",
      "| 34|  101|\n",
      "| 35|   74|\n",
      "| 36|   57|\n",
      "+---+-----+\n",
      "only showing top 20 rows\n",
      "\n"
     ]
    }
   ],
   "source": [
    "sql_query=\"SELECT Age,count(*) as Count From df_football WHERE Overall > 70 GROUP BY Age ORDER BY Age\"\n",
    "result=spark.sql(sql_query)\n",
    "result.show()"
   ]
  },
  {
   "cell_type": "markdown",
   "metadata": {},
   "source": [
    "### UDF"
   ]
  },
  {
   "cell_type": "code",
   "execution_count": 13,
   "metadata": {},
   "outputs": [
    {
     "name": "stdout",
     "output_type": "stream",
     "text": [
      "+---+----------------+--------------------+\n",
      "|Age|            Name|                Club|\n",
      "+---+----------------+--------------------+\n",
      "| 19|    DOUGLAS LUIZ|           girona cf|\n",
      "| 23|       a. schöpf|       FC SCHALKE 04|\n",
      "| 27|      r. eckardt|  FC CARL ZEISS JENA|\n",
      "| 27|     RYAN MENDES|         KAYSERISPOR|\n",
      "| 26|    H. YAMAGUCHI|        CEREZO OSAKA|\n",
      "| 29|   D. MCGOLDRICK|        IPSWICH TOWN|\n",
      "| 25|            iago|       MOREIRENSE FC|\n",
      "| 30| G. SCOGNAMIGLIO|              cesena|\n",
      "| 31|           galán|      RAYO VALLECANO|\n",
      "| 25|      p. wszołek| QUEENS PARK RANGERS|\n",
      "| 22|         d. kort|      POGOŃ SZCZECIN|\n",
      "| 23|      g. caprari|           sampdoria|\n",
      "| 26|    KIKO FEMENÍA|             watford|\n",
      "| 23|ALEXANDRE GUEDES|             cd aves|\n",
      "| 35|   Y. KERMORGANT|             reading|\n",
      "| 33|      g. hormaza|CLUB DE DEPORTES ...|\n",
      "| 20|         j. boga|     BIRMINGHAM CITY|\n",
      "| 20|    AURÉLIO BUTA|    ROYAL ANTWERP FC|\n",
      "| 25|        y. komai|  URAWA RED DIAMONDS|\n",
      "| 34|       a. rochat|  FC LAUSANNE-SPORTS|\n",
      "+---+----------------+--------------------+\n",
      "only showing top 20 rows\n",
      "\n"
     ]
    }
   ],
   "source": [
    "def uppercase_converter(record):\n",
    "    if len(record) > 10 :\n",
    "        return record.upper()\n",
    "    else:\n",
    "        return record.lower()\n",
    "\n",
    "#register the DF\n",
    "df2.createOrReplaceTempView('UDF_football')\n",
    "\n",
    "#register the function\n",
    "spark.udf.register(\"UPPER\",uppercase_converter)\n",
    "\n",
    "# use the UDF in SQL\n",
    "sql_query=\"SELECT Age,UPPER(NAME) as Name,UPPER(Club) as Club FROM UDF_football\"\n",
    "\n",
    "result=spark.sql(sql_query)\n",
    "result.show()"
   ]
  },
  {
   "cell_type": "code",
   "execution_count": null,
   "metadata": {},
   "outputs": [],
   "source": []
  }
 ],
 "metadata": {
  "kernelspec": {
   "display_name": "Python 3",
   "language": "python",
   "name": "python3"
  },
  "language_info": {
   "codemirror_mode": {
    "name": "ipython",
    "version": 3
   },
   "file_extension": ".py",
   "mimetype": "text/x-python",
   "name": "python",
   "nbconvert_exporter": "python",
   "pygments_lexer": "ipython3",
   "version": "3.8.3"
  }
 },
 "nbformat": 4,
 "nbformat_minor": 4
}
