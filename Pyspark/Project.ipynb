{
  "nbformat": 4,
  "nbformat_minor": 0,
  "metadata": {
    "colab": {
      "provenance": []
    },
    "kernelspec": {
      "name": "python3",
      "display_name": "Python 3"
    },
    "language_info": {
      "name": "python"
    }
  },
  "cells": [
    {
      "cell_type": "code",
      "execution_count": null,
      "metadata": {
        "colab": {
          "base_uri": "https://localhost:8080/"
        },
        "id": "fW0TRUyGoqyR",
        "outputId": "fa769cef-2186-4133-b623-4696c2548e13"
      },
      "outputs": [
        {
          "output_type": "stream",
          "name": "stdout",
          "text": [
            "Collecting pyspark\n",
            "  Downloading pyspark-3.5.3.tar.gz (317.3 MB)\n",
            "\u001b[2K     \u001b[90m━━━━━━━━━━━━━━━━━━━━━━━━━━━━━━━━━━━━━━━━\u001b[0m \u001b[32m317.3/317.3 MB\u001b[0m \u001b[31m5.0 MB/s\u001b[0m eta \u001b[36m0:00:00\u001b[0m\n",
            "\u001b[?25h  Preparing metadata (setup.py) ... \u001b[?25l\u001b[?25hdone\n",
            "Requirement already satisfied: py4j==0.10.9.7 in /usr/local/lib/python3.10/dist-packages (from pyspark) (0.10.9.7)\n",
            "Building wheels for collected packages: pyspark\n",
            "  Building wheel for pyspark (setup.py) ... \u001b[?25l\u001b[?25hdone\n",
            "  Created wheel for pyspark: filename=pyspark-3.5.3-py2.py3-none-any.whl size=317840625 sha256=d5324e665888cc4bd148a4a44de0a873e2accc2a1b9987c6b48f1375747af2bf\n",
            "  Stored in directory: /root/.cache/pip/wheels/1b/3a/92/28b93e2fbfdbb07509ca4d6f50c5e407f48dce4ddbda69a4ab\n",
            "Successfully built pyspark\n",
            "Installing collected packages: pyspark\n",
            "Successfully installed pyspark-3.5.3\n"
          ]
        }
      ],
      "source": [
        "!pip install pyspark\n",
        "!pip install -q findspark\n",
        "import findspark\n",
        "findspark.init()"
      ]
    },
    {
      "cell_type": "code",
      "source": [
        "from pyspark.sql import SparkSession\n",
        "spark = SparkSession.builder.master(\"local[4]\").appName(\"SkewinDF\").getOrCreate()\n",
        "#Note\n",
        "#setMaster(\"local[4]\") is represents the core and here 4 core is using\n",
        "#setMaster(\"local[*]\") is represents the core and here maximum number of core is using\n",
        "spark"
      ],
      "metadata": {
        "colab": {
          "base_uri": "https://localhost:8080/",
          "height": 219
        },
        "id": "mt1wIMa_otdm",
        "outputId": "996eb864-2cb4-4a0a-cd67-80d285c029bd"
      },
      "execution_count": null,
      "outputs": [
        {
          "output_type": "execute_result",
          "data": {
            "text/plain": [
              "<pyspark.sql.session.SparkSession at 0x7e3d8cd7a140>"
            ],
            "text/html": [
              "\n",
              "            <div>\n",
              "                <p><b>SparkSession - in-memory</b></p>\n",
              "                \n",
              "        <div>\n",
              "            <p><b>SparkContext</b></p>\n",
              "\n",
              "            <p><a href=\"http://6192df1e1414:4040\">Spark UI</a></p>\n",
              "\n",
              "            <dl>\n",
              "              <dt>Version</dt>\n",
              "                <dd><code>v3.5.3</code></dd>\n",
              "              <dt>Master</dt>\n",
              "                <dd><code>local[*]</code></dd>\n",
              "              <dt>AppName</dt>\n",
              "                <dd><code>SkewinDF</code></dd>\n",
              "            </dl>\n",
              "        </div>\n",
              "        \n",
              "            </div>\n",
              "        "
            ]
          },
          "metadata": {},
          "execution_count": 9
        }
      ]
    },
    {
      "cell_type": "code",
      "source": [
        "csv_df = spark.read.format(\"csv\").option(\"header\", \"true\").option(\"inferSchema\",\"true\").load(\"s3a://your-bucket-name/path/to/your-file.csv\")\n",
        "parquet_df = spark.read.format(\"parquet\").load(\"s3a://your-bucket-name/path/to/your-file.parquet\")"
      ],
      "metadata": {
        "colab": {
          "base_uri": "https://localhost:8080/",
          "height": 141
        },
        "id": "f-j6pp4GrcS0",
        "outputId": "efd7a192-ce96-4062-e8af-527b47732563"
      },
      "execution_count": null,
      "outputs": [
        {
          "output_type": "error",
          "ename": "NameError",
          "evalue": "name 'df' is not defined",
          "traceback": [
            "\u001b[0;31m---------------------------------------------------------------------------\u001b[0m",
            "\u001b[0;31mNameError\u001b[0m                                 Traceback (most recent call last)",
            "\u001b[0;32m<ipython-input-6-69c2bfab3677>\u001b[0m in \u001b[0;36m<cell line: 1>\u001b[0;34m()\u001b[0m\n\u001b[0;32m----> 1\u001b[0;31m \u001b[0mprint\u001b[0m\u001b[0;34m(\u001b[0m\u001b[0mdf\u001b[0m\u001b[0;34m.\u001b[0m\u001b[0mrdd\u001b[0m\u001b[0;34m.\u001b[0m\u001b[0mgetNumPartitions\u001b[0m\u001b[0;34m(\u001b[0m\u001b[0;34m)\u001b[0m\u001b[0;34m)\u001b[0m\u001b[0;34m\u001b[0m\u001b[0;34m\u001b[0m\u001b[0m\n\u001b[0m",
            "\u001b[0;31mNameError\u001b[0m: name 'df' is not defined"
          ]
        }
      ]
    },
    {
      "cell_type": "code",
      "source": [
        "#Create the DataFrame\n",
        "from pyspark.sql.types import StructType,StructField,StringType,IntegerType\n",
        "\n",
        "person_list = [(\"Berry\",\"\",\"Allen\",1,\"M\"),\n",
        "        (\"Oliver\",\"Queen\",\"\",2,\"M\"),\n",
        "        (\"Robert\",\"\",\"Williams\",3,\"M\"),\n",
        "        (\"Tony\",\"\",\"Stark\",4,\"F\"),\n",
        "        (\"Rajiv\",\"Mary\",\"Kumar\",5,\"F\")\n",
        "]\n",
        "#Creating The Schema For the Dataset\n",
        "schema = StructType([ \\\n",
        "        StructField(\"firstname\",StringType(),True), \\\n",
        "        StructField(\"middlename\",StringType(),True), \\\n",
        "        StructField(\"lastname\",StringType(),True), \\\n",
        "        StructField(\"id\", IntegerType(), True),\\\n",
        "        StructField(\"gender\", StringType(), True)])\n",
        "#Creating Spark DataFrame\n",
        "df = spark.createDataFrame(data=person_list,schema=schema)\n",
        "df"
      ],
      "metadata": {
        "id": "k2pEVcHN3jiu"
      },
      "execution_count": null,
      "outputs": []
    },
    {
      "cell_type": "code",
      "source": [
        "# aggragations functions\n",
        "empDf.select(max(\"salary\").alias(\"max_salary\")).show()"
      ],
      "metadata": {
        "id": "o-pGtjUm2o2L"
      },
      "execution_count": null,
      "outputs": []
    },
    {
      "cell_type": "code",
      "source": [
        "#Filter\n",
        "\n",
        "empDf.filter(empDf[\"SALARY\"] < 5000).show(1)\n",
        "empDf.filter((empDf[\"SALARY\"] < 5000) & (empDf[\"SALARY\"] < 5000)).show(1)\n"
      ],
      "metadata": {
        "id": "704wBo33vwN1"
      },
      "execution_count": null,
      "outputs": []
    },
    {
      "cell_type": "code",
      "source": [
        "#SQL Operation :\n",
        "\n",
        "df2.createOrReplaceTempView(\"df_football\")\n",
        "\n",
        "sql_query=\"SELECT Age,count(*) as Count From df_football WHERE Overall > 70 GROUP BY Age ORDER BY Age\"\n",
        "result=spark.sql(sql_query)\n",
        "result.show()\n"
      ],
      "metadata": {
        "id": "6HnKycxGxuoY"
      },
      "execution_count": null,
      "outputs": []
    },
    {
      "cell_type": "code",
      "source": [
        "mysql_url = \"jdbc:mysql://hostname:3306/database_name\"\n",
        "\n",
        "mysql_properties = {\n",
        "    \"user\": \"your_username\",\n",
        "    \"password\": \"your_password\",\n",
        "    \"driver\": \"com.mysql.cj.jdbc.Driver\"  # Use 'com.mysql.jdbc.Driver' for older versions\n",
        "}\n",
        "\n",
        "# Write DataFrame to MySQL\n",
        "df.write.jdbc(url=mysql_url, table=\"your_table_name\", mode=\"append\", properties=mysql_properties)\n"
      ],
      "metadata": {
        "id": "cCdBDMzf7Ioo"
      },
      "execution_count": null,
      "outputs": []
    }
  ]
}